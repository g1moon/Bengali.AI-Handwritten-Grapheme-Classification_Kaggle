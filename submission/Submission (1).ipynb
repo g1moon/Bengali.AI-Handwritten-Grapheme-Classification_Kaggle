{
  "nbformat": 4,
  "nbformat_minor": 0,
  "metadata": {
    "colab": {
      "name": "Submission.ipynb",
      "provenance": [],
      "collapsed_sections": []
    },
    "kernelspec": {
      "name": "python3",
      "display_name": "Python 3"
    }
  },
  "cells": [
    {
      "cell_type": "markdown",
      "metadata": {
        "id": "G8Gl6y006w3x",
        "colab_type": "text"
      },
      "source": [
        "# Submission\n",
        "- save the submission result "
      ]
    },
    {
      "cell_type": "markdown",
      "metadata": {
        "id": "o7M3gOFE5hPC",
        "colab_type": "text"
      },
      "source": [
        "```\n",
        "model: se_resnext50_32x4d(imagenet), epoch: 50, image size: 64X64, train split: 0.8\n",
        "LB: 0.9256, train/loss: 0.2301, train/recall: 0.9727, val/loss: 0.3119, val/recall: 0.9616\n",
        "```"
      ]
    },
    {
      "cell_type": "markdown",
      "metadata": {
        "id": "qi8W8b8p5kdz",
        "colab_type": "text"
      },
      "source": [
        "```\n",
        "model: se_resnext50_32x4d(imagenet), epoch: 50, image size: 64X64, train split: 0.8\n",
        "LB: 0.9519, train/loss: 0.2301, train/recall: 0.9727, val/loss: 0.3119, val/recall: 0.9616\n",
        "image preprocessing bug fix\n",
        "```"
      ]
    },
    {
      "cell_type": "markdown",
      "metadata": {
        "id": "LwdWxn045kfl",
        "colab_type": "text"
      },
      "source": [
        "```\n",
        "model: resnet50 with channel attention (SE), epoch: 300, image size: 64x64, train split :0.8 LB: 0.9537\n",
        "```"
      ]
    },
    {
      "cell_type": "markdown",
      "metadata": {
        "id": "NPF-RguK5khy",
        "colab_type": "text"
      },
      "source": [
        "```\n",
        "Model: resnet50 with channel attention (SE) + BN + Drop out(0.3),  none bias term,\n",
        "epoch: 77,\n",
        "image size: 137x236,\n",
        "train split 1.0 (using all data for train),\n",
        "LB: 0.9607\n",
        "```"
      ]
    },
    {
      "cell_type": "markdown",
      "metadata": {
        "id": "aBFp6svU5hrI",
        "colab_type": "text"
      },
      "source": [
        "```\n",
        "model: se_resnext50_32x4d(imagenet), epoch: 100, image size: 128X128, train split: 0.8\n",
        "LB: 0.9592, train/loss: 0.0391, train/recall: 0.9965, val/loss: 0.3577, val/recall: 0.9685\n",
        "ADAM/ReduceLROnPlateau -> SGD/OneCycleLR\n",
        "```"
      ]
    },
    {
      "cell_type": "markdown",
      "metadata": {
        "id": "Gahx0Gi25oLH",
        "colab_type": "text"
      },
      "source": [
        "```\n",
        "model: se_resnext50_32x4d(imagenet), epoch: 150(best score only), image size: 128X128, train split: 0.8\n",
        "LB: 0.9629, val/recall: 0.9777\n",
        "0.5 affine only + 0.5 affine, cutmix alpha 1.0\n",
        "```"
      ]
    },
    {
      "cell_type": "markdown",
      "metadata": {
        "id": "76nMnbgJ5oNV",
        "colab_type": "text"
      },
      "source": [
        "```\n",
        "model: se_resnext50_32x4d(imagenet), epoch: 150(best score only), image size: 128X128, train split: 0.8\n",
        "LB: 0.9680, val/recall: 0.9763\n",
        "0.5 affine, cutmix alpha 1.0 + 0.5 affine, mixup alpha 1.0\n",
        "fix recall score\n",
        "```"
      ]
    },
    {
      "cell_type": "markdown",
      "metadata": {
        "id": "RnPqgetp5oPr",
        "colab_type": "text"
      },
      "source": [
        "```\n",
        "model: se_resnext50_32x4d(imagenet), epoch: 150(best score only), image size: 128X128, train split: 0.8\n",
        "LB: 0.9682, val/recall: 0.9763\n",
        "0.5 affine, cutmix alpha 1.0 + 0.5 affine, mixup alpha 1.0\n",
        "mean, std normalize fixed\n",
        "```"
      ]
    },
    {
      "cell_type": "markdown",
      "metadata": {
        "id": "C0A5NpWe5oR7",
        "colab_type": "text"
      },
      "source": [
        "```\n",
        "model: se_resnext50_32x4d custom(imagenet), epoch: 50(best score only), image size: 128X128, train split: 0.8\n",
        "LB: 0.9744, val/recall: 0.9849\n",
        "no aug\n",
        "grapheme predict -> grapheme_root, vowel_diacritic, consonant_diacritic\n",
        "dropblock\n",
        "```"
      ]
    },
    {
      "cell_type": "markdown",
      "metadata": {
        "id": "eXU48rYR5oWb",
        "colab_type": "text"
      },
      "source": [
        "```\n",
        "model: se_resnext50_32x4d custom(imagenet), epoch: 197(best score only), image size: 128X128, train split: 0.8\n",
        "LB: 0.9824, val/recall: 0.9921\n",
        "cutmix, mixup, cutout, normal aug(shift, rotate, scale, etc.)\n",
        "remove dropblock\n",
        "```"
      ]
    },
    {
      "cell_type": "markdown",
      "metadata": {
        "id": "u9_otdI35oYY",
        "colab_type": "text"
      },
      "source": [
        "```\n",
        "model: se_resnext50_32x4d custom(imagenet), epoch: 100(best score only), image size: 224X224, train split: 0.8\n",
        "LB: 0.9824, val/recall: 0.9934\n",
        "cutmix, mixup, cutout, normal aug(shift, rotate, scale, etc.)\n",
        "```"
      ]
    },
    {
      "cell_type": "markdown",
      "metadata": {
        "id": "kLnRtdMb5oaH",
        "colab_type": "text"
      },
      "source": [
        "```\n",
        "model: se_resnext50_32x4d custom(imagenet), epoch: 100(best score only), image size: 137X236, train split: 0.875\n",
        "LB: 0.9863, val/recall: 0.9961\n",
        "cutmix, mixup, cutout, normal aug(shift, rotate, scale, etc.)\n",
        "```"
      ]
    },
    {
      "cell_type": "markdown",
      "metadata": {
        "id": "Wt4P4wmv6CwT",
        "colab_type": "text"
      },
      "source": [
        "```\n",
        "model: se_resnext50_32x4d custom(imagenet), fold 0, epoch: 150(best score only), image size: 137X236, train split: 0.8\n",
        "LB: 0.9883, val/recall: 0.9974\n",
        "cutmix 0.4, mixup 0.3, gridmask 0.2, normal aug 0.1\n",
        "post processing threshold 0.5\n",
        "```"
      ]
    },
    {
      "cell_type": "markdown",
      "metadata": {
        "id": "bSjYKg956CyP",
        "colab_type": "text"
      },
      "source": [
        "```\n",
        "model: se_resnext50_32x4d custom(imagenet), epoch: 150(best score only), image size: 137X236, train split: 0.8\n",
        "LB: 0.9876, val/recall: 0.9978\n",
        "cutmix 0.5, mixup 0.4, gridmask 0.1\n",
        "post processing threshold 0.5\n",
        "```"
      ]
    },
    {
      "cell_type": "markdown",
      "metadata": {
        "id": "DALLWcFA6C0g",
        "colab_type": "text"
      },
      "source": [
        "```\n",
        "model: 0062, 0063 ensemble\n",
        "LB: 0.9887, val/recall: 0.9974, 0.9978\n",
        "post processing threshold 0.5\n",
        "```"
      ]
    },
    {
      "cell_type": "markdown",
      "metadata": {
        "id": "My9J_mhP6C2y",
        "colab_type": "text"
      },
      "source": [
        "```\n",
        "model: se_resnext50_32x4d custom(imagenet), epoch: 150(best score only), image size: 137X236, train split: 0.8\n",
        "LB: 0.9869, val/recall: 0.9964\n",
        "label smoothing epsilon 0.05, cutmix 0.5, mixup 0.4, gridmask 0.1\n",
        "post processing threshold 0.5\n",
        "```"
      ]
    },
    {
      "cell_type": "markdown",
      "metadata": {
        "id": "o9Bon10v6C4_",
        "colab_type": "text"
      },
      "source": [
        "```\n",
        "model: 0062, 0063, 0066 ensemble\n",
        "LB: 0.9888, val/recall: 0.9974, 0.9978, 0.9964\n",
        "post processing threshold 0.5\n",
        "```"
      ]
    },
    {
      "cell_type": "markdown",
      "metadata": {
        "id": "MlotXqw76C7D",
        "colab_type": "text"
      },
      "source": [
        "```\n",
        "model: se_resnext50_32x4d custom(imagenet), epoch: 150(best score only), image size: 137X236, train split: 0.8\n",
        "LB: 0.9876, val/recall: 0.9979\n",
        "cutmix 0.8, normal aug 0.2\n",
        "post processing threshold 0.5\n",
        "```"
      ]
    },
    {
      "cell_type": "markdown",
      "metadata": {
        "id": "YtdA3QrM6C9T",
        "colab_type": "text"
      },
      "source": [
        "```\n",
        "model: 0062, 0063, 0066, 0069 ensemble\n",
        "LB: 0.9892, val/recall: 0.9974, 0.9978, 0.9964, 0.9979\n",
        "post processing threshold 0.5\n",
        "```"
      ]
    },
    {
      "cell_type": "markdown",
      "metadata": {
        "id": "zFMbu6bl6C_S",
        "colab_type": "text"
      },
      "source": [
        "```\n",
        "model: se_resnext50_32x4d custom(imagenet), fold: 1, epoch: 150(best score only), image size: 137X236, train split: 0.8\n",
        "LB: 0.9889, val/recall: 0.9976\n",
        "cutmix 0.4, mixup 0.3, gridmask 0.2, normal aug 0.1\n",
        "post processing threshold 0.5\n",
        "```"
      ]
    },
    {
      "cell_type": "markdown",
      "metadata": {
        "id": "37kAXDzW6DCR",
        "colab_type": "text"
      },
      "source": [
        "```\n",
        "model: 0062 fold 0, fold 1 ensemble\n",
        "LB: 0.9891, val/recall: 0.9974, 0.9976\n",
        "post processing threshold 0.5\n",
        "```"
      ]
    },
    {
      "cell_type": "markdown",
      "metadata": {
        "id": "WjbWB_oy6b-7",
        "colab_type": "text"
      },
      "source": [
        "```\n",
        "model: 0062 fold 0, fold 1, fold 2 ensemble\n",
        "LB: 0.9895, val/recall: 0.9974, 0.9976, 0.9975\n",
        "post processing threshold 0.5\n",
        "```"
      ]
    },
    {
      "cell_type": "markdown",
      "metadata": {
        "id": "vANP4iy16cBK",
        "colab_type": "text"
      },
      "source": [
        "```\n",
        "model: 0062 fold 0, fold 1, fold 2, 0063, 0066, 0069 ensemble\n",
        "LB: 0.9895, val/recall: 0.9974, 0.9976, 0.9975, 0.9978, 0.9964, 0.9979\n",
        "post processing threshold 0.5\n",
        "```"
      ]
    },
    {
      "cell_type": "markdown",
      "metadata": {
        "id": "_9iyYEmE6cDd",
        "colab_type": "text"
      },
      "source": [
        "```\n",
        "model: 0062 fold 0, fold 1, fold 2, fold 3 ensemble\n",
        "LB: 0.9894, val/recall: 0.9974, 0.9976, 0.9975, 0.9972\n",
        "post processing threshold 0.5\n",
        "```"
      ]
    },
    {
      "cell_type": "markdown",
      "metadata": {
        "id": "YBm1GHcP6cH-",
        "colab_type": "text"
      },
      "source": [
        "```\n",
        "model: 0062 fold 0, fold 1, fold 2, fold 3, 0063, 0066, 0069 ensemble\n",
        "LB: 0.9896, val/recall: 0.9974, 0.9976, 0.9975, 0.9972, 0.9978, 0.9964, 0.9979\n",
        "post processing threshold 0.5\n",
        "```"
      ]
    },
    {
      "cell_type": "markdown",
      "metadata": {
        "id": "az5Zayrd6cKR",
        "colab_type": "text"
      },
      "source": [
        "```\n",
        "model: 0062 5 fold ensemble\n",
        "LB: 0.9896, val/recall: 0.9974, 0.9976, 0.9975, 0.9972, 0.9980\n",
        "post processing threshold 0.5\n",
        "```"
      ]
    },
    {
      "cell_type": "markdown",
      "metadata": {
        "id": "-gPupJl36cOt",
        "colab_type": "text"
      },
      "source": [
        "```\n",
        "model: 0062 5 fold 0063, 0066, 0069 ensemble\n",
        "LB: 0.9895, val/recall: 0.9974, 0.9976, 0.9975, 0.9972, 0.9980, 0.9978, 0.9964, 0.9979\n",
        "post processing threshold 0.5\n",
        "```"
      ]
    },
    {
      "cell_type": "markdown",
      "metadata": {
        "id": "kD2NHvUO6cQ_",
        "colab_type": "text"
      },
      "source": [
        "```\n",
        "model: 0062 5 fold 0063, 0066, 0069 ensemble\n",
        "LB: 0.9895, val/recall: 0.9974, 0.9976, 0.9975, 0.9972, 0.9980, 0.9978, 0.9964, 0.9979\n",
        "post processing threshold 0.5 (p3_prob) / 0.9 (p{0,1,2}_prob) (most public score: 5th in our submission)\n",
        "```"
      ]
    },
    {
      "cell_type": "markdown",
      "metadata": {
        "id": "KKrXhiNQ6cS9",
        "colab_type": "text"
      },
      "source": [
        "```\n",
        "model: 0062 5 fold ensemble more training\n",
        "LB: 0.9898, val/recall: 0.9982, 0.9979, 0.9975, 0.9977, 0.9980\n",
        "post processing threshold 0.5\n",
        "```"
      ]
    },
    {
      "cell_type": "markdown",
      "metadata": {
        "id": "LRS7-G456cUw",
        "colab_type": "text"
      },
      "source": [
        "```\n",
        "```"
      ]
    },
    {
      "cell_type": "code",
      "metadata": {
        "id": "HZ8yB_GX6aKL",
        "colab_type": "code",
        "colab": {}
      },
      "source": [
        ""
      ],
      "execution_count": 0,
      "outputs": []
    },
    {
      "cell_type": "code",
      "metadata": {
        "id": "GgXvOeDw6aMY",
        "colab_type": "code",
        "colab": {}
      },
      "source": [
        ""
      ],
      "execution_count": 0,
      "outputs": []
    },
    {
      "cell_type": "code",
      "metadata": {
        "id": "egdC1GHb6aOs",
        "colab_type": "code",
        "colab": {}
      },
      "source": [
        ""
      ],
      "execution_count": 0,
      "outputs": []
    },
    {
      "cell_type": "code",
      "metadata": {
        "id": "P1BRrU-f6aQy",
        "colab_type": "code",
        "colab": {}
      },
      "source": [
        ""
      ],
      "execution_count": 0,
      "outputs": []
    },
    {
      "cell_type": "code",
      "metadata": {
        "id": "NOTGRQpo6aSs",
        "colab_type": "code",
        "colab": {}
      },
      "source": [
        ""
      ],
      "execution_count": 0,
      "outputs": []
    },
    {
      "cell_type": "code",
      "metadata": {
        "id": "9itDVpgn5iR1",
        "colab_type": "code",
        "colab": {}
      },
      "source": [
        ""
      ],
      "execution_count": 0,
      "outputs": []
    },
    {
      "cell_type": "code",
      "metadata": {
        "id": "3oW1kMKq5iUx",
        "colab_type": "code",
        "colab": {}
      },
      "source": [
        ""
      ],
      "execution_count": 0,
      "outputs": []
    }
  ]
}