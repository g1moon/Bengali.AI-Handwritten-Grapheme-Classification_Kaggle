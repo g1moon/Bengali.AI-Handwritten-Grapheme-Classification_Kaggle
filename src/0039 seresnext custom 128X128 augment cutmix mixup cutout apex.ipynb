{
 "cells": [
  {
   "cell_type": "markdown",
   "metadata": {},
   "source": [
    "image\n",
    "* size : 128X128\n",
    "* channel : 3 channel, just copy\n",
    "\n",
    "augment\n",
    "* heng's augment + cutmix, mixup, cutout\n",
    "\n",
    "cnn tail design\n",
    "* https://www.kaggle.com/c/bengaliai-cv19/discussion/123432"
   ]
  },
  {
   "cell_type": "code",
   "execution_count": 1,
   "metadata": {},
   "outputs": [],
   "source": [
    "import warnings\n",
    "warnings.filterwarnings(\"ignore\")\n",
    "\n",
    "import gc\n",
    "import os\n",
    "from pathlib import Path\n",
    "import random\n",
    "import sys\n",
    "import math\n",
    "import time\n",
    "import multiprocessing\n",
    "\n",
    "from tqdm.notebook import tqdm\n",
    "import numpy as np # linear algebra\n",
    "import pandas as pd # data processing, CSV file I/O (e.g. pd.read_csv)\n",
    "\n",
    "import matplotlib.pyplot as plt\n",
    "import seaborn as sns\n",
    "\n",
    "# --- models ---\n",
    "from sklearn import preprocessing\n",
    "from sklearn.model_selection import KFold\n",
    "from sklearn.metrics import recall_score\n",
    "\n",
    "import torch\n",
    "import torch.nn as nn\n",
    "from torch.nn import functional as F\n",
    "from torch.nn.parameter import Parameter\n",
    "from torch.utils.data import Dataset, DataLoader\n",
    "import apex\n",
    "from apex import amp\n",
    "from apex.parallel import DistributedDataParallel\n",
    "\n",
    "import albumentations as A\n",
    "import cv2\n",
    "from PIL import Image, ImageEnhance, ImageOps\n",
    "\n",
    "%matplotlib inline\n",
    "\n",
    "pd.options.display.max_rows = 10000\n",
    "#pd.options.display.max_columns = None\n",
    "pd.options.display.max_columns = 1000\n",
    "pd.options.display.max_colwidth = 100"
   ]
  },
  {
   "cell_type": "code",
   "execution_count": 2,
   "metadata": {},
   "outputs": [
    {
     "data": {
      "application/vnd.jupyter.widget-view+json": {
       "model_id": "bf75024c84034b76ac03851edce4708f",
       "version_major": 2,
       "version_minor": 0
      },
      "text/plain": [
       "HBox(children=(IntProgress(value=0, max=1), HTML(value='')))"
      ]
     },
     "metadata": {},
     "output_type": "display_data"
    },
    {
     "name": "stdout",
     "output_type": "stream",
     "text": [
      "0\n",
      "\n"
     ]
    }
   ],
   "source": [
    "for i in tqdm(range(1), total=1):\n",
    "    print(i)"
   ]
  },
  {
   "cell_type": "code",
   "execution_count": 3,
   "metadata": {},
   "outputs": [],
   "source": [
    "from torchvision import transforms\n",
    "import pretrainedmodels"
   ]
  },
  {
   "cell_type": "code",
   "execution_count": 4,
   "metadata": {},
   "outputs": [
    {
     "name": "stdout",
     "output_type": "stream",
     "text": [
      "batch_size:512, num_workers:32\n"
     ]
    }
   ],
   "source": [
    "debug=False\n",
    "submission=False\n",
    "batch_size=64*torch.cuda.device_count()\n",
    "#device='cuda:0'\n",
    "device='cuda'\n",
    "out='.'\n",
    "image_size=128\n",
    "image_height=137\n",
    "image_width=236\n",
    "arch='pretrained'\n",
    "model_name='se_resnext50_32x4d'\n",
    "#model_name='resnet34'\n",
    "num_epochs = 150\n",
    "experi_num = '0039'\n",
    "val_fold = 0\n",
    "num_workers=multiprocessing.cpu_count()//2\n",
    "\n",
    "SEED = 42\n",
    "\n",
    "print(f'batch_size:{batch_size}, num_workers:{num_workers}')"
   ]
  },
  {
   "cell_type": "code",
   "execution_count": 5,
   "metadata": {},
   "outputs": [],
   "source": [
    "def seed_everything(seed):\n",
    "    random.seed(seed)\n",
    "    os.environ['PYTHONHASHSEED'] = str(seed)\n",
    "    np.random.seed(seed)\n",
    "    torch.manual_seed(seed)\n",
    "    torch.cuda.manual_seed(seed)\n",
    "    torch.backends.cudnn.deterministic = True\n",
    "    torch.backends.cudnn.benchmark = True\n",
    "\n",
    "seed_everything(SEED)"
   ]
  },
  {
   "cell_type": "code",
   "execution_count": 6,
   "metadata": {},
   "outputs": [],
   "source": [
    "datadir = Path('../input')\n",
    "featherdir = Path('../input')\n",
    "logdir = Path('../log')\n",
    "modeldir = Path('../model')"
   ]
  },
  {
   "cell_type": "code",
   "execution_count": 7,
   "metadata": {},
   "outputs": [],
   "source": [
    "def prepare_image(datadir, featherdir, data_type='train',\n",
    "                  submission=False, indices=[0, 1, 2, 3]):\n",
    "    assert data_type in ['train', 'test']\n",
    "    if submission:\n",
    "        image_df_list = [pd.read_parquet(datadir / f'{data_type}_image_data_{i}.parquet')\n",
    "                         for i in indices]\n",
    "    else:\n",
    "        image_df_list = [pd.read_feather(featherdir / f'{data_type}_image_data_{i}_{image_size}_{image_size}.feather')\n",
    "                         for i in indices]\n",
    "\n",
    "    print('image_df_list', len(image_df_list))\n",
    "    images = [df.iloc[:, 1:].values.reshape(-1, image_size, image_size) for df in image_df_list]\n",
    "    del image_df_list\n",
    "    gc.collect()\n",
    "    images = np.concatenate(images, axis=0)\n",
    "    return images"
   ]
  },
  {
   "cell_type": "code",
   "execution_count": 8,
   "metadata": {},
   "outputs": [],
   "source": [
    "def clear_cache():\n",
    "    gc.collect()\n",
    "    torch.cuda.empty_cache()"
   ]
  },
  {
   "cell_type": "code",
   "execution_count": 9,
   "metadata": {},
   "outputs": [
    {
     "data": {
      "text/html": [
       "<div>\n",
       "<style scoped>\n",
       "    .dataframe tbody tr th:only-of-type {\n",
       "        vertical-align: middle;\n",
       "    }\n",
       "\n",
       "    .dataframe tbody tr th {\n",
       "        vertical-align: top;\n",
       "    }\n",
       "\n",
       "    .dataframe thead th {\n",
       "        text-align: right;\n",
       "    }\n",
       "</style>\n",
       "<table border=\"1\" class=\"dataframe\">\n",
       "  <thead>\n",
       "    <tr style=\"text-align: right;\">\n",
       "      <th></th>\n",
       "      <th>image_id</th>\n",
       "      <th>grapheme_root</th>\n",
       "      <th>vowel_diacritic</th>\n",
       "      <th>consonant_diacritic</th>\n",
       "      <th>grapheme</th>\n",
       "      <th>fold</th>\n",
       "      <th>grapheme_enc</th>\n",
       "    </tr>\n",
       "  </thead>\n",
       "  <tbody>\n",
       "    <tr>\n",
       "      <th>0</th>\n",
       "      <td>Train_0</td>\n",
       "      <td>15</td>\n",
       "      <td>9</td>\n",
       "      <td>5</td>\n",
       "      <td>ক্ট্রো</td>\n",
       "      <td>4</td>\n",
       "      <td>44</td>\n",
       "    </tr>\n",
       "    <tr>\n",
       "      <th>1</th>\n",
       "      <td>Train_1</td>\n",
       "      <td>159</td>\n",
       "      <td>0</td>\n",
       "      <td>0</td>\n",
       "      <td>হ</td>\n",
       "      <td>2</td>\n",
       "      <td>1248</td>\n",
       "    </tr>\n",
       "    <tr>\n",
       "      <th>2</th>\n",
       "      <td>Train_2</td>\n",
       "      <td>22</td>\n",
       "      <td>3</td>\n",
       "      <td>5</td>\n",
       "      <td>খ্রী</td>\n",
       "      <td>4</td>\n",
       "      <td>103</td>\n",
       "    </tr>\n",
       "    <tr>\n",
       "      <th>3</th>\n",
       "      <td>Train_3</td>\n",
       "      <td>53</td>\n",
       "      <td>2</td>\n",
       "      <td>2</td>\n",
       "      <td>র্টি</td>\n",
       "      <td>2</td>\n",
       "      <td>888</td>\n",
       "    </tr>\n",
       "    <tr>\n",
       "      <th>4</th>\n",
       "      <td>Train_4</td>\n",
       "      <td>71</td>\n",
       "      <td>9</td>\n",
       "      <td>5</td>\n",
       "      <td>থ্রো</td>\n",
       "      <td>1</td>\n",
       "      <td>438</td>\n",
       "    </tr>\n",
       "    <tr>\n",
       "      <th>5</th>\n",
       "      <td>Train_5</td>\n",
       "      <td>153</td>\n",
       "      <td>9</td>\n",
       "      <td>0</td>\n",
       "      <td>স্পো</td>\n",
       "      <td>2</td>\n",
       "      <td>1215</td>\n",
       "    </tr>\n",
       "    <tr>\n",
       "      <th>6</th>\n",
       "      <td>Train_6</td>\n",
       "      <td>52</td>\n",
       "      <td>2</td>\n",
       "      <td>0</td>\n",
       "      <td>ঞ্জি</td>\n",
       "      <td>2</td>\n",
       "      <td>282</td>\n",
       "    </tr>\n",
       "    <tr>\n",
       "      <th>7</th>\n",
       "      <td>Train_7</td>\n",
       "      <td>139</td>\n",
       "      <td>3</td>\n",
       "      <td>0</td>\n",
       "      <td>ষী</td>\n",
       "      <td>2</td>\n",
       "      <td>1100</td>\n",
       "    </tr>\n",
       "    <tr>\n",
       "      <th>8</th>\n",
       "      <td>Train_8</td>\n",
       "      <td>67</td>\n",
       "      <td>0</td>\n",
       "      <td>0</td>\n",
       "      <td>ত্থ</td>\n",
       "      <td>4</td>\n",
       "      <td>394</td>\n",
       "    </tr>\n",
       "    <tr>\n",
       "      <th>9</th>\n",
       "      <td>Train_9</td>\n",
       "      <td>64</td>\n",
       "      <td>7</td>\n",
       "      <td>1</td>\n",
       "      <td>তেঁ</td>\n",
       "      <td>3</td>\n",
       "      <td>378</td>\n",
       "    </tr>\n",
       "  </tbody>\n",
       "</table>\n",
       "</div>"
      ],
      "text/plain": [
       "  image_id  grapheme_root  vowel_diacritic  consonant_diacritic grapheme  \\\n",
       "0  Train_0             15                9                    5   ক্ট্রো   \n",
       "1  Train_1            159                0                    0        হ   \n",
       "2  Train_2             22                3                    5     খ্রী   \n",
       "3  Train_3             53                2                    2     র্টি   \n",
       "4  Train_4             71                9                    5     থ্রো   \n",
       "5  Train_5            153                9                    0     স্পো   \n",
       "6  Train_6             52                2                    0     ঞ্জি   \n",
       "7  Train_7            139                3                    0       ষী   \n",
       "8  Train_8             67                0                    0      ত্থ   \n",
       "9  Train_9             64                7                    1      তেঁ   \n",
       "\n",
       "   fold  grapheme_enc  \n",
       "0     4            44  \n",
       "1     2          1248  \n",
       "2     4           103  \n",
       "3     2           888  \n",
       "4     1           438  \n",
       "5     2          1215  \n",
       "6     2           282  \n",
       "7     2          1100  \n",
       "8     4           394  \n",
       "9     3           378  "
      ]
     },
     "execution_count": 9,
     "metadata": {},
     "output_type": "execute_result"
    }
   ],
   "source": [
    "train = pd.read_csv(datadir/'train_with_fold2.csv')\n",
    "le = preprocessing.LabelEncoder()\n",
    "train['grapheme_enc'] = le.fit_transform(train['grapheme'])\n",
    "train.head(10)"
   ]
  },
  {
   "cell_type": "code",
   "execution_count": 10,
   "metadata": {},
   "outputs": [
    {
     "name": "stdout",
     "output_type": "stream",
     "text": [
      "(1295, 3)\n"
     ]
    },
    {
     "data": {
      "text/html": [
       "<div>\n",
       "<style scoped>\n",
       "    .dataframe tbody tr th:only-of-type {\n",
       "        vertical-align: middle;\n",
       "    }\n",
       "\n",
       "    .dataframe tbody tr th {\n",
       "        vertical-align: top;\n",
       "    }\n",
       "\n",
       "    .dataframe thead th {\n",
       "        text-align: right;\n",
       "    }\n",
       "</style>\n",
       "<table border=\"1\" class=\"dataframe\">\n",
       "  <thead>\n",
       "    <tr style=\"text-align: right;\">\n",
       "      <th></th>\n",
       "      <th>grapheme_root</th>\n",
       "      <th>vowel_diacritic</th>\n",
       "      <th>consonant_diacritic</th>\n",
       "    </tr>\n",
       "    <tr>\n",
       "      <th>grapheme_enc</th>\n",
       "      <th></th>\n",
       "      <th></th>\n",
       "      <th></th>\n",
       "    </tr>\n",
       "  </thead>\n",
       "  <tbody>\n",
       "    <tr>\n",
       "      <th>44</th>\n",
       "      <td>15</td>\n",
       "      <td>9</td>\n",
       "      <td>5</td>\n",
       "    </tr>\n",
       "    <tr>\n",
       "      <th>1248</th>\n",
       "      <td>159</td>\n",
       "      <td>0</td>\n",
       "      <td>0</td>\n",
       "    </tr>\n",
       "    <tr>\n",
       "      <th>103</th>\n",
       "      <td>22</td>\n",
       "      <td>3</td>\n",
       "      <td>5</td>\n",
       "    </tr>\n",
       "    <tr>\n",
       "      <th>888</th>\n",
       "      <td>53</td>\n",
       "      <td>2</td>\n",
       "      <td>2</td>\n",
       "    </tr>\n",
       "    <tr>\n",
       "      <th>438</th>\n",
       "      <td>71</td>\n",
       "      <td>9</td>\n",
       "      <td>5</td>\n",
       "    </tr>\n",
       "    <tr>\n",
       "      <th>1215</th>\n",
       "      <td>153</td>\n",
       "      <td>9</td>\n",
       "      <td>0</td>\n",
       "    </tr>\n",
       "    <tr>\n",
       "      <th>282</th>\n",
       "      <td>52</td>\n",
       "      <td>2</td>\n",
       "      <td>0</td>\n",
       "    </tr>\n",
       "    <tr>\n",
       "      <th>1100</th>\n",
       "      <td>139</td>\n",
       "      <td>3</td>\n",
       "      <td>0</td>\n",
       "    </tr>\n",
       "    <tr>\n",
       "      <th>394</th>\n",
       "      <td>67</td>\n",
       "      <td>0</td>\n",
       "      <td>0</td>\n",
       "    </tr>\n",
       "    <tr>\n",
       "      <th>378</th>\n",
       "      <td>64</td>\n",
       "      <td>7</td>\n",
       "      <td>1</td>\n",
       "    </tr>\n",
       "  </tbody>\n",
       "</table>\n",
       "</div>"
      ],
      "text/plain": [
       "              grapheme_root  vowel_diacritic  consonant_diacritic\n",
       "grapheme_enc                                                     \n",
       "44                       15                9                    5\n",
       "1248                    159                0                    0\n",
       "103                      22                3                    5\n",
       "888                      53                2                    2\n",
       "438                      71                9                    5\n",
       "1215                    153                9                    0\n",
       "282                      52                2                    0\n",
       "1100                    139                3                    0\n",
       "394                      67                0                    0\n",
       "378                      64                7                    1"
      ]
     },
     "execution_count": 10,
     "metadata": {},
     "output_type": "execute_result"
    }
   ],
   "source": [
    "grapheme_map = train[['grapheme_root','vowel_diacritic','consonant_diacritic','grapheme_enc']].drop_duplicates()\n",
    "grapheme_map = grapheme_map.set_index('grapheme_enc')\n",
    "print(grapheme_map.shape)\n",
    "grapheme_map.head(10)"
   ]
  },
  {
   "cell_type": "code",
   "execution_count": 11,
   "metadata": {},
   "outputs": [],
   "source": [
    "gr_map = grapheme_map.reset_index()[['grapheme_enc','grapheme_root']].to_dict(orient='records')\n",
    "gr_map = {r['grapheme_enc']:r['grapheme_root'] for r in gr_map}\n",
    "\n",
    "v_map = grapheme_map.reset_index()[['grapheme_enc','vowel_diacritic']].to_dict(orient='records')\n",
    "v_map = {r['grapheme_enc']:r['vowel_diacritic'] for r in v_map}\n",
    "\n",
    "c_map = grapheme_map.reset_index()[['grapheme_enc','consonant_diacritic']].to_dict(orient='records')\n",
    "c_map = {r['grapheme_enc']:r['consonant_diacritic'] for r in c_map}"
   ]
  },
  {
   "cell_type": "code",
   "execution_count": 12,
   "metadata": {},
   "outputs": [
    {
     "name": "stdout",
     "output_type": "stream",
     "text": [
      "image_df_list 4\n",
      "(200840, 128, 128)\n",
      "CPU times: user 4.89 s, sys: 21.5 s, total: 26.3 s\n",
      "Wall time: 5.78 s\n"
     ]
    }
   ],
   "source": [
    "%%time\n",
    "\n",
    "train_labels = train[['grapheme_root', 'vowel_diacritic', 'consonant_diacritic','grapheme_enc']].values\n",
    "indices = [0] if debug else [0, 1, 2, 3]\n",
    "train_images = prepare_image(datadir, featherdir, data_type='train', submission=False, indices=indices)\n",
    "print(train_images.shape)"
   ]
  },
  {
   "cell_type": "code",
   "execution_count": 13,
   "metadata": {},
   "outputs": [],
   "source": [
    "class BengaliAIDataset(Dataset):\n",
    "\n",
    "    def __init__(self, images, labels=None, transform=None, indices=None):\n",
    "        self.images = images\n",
    "        self.labels = labels\n",
    "        if indices is None:\n",
    "            indices = np.arange(len(images))\n",
    "        self.indices = indices\n",
    "        self.transform = transform\n",
    "\n",
    "    def __len__(self):\n",
    "        return len(self.indices)\n",
    "\n",
    "    def __getitem__(self, i):\n",
    "        i = self.indices[i]\n",
    "        image = self.images[i]\n",
    "        #image = np.stack((image, image, image), axis=-1)\n",
    "        #image = cv2.cvtColor(image ,cv2.COLOR_GRAY2RGB)\n",
    "        #image = image.reshape(image_size, image_size, -1)\n",
    "        image = 1-(image/255.0).astype(np.float32)\n",
    "        \n",
    "        #if self.transform:\n",
    "        #    image = self.transform(image=image)['image']\n",
    "        #image = np.transpose(image, (2, 0, 1)).astype(np.float32)\n",
    "\n",
    "        y = self.labels[i]\n",
    "        if self.transform:\n",
    "            aug_image = self.transform(image)\n",
    "            image = image.reshape(image_size, image_size, -1)\n",
    "            image = np.transpose(image, (2, 0, 1)).astype(np.float32)\n",
    "            aug_image = aug_image.reshape(image_size, image_size, -1)\n",
    "            aug_image = np.transpose(aug_image, (2, 0, 1)).astype(np.float32)\n",
    "            return image, aug_image, y[0], y[1], y[2], y[3]\n",
    "        else:\n",
    "            image = image.reshape(image_size, image_size, -1)\n",
    "            image = np.transpose(image, (2, 0, 1)).astype(np.float32)\n",
    "            return image, y[0], y[1], y[2], y[3]"
   ]
  },
  {
   "cell_type": "code",
   "execution_count": 14,
   "metadata": {},
   "outputs": [
    {
     "name": "stdout",
     "output_type": "stream",
     "text": [
      "image.shape: (1, 128, 128), label:15,9,5,44\n"
     ]
    },
    {
     "data": {
      "text/plain": [
       "array([[[0.00784314, 0.01176471, 0.01568627, ..., 0.00784314,\n",
       "         0.00392157, 0.01176471],\n",
       "        [0.00392157, 0.00784314, 0.01176471, ..., 0.00392157,\n",
       "         0.00392157, 0.01176471],\n",
       "        [0.        , 0.        , 0.00392157, ..., 0.        ,\n",
       "         0.00392157, 0.00784314],\n",
       "        ...,\n",
       "        [0.00392157, 0.00784314, 0.00784314, ..., 0.00784314,\n",
       "         0.00784314, 0.00784314],\n",
       "        [0.00392157, 0.00392157, 0.00392157, ..., 0.00784314,\n",
       "         0.00784314, 0.01176471],\n",
       "        [0.00392157, 0.00392157, 0.00392157, ..., 0.00784314,\n",
       "         0.00784314, 0.01176471]]], dtype=float32)"
      ]
     },
     "execution_count": 14,
     "metadata": {},
     "output_type": "execute_result"
    }
   ],
   "source": [
    "train_dataset = BengaliAIDataset(train_images, train_labels)\n",
    "image, gr, v, c, g = train_dataset[0]\n",
    "print(f'image.shape: {image.shape}, label:{gr},{v},{c},{g}')\n",
    "image"
   ]
  },
  {
   "cell_type": "code",
   "execution_count": 15,
   "metadata": {},
   "outputs": [
    {
     "data": {
      "application/vnd.jupyter.widget-view+json": {
       "model_id": "1409924b0634403099825cfcf49ef226",
       "version_major": 2,
       "version_minor": 0
      },
      "text/plain": [
       "HBox(children=(IntProgress(value=1, bar_style='info', max=1), HTML(value='')))"
      ]
     },
     "metadata": {},
     "output_type": "display_data"
    },
    {
     "name": "stdout",
     "output_type": "stream",
     "text": [
      "\n"
     ]
    },
    {
     "data": {
      "image/png": "[encoded data removed]",
      "text/plain": [
       "<Figure size 1440x576 with 30 Axes>"
      ]
     },
     "metadata": {},
     "output_type": "display_data"
    }
   ],
   "source": [
    "nrow, ncol = 5, 6\n",
    "\n",
    "fig, axes = plt.subplots(nrow, ncol, figsize=(20, 8))\n",
    "axes = axes.flatten()\n",
    "for i, ax in tqdm(enumerate(axes)):\n",
    "    image, gr, v, c, g = train_dataset[i]\n",
    "    ax.imshow(image.reshape(image_size, image_size), cmap='gray')\n",
    "    ax.set_title(f'label:{gr},{v},{c},{g}')\n",
    "plt.tight_layout()\n",
    "plt.show()"
   ]
  },
  {
   "cell_type": "code",
   "execution_count": 16,
   "metadata": {},
   "outputs": [],
   "source": [
    "# helper --\n",
    "def make_grid_image(width,height, grid_size=16):\n",
    "\n",
    "    image = np.zeros((height,width),np.float32)\n",
    "    for y in range(0,height,2*grid_size):\n",
    "        for x in range(0,width,2*grid_size):\n",
    "             image[y: y+grid_size,x:x+grid_size] = 1\n",
    "\n",
    "    # for y in range(height+grid_size,2*grid_size):\n",
    "    #     for x in range(width+grid_size,2*grid_size):\n",
    "    #          image[y: y+grid_size,x:x+grid_size] = 1\n",
    "\n",
    "    return image\n",
    "\n",
    "#---\n",
    "\n",
    "def do_identity(image, magnitude=None):\n",
    "    return image\n",
    "\n",
    "\n",
    "# *** geometric ***\n",
    "\n",
    "def do_random_projective(image, magnitude=0.5):\n",
    "    mag = np.random.uniform(-1, 1) * 0.5*magnitude\n",
    "\n",
    "    height, width = image.shape[:2]\n",
    "    x0,y0=0,0\n",
    "    x1,y1=1,0\n",
    "    x2,y2=1,1\n",
    "    x3,y3=0,1\n",
    "\n",
    "    mode = np.random.choice(['top','bottom','left','right'])\n",
    "    if mode =='top':\n",
    "        x0 += mag;   x1 -= mag\n",
    "    if mode =='bottom':\n",
    "        x3 += mag;   x2 -= mag\n",
    "    if mode =='left':\n",
    "        y0 += mag;   y3 -= mag\n",
    "    if mode =='right':\n",
    "        y1 += mag;   y2 -= mag\n",
    "\n",
    "    s = np.array([[ 0, 0],[ 1, 0],[ 1, 1],[ 0, 1],])*[[width, height]]\n",
    "    d = np.array([[x0,y0],[x1,y1],[x2,y2],[x3,y3],])*[[width, height]]\n",
    "    transform = cv2.getPerspectiveTransform(s.astype(np.float32),d.astype(np.float32))\n",
    "\n",
    "    image = cv2.warpPerspective( image, transform, (width, height), flags=cv2.INTER_LINEAR,\n",
    "                                 borderMode=cv2.BORDER_CONSTANT, borderValue=0)\n",
    "\n",
    "    return image\n",
    "\n",
    "\n",
    "def do_random_perspective(image, magnitude=0.5):\n",
    "    mag = np.random.uniform(-1, 1, (4,2)) * 0.25*magnitude\n",
    "\n",
    "    height, width = image.shape[:2]\n",
    "    s = np.array([[ 0, 0],[ 1, 0],[ 1, 1],[ 0, 1],])\n",
    "    d = s+mag\n",
    "    s *= [[width, height]]\n",
    "    d *= [[width, height]]\n",
    "    transform = cv2.getPerspectiveTransform(s.astype(np.float32),d.astype(np.float32))\n",
    "\n",
    "    image = cv2.warpPerspective( image, transform, (width, height), flags=cv2.INTER_LINEAR,\n",
    "                                 borderMode=cv2.BORDER_CONSTANT, borderValue=0)\n",
    "\n",
    "    return image\n",
    "\n",
    "\n",
    "def do_random_scale( image, magnitude=0.5 ):\n",
    "    s = 1+np.random.uniform(-1, 1)*magnitude*0.5\n",
    "\n",
    "    height, width = image.shape[:2]\n",
    "    transform = np.array([\n",
    "        [s,0,0],\n",
    "        [0,s,0],\n",
    "    ],np.float32)\n",
    "    image = cv2.warpAffine( image, transform, (width, height), flags=cv2.INTER_LINEAR,\n",
    "                                 borderMode=cv2.BORDER_CONSTANT, borderValue=0)\n",
    "    return image\n",
    "\n",
    "\n",
    "\n",
    "def do_random_shear_x( image, magnitude=0.5 ):\n",
    "    sx = np.random.uniform(-1, 1)*magnitude\n",
    "\n",
    "    height, width = image.shape[:2]\n",
    "    transform = np.array([\n",
    "        [1,sx,0],\n",
    "        [0,1,0],\n",
    "    ],np.float32)\n",
    "    image = cv2.warpAffine( image, transform, (width, height), flags=cv2.INTER_LINEAR,\n",
    "                                 borderMode=cv2.BORDER_CONSTANT, borderValue=0)\n",
    "    return image\n",
    "\n",
    "\n",
    "def do_random_shear_y( image, magnitude=0.5 ):\n",
    "    sy = np.random.uniform(-1, 1)*magnitude\n",
    "\n",
    "    height, width = image.shape[:2]\n",
    "    transform = np.array([\n",
    "        [1, 0,0],\n",
    "        [sy,1,0],\n",
    "    ],np.float32)\n",
    "    image = cv2.warpAffine( image, transform, (width, height), flags=cv2.INTER_LINEAR,\n",
    "                                 borderMode=cv2.BORDER_CONSTANT, borderValue=0)\n",
    "    return image\n",
    "\n",
    "\n",
    "def do_random_stretch_x(image, magnitude=0.5 ):\n",
    "    sx = 1+np.random.uniform(-1, 1)*magnitude\n",
    "\n",
    "    height, width = image.shape[:2]\n",
    "    transform = np.array([\n",
    "        [sx,0,0],\n",
    "        [0, 1,0],\n",
    "    ],np.float32)\n",
    "    image = cv2.warpAffine( image, transform, (width, height), flags=cv2.INTER_LINEAR,\n",
    "                                 borderMode=cv2.BORDER_CONSTANT, borderValue=0)\n",
    "    return image\n",
    "\n",
    "\n",
    "def do_random_stretch_y(image, magnitude=0.5 ):\n",
    "    sy = 1+np.random.uniform(-1, 1)*magnitude\n",
    "\n",
    "    height, width = image.shape[:2]\n",
    "    transform = np.array([\n",
    "        [1, 0,0],\n",
    "        [0,sy,0],\n",
    "    ],np.float32)\n",
    "    image = cv2.warpAffine( image, transform, (width, height), flags=cv2.INTER_LINEAR,\n",
    "                                 borderMode=cv2.BORDER_CONSTANT, borderValue=0)\n",
    "    return image\n",
    "\n",
    "\n",
    "def do_random_rotate(image, magnitude=0.5 ):\n",
    "    angle = 1+np.random.uniform(-1, 1)*30*magnitude\n",
    "\n",
    "    height, width = image.shape[:2]\n",
    "    cx, cy = width // 2, height // 2\n",
    "\n",
    "    transform = cv2.getRotationMatrix2D((cx, cy), -angle, 1.0)\n",
    "    image = cv2.warpAffine( image, transform, (width, height), flags=cv2.INTER_LINEAR,\n",
    "                                 borderMode=cv2.BORDER_CONSTANT, borderValue=0)\n",
    "    return image\n",
    "\n",
    "\n",
    "#----\n",
    "def do_random_grid_distortion(image, magnitude=0.5 ):\n",
    "    num_step = 5\n",
    "    distort  = magnitude\n",
    "\n",
    "    # http://pythology.blogspot.sg/2014/03/interpolation-on-regular-distorted-grid.html\n",
    "    distort_x = [1 + random.uniform(-distort,distort) for i in range(num_step + 1)]\n",
    "    distort_y = [1 + random.uniform(-distort,distort) for i in range(num_step + 1)]\n",
    "\n",
    "    #---\n",
    "    height, width = image.shape[:2]\n",
    "    xx = np.zeros(width, np.float32)\n",
    "    step_x = width // num_step\n",
    "\n",
    "    prev = 0\n",
    "    for i, x in enumerate(range(0, width, step_x)):\n",
    "        start = x\n",
    "        end   = x + step_x\n",
    "        if end > width:\n",
    "            end = width\n",
    "            cur = width\n",
    "        else:\n",
    "            cur = prev + step_x * distort_x[i]\n",
    "\n",
    "        xx[start:end] = np.linspace(prev, cur, end - start)\n",
    "        prev = cur\n",
    "\n",
    "    yy = np.zeros(height, np.float32)\n",
    "    step_y = height // num_step\n",
    "    prev = 0\n",
    "    for idx, y in enumerate(range(0, height, step_y)):\n",
    "        start = y\n",
    "        end = y + step_y\n",
    "        if end > height:\n",
    "            end = height\n",
    "            cur = height\n",
    "        else:\n",
    "            cur = prev + step_y * distort_y[idx]\n",
    "\n",
    "        yy[start:end] = np.linspace(prev, cur, end - start)\n",
    "        prev = cur\n",
    "\n",
    "    map_x, map_y = np.meshgrid(xx, yy)\n",
    "    map_x = map_x.astype(np.float32)\n",
    "    map_y = map_y.astype(np.float32)\n",
    "    image = cv2.remap(image, map_x, map_y, interpolation=cv2.INTER_LINEAR,\n",
    "                      borderMode=cv2.BORDER_CONSTANT, borderValue=0)\n",
    "\n",
    "    return image\n",
    "\n",
    "#https://github.com/albumentations-team/albumentations/blob/8b58a3dbd2f35558b3790a1dbff6b42b98e89ea5/albumentations/augmentations/transforms.py\n",
    "\n",
    "# https://ciechanow.ski/mesh-transforms/\n",
    "# https://stackoverflow.com/questions/53907633/how-to-warp-an-image-using-deformed-mesh\n",
    "# http://pythology.blogspot.sg/2014/03/interpolation-on-regular-distorted-grid.html\n",
    "def do_random_custom_distortion1(image, magnitude=0.5):\n",
    "    distort=magnitude*0.3\n",
    "\n",
    "    height,width = image.shape\n",
    "    s_x = np.array([0.0, 0.5, 1.0,  0.0, 0.5, 1.0,  0.0, 0.5, 1.0])\n",
    "    s_y = np.array([0.0, 0.0, 0.0,  0.5, 0.5, 0.5,  1.0, 1.0, 1.0])\n",
    "    d_x = s_x.copy()\n",
    "    d_y = s_y.copy()\n",
    "    d_x[[1,4,7]] += np.random.uniform(-distort,distort, 3)\n",
    "    d_y[[3,4,5]] += np.random.uniform(-distort,distort, 3)\n",
    "\n",
    "    s_x = (s_x*width )\n",
    "    s_y = (s_y*height)\n",
    "    d_x = (d_x*width )\n",
    "    d_y = (d_y*height)\n",
    "\n",
    "    #---\n",
    "    distort = np.zeros((height,width),np.float32)\n",
    "    for index in ([4,1,3],[4,1,5],[4,7,3],[4,7,5]):\n",
    "        point = np.stack([s_x[index],s_y[index]]).T\n",
    "        qoint = np.stack([d_x[index],d_y[index]]).T\n",
    "\n",
    "        src  = np.array(point, np.float32)\n",
    "        dst  = np.array(qoint, np.float32)\n",
    "        mat  = cv2.getAffineTransform(src, dst)\n",
    "\n",
    "        point = np.round(point).astype(np.int32)\n",
    "        x0 = np.min(point[:,0])\n",
    "        x1 = np.max(point[:,0])\n",
    "        y0 = np.min(point[:,1])\n",
    "        y1 = np.max(point[:,1])\n",
    "        mask = np.zeros((height,width),np.float32)\n",
    "        mask[y0:y1,x0:x1] = 1\n",
    "\n",
    "        mask = mask*image\n",
    "        warp = cv2.warpAffine(mask, mat, (width, height),borderMode=cv2.BORDER_REPLICATE)\n",
    "        distort = np.maximum(distort,warp)\n",
    "        #distort = distort+warp\n",
    "\n",
    "    return distort\n",
    "\n",
    "\n",
    "# *** intensity ***\n",
    "def do_random_contrast(image, magnitude=0.5):\n",
    "    alpha = 1 + random.uniform(-1,1)*magnitude\n",
    "    image = image.astype(np.float32) * alpha\n",
    "    image = np.clip(image,0,1)\n",
    "    return image\n",
    "\n",
    "\n",
    "def do_random_block_fade(image, magnitude=0.5):\n",
    "    size  = [0.1, magnitude]\n",
    "\n",
    "    height,width = image.shape\n",
    "\n",
    "    #get bounding box\n",
    "    m = image.copy()\n",
    "    cv2.rectangle(m,(0,0),(height,width),1,5)\n",
    "    m = image<0.5\n",
    "    if m.sum()==0: return image\n",
    "\n",
    "    m = np.where(m)\n",
    "    y0,y1,x0,x1 = np.min(m[0]), np.max(m[0]), np.min(m[1]), np.max(m[1])\n",
    "    w = x1-x0\n",
    "    h = y1-y0\n",
    "    if w*h<10: return image\n",
    "\n",
    "    ew, eh = np.random.uniform(*size,2)\n",
    "    ew = int(ew*w)\n",
    "    eh = int(eh*h)\n",
    "\n",
    "    ex = np.random.randint(0,w-ew)+x0\n",
    "    ey = np.random.randint(0,h-eh)+y0\n",
    "\n",
    "    image[ey:ey+eh, ex:ex+ew] *= np.random.uniform(0.1,0.5) #1 #\n",
    "    image = np.clip(image,0,1)\n",
    "    return image\n",
    "\n",
    "\n",
    "# *** noise ***\n",
    "# https://www.kaggle.com/ren4yu/bengali-morphological-ops-as-image-augmentation\n",
    "def do_random_erode(image, magnitude=0.5):\n",
    "    s = int(round(1 + np.random.uniform(0,1)*magnitude*6))\n",
    "    kernel = cv2.getStructuringElement(cv2.MORPH_ELLIPSE, tuple((s,s)))\n",
    "    image  = cv2.erode(image, kernel, iterations=1)\n",
    "    return image\n",
    "\n",
    "def do_random_dilate(image, magnitude=0.5):\n",
    "    s = int(round(1 + np.random.uniform(0,1)*magnitude*6))\n",
    "    kernel = cv2.getStructuringElement(cv2.MORPH_ELLIPSE, tuple((s,s)))\n",
    "    image  = cv2.dilate(image, kernel, iterations=1)\n",
    "    return image\n",
    "\n",
    "def do_random_sprinkle(image, magnitude=0.5):\n",
    "\n",
    "    size = 16\n",
    "    num_sprinkle = int(round( 1 + np.random.randint(10)*magnitude ))\n",
    "\n",
    "    height,width = image.shape\n",
    "    image = image.copy()\n",
    "    image_small = cv2.resize(image, dsize=None, fx=0.25, fy=0.25)\n",
    "    m   = np.where(image_small>0.25)\n",
    "    num = len(m[0])\n",
    "    if num==0: return image\n",
    "\n",
    "    s = size//2\n",
    "    i = np.random.choice(num, num_sprinkle)\n",
    "    for y,x in zip(m[0][i],m[1][i]):\n",
    "        y=y*4+2\n",
    "        x=x*4+2\n",
    "        image[y-s:y+s, x-s:x+s] = 0 #0.5 #1 #\n",
    "    return image\n",
    "\n",
    "\n",
    "#https://stackoverflow.com/questions/14435632/impulse-gaussian-and-salt-and-pepper-noise-with-opencv\n",
    "def do_random_noise(image, magnitude=0.5):\n",
    "    height,width = image.shape\n",
    "    noise = np.random.uniform(-1,1,(height,width))*magnitude*0.7\n",
    "    image = image+noise\n",
    "    image = np.clip(image,0,1)\n",
    "    return image\n",
    "\n",
    "\n",
    "\n",
    "def do_random_line(image, magnitude=0.5):\n",
    "    num_lines = int(round(1 + np.random.randint(8)*magnitude))\n",
    "\n",
    "    # ---\n",
    "    height,width = image.shape\n",
    "    image = image.copy()\n",
    "\n",
    "    def line0():\n",
    "        return (0,0),(width-1,0)\n",
    "\n",
    "    def line1():\n",
    "        return (0,height-1),(width-1,height-1)\n",
    "\n",
    "    def line2():\n",
    "        return (0,0),(0,height-1)\n",
    "\n",
    "    def line3():\n",
    "        return (width-1,0),(width-1,height-1)\n",
    "\n",
    "    def line4():\n",
    "        x0,x1 = np.random.choice(width,2)\n",
    "        return (x0,0),(x1,height-1)\n",
    "\n",
    "    def line5():\n",
    "        y0,y1 = np.random.choice(height,2)\n",
    "        return (0,y0),(width-1,y1)\n",
    "\n",
    "    for i in range(num_lines):\n",
    "        p = np.array([1/4,1/4,1/4,1/4,1,1])\n",
    "        func = np.random.choice([line0,line1,line2,line3,line4,line5],p=p/p.sum())\n",
    "        (x0,y0),(x1,y1) = func()\n",
    "\n",
    "        color     = np.random.uniform(0,1)\n",
    "        thickness = np.random.randint(1,5)\n",
    "        line_type = np.random.choice([cv2.LINE_AA,cv2.LINE_4,cv2.LINE_8])\n",
    "\n",
    "        cv2.line(image,(x0,y0),(x1,y1), color, thickness, line_type)\n",
    "\n",
    "    return image\n",
    "\n",
    "\n",
    "\n",
    "# batch augmentation that uses pairing, e.g mixup, cutmix, cutout #####################\n",
    "def make_object_box(image):\n",
    "    m = image.copy()\n",
    "    cv2.rectangle(m,(0,0),(236, 137), 0, 10)\n",
    "    m = m-np.min(m)\n",
    "    m = m/np.max(m)\n",
    "    h = m<0.5\n",
    "\n",
    "    row = np.any(h, axis=1)\n",
    "    col = np.any(h, axis=0)\n",
    "    y0, y1 = np.where(row)[0][[0, -1]]\n",
    "    x0, x1 = np.where(col)[0][[0, -1]]\n",
    "\n",
    "    return [x0,y0],[x1,y1]\n",
    "\n",
    "\n",
    "\n",
    "\n",
    "def do_random_batch_mixup(input, onehot):\n",
    "    batch_size = len(input)\n",
    "\n",
    "    alpha = 0.4 #0.2  #0.2,0.4\n",
    "    gamma = np.random.beta(alpha, alpha, batch_size)\n",
    "    gamma = np.maximum(1-gamma,gamma)\n",
    "\n",
    "    # #mixup https://github.com/moskomule/mixup.pytorch/blob/master/main.py\n",
    "    gamma = torch.from_numpy(gamma).float().to(input.device)\n",
    "    perm  = torch.randperm(batch_size).to(input.device)\n",
    "    perm_input  = input[perm]\n",
    "    perm_onehot = [t[perm] for t in onehot]\n",
    "\n",
    "    gamma = gamma.view(batch_size,1,1,1)\n",
    "    mix_input  = gamma*input + (1-gamma)*perm_input\n",
    "    gamma = gamma.view(batch_size,1)\n",
    "    mix_onehot = [gamma*t + (1-gamma)*perm_t for t,perm_t in zip(onehot,perm_onehot)]\n",
    "\n",
    "    return mix_input, mix_onehot, (perm_input, perm_onehot)\n",
    "\n",
    "\n",
    "def do_random_batch_cutout(input, onehot):\n",
    "    batch_size,C,H,W = input.shape\n",
    "\n",
    "    mask = np.ones((batch_size,C,H,W ), np.float32)\n",
    "    for b in range(batch_size):\n",
    "\n",
    "        length = int(np.random.uniform(0.1,0.5)*min(H,W))\n",
    "        y = np.random.randint(H)\n",
    "        x = np.random.randint(W)\n",
    "\n",
    "        y0 = np.clip(y - length // 2, 0, H)\n",
    "        y1 = np.clip(y + length // 2, 0, H)\n",
    "        x0 = np.clip(x - length // 2, 0, W)\n",
    "        x1 = np.clip(x + length // 2, 0, W)\n",
    "        mask[b, :, y0: y1, x0: x1] = 0\n",
    "    mask  = torch.from_numpy(mask).to(input.device)\n",
    "\n",
    "    input = input*mask\n",
    "    return input, onehot, None"
   ]
  },
  {
   "cell_type": "code",
   "execution_count": 17,
   "metadata": {},
   "outputs": [],
   "source": [
    "def valid_augment(image):\n",
    "    return image\n",
    "\n",
    "\n",
    "def train_augment(image):\n",
    "    if 1:\n",
    "        for op in np.random.choice([\n",
    "            lambda image : do_identity(image),\n",
    "            lambda image : do_random_projective(image, 0.4),\n",
    "            lambda image : do_random_perspective(image, 0.4),\n",
    "            lambda image : do_random_scale(image, 0.4),\n",
    "            lambda image : do_random_rotate(image, 0.4),\n",
    "            lambda image : do_random_shear_x(image, 0.5),\n",
    "            lambda image : do_random_shear_y(image, 0.4),\n",
    "            lambda image : do_random_stretch_x(image, 0.5),\n",
    "            lambda image : do_random_stretch_y(image, 0.5),\n",
    "            lambda image : do_random_grid_distortion(image, 0.4),\n",
    "            lambda image : do_random_custom_distortion1(image, 0.5),\n",
    "        ],1):\n",
    "            image = op(image)\n",
    "\n",
    "        for op in np.random.choice([\n",
    "            lambda image : do_identity(image),\n",
    "            lambda image : do_random_erode(image, 0.4),\n",
    "            lambda image : do_random_dilate(image, 0.4),\n",
    "            lambda image : do_random_sprinkle(image, 0.5),\n",
    "            lambda image : do_random_line(image, 0.5),\n",
    "        ],1):\n",
    "            image = op(image)\n",
    "\n",
    "        for op in np.random.choice([\n",
    "            lambda image : do_identity(image),\n",
    "            lambda image : do_random_contrast(image, 0.5),\n",
    "            lambda image : do_random_block_fade(image, 0.5),\n",
    "        ],1):\n",
    "            image = op(image)\n",
    "\n",
    "        #image = do_random_pad_crop(image, 3)\n",
    "    return image"
   ]
  },
  {
   "cell_type": "code",
   "execution_count": 18,
   "metadata": {},
   "outputs": [],
   "source": [
    "train_dataset = BengaliAIDataset(train_images, train_labels, transform=train_augment)"
   ]
  },
  {
   "cell_type": "code",
   "execution_count": 19,
   "metadata": {},
   "outputs": [
    {
     "data": {
      "application/vnd.jupyter.widget-view+json": {
       "model_id": "626adc842cd745fc89b726c247b99691",
       "version_major": 2,
       "version_minor": 0
      },
      "text/plain": [
       "HBox(children=(IntProgress(value=1, bar_style='info', max=1), HTML(value='')))"
      ]
     },
     "metadata": {},
     "output_type": "display_data"
    },
    {
     "name": "stdout",
     "output_type": "stream",
     "text": [
      "\n"
     ]
    },
    {
     "data": {
      "image/png": "[encoded data removed]",
      "text/plain": [
       "<Figure size 1440x288 with 12 Axes>"
      ]
     },
     "metadata": {},
     "output_type": "display_data"
    }
   ],
   "source": [
    "nrow, ncol = 2, 6\n",
    "\n",
    "fig, axes = plt.subplots(nrow, ncol, figsize=(20, 4))\n",
    "axes = axes.flatten()\n",
    "for i, ax in tqdm(enumerate(axes)):\n",
    "    image, aug_image, gr, v, c, g = train_dataset[0]\n",
    "    if i == 0:\n",
    "        ax.imshow(image.reshape(image_size,image_size), cmap='gray')\n",
    "        ax.set_title(f'original, label:{gr},{v},{c},{g}')\n",
    "    else:\n",
    "        ax.imshow(aug_image.reshape(image_size,image_size), cmap='gray')\n",
    "        ax.set_title(f'label:{gr},{v},{c},{g}')\n",
    "plt.tight_layout()\n",
    "plt.show()"
   ]
  },
  {
   "cell_type": "code",
   "execution_count": 20,
   "metadata": {},
   "outputs": [],
   "source": [
    "def gem(x, p=3, eps=1e-6):\n",
    "    return F.avg_pool2d(x.clamp(min=eps).pow(p), (x.size(-2), x.size(-1))).pow(1./p)\n",
    "\n",
    "class GeM(nn.Module):\n",
    "    def __init__(self, p=3, eps=1e-6):\n",
    "        super(GeM,self).__init__()\n",
    "        self.p = Parameter(torch.ones(1)*p)\n",
    "        self.eps = eps\n",
    "    def forward(self, x):\n",
    "        return gem(x, p=self.p, eps=self.eps)       \n",
    "    def __repr__(self):\n",
    "        return self.__class__.__name__ + '(' + 'p=' + '{:.4f}'.format(self.p.data.tolist()[0]) + ', ' + 'eps=' + str(self.eps) + ')'\n",
    "    \n",
    "class Mish(nn.Module):\n",
    "    def __init__(self):\n",
    "        super().__init__()\n",
    "\n",
    "    def forward(self, x):\n",
    "        #inlining this saves 1 second per epoch (V100 GPU) vs having a temp x and then returning x(!)\n",
    "        return x *( torch.tanh(F.softplus(x)))"
   ]
  },
  {
   "cell_type": "code",
   "execution_count": 21,
   "metadata": {},
   "outputs": [],
   "source": [
    "IMAGE_RGB_MEAN = [0.485, 0.456, 0.406]\n",
    "IMAGE_RGB_STD  = [0.229, 0.224, 0.225]\n",
    "PRETRAIN_FILE = '../pretrained_model/se_resnext50_32x4d-a260b3a4.pth'\n",
    "NUM_CLASS = [168,11,7,1295]"
   ]
  },
  {
   "cell_type": "code",
   "execution_count": 22,
   "metadata": {},
   "outputs": [],
   "source": [
    "CONVERSION=[\n",
    " 'block0.0.weight',\t(64, 3, 7, 7),\t 'layer0.conv1.weight',\t(64, 3, 7, 7),\n",
    " 'block0.1.weight',\t(64,),\t 'layer0.bn1.weight',\t(64,),\n",
    " 'block0.1.bias',\t(64,),\t 'layer0.bn1.bias',\t(64,),\n",
    " 'block0.1.running_mean',\t(64,),\t 'layer0.bn1.running_mean',\t(64,),\n",
    " 'block0.1.running_var',\t(64,),\t 'layer0.bn1.running_var',\t(64,),\n",
    " 'block1.0.conv_bn1.conv.weight',\t(128, 64, 1, 1),\t 'layer1.0.conv1.weight',\t(128, 64, 1, 1),\n",
    " 'block1.0.conv_bn1.bn.weight',\t(128,),\t 'layer1.0.bn1.weight',\t(128,),\n",
    " 'block1.0.conv_bn1.bn.bias',\t(128,),\t 'layer1.0.bn1.bias',\t(128,),\n",
    " 'block1.0.conv_bn1.bn.running_mean',\t(128,),\t 'layer1.0.bn1.running_mean',\t(128,),\n",
    " 'block1.0.conv_bn1.bn.running_var',\t(128,),\t 'layer1.0.bn1.running_var',\t(128,),\n",
    " 'block1.0.conv_bn2.conv.weight',\t(128, 4, 3, 3),\t 'layer1.0.conv2.weight',\t(128, 4, 3, 3),\n",
    " 'block1.0.conv_bn2.bn.weight',\t(128,),\t 'layer1.0.bn2.weight',\t(128,),\n",
    " 'block1.0.conv_bn2.bn.bias',\t(128,),\t 'layer1.0.bn2.bias',\t(128,),\n",
    " 'block1.0.conv_bn2.bn.running_mean',\t(128,),\t 'layer1.0.bn2.running_mean',\t(128,),\n",
    " 'block1.0.conv_bn2.bn.running_var',\t(128,),\t 'layer1.0.bn2.running_var',\t(128,),\n",
    " 'block1.0.conv_bn3.conv.weight',\t(256, 128, 1, 1),\t 'layer1.0.conv3.weight',\t(256, 128, 1, 1),\n",
    " 'block1.0.conv_bn3.bn.weight',\t(256,),\t 'layer1.0.bn3.weight',\t(256,),\n",
    " 'block1.0.conv_bn3.bn.bias',\t(256,),\t 'layer1.0.bn3.bias',\t(256,),\n",
    " 'block1.0.conv_bn3.bn.running_mean',\t(256,),\t 'layer1.0.bn3.running_mean',\t(256,),\n",
    " 'block1.0.conv_bn3.bn.running_var',\t(256,),\t 'layer1.0.bn3.running_var',\t(256,),\n",
    " 'block1.0.scale.fc1.weight',\t(16, 256, 1, 1),\t 'layer1.0.se_module.fc1.weight',\t(16, 256, 1, 1),\n",
    " 'block1.0.scale.fc1.bias',\t(16,),\t 'layer1.0.se_module.fc1.bias',\t(16,),\n",
    " 'block1.0.scale.fc2.weight',\t(256, 16, 1, 1),\t 'layer1.0.se_module.fc2.weight',\t(256, 16, 1, 1),\n",
    " 'block1.0.scale.fc2.bias',\t(256,),\t 'layer1.0.se_module.fc2.bias',\t(256,),\n",
    " 'block1.0.shortcut.conv.weight',\t(256, 64, 1, 1),\t 'layer1.0.downsample.0.weight',\t(256, 64, 1, 1),\n",
    " 'block1.0.shortcut.bn.weight',\t(256,),\t 'layer1.0.downsample.1.weight',\t(256,),\n",
    " 'block1.0.shortcut.bn.bias',\t(256,),\t 'layer1.0.downsample.1.bias',\t(256,),\n",
    " 'block1.0.shortcut.bn.running_mean',\t(256,),\t 'layer1.0.downsample.1.running_mean',\t(256,),\n",
    " 'block1.0.shortcut.bn.running_var',\t(256,),\t 'layer1.0.downsample.1.running_var',\t(256,),\n",
    " 'block1.1.conv_bn1.conv.weight',\t(128, 256, 1, 1),\t 'layer1.1.conv1.weight',\t(128, 256, 1, 1),\n",
    " 'block1.1.conv_bn1.bn.weight',\t(128,),\t 'layer1.1.bn1.weight',\t(128,),\n",
    " 'block1.1.conv_bn1.bn.bias',\t(128,),\t 'layer1.1.bn1.bias',\t(128,),\n",
    " 'block1.1.conv_bn1.bn.running_mean',\t(128,),\t 'layer1.1.bn1.running_mean',\t(128,),\n",
    " 'block1.1.conv_bn1.bn.running_var',\t(128,),\t 'layer1.1.bn1.running_var',\t(128,),\n",
    " 'block1.1.conv_bn2.conv.weight',\t(128, 4, 3, 3),\t 'layer1.1.conv2.weight',\t(128, 4, 3, 3),\n",
    " 'block1.1.conv_bn2.bn.weight',\t(128,),\t 'layer1.1.bn2.weight',\t(128,),\n",
    " 'block1.1.conv_bn2.bn.bias',\t(128,),\t 'layer1.1.bn2.bias',\t(128,),\n",
    " 'block1.1.conv_bn2.bn.running_mean',\t(128,),\t 'layer1.1.bn2.running_mean',\t(128,),\n",
    " 'block1.1.conv_bn2.bn.running_var',\t(128,),\t 'layer1.1.bn2.running_var',\t(128,),\n",
    " 'block1.1.conv_bn3.conv.weight',\t(256, 128, 1, 1),\t 'layer1.1.conv3.weight',\t(256, 128, 1, 1),\n",
    " 'block1.1.conv_bn3.bn.weight',\t(256,),\t 'layer1.1.bn3.weight',\t(256,),\n",
    " 'block1.1.conv_bn3.bn.bias',\t(256,),\t 'layer1.1.bn3.bias',\t(256,),\n",
    " 'block1.1.conv_bn3.bn.running_mean',\t(256,),\t 'layer1.1.bn3.running_mean',\t(256,),\n",
    " 'block1.1.conv_bn3.bn.running_var',\t(256,),\t 'layer1.1.bn3.running_var',\t(256,),\n",
    " 'block1.1.scale.fc1.weight',\t(16, 256, 1, 1),\t 'layer1.1.se_module.fc1.weight',\t(16, 256, 1, 1),\n",
    " 'block1.1.scale.fc1.bias',\t(16,),\t 'layer1.1.se_module.fc1.bias',\t(16,),\n",
    " 'block1.1.scale.fc2.weight',\t(256, 16, 1, 1),\t 'layer1.1.se_module.fc2.weight',\t(256, 16, 1, 1),\n",
    " 'block1.1.scale.fc2.bias',\t(256,),\t 'layer1.1.se_module.fc2.bias',\t(256,),\n",
    " 'block1.2.conv_bn1.conv.weight',\t(128, 256, 1, 1),\t 'layer1.2.conv1.weight',\t(128, 256, 1, 1),\n",
    " 'block1.2.conv_bn1.bn.weight',\t(128,),\t 'layer1.2.bn1.weight',\t(128,),\n",
    " 'block1.2.conv_bn1.bn.bias',\t(128,),\t 'layer1.2.bn1.bias',\t(128,),\n",
    " 'block1.2.conv_bn1.bn.running_mean',\t(128,),\t 'layer1.2.bn1.running_mean',\t(128,),\n",
    " 'block1.2.conv_bn1.bn.running_var',\t(128,),\t 'layer1.2.bn1.running_var',\t(128,),\n",
    " 'block1.2.conv_bn2.conv.weight',\t(128, 4, 3, 3),\t 'layer1.2.conv2.weight',\t(128, 4, 3, 3),\n",
    " 'block1.2.conv_bn2.bn.weight',\t(128,),\t 'layer1.2.bn2.weight',\t(128,),\n",
    " 'block1.2.conv_bn2.bn.bias',\t(128,),\t 'layer1.2.bn2.bias',\t(128,),\n",
    " 'block1.2.conv_bn2.bn.running_mean',\t(128,),\t 'layer1.2.bn2.running_mean',\t(128,),\n",
    " 'block1.2.conv_bn2.bn.running_var',\t(128,),\t 'layer1.2.bn2.running_var',\t(128,),\n",
    " 'block1.2.conv_bn3.conv.weight',\t(256, 128, 1, 1),\t 'layer1.2.conv3.weight',\t(256, 128, 1, 1),\n",
    " 'block1.2.conv_bn3.bn.weight',\t(256,),\t 'layer1.2.bn3.weight',\t(256,),\n",
    " 'block1.2.conv_bn3.bn.bias',\t(256,),\t 'layer1.2.bn3.bias',\t(256,),\n",
    " 'block1.2.conv_bn3.bn.running_mean',\t(256,),\t 'layer1.2.bn3.running_mean',\t(256,),\n",
    " 'block1.2.conv_bn3.bn.running_var',\t(256,),\t 'layer1.2.bn3.running_var',\t(256,),\n",
    " 'block1.2.scale.fc1.weight',\t(16, 256, 1, 1),\t 'layer1.2.se_module.fc1.weight',\t(16, 256, 1, 1),\n",
    " 'block1.2.scale.fc1.bias',\t(16,),\t 'layer1.2.se_module.fc1.bias',\t(16,),\n",
    " 'block1.2.scale.fc2.weight',\t(256, 16, 1, 1),\t 'layer1.2.se_module.fc2.weight',\t(256, 16, 1, 1),\n",
    " 'block1.2.scale.fc2.bias',\t(256,),\t 'layer1.2.se_module.fc2.bias',\t(256,),\n",
    " 'block2.0.conv_bn1.conv.weight',\t(256, 256, 1, 1),\t 'layer2.0.conv1.weight',\t(256, 256, 1, 1),\n",
    " 'block2.0.conv_bn1.bn.weight',\t(256,),\t 'layer2.0.bn1.weight',\t(256,),\n",
    " 'block2.0.conv_bn1.bn.bias',\t(256,),\t 'layer2.0.bn1.bias',\t(256,),\n",
    " 'block2.0.conv_bn1.bn.running_mean',\t(256,),\t 'layer2.0.bn1.running_mean',\t(256,),\n",
    " 'block2.0.conv_bn1.bn.running_var',\t(256,),\t 'layer2.0.bn1.running_var',\t(256,),\n",
    " 'block2.0.conv_bn2.conv.weight',\t(256, 8, 3, 3),\t 'layer2.0.conv2.weight',\t(256, 8, 3, 3),\n",
    " 'block2.0.conv_bn2.bn.weight',\t(256,),\t 'layer2.0.bn2.weight',\t(256,),\n",
    " 'block2.0.conv_bn2.bn.bias',\t(256,),\t 'layer2.0.bn2.bias',\t(256,),\n",
    " 'block2.0.conv_bn2.bn.running_mean',\t(256,),\t 'layer2.0.bn2.running_mean',\t(256,),\n",
    " 'block2.0.conv_bn2.bn.running_var',\t(256,),\t 'layer2.0.bn2.running_var',\t(256,),\n",
    " 'block2.0.conv_bn3.conv.weight',\t(512, 256, 1, 1),\t 'layer2.0.conv3.weight',\t(512, 256, 1, 1),\n",
    " 'block2.0.conv_bn3.bn.weight',\t(512,),\t 'layer2.0.bn3.weight',\t(512,),\n",
    " 'block2.0.conv_bn3.bn.bias',\t(512,),\t 'layer2.0.bn3.bias',\t(512,),\n",
    " 'block2.0.conv_bn3.bn.running_mean',\t(512,),\t 'layer2.0.bn3.running_mean',\t(512,),\n",
    " 'block2.0.conv_bn3.bn.running_var',\t(512,),\t 'layer2.0.bn3.running_var',\t(512,),\n",
    " 'block2.0.scale.fc1.weight',\t(32, 512, 1, 1),\t 'layer2.0.se_module.fc1.weight',\t(32, 512, 1, 1),\n",
    " 'block2.0.scale.fc1.bias',\t(32,),\t 'layer2.0.se_module.fc1.bias',\t(32,),\n",
    " 'block2.0.scale.fc2.weight',\t(512, 32, 1, 1),\t 'layer2.0.se_module.fc2.weight',\t(512, 32, 1, 1),\n",
    " 'block2.0.scale.fc2.bias',\t(512,),\t 'layer2.0.se_module.fc2.bias',\t(512,),\n",
    " 'block2.0.shortcut.conv.weight',\t(512, 256, 1, 1),\t 'layer2.0.downsample.0.weight',\t(512, 256, 1, 1),\n",
    " 'block2.0.shortcut.bn.weight',\t(512,),\t 'layer2.0.downsample.1.weight',\t(512,),\n",
    " 'block2.0.shortcut.bn.bias',\t(512,),\t 'layer2.0.downsample.1.bias',\t(512,),\n",
    " 'block2.0.shortcut.bn.running_mean',\t(512,),\t 'layer2.0.downsample.1.running_mean',\t(512,),\n",
    " 'block2.0.shortcut.bn.running_var',\t(512,),\t 'layer2.0.downsample.1.running_var',\t(512,),\n",
    " 'block2.1.conv_bn1.conv.weight',\t(256, 512, 1, 1),\t 'layer2.1.conv1.weight',\t(256, 512, 1, 1),\n",
    " 'block2.1.conv_bn1.bn.weight',\t(256,),\t 'layer2.1.bn1.weight',\t(256,),\n",
    " 'block2.1.conv_bn1.bn.bias',\t(256,),\t 'layer2.1.bn1.bias',\t(256,),\n",
    " 'block2.1.conv_bn1.bn.running_mean',\t(256,),\t 'layer2.1.bn1.running_mean',\t(256,),\n",
    " 'block2.1.conv_bn1.bn.running_var',\t(256,),\t 'layer2.1.bn1.running_var',\t(256,),\n",
    " 'block2.1.conv_bn2.conv.weight',\t(256, 8, 3, 3),\t 'layer2.1.conv2.weight',\t(256, 8, 3, 3),\n",
    " 'block2.1.conv_bn2.bn.weight',\t(256,),\t 'layer2.1.bn2.weight',\t(256,),\n",
    " 'block2.1.conv_bn2.bn.bias',\t(256,),\t 'layer2.1.bn2.bias',\t(256,),\n",
    " 'block2.1.conv_bn2.bn.running_mean',\t(256,),\t 'layer2.1.bn2.running_mean',\t(256,),\n",
    " 'block2.1.conv_bn2.bn.running_var',\t(256,),\t 'layer2.1.bn2.running_var',\t(256,),\n",
    " 'block2.1.conv_bn3.conv.weight',\t(512, 256, 1, 1),\t 'layer2.1.conv3.weight',\t(512, 256, 1, 1),\n",
    " 'block2.1.conv_bn3.bn.weight',\t(512,),\t 'layer2.1.bn3.weight',\t(512,),\n",
    " 'block2.1.conv_bn3.bn.bias',\t(512,),\t 'layer2.1.bn3.bias',\t(512,),\n",
    " 'block2.1.conv_bn3.bn.running_mean',\t(512,),\t 'layer2.1.bn3.running_mean',\t(512,),\n",
    " 'block2.1.conv_bn3.bn.running_var',\t(512,),\t 'layer2.1.bn3.running_var',\t(512,),\n",
    " 'block2.1.scale.fc1.weight',\t(32, 512, 1, 1),\t 'layer2.1.se_module.fc1.weight',\t(32, 512, 1, 1),\n",
    " 'block2.1.scale.fc1.bias',\t(32,),\t 'layer2.1.se_module.fc1.bias',\t(32,),\n",
    " 'block2.1.scale.fc2.weight',\t(512, 32, 1, 1),\t 'layer2.1.se_module.fc2.weight',\t(512, 32, 1, 1),\n",
    " 'block2.1.scale.fc2.bias',\t(512,),\t 'layer2.1.se_module.fc2.bias',\t(512,),\n",
    " 'block2.2.conv_bn1.conv.weight',\t(256, 512, 1, 1),\t 'layer2.2.conv1.weight',\t(256, 512, 1, 1),\n",
    " 'block2.2.conv_bn1.bn.weight',\t(256,),\t 'layer2.2.bn1.weight',\t(256,),\n",
    " 'block2.2.conv_bn1.bn.bias',\t(256,),\t 'layer2.2.bn1.bias',\t(256,),\n",
    " 'block2.2.conv_bn1.bn.running_mean',\t(256,),\t 'layer2.2.bn1.running_mean',\t(256,),\n",
    " 'block2.2.conv_bn1.bn.running_var',\t(256,),\t 'layer2.2.bn1.running_var',\t(256,),\n",
    " 'block2.2.conv_bn2.conv.weight',\t(256, 8, 3, 3),\t 'layer2.2.conv2.weight',\t(256, 8, 3, 3),\n",
    " 'block2.2.conv_bn2.bn.weight',\t(256,),\t 'layer2.2.bn2.weight',\t(256,),\n",
    " 'block2.2.conv_bn2.bn.bias',\t(256,),\t 'layer2.2.bn2.bias',\t(256,),\n",
    " 'block2.2.conv_bn2.bn.running_mean',\t(256,),\t 'layer2.2.bn2.running_mean',\t(256,),\n",
    " 'block2.2.conv_bn2.bn.running_var',\t(256,),\t 'layer2.2.bn2.running_var',\t(256,),\n",
    " 'block2.2.conv_bn3.conv.weight',\t(512, 256, 1, 1),\t 'layer2.2.conv3.weight',\t(512, 256, 1, 1),\n",
    " 'block2.2.conv_bn3.bn.weight',\t(512,),\t 'layer2.2.bn3.weight',\t(512,),\n",
    " 'block2.2.conv_bn3.bn.bias',\t(512,),\t 'layer2.2.bn3.bias',\t(512,),\n",
    " 'block2.2.conv_bn3.bn.running_mean',\t(512,),\t 'layer2.2.bn3.running_mean',\t(512,),\n",
    " 'block2.2.conv_bn3.bn.running_var',\t(512,),\t 'layer2.2.bn3.running_var',\t(512,),\n",
    " 'block2.2.scale.fc1.weight',\t(32, 512, 1, 1),\t 'layer2.2.se_module.fc1.weight',\t(32, 512, 1, 1),\n",
    " 'block2.2.scale.fc1.bias',\t(32,),\t 'layer2.2.se_module.fc1.bias',\t(32,),\n",
    " 'block2.2.scale.fc2.weight',\t(512, 32, 1, 1),\t 'layer2.2.se_module.fc2.weight',\t(512, 32, 1, 1),\n",
    " 'block2.2.scale.fc2.bias',\t(512,),\t 'layer2.2.se_module.fc2.bias',\t(512,),\n",
    " 'block2.3.conv_bn1.conv.weight',\t(256, 512, 1, 1),\t 'layer2.3.conv1.weight',\t(256, 512, 1, 1),\n",
    " 'block2.3.conv_bn1.bn.weight',\t(256,),\t 'layer2.3.bn1.weight',\t(256,),\n",
    " 'block2.3.conv_bn1.bn.bias',\t(256,),\t 'layer2.3.bn1.bias',\t(256,),\n",
    " 'block2.3.conv_bn1.bn.running_mean',\t(256,),\t 'layer2.3.bn1.running_mean',\t(256,),\n",
    " 'block2.3.conv_bn1.bn.running_var',\t(256,),\t 'layer2.3.bn1.running_var',\t(256,),\n",
    " 'block2.3.conv_bn2.conv.weight',\t(256, 8, 3, 3),\t 'layer2.3.conv2.weight',\t(256, 8, 3, 3),\n",
    " 'block2.3.conv_bn2.bn.weight',\t(256,),\t 'layer2.3.bn2.weight',\t(256,),\n",
    " 'block2.3.conv_bn2.bn.bias',\t(256,),\t 'layer2.3.bn2.bias',\t(256,),\n",
    " 'block2.3.conv_bn2.bn.running_mean',\t(256,),\t 'layer2.3.bn2.running_mean',\t(256,),\n",
    " 'block2.3.conv_bn2.bn.running_var',\t(256,),\t 'layer2.3.bn2.running_var',\t(256,),\n",
    " 'block2.3.conv_bn3.conv.weight',\t(512, 256, 1, 1),\t 'layer2.3.conv3.weight',\t(512, 256, 1, 1),\n",
    " 'block2.3.conv_bn3.bn.weight',\t(512,),\t 'layer2.3.bn3.weight',\t(512,),\n",
    " 'block2.3.conv_bn3.bn.bias',\t(512,),\t 'layer2.3.bn3.bias',\t(512,),\n",
    " 'block2.3.conv_bn3.bn.running_mean',\t(512,),\t 'layer2.3.bn3.running_mean',\t(512,),\n",
    " 'block2.3.conv_bn3.bn.running_var',\t(512,),\t 'layer2.3.bn3.running_var',\t(512,),\n",
    " 'block2.3.scale.fc1.weight',\t(32, 512, 1, 1),\t 'layer2.3.se_module.fc1.weight',\t(32, 512, 1, 1),\n",
    " 'block2.3.scale.fc1.bias',\t(32,),\t 'layer2.3.se_module.fc1.bias',\t(32,),\n",
    " 'block2.3.scale.fc2.weight',\t(512, 32, 1, 1),\t 'layer2.3.se_module.fc2.weight',\t(512, 32, 1, 1),\n",
    " 'block2.3.scale.fc2.bias',\t(512,),\t 'layer2.3.se_module.fc2.bias',\t(512,),\n",
    " 'block3.0.conv_bn1.conv.weight',\t(512, 512, 1, 1),\t 'layer3.0.conv1.weight',\t(512, 512, 1, 1),\n",
    " 'block3.0.conv_bn1.bn.weight',\t(512,),\t 'layer3.0.bn1.weight',\t(512,),\n",
    " 'block3.0.conv_bn1.bn.bias',\t(512,),\t 'layer3.0.bn1.bias',\t(512,),\n",
    " 'block3.0.conv_bn1.bn.running_mean',\t(512,),\t 'layer3.0.bn1.running_mean',\t(512,),\n",
    " 'block3.0.conv_bn1.bn.running_var',\t(512,),\t 'layer3.0.bn1.running_var',\t(512,),\n",
    " 'block3.0.conv_bn2.conv.weight',\t(512, 16, 3, 3),\t 'layer3.0.conv2.weight',\t(512, 16, 3, 3),\n",
    " 'block3.0.conv_bn2.bn.weight',\t(512,),\t 'layer3.0.bn2.weight',\t(512,),\n",
    " 'block3.0.conv_bn2.bn.bias',\t(512,),\t 'layer3.0.bn2.bias',\t(512,),\n",
    " 'block3.0.conv_bn2.bn.running_mean',\t(512,),\t 'layer3.0.bn2.running_mean',\t(512,),\n",
    " 'block3.0.conv_bn2.bn.running_var',\t(512,),\t 'layer3.0.bn2.running_var',\t(512,),\n",
    " 'block3.0.conv_bn3.conv.weight',\t(1024, 512, 1, 1),\t 'layer3.0.conv3.weight',\t(1024, 512, 1, 1),\n",
    " 'block3.0.conv_bn3.bn.weight',\t(1024,),\t 'layer3.0.bn3.weight',\t(1024,),\n",
    " 'block3.0.conv_bn3.bn.bias',\t(1024,),\t 'layer3.0.bn3.bias',\t(1024,),\n",
    " 'block3.0.conv_bn3.bn.running_mean',\t(1024,),\t 'layer3.0.bn3.running_mean',\t(1024,),\n",
    " 'block3.0.conv_bn3.bn.running_var',\t(1024,),\t 'layer3.0.bn3.running_var',\t(1024,),\n",
    " 'block3.0.scale.fc1.weight',\t(64, 1024, 1, 1),\t 'layer3.0.se_module.fc1.weight',\t(64, 1024, 1, 1),\n",
    " 'block3.0.scale.fc1.bias',\t(64,),\t 'layer3.0.se_module.fc1.bias',\t(64,),\n",
    " 'block3.0.scale.fc2.weight',\t(1024, 64, 1, 1),\t 'layer3.0.se_module.fc2.weight',\t(1024, 64, 1, 1),\n",
    " 'block3.0.scale.fc2.bias',\t(1024,),\t 'layer3.0.se_module.fc2.bias',\t(1024,),\n",
    " 'block3.0.shortcut.conv.weight',\t(1024, 512, 1, 1),\t 'layer3.0.downsample.0.weight',\t(1024, 512, 1, 1),\n",
    " 'block3.0.shortcut.bn.weight',\t(1024,),\t 'layer3.0.downsample.1.weight',\t(1024,),\n",
    " 'block3.0.shortcut.bn.bias',\t(1024,),\t 'layer3.0.downsample.1.bias',\t(1024,),\n",
    " 'block3.0.shortcut.bn.running_mean',\t(1024,),\t 'layer3.0.downsample.1.running_mean',\t(1024,),\n",
    " 'block3.0.shortcut.bn.running_var',\t(1024,),\t 'layer3.0.downsample.1.running_var',\t(1024,),\n",
    " 'block3.1.conv_bn1.conv.weight',\t(512, 1024, 1, 1),\t 'layer3.1.conv1.weight',\t(512, 1024, 1, 1),\n",
    " 'block3.1.conv_bn1.bn.weight',\t(512,),\t 'layer3.1.bn1.weight',\t(512,),\n",
    " 'block3.1.conv_bn1.bn.bias',\t(512,),\t 'layer3.1.bn1.bias',\t(512,),\n",
    " 'block3.1.conv_bn1.bn.running_mean',\t(512,),\t 'layer3.1.bn1.running_mean',\t(512,),\n",
    " 'block3.1.conv_bn1.bn.running_var',\t(512,),\t 'layer3.1.bn1.running_var',\t(512,),\n",
    " 'block3.1.conv_bn2.conv.weight',\t(512, 16, 3, 3),\t 'layer3.1.conv2.weight',\t(512, 16, 3, 3),\n",
    " 'block3.1.conv_bn2.bn.weight',\t(512,),\t 'layer3.1.bn2.weight',\t(512,),\n",
    " 'block3.1.conv_bn2.bn.bias',\t(512,),\t 'layer3.1.bn2.bias',\t(512,),\n",
    " 'block3.1.conv_bn2.bn.running_mean',\t(512,),\t 'layer3.1.bn2.running_mean',\t(512,),\n",
    " 'block3.1.conv_bn2.bn.running_var',\t(512,),\t 'layer3.1.bn2.running_var',\t(512,),\n",
    " 'block3.1.conv_bn3.conv.weight',\t(1024, 512, 1, 1),\t 'layer3.1.conv3.weight',\t(1024, 512, 1, 1),\n",
    " 'block3.1.conv_bn3.bn.weight',\t(1024,),\t 'layer3.1.bn3.weight',\t(1024,),\n",
    " 'block3.1.conv_bn3.bn.bias',\t(1024,),\t 'layer3.1.bn3.bias',\t(1024,),\n",
    " 'block3.1.conv_bn3.bn.running_mean',\t(1024,),\t 'layer3.1.bn3.running_mean',\t(1024,),\n",
    " 'block3.1.conv_bn3.bn.running_var',\t(1024,),\t 'layer3.1.bn3.running_var',\t(1024,),\n",
    " 'block3.1.scale.fc1.weight',\t(64, 1024, 1, 1),\t 'layer3.1.se_module.fc1.weight',\t(64, 1024, 1, 1),\n",
    " 'block3.1.scale.fc1.bias',\t(64,),\t 'layer3.1.se_module.fc1.bias',\t(64,),\n",
    " 'block3.1.scale.fc2.weight',\t(1024, 64, 1, 1),\t 'layer3.1.se_module.fc2.weight',\t(1024, 64, 1, 1),\n",
    " 'block3.1.scale.fc2.bias',\t(1024,),\t 'layer3.1.se_module.fc2.bias',\t(1024,),\n",
    " 'block3.2.conv_bn1.conv.weight',\t(512, 1024, 1, 1),\t 'layer3.2.conv1.weight',\t(512, 1024, 1, 1),\n",
    " 'block3.2.conv_bn1.bn.weight',\t(512,),\t 'layer3.2.bn1.weight',\t(512,),\n",
    " 'block3.2.conv_bn1.bn.bias',\t(512,),\t 'layer3.2.bn1.bias',\t(512,),\n",
    " 'block3.2.conv_bn1.bn.running_mean',\t(512,),\t 'layer3.2.bn1.running_mean',\t(512,),\n",
    " 'block3.2.conv_bn1.bn.running_var',\t(512,),\t 'layer3.2.bn1.running_var',\t(512,),\n",
    " 'block3.2.conv_bn2.conv.weight',\t(512, 16, 3, 3),\t 'layer3.2.conv2.weight',\t(512, 16, 3, 3),\n",
    " 'block3.2.conv_bn2.bn.weight',\t(512,),\t 'layer3.2.bn2.weight',\t(512,),\n",
    " 'block3.2.conv_bn2.bn.bias',\t(512,),\t 'layer3.2.bn2.bias',\t(512,),\n",
    " 'block3.2.conv_bn2.bn.running_mean',\t(512,),\t 'layer3.2.bn2.running_mean',\t(512,),\n",
    " 'block3.2.conv_bn2.bn.running_var',\t(512,),\t 'layer3.2.bn2.running_var',\t(512,),\n",
    " 'block3.2.conv_bn3.conv.weight',\t(1024, 512, 1, 1),\t 'layer3.2.conv3.weight',\t(1024, 512, 1, 1),\n",
    " 'block3.2.conv_bn3.bn.weight',\t(1024,),\t 'layer3.2.bn3.weight',\t(1024,),\n",
    " 'block3.2.conv_bn3.bn.bias',\t(1024,),\t 'layer3.2.bn3.bias',\t(1024,),\n",
    " 'block3.2.conv_bn3.bn.running_mean',\t(1024,),\t 'layer3.2.bn3.running_mean',\t(1024,),\n",
    " 'block3.2.conv_bn3.bn.running_var',\t(1024,),\t 'layer3.2.bn3.running_var',\t(1024,),\n",
    " 'block3.2.scale.fc1.weight',\t(64, 1024, 1, 1),\t 'layer3.2.se_module.fc1.weight',\t(64, 1024, 1, 1),\n",
    " 'block3.2.scale.fc1.bias',\t(64,),\t 'layer3.2.se_module.fc1.bias',\t(64,),\n",
    " 'block3.2.scale.fc2.weight',\t(1024, 64, 1, 1),\t 'layer3.2.se_module.fc2.weight',\t(1024, 64, 1, 1),\n",
    " 'block3.2.scale.fc2.bias',\t(1024,),\t 'layer3.2.se_module.fc2.bias',\t(1024,),\n",
    " 'block3.3.conv_bn1.conv.weight',\t(512, 1024, 1, 1),\t 'layer3.3.conv1.weight',\t(512, 1024, 1, 1),\n",
    " 'block3.3.conv_bn1.bn.weight',\t(512,),\t 'layer3.3.bn1.weight',\t(512,),\n",
    " 'block3.3.conv_bn1.bn.bias',\t(512,),\t 'layer3.3.bn1.bias',\t(512,),\n",
    " 'block3.3.conv_bn1.bn.running_mean',\t(512,),\t 'layer3.3.bn1.running_mean',\t(512,),\n",
    " 'block3.3.conv_bn1.bn.running_var',\t(512,),\t 'layer3.3.bn1.running_var',\t(512,),\n",
    " 'block3.3.conv_bn2.conv.weight',\t(512, 16, 3, 3),\t 'layer3.3.conv2.weight',\t(512, 16, 3, 3),\n",
    " 'block3.3.conv_bn2.bn.weight',\t(512,),\t 'layer3.3.bn2.weight',\t(512,),\n",
    " 'block3.3.conv_bn2.bn.bias',\t(512,),\t 'layer3.3.bn2.bias',\t(512,),\n",
    " 'block3.3.conv_bn2.bn.running_mean',\t(512,),\t 'layer3.3.bn2.running_mean',\t(512,),\n",
    " 'block3.3.conv_bn2.bn.running_var',\t(512,),\t 'layer3.3.bn2.running_var',\t(512,),\n",
    " 'block3.3.conv_bn3.conv.weight',\t(1024, 512, 1, 1),\t 'layer3.3.conv3.weight',\t(1024, 512, 1, 1),\n",
    " 'block3.3.conv_bn3.bn.weight',\t(1024,),\t 'layer3.3.bn3.weight',\t(1024,),\n",
    " 'block3.3.conv_bn3.bn.bias',\t(1024,),\t 'layer3.3.bn3.bias',\t(1024,),\n",
    " 'block3.3.conv_bn3.bn.running_mean',\t(1024,),\t 'layer3.3.bn3.running_mean',\t(1024,),\n",
    " 'block3.3.conv_bn3.bn.running_var',\t(1024,),\t 'layer3.3.bn3.running_var',\t(1024,),\n",
    " 'block3.3.scale.fc1.weight',\t(64, 1024, 1, 1),\t 'layer3.3.se_module.fc1.weight',\t(64, 1024, 1, 1),\n",
    " 'block3.3.scale.fc1.bias',\t(64,),\t 'layer3.3.se_module.fc1.bias',\t(64,),\n",
    " 'block3.3.scale.fc2.weight',\t(1024, 64, 1, 1),\t 'layer3.3.se_module.fc2.weight',\t(1024, 64, 1, 1),\n",
    " 'block3.3.scale.fc2.bias',\t(1024,),\t 'layer3.3.se_module.fc2.bias',\t(1024,),\n",
    " 'block3.4.conv_bn1.conv.weight',\t(512, 1024, 1, 1),\t 'layer3.4.conv1.weight',\t(512, 1024, 1, 1),\n",
    " 'block3.4.conv_bn1.bn.weight',\t(512,),\t 'layer3.4.bn1.weight',\t(512,),\n",
    " 'block3.4.conv_bn1.bn.bias',\t(512,),\t 'layer3.4.bn1.bias',\t(512,),\n",
    " 'block3.4.conv_bn1.bn.running_mean',\t(512,),\t 'layer3.4.bn1.running_mean',\t(512,),\n",
    " 'block3.4.conv_bn1.bn.running_var',\t(512,),\t 'layer3.4.bn1.running_var',\t(512,),\n",
    " 'block3.4.conv_bn2.conv.weight',\t(512, 16, 3, 3),\t 'layer3.4.conv2.weight',\t(512, 16, 3, 3),\n",
    " 'block3.4.conv_bn2.bn.weight',\t(512,),\t 'layer3.4.bn2.weight',\t(512,),\n",
    " 'block3.4.conv_bn2.bn.bias',\t(512,),\t 'layer3.4.bn2.bias',\t(512,),\n",
    " 'block3.4.conv_bn2.bn.running_mean',\t(512,),\t 'layer3.4.bn2.running_mean',\t(512,),\n",
    " 'block3.4.conv_bn2.bn.running_var',\t(512,),\t 'layer3.4.bn2.running_var',\t(512,),\n",
    " 'block3.4.conv_bn3.conv.weight',\t(1024, 512, 1, 1),\t 'layer3.4.conv3.weight',\t(1024, 512, 1, 1),\n",
    " 'block3.4.conv_bn3.bn.weight',\t(1024,),\t 'layer3.4.bn3.weight',\t(1024,),\n",
    " 'block3.4.conv_bn3.bn.bias',\t(1024,),\t 'layer3.4.bn3.bias',\t(1024,),\n",
    " 'block3.4.conv_bn3.bn.running_mean',\t(1024,),\t 'layer3.4.bn3.running_mean',\t(1024,),\n",
    " 'block3.4.conv_bn3.bn.running_var',\t(1024,),\t 'layer3.4.bn3.running_var',\t(1024,),\n",
    " 'block3.4.scale.fc1.weight',\t(64, 1024, 1, 1),\t 'layer3.4.se_module.fc1.weight',\t(64, 1024, 1, 1),\n",
    " 'block3.4.scale.fc1.bias',\t(64,),\t 'layer3.4.se_module.fc1.bias',\t(64,),\n",
    " 'block3.4.scale.fc2.weight',\t(1024, 64, 1, 1),\t 'layer3.4.se_module.fc2.weight',\t(1024, 64, 1, 1),\n",
    " 'block3.4.scale.fc2.bias',\t(1024,),\t 'layer3.4.se_module.fc2.bias',\t(1024,),\n",
    " 'block3.5.conv_bn1.conv.weight',\t(512, 1024, 1, 1),\t 'layer3.5.conv1.weight',\t(512, 1024, 1, 1),\n",
    " 'block3.5.conv_bn1.bn.weight',\t(512,),\t 'layer3.5.bn1.weight',\t(512,),\n",
    " 'block3.5.conv_bn1.bn.bias',\t(512,),\t 'layer3.5.bn1.bias',\t(512,),\n",
    " 'block3.5.conv_bn1.bn.running_mean',\t(512,),\t 'layer3.5.bn1.running_mean',\t(512,),\n",
    " 'block3.5.conv_bn1.bn.running_var',\t(512,),\t 'layer3.5.bn1.running_var',\t(512,),\n",
    " 'block3.5.conv_bn2.conv.weight',\t(512, 16, 3, 3),\t 'layer3.5.conv2.weight',\t(512, 16, 3, 3),\n",
    " 'block3.5.conv_bn2.bn.weight',\t(512,),\t 'layer3.5.bn2.weight',\t(512,),\n",
    " 'block3.5.conv_bn2.bn.bias',\t(512,),\t 'layer3.5.bn2.bias',\t(512,),\n",
    " 'block3.5.conv_bn2.bn.running_mean',\t(512,),\t 'layer3.5.bn2.running_mean',\t(512,),\n",
    " 'block3.5.conv_bn2.bn.running_var',\t(512,),\t 'layer3.5.bn2.running_var',\t(512,),\n",
    " 'block3.5.conv_bn3.conv.weight',\t(1024, 512, 1, 1),\t 'layer3.5.conv3.weight',\t(1024, 512, 1, 1),\n",
    " 'block3.5.conv_bn3.bn.weight',\t(1024,),\t 'layer3.5.bn3.weight',\t(1024,),\n",
    " 'block3.5.conv_bn3.bn.bias',\t(1024,),\t 'layer3.5.bn3.bias',\t(1024,),\n",
    " 'block3.5.conv_bn3.bn.running_mean',\t(1024,),\t 'layer3.5.bn3.running_mean',\t(1024,),\n",
    " 'block3.5.conv_bn3.bn.running_var',\t(1024,),\t 'layer3.5.bn3.running_var',\t(1024,),\n",
    " 'block3.5.scale.fc1.weight',\t(64, 1024, 1, 1),\t 'layer3.5.se_module.fc1.weight',\t(64, 1024, 1, 1),\n",
    " 'block3.5.scale.fc1.bias',\t(64,),\t 'layer3.5.se_module.fc1.bias',\t(64,),\n",
    " 'block3.5.scale.fc2.weight',\t(1024, 64, 1, 1),\t 'layer3.5.se_module.fc2.weight',\t(1024, 64, 1, 1),\n",
    " 'block3.5.scale.fc2.bias',\t(1024,),\t 'layer3.5.se_module.fc2.bias',\t(1024,),\n",
    " 'block4.0.conv_bn1.conv.weight',\t(1024, 1024, 1, 1),\t 'layer4.0.conv1.weight',\t(1024, 1024, 1, 1),\n",
    " 'block4.0.conv_bn1.bn.weight',\t(1024,),\t 'layer4.0.bn1.weight',\t(1024,),\n",
    " 'block4.0.conv_bn1.bn.bias',\t(1024,),\t 'layer4.0.bn1.bias',\t(1024,),\n",
    " 'block4.0.conv_bn1.bn.running_mean',\t(1024,),\t 'layer4.0.bn1.running_mean',\t(1024,),\n",
    " 'block4.0.conv_bn1.bn.running_var',\t(1024,),\t 'layer4.0.bn1.running_var',\t(1024,),\n",
    " 'block4.0.conv_bn2.conv.weight',\t(1024, 32, 3, 3),\t 'layer4.0.conv2.weight',\t(1024, 32, 3, 3),\n",
    " 'block4.0.conv_bn2.bn.weight',\t(1024,),\t 'layer4.0.bn2.weight',\t(1024,),\n",
    " 'block4.0.conv_bn2.bn.bias',\t(1024,),\t 'layer4.0.bn2.bias',\t(1024,),\n",
    " 'block4.0.conv_bn2.bn.running_mean',\t(1024,),\t 'layer4.0.bn2.running_mean',\t(1024,),\n",
    " 'block4.0.conv_bn2.bn.running_var',\t(1024,),\t 'layer4.0.bn2.running_var',\t(1024,),\n",
    " 'block4.0.conv_bn3.conv.weight',\t(2048, 1024, 1, 1),\t 'layer4.0.conv3.weight',\t(2048, 1024, 1, 1),\n",
    " 'block4.0.conv_bn3.bn.weight',\t(2048,),\t 'layer4.0.bn3.weight',\t(2048,),\n",
    " 'block4.0.conv_bn3.bn.bias',\t(2048,),\t 'layer4.0.bn3.bias',\t(2048,),\n",
    " 'block4.0.conv_bn3.bn.running_mean',\t(2048,),\t 'layer4.0.bn3.running_mean',\t(2048,),\n",
    " 'block4.0.conv_bn3.bn.running_var',\t(2048,),\t 'layer4.0.bn3.running_var',\t(2048,),\n",
    " 'block4.0.scale.fc1.weight',\t(128, 2048, 1, 1),\t 'layer4.0.se_module.fc1.weight',\t(128, 2048, 1, 1),\n",
    " 'block4.0.scale.fc1.bias',\t(128,),\t 'layer4.0.se_module.fc1.bias',\t(128,),\n",
    " 'block4.0.scale.fc2.weight',\t(2048, 128, 1, 1),\t 'layer4.0.se_module.fc2.weight',\t(2048, 128, 1, 1),\n",
    " 'block4.0.scale.fc2.bias',\t(2048,),\t 'layer4.0.se_module.fc2.bias',\t(2048,),\n",
    " 'block4.0.shortcut.conv.weight',\t(2048, 1024, 1, 1),\t 'layer4.0.downsample.0.weight',\t(2048, 1024, 1, 1),\n",
    " 'block4.0.shortcut.bn.weight',\t(2048,),\t 'layer4.0.downsample.1.weight',\t(2048,),\n",
    " 'block4.0.shortcut.bn.bias',\t(2048,),\t 'layer4.0.downsample.1.bias',\t(2048,),\n",
    " 'block4.0.shortcut.bn.running_mean',\t(2048,),\t 'layer4.0.downsample.1.running_mean',\t(2048,),\n",
    " 'block4.0.shortcut.bn.running_var',\t(2048,),\t 'layer4.0.downsample.1.running_var',\t(2048,),\n",
    " 'block4.1.conv_bn1.conv.weight',\t(1024, 2048, 1, 1),\t 'layer4.1.conv1.weight',\t(1024, 2048, 1, 1),\n",
    " 'block4.1.conv_bn1.bn.weight',\t(1024,),\t 'layer4.1.bn1.weight',\t(1024,),\n",
    " 'block4.1.conv_bn1.bn.bias',\t(1024,),\t 'layer4.1.bn1.bias',\t(1024,),\n",
    " 'block4.1.conv_bn1.bn.running_mean',\t(1024,),\t 'layer4.1.bn1.running_mean',\t(1024,),\n",
    " 'block4.1.conv_bn1.bn.running_var',\t(1024,),\t 'layer4.1.bn1.running_var',\t(1024,),\n",
    " 'block4.1.conv_bn2.conv.weight',\t(1024, 32, 3, 3),\t 'layer4.1.conv2.weight',\t(1024, 32, 3, 3),\n",
    " 'block4.1.conv_bn2.bn.weight',\t(1024,),\t 'layer4.1.bn2.weight',\t(1024,),\n",
    " 'block4.1.conv_bn2.bn.bias',\t(1024,),\t 'layer4.1.bn2.bias',\t(1024,),\n",
    " 'block4.1.conv_bn2.bn.running_mean',\t(1024,),\t 'layer4.1.bn2.running_mean',\t(1024,),\n",
    " 'block4.1.conv_bn2.bn.running_var',\t(1024,),\t 'layer4.1.bn2.running_var',\t(1024,),\n",
    " 'block4.1.conv_bn3.conv.weight',\t(2048, 1024, 1, 1),\t 'layer4.1.conv3.weight',\t(2048, 1024, 1, 1),\n",
    " 'block4.1.conv_bn3.bn.weight',\t(2048,),\t 'layer4.1.bn3.weight',\t(2048,),\n",
    " 'block4.1.conv_bn3.bn.bias',\t(2048,),\t 'layer4.1.bn3.bias',\t(2048,),\n",
    " 'block4.1.conv_bn3.bn.running_mean',\t(2048,),\t 'layer4.1.bn3.running_mean',\t(2048,),\n",
    " 'block4.1.conv_bn3.bn.running_var',\t(2048,),\t 'layer4.1.bn3.running_var',\t(2048,),\n",
    " 'block4.1.scale.fc1.weight',\t(128, 2048, 1, 1),\t 'layer4.1.se_module.fc1.weight',\t(128, 2048, 1, 1),\n",
    " 'block4.1.scale.fc1.bias',\t(128,),\t 'layer4.1.se_module.fc1.bias',\t(128,),\n",
    " 'block4.1.scale.fc2.weight',\t(2048, 128, 1, 1),\t 'layer4.1.se_module.fc2.weight',\t(2048, 128, 1, 1),\n",
    " 'block4.1.scale.fc2.bias',\t(2048,),\t 'layer4.1.se_module.fc2.bias',\t(2048,),\n",
    " 'block4.2.conv_bn1.conv.weight',\t(1024, 2048, 1, 1),\t 'layer4.2.conv1.weight',\t(1024, 2048, 1, 1),\n",
    " 'block4.2.conv_bn1.bn.weight',\t(1024,),\t 'layer4.2.bn1.weight',\t(1024,),\n",
    " 'block4.2.conv_bn1.bn.bias',\t(1024,),\t 'layer4.2.bn1.bias',\t(1024,),\n",
    " 'block4.2.conv_bn1.bn.running_mean',\t(1024,),\t 'layer4.2.bn1.running_mean',\t(1024,),\n",
    " 'block4.2.conv_bn1.bn.running_var',\t(1024,),\t 'layer4.2.bn1.running_var',\t(1024,),\n",
    " 'block4.2.conv_bn2.conv.weight',\t(1024, 32, 3, 3),\t 'layer4.2.conv2.weight',\t(1024, 32, 3, 3),\n",
    " 'block4.2.conv_bn2.bn.weight',\t(1024,),\t 'layer4.2.bn2.weight',\t(1024,),\n",
    " 'block4.2.conv_bn2.bn.bias',\t(1024,),\t 'layer4.2.bn2.bias',\t(1024,),\n",
    " 'block4.2.conv_bn2.bn.running_mean',\t(1024,),\t 'layer4.2.bn2.running_mean',\t(1024,),\n",
    " 'block4.2.conv_bn2.bn.running_var',\t(1024,),\t 'layer4.2.bn2.running_var',\t(1024,),\n",
    " 'block4.2.conv_bn3.conv.weight',\t(2048, 1024, 1, 1),\t 'layer4.2.conv3.weight',\t(2048, 1024, 1, 1),\n",
    " 'block4.2.conv_bn3.bn.weight',\t(2048,),\t 'layer4.2.bn3.weight',\t(2048,),\n",
    " 'block4.2.conv_bn3.bn.bias',\t(2048,),\t 'layer4.2.bn3.bias',\t(2048,),\n",
    " 'block4.2.conv_bn3.bn.running_mean',\t(2048,),\t 'layer4.2.bn3.running_mean',\t(2048,),\n",
    " 'block4.2.conv_bn3.bn.running_var',\t(2048,),\t 'layer4.2.bn3.running_var',\t(2048,),\n",
    " 'block4.2.scale.fc1.weight',\t(128, 2048, 1, 1),\t 'layer4.2.se_module.fc1.weight',\t(128, 2048, 1, 1),\n",
    " 'block4.2.scale.fc1.bias',\t(128,),\t 'layer4.2.se_module.fc1.bias',\t(128,),\n",
    " 'block4.2.scale.fc2.weight',\t(2048, 128, 1, 1),\t 'layer4.2.se_module.fc2.weight',\t(2048, 128, 1, 1),\n",
    " 'block4.2.scale.fc2.bias',\t(2048,),\t 'layer4.2.se_module.fc2.bias',\t(2048,),\n",
    " 'logit.weight',\t(1000, 1280),\t 'last_linear.weight',\t(1000, 2048),\n",
    " 'logit.bias',\t(1000,),\t 'last_linear.bias',\t(1000,),\n",
    "]"
   ]
  },
  {
   "cell_type": "code",
   "execution_count": 23,
   "metadata": {},
   "outputs": [],
   "source": [
    "def load_pretrain(net, skip=[], pretrain_file=PRETRAIN_FILE, conversion=CONVERSION, is_print=True):\n",
    "\n",
    "    #raise NotImplementedError\n",
    "    print('\\tload pretrain_file: %s'%pretrain_file)\n",
    "\n",
    "    #pretrain_state_dict = torch.load(pretrain_file)\n",
    "    pretrain_state_dict = torch.load(pretrain_file, map_location=lambda storage, loc: storage)\n",
    "    state_dict = net.state_dict()\n",
    "\n",
    "    i = 0\n",
    "    conversion = np.array(CONVERSION).reshape(-1,4)\n",
    "    for key,_,pretrain_key,_ in conversion:\n",
    "        if any(s in key for s in\n",
    "            ['.num_batches_tracked',]+skip):\n",
    "            continue\n",
    "\n",
    "        #print('\\t\\t',key)\n",
    "        if is_print:\n",
    "            print('\\t\\t','%-48s  %-24s  <---  %-32s  %-24s'%(\n",
    "                key, str(state_dict[key].shape),\n",
    "                pretrain_key, str(pretrain_state_dict[pretrain_key].shape),\n",
    "            ))\n",
    "        i = i+1\n",
    "\n",
    "        state_dict[key] = pretrain_state_dict[pretrain_key]\n",
    "\n",
    "\n",
    "    net.load_state_dict(state_dict)\n",
    "    print('')\n",
    "    print('len(pretrain_state_dict.keys()) = %d'%len(pretrain_state_dict.keys()))\n",
    "    print('len(state_dict.keys())          = %d'%len(state_dict.keys()))\n",
    "    print('loaded    = %d'%i)\n",
    "    print('')"
   ]
  },
  {
   "cell_type": "code",
   "execution_count": 24,
   "metadata": {},
   "outputs": [],
   "source": [
    "class DropBlock2D(nn.Module):\n",
    "    r\"\"\"Randomly zeroes 2D spatial blocks of the input tensor.\n",
    "    As described in the paper\n",
    "    `DropBlock: A regularization method for convolutional networks`_ ,\n",
    "    dropping whole blocks of feature map allows to remove semantic\n",
    "    information as compared to regular dropout.\n",
    "    Args:\n",
    "        drop_prob (float): probability of an element to be dropped.\n",
    "        block_size (int): size of the block to drop\n",
    "    Shape:\n",
    "        - Input: `(N, C, H, W)`\n",
    "        - Output: `(N, C, H, W)`\n",
    "    .. _DropBlock: A regularization method for convolutional networks:\n",
    "       https://arxiv.org/abs/1810.12890\n",
    "    \"\"\"\n",
    "\n",
    "    def __init__(self, drop_prob, block_size):\n",
    "        super(DropBlock2D, self).__init__()\n",
    "\n",
    "        self.drop_prob = drop_prob\n",
    "        self.block_size = block_size\n",
    "\n",
    "    def forward(self, x):\n",
    "        # shape: (bsize, channels, height, width)\n",
    "\n",
    "        assert x.dim() == 4, \\\n",
    "            \"Expected input with 4 dimensions (bsize, channels, height, width)\"\n",
    "\n",
    "        if not self.training or self.drop_prob == 0.:\n",
    "            return x\n",
    "        else:\n",
    "            # get gamma value\n",
    "            gamma = self._compute_gamma(x)\n",
    "\n",
    "            # sample mask\n",
    "            mask = (torch.rand(x.shape[0], *x.shape[2:]) < gamma).float()\n",
    "\n",
    "            # place mask on input device\n",
    "            mask = mask.to(x.device)\n",
    "\n",
    "            # compute block mask\n",
    "            block_mask = self._compute_block_mask(mask)\n",
    "\n",
    "            # apply block mask\n",
    "            out = x * block_mask[:, None, :, :]\n",
    "\n",
    "            # scale output\n",
    "            out = out * block_mask.numel() / block_mask.sum()\n",
    "\n",
    "            return out\n",
    "\n",
    "    def _compute_block_mask(self, mask):\n",
    "        block_mask = F.max_pool2d(input=mask[:, None, :, :],\n",
    "                                  kernel_size=(self.block_size, self.block_size),\n",
    "                                  stride=(1, 1),\n",
    "                                  padding=self.block_size // 2)\n",
    "\n",
    "        if self.block_size % 2 == 0:\n",
    "            block_mask = block_mask[:, :, :-1, :-1]\n",
    "\n",
    "        block_mask = 1 - block_mask.squeeze(1)\n",
    "\n",
    "        return block_mask\n",
    "\n",
    "    def _compute_gamma(self, x):\n",
    "        return self.drop_prob / (self.block_size ** 2)\n",
    "    \n",
    "    \n",
    "class LinearScheduler(nn.Module):\n",
    "    def __init__(self, dropblock, start_value, stop_value, nr_steps):\n",
    "        super(LinearScheduler, self).__init__()\n",
    "        self.dropblock = dropblock\n",
    "        self.i = 0\n",
    "        self.drop_values = np.linspace(start=start_value, stop=stop_value, num=nr_steps)\n",
    "\n",
    "    def forward(self, x):\n",
    "        return self.dropblock(x)\n",
    "\n",
    "    def step(self):\n",
    "        if self.i < len(self.drop_values):\n",
    "            self.dropblock.drop_prob = self.drop_values[self.i]\n",
    "\n",
    "        self.i += 1"
   ]
  },
  {
   "cell_type": "code",
   "execution_count": 25,
   "metadata": {},
   "outputs": [],
   "source": [
    "class RGB(nn.Module):\n",
    "    def __init__(self,):\n",
    "        super(RGB, self).__init__()\n",
    "        self.register_buffer('mean', torch.zeros(1,3,1,1))\n",
    "        self.register_buffer('std', torch.ones(1,3,1,1))\n",
    "        self.mean.data = torch.FloatTensor(IMAGE_RGB_MEAN).view(self.mean.shape)\n",
    "        self.std.data = torch.FloatTensor(IMAGE_RGB_STD).view(self.std.shape)\n",
    "\n",
    "    def forward(self, x):\n",
    "        x = (x-self.mean)/self.std\n",
    "        return x\n",
    "    \n",
    "\n",
    "class ConvBn2d(nn.Module):\n",
    "\n",
    "    def __init__(self, in_channel, out_channel, kernel_size=3, padding=1, dilation=1, stride=1, groups=1, is_bn=True):\n",
    "        super(ConvBn2d, self).__init__()\n",
    "        self.conv = nn.Conv2d(in_channel, out_channel, kernel_size=kernel_size, padding=padding, stride=stride, dilation=dilation, groups=groups, bias=False)\n",
    "        self.bn   = nn.BatchNorm2d(out_channel, eps=1e-5)\n",
    "\n",
    "    def forward(self,x):\n",
    "        x = self.conv(x)\n",
    "        x = self.bn(x)\n",
    "        return x\n",
    "\n",
    "\n",
    "class SqueezeExcite(nn.Module):\n",
    "    def __init__(self, in_channel, reduction=4,):\n",
    "        super(SqueezeExcite, self).__init__()\n",
    "\n",
    "        self.fc1 = nn.Conv2d(in_channel, in_channel//reduction, kernel_size=1, padding=0)\n",
    "        self.fc2 = nn.Conv2d(in_channel//reduction, in_channel, kernel_size=1, padding=0)\n",
    "\n",
    "    def forward(self, x):\n",
    "        s = F.adaptive_avg_pool2d(x,1)\n",
    "        s = self.fc1(s)\n",
    "        s = F.relu(s, inplace=True)\n",
    "        s = self.fc2(s)\n",
    "        x = x*torch.sigmoid(s)\n",
    "        return x\n",
    "\n",
    "\n",
    "\n",
    "#############  resnext50 pyramid feature net #######################################\n",
    "# https://github.com/Hsuxu/ResNeXt/blob/master/models.py\n",
    "# https://github.com/D-X-Y/ResNeXt-DenseNet/blob/master/models/resnext.py\n",
    "# https://github.com/miraclewkf/ResNeXt-PyTorch/blob/master/resnext.py\n",
    "\n",
    "\n",
    "# bottleneck type C\n",
    "class SENextBottleneck(nn.Module):\n",
    "    def __init__(self, in_channel, channel, out_channel, stride=1, group=32,\n",
    "                 reduction=16, pool=None, is_shortcut=False):\n",
    "        super(SENextBottleneck, self).__init__()\n",
    "\n",
    "        self.conv_bn1 = ConvBn2d(in_channel,     channel[0], kernel_size=1, padding=0, stride=1)\n",
    "        self.conv_bn2 = ConvBn2d(   channel[0],  channel[1], kernel_size=3, padding=1, stride=1, groups=group)\n",
    "        self.conv_bn3 = ConvBn2d(   channel[1], out_channel, kernel_size=1, padding=0, stride=1)\n",
    "        self.scale    = SqueezeExcite(out_channel, reduction)\n",
    "\n",
    "        #---\n",
    "        self.is_shortcut = is_shortcut\n",
    "        self.stride = stride\n",
    "        if is_shortcut:\n",
    "            self.shortcut = ConvBn2d(in_channel, out_channel, kernel_size=1, padding=0, stride=1)\n",
    "\n",
    "        if stride==2:\n",
    "            if pool=='max' : self.pool = nn.MaxPool2d(kernel_size=2,stride=2)\n",
    "            if pool=='avg' : self.pool = nn.AvgPool2d(kernel_size=2,stride=2)\n",
    "\n",
    "    def forward(self, x):\n",
    "        z = F.relu(self.conv_bn1(x),inplace=True)\n",
    "        z = F.relu(self.conv_bn2(z),inplace=True)\n",
    "        if self.stride==2:\n",
    "            z = self.pool(z)\n",
    "\n",
    "        z = self.scale(self.conv_bn3(z))\n",
    "        if self.is_shortcut:\n",
    "            if self.stride==2:\n",
    "                x = F.avg_pool2d(x,2,2)  #avg_pool2d\n",
    "            x = self.shortcut(x)\n",
    "\n",
    "        #z += x\n",
    "        z = torch.max(z, x)\n",
    "        z = F.relu(z,inplace=True)\n",
    "        return z\n",
    "\n",
    "\n",
    "class Identity(nn.Module):\n",
    "    def forward(self, x):\n",
    "        return x\n",
    "\n",
    "    \n",
    "#resnext50_32x4d\n",
    "class ResNext50(nn.Module):\n",
    "\n",
    "    def __init__(self, num_class=1000):\n",
    "        super(ResNext50, self).__init__()\n",
    "        self.rgb = RGB()\n",
    "\n",
    "\n",
    "        self.block0  = nn.Sequential(\n",
    "            # nn.Conv2d(3, 64, kernel_size=7, stride=1, padding=3, bias=False), #bias=0\n",
    "            # nn.BatchNorm2d(64),\n",
    "            # nn.ReLU(inplace=True),\n",
    "            #nn.MaxPool2d(kernel_size=3, padding=0, stride=2, ceil_mode=True),\n",
    "            #nn.MaxPool2d(kernel_size=2, padding=0, stride=2),\n",
    "            #Identity(),\n",
    "\n",
    "            nn.Conv2d(3, 64, kernel_size=5, stride=1, padding=2, bias=False), #bias=0\n",
    "            nn.BatchNorm2d(64),\n",
    "            nn.ReLU(inplace=True),\n",
    "\n",
    "            nn.Conv2d(64, 64, kernel_size=3, stride=1, padding=1, bias=False), #bias=0\n",
    "            nn.BatchNorm2d(64),\n",
    "            nn.ReLU(inplace=True),\n",
    "\n",
    "            nn.Conv2d(64, 64, kernel_size=3, stride=1, padding=1, bias=False), #bias=0\n",
    "            nn.BatchNorm2d(64),\n",
    "            nn.ReLU(inplace=True),\n",
    "\n",
    "        )\n",
    "        self.block1  = nn.Sequential(\n",
    "             SENextBottleneck( 64, [128,128], 256, stride=2, is_shortcut=True, pool='max', ),\n",
    "          * [SENextBottleneck(256, [128,128], 256, stride=1, is_shortcut=False,) for i in range(1,3)],\n",
    "        )\n",
    "        self.block2  = nn.Sequential(\n",
    "             SENextBottleneck(256, [256,256], 512, stride=2, is_shortcut=True, pool='max', ),\n",
    "          * [SENextBottleneck(512, [256,256], 512, stride=1, is_shortcut=False,) for i in range(1,4)],\n",
    "        )\n",
    "        self.block3  = nn.Sequential(\n",
    "             SENextBottleneck( 512,[512,512],1024, stride=2, is_shortcut=True, pool='max', ),\n",
    "          * [SENextBottleneck(1024,[512,512],1024, stride=1, is_shortcut=False,) for i in range(1,6)],\n",
    "        )\n",
    "        self.block4 = nn.Sequential(\n",
    "             SENextBottleneck(1024,[1024,1024],2048, stride=2, is_shortcut=True,pool='avg', ),\n",
    "          * [SENextBottleneck(2048,[1024,1024],2048, stride=1, is_shortcut=False) for i in range(1,3)],\n",
    "        )\n",
    "\n",
    "\n",
    "        self.logit = nn.Linear(2048,num_class)\n",
    "\n",
    "\n",
    "\n",
    "    def forward(self, x):\n",
    "        batch_size = len(x)\n",
    "        #x = self.rgb(x)\n",
    "\n",
    "        x = self.block0(x)\n",
    "        #x = F.max_pool2d(x,kernel_size=2,stride=2)\n",
    "        x = self.block1(x)\n",
    "        #x = F.max_pool2d(x,kernel_size=2,stride=2)\n",
    "        x = self.block2(x)\n",
    "        #x = F.max_pool2d(x,kernel_size=2,stride=2)\n",
    "        x = self.block3(x)\n",
    "        #x = F.max_pool2d(x,kernel_size=2,stride=2)\n",
    "        x = self.block4(x)\n",
    "        x = F.adaptive_avg_pool2d(x,1).reshape(batch_size,-1)\n",
    "        logit = self.logit(x)\n",
    "        return logit"
   ]
  },
  {
   "cell_type": "code",
   "execution_count": 26,
   "metadata": {},
   "outputs": [],
   "source": [
    "class Net(nn.Module):\n",
    "    def load_pretrain(self, skip=['block0.','logit.'], is_print=True):\n",
    "        load_pretrain(self, skip, pretrain_file=PRETRAIN_FILE, conversion=CONVERSION, is_print=is_print)\n",
    "\n",
    "    def __init__(self, num_class=NUM_CLASS):\n",
    "        super(Net, self).__init__()\n",
    "        e = ResNext50()\n",
    "\n",
    "        self.block0 = e.block0\n",
    "        self.block1 = e.block1\n",
    "        self.block2 = e.block2\n",
    "        self.block3 = e.block3\n",
    "        self.block4 = e.block4\n",
    "        e = None  #dropped\n",
    "        \n",
    "        #self.dropblock0 = DropBlock2D(drop_prob=0.2, block_size=32)\n",
    "        #self.dropblock1 = DropBlock2D(drop_prob=0.2, block_size=16)\n",
    "        #self.dropblock2 = DropBlock2D(drop_prob=0.2, block_size=8)\n",
    "        #self.dropblock3 = DropBlock2D(drop_prob=0.2, block_size=4)\n",
    "        #self.dropblock4 = DropBlock2D(drop_prob=0.2, block_size=2)\n",
    "\n",
    "        self.logit = nn.ModuleList(\n",
    "            [ nn.Linear(2048,c) for c in num_class ]\n",
    "        )\n",
    "\n",
    "\n",
    "    def forward(self, x):\n",
    "        batch_size,C,H,W = x.shape\n",
    "        #if (H,W) !=(64,112):\n",
    "        #     x = F.interpolate(x,size=(64,112), mode='bilinear',align_corners=False)\n",
    "\n",
    "        x = x.repeat(1,3,1,1)\n",
    "        x = self.block0(x)\n",
    "        #x = self.dropblock0(x)\n",
    "        x = self.block1(x)\n",
    "        #x = self.dropblock1(x)\n",
    "        x = self.block2(x)\n",
    "        #x = self.dropblock2(x)\n",
    "        x = self.block3(x)\n",
    "        #x = self.dropblock3(x)\n",
    "        x = self.block4(x)\n",
    "        #x = self.dropblock4(x)\n",
    "\n",
    "        x = F.adaptive_avg_pool2d(x,1).reshape(batch_size,-1)\n",
    "        x = F.dropout(x,0.2,self.training)\n",
    "\n",
    "        #feature = None\n",
    "        logit = [l(x) for l in self.logit]\n",
    "        return logit[0], logit[1], logit[2], logit[3]"
   ]
  },
  {
   "cell_type": "code",
   "execution_count": 27,
   "metadata": {},
   "outputs": [
    {
     "name": "stdout",
     "output_type": "stream",
     "text": [
      "\tload pretrain_file: ../pretrained_model/se_resnext50_32x4d-a260b3a4.pth\n",
      "\n",
      "len(pretrain_state_dict.keys()) = 331\n",
      "len(state_dict.keys())          = 402\n",
      "loaded    = 324\n",
      "\n"
     ]
    },
    {
     "data": {
      "text/plain": [
       "Net(\n",
       "  (block0): Sequential(\n",
       "    (0): Conv2d(3, 64, kernel_size=(5, 5), stride=(1, 1), padding=(2, 2), bias=False)\n",
       "    (1): BatchNorm2d(64, eps=1e-05, momentum=0.1, affine=True, track_running_stats=True)\n",
       "    (2): ReLU(inplace=True)\n",
       "    (3): Conv2d(64, 64, kernel_size=(3, 3), stride=(1, 1), padding=(1, 1), bias=False)\n",
       "    (4): BatchNorm2d(64, eps=1e-05, momentum=0.1, affine=True, track_running_stats=True)\n",
       "    (5): ReLU(inplace=True)\n",
       "    (6): Conv2d(64, 64, kernel_size=(3, 3), stride=(1, 1), padding=(1, 1), bias=False)\n",
       "    (7): BatchNorm2d(64, eps=1e-05, momentum=0.1, affine=True, track_running_stats=True)\n",
       "    (8): ReLU(inplace=True)\n",
       "  )\n",
       "  (block1): Sequential(\n",
       "    (0): SENextBottleneck(\n",
       "      (conv_bn1): ConvBn2d(\n",
       "        (conv): Conv2d(64, 128, kernel_size=(1, 1), stride=(1, 1), bias=False)\n",
       "        (bn): BatchNorm2d(128, eps=1e-05, momentum=0.1, affine=True, track_running_stats=True)\n",
       "      )\n",
       "      (conv_bn2): ConvBn2d(\n",
       "        (conv): Conv2d(128, 128, kernel_size=(3, 3), stride=(1, 1), padding=(1, 1), groups=32, bias=False)\n",
       "        (bn): BatchNorm2d(128, eps=1e-05, momentum=0.1, affine=True, track_running_stats=True)\n",
       "      )\n",
       "      (conv_bn3): ConvBn2d(\n",
       "        (conv): Conv2d(128, 256, kernel_size=(1, 1), stride=(1, 1), bias=False)\n",
       "        (bn): BatchNorm2d(256, eps=1e-05, momentum=0.1, affine=True, track_running_stats=True)\n",
       "      )\n",
       "      (scale): SqueezeExcite(\n",
       "        (fc1): Conv2d(256, 16, kernel_size=(1, 1), stride=(1, 1))\n",
       "        (fc2): Conv2d(16, 256, kernel_size=(1, 1), stride=(1, 1))\n",
       "      )\n",
       "      (shortcut): ConvBn2d(\n",
       "        (conv): Conv2d(64, 256, kernel_size=(1, 1), stride=(1, 1), bias=False)\n",
       "        (bn): BatchNorm2d(256, eps=1e-05, momentum=0.1, affine=True, track_running_stats=True)\n",
       "      )\n",
       "      (pool): MaxPool2d(kernel_size=2, stride=2, padding=0, dilation=1, ceil_mode=False)\n",
       "    )\n",
       "    (1): SENextBottleneck(\n",
       "      (conv_bn1): ConvBn2d(\n",
       "        (conv): Conv2d(256, 128, kernel_size=(1, 1), stride=(1, 1), bias=False)\n",
       "        (bn): BatchNorm2d(128, eps=1e-05, momentum=0.1, affine=True, track_running_stats=True)\n",
       "      )\n",
       "      (conv_bn2): ConvBn2d(\n",
       "        (conv): Conv2d(128, 128, kernel_size=(3, 3), stride=(1, 1), padding=(1, 1), groups=32, bias=False)\n",
       "        (bn): BatchNorm2d(128, eps=1e-05, momentum=0.1, affine=True, track_running_stats=True)\n",
       "      )\n",
       "      (conv_bn3): ConvBn2d(\n",
       "        (conv): Conv2d(128, 256, kernel_size=(1, 1), stride=(1, 1), bias=False)\n",
       "        (bn): BatchNorm2d(256, eps=1e-05, momentum=0.1, affine=True, track_running_stats=True)\n",
       "      )\n",
       "      (scale): SqueezeExcite(\n",
       "        (fc1): Conv2d(256, 16, kernel_size=(1, 1), stride=(1, 1))\n",
       "        (fc2): Conv2d(16, 256, kernel_size=(1, 1), stride=(1, 1))\n",
       "      )\n",
       "    )\n",
       "    (2): SENextBottleneck(\n",
       "      (conv_bn1): ConvBn2d(\n",
       "        (conv): Conv2d(256, 128, kernel_size=(1, 1), stride=(1, 1), bias=False)\n",
       "        (bn): BatchNorm2d(128, eps=1e-05, momentum=0.1, affine=True, track_running_stats=True)\n",
       "      )\n",
       "      (conv_bn2): ConvBn2d(\n",
       "        (conv): Conv2d(128, 128, kernel_size=(3, 3), stride=(1, 1), padding=(1, 1), groups=32, bias=False)\n",
       "        (bn): BatchNorm2d(128, eps=1e-05, momentum=0.1, affine=True, track_running_stats=True)\n",
       "      )\n",
       "      (conv_bn3): ConvBn2d(\n",
       "        (conv): Conv2d(128, 256, kernel_size=(1, 1), stride=(1, 1), bias=False)\n",
       "        (bn): BatchNorm2d(256, eps=1e-05, momentum=0.1, affine=True, track_running_stats=True)\n",
       "      )\n",
       "      (scale): SqueezeExcite(\n",
       "        (fc1): Conv2d(256, 16, kernel_size=(1, 1), stride=(1, 1))\n",
       "        (fc2): Conv2d(16, 256, kernel_size=(1, 1), stride=(1, 1))\n",
       "      )\n",
       "    )\n",
       "  )\n",
       "  (block2): Sequential(\n",
       "    (0): SENextBottleneck(\n",
       "      (conv_bn1): ConvBn2d(\n",
       "        (conv): Conv2d(256, 256, kernel_size=(1, 1), stride=(1, 1), bias=False)\n",
       "        (bn): BatchNorm2d(256, eps=1e-05, momentum=0.1, affine=True, track_running_stats=True)\n",
       "      )\n",
       "      (conv_bn2): ConvBn2d(\n",
       "        (conv): Conv2d(256, 256, kernel_size=(3, 3), stride=(1, 1), padding=(1, 1), groups=32, bias=False)\n",
       "        (bn): BatchNorm2d(256, eps=1e-05, momentum=0.1, affine=True, track_running_stats=True)\n",
       "      )\n",
       "      (conv_bn3): ConvBn2d(\n",
       "        (conv): Conv2d(256, 512, kernel_size=(1, 1), stride=(1, 1), bias=False)\n",
       "        (bn): BatchNorm2d(512, eps=1e-05, momentum=0.1, affine=True, track_running_stats=True)\n",
       "      )\n",
       "      (scale): SqueezeExcite(\n",
       "        (fc1): Conv2d(512, 32, kernel_size=(1, 1), stride=(1, 1))\n",
       "        (fc2): Conv2d(32, 512, kernel_size=(1, 1), stride=(1, 1))\n",
       "      )\n",
       "      (shortcut): ConvBn2d(\n",
       "        (conv): Conv2d(256, 512, kernel_size=(1, 1), stride=(1, 1), bias=False)\n",
       "        (bn): BatchNorm2d(512, eps=1e-05, momentum=0.1, affine=True, track_running_stats=True)\n",
       "      )\n",
       "      (pool): MaxPool2d(kernel_size=2, stride=2, padding=0, dilation=1, ceil_mode=False)\n",
       "    )\n",
       "    (1): SENextBottleneck(\n",
       "      (conv_bn1): ConvBn2d(\n",
       "        (conv): Conv2d(512, 256, kernel_size=(1, 1), stride=(1, 1), bias=False)\n",
       "        (bn): BatchNorm2d(256, eps=1e-05, momentum=0.1, affine=True, track_running_stats=True)\n",
       "      )\n",
       "      (conv_bn2): ConvBn2d(\n",
       "        (conv): Conv2d(256, 256, kernel_size=(3, 3), stride=(1, 1), padding=(1, 1), groups=32, bias=False)\n",
       "        (bn): BatchNorm2d(256, eps=1e-05, momentum=0.1, affine=True, track_running_stats=True)\n",
       "      )\n",
       "      (conv_bn3): ConvBn2d(\n",
       "        (conv): Conv2d(256, 512, kernel_size=(1, 1), stride=(1, 1), bias=False)\n",
       "        (bn): BatchNorm2d(512, eps=1e-05, momentum=0.1, affine=True, track_running_stats=True)\n",
       "      )\n",
       "      (scale): SqueezeExcite(\n",
       "        (fc1): Conv2d(512, 32, kernel_size=(1, 1), stride=(1, 1))\n",
       "        (fc2): Conv2d(32, 512, kernel_size=(1, 1), stride=(1, 1))\n",
       "      )\n",
       "    )\n",
       "    (2): SENextBottleneck(\n",
       "      (conv_bn1): ConvBn2d(\n",
       "        (conv): Conv2d(512, 256, kernel_size=(1, 1), stride=(1, 1), bias=False)\n",
       "        (bn): BatchNorm2d(256, eps=1e-05, momentum=0.1, affine=True, track_running_stats=True)\n",
       "      )\n",
       "      (conv_bn2): ConvBn2d(\n",
       "        (conv): Conv2d(256, 256, kernel_size=(3, 3), stride=(1, 1), padding=(1, 1), groups=32, bias=False)\n",
       "        (bn): BatchNorm2d(256, eps=1e-05, momentum=0.1, affine=True, track_running_stats=True)\n",
       "      )\n",
       "      (conv_bn3): ConvBn2d(\n",
       "        (conv): Conv2d(256, 512, kernel_size=(1, 1), stride=(1, 1), bias=False)\n",
       "        (bn): BatchNorm2d(512, eps=1e-05, momentum=0.1, affine=True, track_running_stats=True)\n",
       "      )\n",
       "      (scale): SqueezeExcite(\n",
       "        (fc1): Conv2d(512, 32, kernel_size=(1, 1), stride=(1, 1))\n",
       "        (fc2): Conv2d(32, 512, kernel_size=(1, 1), stride=(1, 1))\n",
       "      )\n",
       "    )\n",
       "    (3): SENextBottleneck(\n",
       "      (conv_bn1): ConvBn2d(\n",
       "        (conv): Conv2d(512, 256, kernel_size=(1, 1), stride=(1, 1), bias=False)\n",
       "        (bn): BatchNorm2d(256, eps=1e-05, momentum=0.1, affine=True, track_running_stats=True)\n",
       "      )\n",
       "      (conv_bn2): ConvBn2d(\n",
       "        (conv): Conv2d(256, 256, kernel_size=(3, 3), stride=(1, 1), padding=(1, 1), groups=32, bias=False)\n",
       "        (bn): BatchNorm2d(256, eps=1e-05, momentum=0.1, affine=True, track_running_stats=True)\n",
       "      )\n",
       "      (conv_bn3): ConvBn2d(\n",
       "        (conv): Conv2d(256, 512, kernel_size=(1, 1), stride=(1, 1), bias=False)\n",
       "        (bn): BatchNorm2d(512, eps=1e-05, momentum=0.1, affine=True, track_running_stats=True)\n",
       "      )\n",
       "      (scale): SqueezeExcite(\n",
       "        (fc1): Conv2d(512, 32, kernel_size=(1, 1), stride=(1, 1))\n",
       "        (fc2): Conv2d(32, 512, kernel_size=(1, 1), stride=(1, 1))\n",
       "      )\n",
       "    )\n",
       "  )\n",
       "  (block3): Sequential(\n",
       "    (0): SENextBottleneck(\n",
       "      (conv_bn1): ConvBn2d(\n",
       "        (conv): Conv2d(512, 512, kernel_size=(1, 1), stride=(1, 1), bias=False)\n",
       "        (bn): BatchNorm2d(512, eps=1e-05, momentum=0.1, affine=True, track_running_stats=True)\n",
       "      )\n",
       "      (conv_bn2): ConvBn2d(\n",
       "        (conv): Conv2d(512, 512, kernel_size=(3, 3), stride=(1, 1), padding=(1, 1), groups=32, bias=False)\n",
       "        (bn): BatchNorm2d(512, eps=1e-05, momentum=0.1, affine=True, track_running_stats=True)\n",
       "      )\n",
       "      (conv_bn3): ConvBn2d(\n",
       "        (conv): Conv2d(512, 1024, kernel_size=(1, 1), stride=(1, 1), bias=False)\n",
       "        (bn): BatchNorm2d(1024, eps=1e-05, momentum=0.1, affine=True, track_running_stats=True)\n",
       "      )\n",
       "      (scale): SqueezeExcite(\n",
       "        (fc1): Conv2d(1024, 64, kernel_size=(1, 1), stride=(1, 1))\n",
       "        (fc2): Conv2d(64, 1024, kernel_size=(1, 1), stride=(1, 1))\n",
       "      )\n",
       "      (shortcut): ConvBn2d(\n",
       "        (conv): Conv2d(512, 1024, kernel_size=(1, 1), stride=(1, 1), bias=False)\n",
       "        (bn): BatchNorm2d(1024, eps=1e-05, momentum=0.1, affine=True, track_running_stats=True)\n",
       "      )\n",
       "      (pool): MaxPool2d(kernel_size=2, stride=2, padding=0, dilation=1, ceil_mode=False)\n",
       "    )\n",
       "    (1): SENextBottleneck(\n",
       "      (conv_bn1): ConvBn2d(\n",
       "        (conv): Conv2d(1024, 512, kernel_size=(1, 1), stride=(1, 1), bias=False)\n",
       "        (bn): BatchNorm2d(512, eps=1e-05, momentum=0.1, affine=True, track_running_stats=True)\n",
       "      )\n",
       "      (conv_bn2): ConvBn2d(\n",
       "        (conv): Conv2d(512, 512, kernel_size=(3, 3), stride=(1, 1), padding=(1, 1), groups=32, bias=False)\n",
       "        (bn): BatchNorm2d(512, eps=1e-05, momentum=0.1, affine=True, track_running_stats=True)\n",
       "      )\n",
       "      (conv_bn3): ConvBn2d(\n",
       "        (conv): Conv2d(512, 1024, kernel_size=(1, 1), stride=(1, 1), bias=False)\n",
       "        (bn): BatchNorm2d(1024, eps=1e-05, momentum=0.1, affine=True, track_running_stats=True)\n",
       "      )\n",
       "      (scale): SqueezeExcite(\n",
       "        (fc1): Conv2d(1024, 64, kernel_size=(1, 1), stride=(1, 1))\n",
       "        (fc2): Conv2d(64, 1024, kernel_size=(1, 1), stride=(1, 1))\n",
       "      )\n",
       "    )\n",
       "    (2): SENextBottleneck(\n",
       "      (conv_bn1): ConvBn2d(\n",
       "        (conv): Conv2d(1024, 512, kernel_size=(1, 1), stride=(1, 1), bias=False)\n",
       "        (bn): BatchNorm2d(512, eps=1e-05, momentum=0.1, affine=True, track_running_stats=True)\n",
       "      )\n",
       "      (conv_bn2): ConvBn2d(\n",
       "        (conv): Conv2d(512, 512, kernel_size=(3, 3), stride=(1, 1), padding=(1, 1), groups=32, bias=False)\n",
       "        (bn): BatchNorm2d(512, eps=1e-05, momentum=0.1, affine=True, track_running_stats=True)\n",
       "      )\n",
       "      (conv_bn3): ConvBn2d(\n",
       "        (conv): Conv2d(512, 1024, kernel_size=(1, 1), stride=(1, 1), bias=False)\n",
       "        (bn): BatchNorm2d(1024, eps=1e-05, momentum=0.1, affine=True, track_running_stats=True)\n",
       "      )\n",
       "      (scale): SqueezeExcite(\n",
       "        (fc1): Conv2d(1024, 64, kernel_size=(1, 1), stride=(1, 1))\n",
       "        (fc2): Conv2d(64, 1024, kernel_size=(1, 1), stride=(1, 1))\n",
       "      )\n",
       "    )\n",
       "    (3): SENextBottleneck(\n",
       "      (conv_bn1): ConvBn2d(\n",
       "        (conv): Conv2d(1024, 512, kernel_size=(1, 1), stride=(1, 1), bias=False)\n",
       "        (bn): BatchNorm2d(512, eps=1e-05, momentum=0.1, affine=True, track_running_stats=True)\n",
       "      )\n",
       "      (conv_bn2): ConvBn2d(\n",
       "        (conv): Conv2d(512, 512, kernel_size=(3, 3), stride=(1, 1), padding=(1, 1), groups=32, bias=False)\n",
       "        (bn): BatchNorm2d(512, eps=1e-05, momentum=0.1, affine=True, track_running_stats=True)\n",
       "      )\n",
       "      (conv_bn3): ConvBn2d(\n",
       "        (conv): Conv2d(512, 1024, kernel_size=(1, 1), stride=(1, 1), bias=False)\n",
       "        (bn): BatchNorm2d(1024, eps=1e-05, momentum=0.1, affine=True, track_running_stats=True)\n",
       "      )\n",
       "      (scale): SqueezeExcite(\n",
       "        (fc1): Conv2d(1024, 64, kernel_size=(1, 1), stride=(1, 1))\n",
       "        (fc2): Conv2d(64, 1024, kernel_size=(1, 1), stride=(1, 1))\n",
       "      )\n",
       "    )\n",
       "    (4): SENextBottleneck(\n",
       "      (conv_bn1): ConvBn2d(\n",
       "        (conv): Conv2d(1024, 512, kernel_size=(1, 1), stride=(1, 1), bias=False)\n",
       "        (bn): BatchNorm2d(512, eps=1e-05, momentum=0.1, affine=True, track_running_stats=True)\n",
       "      )\n",
       "      (conv_bn2): ConvBn2d(\n",
       "        (conv): Conv2d(512, 512, kernel_size=(3, 3), stride=(1, 1), padding=(1, 1), groups=32, bias=False)\n",
       "        (bn): BatchNorm2d(512, eps=1e-05, momentum=0.1, affine=True, track_running_stats=True)\n",
       "      )\n",
       "      (conv_bn3): ConvBn2d(\n",
       "        (conv): Conv2d(512, 1024, kernel_size=(1, 1), stride=(1, 1), bias=False)\n",
       "        (bn): BatchNorm2d(1024, eps=1e-05, momentum=0.1, affine=True, track_running_stats=True)\n",
       "      )\n",
       "      (scale): SqueezeExcite(\n",
       "        (fc1): Conv2d(1024, 64, kernel_size=(1, 1), stride=(1, 1))\n",
       "        (fc2): Conv2d(64, 1024, kernel_size=(1, 1), stride=(1, 1))\n",
       "      )\n",
       "    )\n",
       "    (5): SENextBottleneck(\n",
       "      (conv_bn1): ConvBn2d(\n",
       "        (conv): Conv2d(1024, 512, kernel_size=(1, 1), stride=(1, 1), bias=False)\n",
       "        (bn): BatchNorm2d(512, eps=1e-05, momentum=0.1, affine=True, track_running_stats=True)\n",
       "      )\n",
       "      (conv_bn2): ConvBn2d(\n",
       "        (conv): Conv2d(512, 512, kernel_size=(3, 3), stride=(1, 1), padding=(1, 1), groups=32, bias=False)\n",
       "        (bn): BatchNorm2d(512, eps=1e-05, momentum=0.1, affine=True, track_running_stats=True)\n",
       "      )\n",
       "      (conv_bn3): ConvBn2d(\n",
       "        (conv): Conv2d(512, 1024, kernel_size=(1, 1), stride=(1, 1), bias=False)\n",
       "        (bn): BatchNorm2d(1024, eps=1e-05, momentum=0.1, affine=True, track_running_stats=True)\n",
       "      )\n",
       "      (scale): SqueezeExcite(\n",
       "        (fc1): Conv2d(1024, 64, kernel_size=(1, 1), stride=(1, 1))\n",
       "        (fc2): Conv2d(64, 1024, kernel_size=(1, 1), stride=(1, 1))\n",
       "      )\n",
       "    )\n",
       "  )\n",
       "  (block4): Sequential(\n",
       "    (0): SENextBottleneck(\n",
       "      (conv_bn1): ConvBn2d(\n",
       "        (conv): Conv2d(1024, 1024, kernel_size=(1, 1), stride=(1, 1), bias=False)\n",
       "        (bn): BatchNorm2d(1024, eps=1e-05, momentum=0.1, affine=True, track_running_stats=True)\n",
       "      )\n",
       "      (conv_bn2): ConvBn2d(\n",
       "        (conv): Conv2d(1024, 1024, kernel_size=(3, 3), stride=(1, 1), padding=(1, 1), groups=32, bias=False)\n",
       "        (bn): BatchNorm2d(1024, eps=1e-05, momentum=0.1, affine=True, track_running_stats=True)\n",
       "      )\n",
       "      (conv_bn3): ConvBn2d(\n",
       "        (conv): Conv2d(1024, 2048, kernel_size=(1, 1), stride=(1, 1), bias=False)\n",
       "        (bn): BatchNorm2d(2048, eps=1e-05, momentum=0.1, affine=True, track_running_stats=True)\n",
       "      )\n",
       "      (scale): SqueezeExcite(\n",
       "        (fc1): Conv2d(2048, 128, kernel_size=(1, 1), stride=(1, 1))\n",
       "        (fc2): Conv2d(128, 2048, kernel_size=(1, 1), stride=(1, 1))\n",
       "      )\n",
       "      (shortcut): ConvBn2d(\n",
       "        (conv): Conv2d(1024, 2048, kernel_size=(1, 1), stride=(1, 1), bias=False)\n",
       "        (bn): BatchNorm2d(2048, eps=1e-05, momentum=0.1, affine=True, track_running_stats=True)\n",
       "      )\n",
       "      (pool): AvgPool2d(kernel_size=2, stride=2, padding=0)\n",
       "    )\n",
       "    (1): SENextBottleneck(\n",
       "      (conv_bn1): ConvBn2d(\n",
       "        (conv): Conv2d(2048, 1024, kernel_size=(1, 1), stride=(1, 1), bias=False)\n",
       "        (bn): BatchNorm2d(1024, eps=1e-05, momentum=0.1, affine=True, track_running_stats=True)\n",
       "      )\n",
       "      (conv_bn2): ConvBn2d(\n",
       "        (conv): Conv2d(1024, 1024, kernel_size=(3, 3), stride=(1, 1), padding=(1, 1), groups=32, bias=False)\n",
       "        (bn): BatchNorm2d(1024, eps=1e-05, momentum=0.1, affine=True, track_running_stats=True)\n",
       "      )\n",
       "      (conv_bn3): ConvBn2d(\n",
       "        (conv): Conv2d(1024, 2048, kernel_size=(1, 1), stride=(1, 1), bias=False)\n",
       "        (bn): BatchNorm2d(2048, eps=1e-05, momentum=0.1, affine=True, track_running_stats=True)\n",
       "      )\n",
       "      (scale): SqueezeExcite(\n",
       "        (fc1): Conv2d(2048, 128, kernel_size=(1, 1), stride=(1, 1))\n",
       "        (fc2): Conv2d(128, 2048, kernel_size=(1, 1), stride=(1, 1))\n",
       "      )\n",
       "    )\n",
       "    (2): SENextBottleneck(\n",
       "      (conv_bn1): ConvBn2d(\n",
       "        (conv): Conv2d(2048, 1024, kernel_size=(1, 1), stride=(1, 1), bias=False)\n",
       "        (bn): BatchNorm2d(1024, eps=1e-05, momentum=0.1, affine=True, track_running_stats=True)\n",
       "      )\n",
       "      (conv_bn2): ConvBn2d(\n",
       "        (conv): Conv2d(1024, 1024, kernel_size=(3, 3), stride=(1, 1), padding=(1, 1), groups=32, bias=False)\n",
       "        (bn): BatchNorm2d(1024, eps=1e-05, momentum=0.1, affine=True, track_running_stats=True)\n",
       "      )\n",
       "      (conv_bn3): ConvBn2d(\n",
       "        (conv): Conv2d(1024, 2048, kernel_size=(1, 1), stride=(1, 1), bias=False)\n",
       "        (bn): BatchNorm2d(2048, eps=1e-05, momentum=0.1, affine=True, track_running_stats=True)\n",
       "      )\n",
       "      (scale): SqueezeExcite(\n",
       "        (fc1): Conv2d(2048, 128, kernel_size=(1, 1), stride=(1, 1))\n",
       "        (fc2): Conv2d(128, 2048, kernel_size=(1, 1), stride=(1, 1))\n",
       "      )\n",
       "    )\n",
       "  )\n",
       "  (logit): ModuleList(\n",
       "    (0): Linear(in_features=2048, out_features=168, bias=True)\n",
       "    (1): Linear(in_features=2048, out_features=11, bias=True)\n",
       "    (2): Linear(in_features=2048, out_features=7, bias=True)\n",
       "    (3): Linear(in_features=2048, out_features=1295, bias=True)\n",
       "  )\n",
       ")"
      ]
     },
     "execution_count": 27,
     "metadata": {},
     "output_type": "execute_result"
    }
   ],
   "source": [
    "model = Net()\n",
    "model.load_pretrain(is_print=False)\n",
    "model.to(device)\n",
    "model"
   ]
  },
  {
   "cell_type": "code",
   "execution_count": 28,
   "metadata": {},
   "outputs": [],
   "source": [
    "def rand_bbox(size, lam):\n",
    "    W = size[2]\n",
    "    H = size[3]\n",
    "    cut_rat = np.sqrt(1. - lam)\n",
    "    cut_w = np.int(W * cut_rat)\n",
    "    cut_h = np.int(H * cut_rat)\n",
    "\n",
    "    # uniform\n",
    "    cx = np.random.randint(W)\n",
    "    cy = np.random.randint(H)\n",
    "\n",
    "    bbx1 = np.clip(cx - cut_w // 2, 0, W)\n",
    "    bby1 = np.clip(cy - cut_h // 2, 0, H)\n",
    "    bbx2 = np.clip(cx + cut_w // 2, 0, W)\n",
    "    bby2 = np.clip(cy + cut_h // 2, 0, H)\n",
    "\n",
    "    return bbx1, bby1, bbx2, bby2\n",
    "\n",
    "def cutmix(data, gr, v, c, g, alpha):\n",
    "    indices = torch.randperm(data.size(0))\n",
    "    #shuffled_data = data[indices]\n",
    "    shuffled_gr = gr[indices]\n",
    "    shuffled_v = v[indices]\n",
    "    shuffled_c = c[indices]\n",
    "    shuffled_g = g[indices]\n",
    "\n",
    "    lam = np.random.beta(alpha, alpha)\n",
    "    bbx1, bby1, bbx2, bby2 = rand_bbox(data.size(), lam)\n",
    "    data[:, :, bbx1:bbx2, bby1:bby2] = data[indices, :, bbx1:bbx2, bby1:bby2]\n",
    "\n",
    "    # adjust lambda to exactly match pixel ratio\n",
    "    lam = 1 - ((bbx2 - bbx1) * (bby2 - bby1) / (data.size()[-1] * data.size()[-2]))\n",
    "    targets = [gr, v, c, g]\n",
    "    shuffled_targets = [shuffled_gr, shuffled_v, shuffled_c, shuffled_g]\n",
    "    \n",
    "    return data, targets, shuffled_targets, lam\n",
    "\n",
    "\n",
    "def mixup(data, gr, v, c, g, alpha):\n",
    "    indices = torch.randperm(data.size(0))\n",
    "    shuffled_data = data[indices]\n",
    "    shuffled_gr = gr[indices]\n",
    "    shuffled_v = v[indices]\n",
    "    shuffled_c = c[indices]\n",
    "    shuffled_g = g[indices]\n",
    "\n",
    "    lam = np.random.beta(alpha, alpha)\n",
    "    data = data * lam + shuffled_data * (1 - lam)\n",
    "    targets = [gr, v, c, g]\n",
    "    shuffled_targets = [shuffled_gr, shuffled_v, shuffled_c, shuffled_g]\n",
    "\n",
    "    return data, targets, shuffled_targets, lam\n",
    "\n",
    "def shuffled_loss_fn(preds, targets, shuffled_targets, lam):\n",
    "    criterion = nn.CrossEntropyLoss(reduction='mean')\n",
    "    loss = lam * criterion(preds[0], targets[0]) + (1 - lam) * criterion(preds[0], shuffled_targets[0]) \\\n",
    "           + lam * criterion(preds[1], targets[1]) + (1 - lam) * criterion(preds[1], shuffled_targets[1]) \\\n",
    "           + lam * criterion(preds[2], targets[2]) + (1 - lam) * criterion(preds[2], shuffled_targets[2]) \\\n",
    "           + lam * criterion(preds[3], targets[3]) + (1 - lam) * criterion(preds[3], shuffled_targets[3])\n",
    "    return loss/4"
   ]
  },
  {
   "cell_type": "code",
   "execution_count": 29,
   "metadata": {},
   "outputs": [],
   "source": [
    "def macro_recall(pred_y, y, n_grapheme_root=168, n_vowel=11, n_consonant=7, n_grapheme=1295):\n",
    "    \n",
    "    pred_y = torch.split(pred_y, [n_grapheme_root, n_vowel, n_consonant, n_grapheme], dim=1)\n",
    "    pred_labels = [torch.argmax(py, dim=1).cpu().numpy() for py in pred_y]\n",
    "\n",
    "    y = y.cpu().numpy()\n",
    "    \n",
    "    pred_g = pd.Series(pred_labels[3])\n",
    "    pred_gr = pred_g.map(gr_map)\n",
    "    pred_v = pred_g.map(v_map)\n",
    "    pred_c = pred_g.map(c_map)\n",
    "    \n",
    "    #for i in range(len(pred_labels[3])):\n",
    "    #    pred_labels[0][i] = grapheme_map.loc[pred_labels[3][i], 'grapheme_root']\n",
    "    #    pred_labels[1][i] = grapheme_map.loc[pred_labels[3][i], 'vowel_diacritic']\n",
    "    #    pred_labels[2][i] = grapheme_map.loc[pred_labels[3][i], 'consonant_diacritic']\n",
    "\n",
    "    recall_gr = recall_score(y[:, 0], pred_gr, average='macro')\n",
    "    recall_v = recall_score(y[:, 1], pred_v, average='macro')\n",
    "    recall_c = recall_score(y[:, 2], pred_c, average='macro')\n",
    "    recall_g = recall_score(y[:, 3], pred_g, average='macro')\n",
    "    recall_tot = np.average([recall_gr, recall_v, recall_c], weights=[2, 1, 1])\n",
    "    #print(f'recall: grapheme {recall_g:.5f}, vowel {recall_v:.5f}, consonant {recall_c:.5f}, 'f'total {recall_tot:.5f}')\n",
    "    \n",
    "    return recall_gr, recall_v, recall_c, recall_g, recall_tot\n",
    "\n",
    "\n",
    "def loss_fn(outputs, targets):\n",
    "    o1, o2, o3, o4 = outputs\n",
    "    t1, t2, t3, t4 = targets\n",
    "    l1 = nn.CrossEntropyLoss()(o1, t1)\n",
    "    l2 = nn.CrossEntropyLoss()(o2, t2)\n",
    "    l3 = nn.CrossEntropyLoss()(o3, t3)\n",
    "    l4 = nn.CrossEntropyLoss()(o4, t4)\n",
    "\n",
    "    return (l1 + l2 + l3 + l4)/4\n",
    "\n",
    "\n",
    "\n",
    "def run_train(data_loader, model, optimizer, steps_per_epoch):\n",
    "    model.train()\n",
    "    final_loss = 0\n",
    "    counter = 0\n",
    "    final_outputs = []\n",
    "    final_targets = []\n",
    "    \n",
    "    is_plot=True\n",
    "\n",
    "    for bi, (original, image, gr, v, c, g) in tqdm(enumerate(data_loader), total=steps_per_epoch):\n",
    "        counter = counter + 1\n",
    "\n",
    "        image = image.to(device, dtype=torch.float)\n",
    "        gr = gr.to(device, dtype=torch.long)\n",
    "        v = v.to(device, dtype=torch.long)\n",
    "        c = c.to(device, dtype=torch.long)\n",
    "        g = g.to(device, dtype=torch.long)\n",
    "\n",
    "        optimizer.zero_grad()\n",
    "        \n",
    "        #if is_plot:\n",
    "        #    is_plot = False\n",
    "        #    plot_images(original, image, title='cutmix')\n",
    "            \n",
    "        regularization_decision = np.random.rand()\n",
    "        if regularization_decision < 0.25: # MIXUP\n",
    "            MIXUP_ALPHA = 0.4\n",
    "            image, targets, shuffled_targets, lam = mixup(original, gr, v, c, g, MIXUP_ALPHA)\n",
    "            outputs = model(image)\n",
    "            loss = shuffled_loss_fn(outputs, targets, shuffled_targets, lam)\n",
    "        elif regularization_decision < 0.5: # CUTMIX\n",
    "            CUTMIX_ALPHA = 1.0\n",
    "            image, targets, shuffled_targets, lam = cutmix(original, gr, v, c, g, CUTMIX_ALPHA)\n",
    "            outputs = model(image)\n",
    "            loss = shuffled_loss_fn(outputs, targets, shuffled_targets, lam)\n",
    "        elif regularization_decision < 0.75: # CUTOUT\n",
    "            image, _, _ = do_random_batch_cutout(original, None)\n",
    "            outputs = model(image)\n",
    "            targets = (gr, v, c, g)\n",
    "            loss = loss_fn(outputs, targets)\n",
    "        else: # normal aug\n",
    "            outputs = model(image)\n",
    "            targets = (gr, v, c, g)\n",
    "            loss = loss_fn(outputs, targets)\n",
    "\n",
    "        # apex\n",
    "        with amp.scale_loss(loss, optimizer) as scaled_loss:\n",
    "            scaled_loss.backward()\n",
    "\n",
    "        #loss.backward()\n",
    "        optimizer.step()\n",
    "\n",
    "        final_loss += loss.item()\n",
    "\n",
    "        o1, o2, o3, o4 = outputs\n",
    "        t1, t2, t3, t4 = targets\n",
    "        final_outputs.append(torch.cat((o1,o2,o3,o4), dim=1))\n",
    "        final_targets.append(torch.stack((t1,t2,t3,t4), dim=1))\n",
    "\n",
    "        #if bi % 10 == 0:\n",
    "        #    break\n",
    "    final_outputs = torch.cat(final_outputs)\n",
    "    final_targets = torch.cat(final_targets)\n",
    "\n",
    "    #print(\"=================Train=================\")\n",
    "    recall_gr, recall_v, recall_c, recall_g, recall_tot = macro_recall(final_outputs, final_targets)\n",
    "    \n",
    "    return final_loss/counter , recall_gr, recall_v, recall_c, recall_g, recall_tot\n",
    "\n",
    "\n",
    "\n",
    "def run_evaluate(data_loader, model):\n",
    "    with torch.no_grad():\n",
    "        model.eval()\n",
    "        final_loss = 0\n",
    "        counter = 0\n",
    "        final_outputs = []\n",
    "        final_targets = []\n",
    "        for bi, (original, image, gr, v, c, g) in enumerate(data_loader):\n",
    "            counter = counter + 1\n",
    "\n",
    "            image = image.to(device, dtype=torch.float)\n",
    "            gr = gr.to(device, dtype=torch.long)\n",
    "            v = v.to(device, dtype=torch.long)\n",
    "            c = c.to(device, dtype=torch.long)\n",
    "            g = g.to(device, dtype=torch.long)\n",
    "\n",
    "            outputs = model(image)\n",
    "            targets = (gr, v, c, g)\n",
    "            loss = loss_fn(outputs, targets)\n",
    "            final_loss += loss.item()\n",
    "\n",
    "            o1, o2, o3, o4 = outputs\n",
    "            t1, t2, t3, t4 = targets\n",
    "            #print(t1.shape)\n",
    "            final_outputs.append(torch.cat((o1,o2,o3,o4), dim=1))\n",
    "            final_targets.append(torch.stack((t1,t2,t3,t4), dim=1))\n",
    "        \n",
    "        final_outputs = torch.cat(final_outputs)\n",
    "        final_targets = torch.cat(final_targets)\n",
    "\n",
    "        #print(\"=================Valid=================\")\n",
    "        recall_gr, recall_v, recall_c, recall_g, recall_tot = macro_recall(final_outputs, final_targets)\n",
    "\n",
    "    return final_loss/counter, recall_gr, recall_v, recall_c, recall_g, recall_tot"
   ]
  },
  {
   "cell_type": "code",
   "execution_count": 30,
   "metadata": {},
   "outputs": [],
   "source": [
    "def plot_images(original, image, title):\n",
    "    nrow, ncol = 2, 6\n",
    "    fig, axes = plt.subplots(nrow, ncol, figsize=(20, 4))\n",
    "    axes = axes.flatten()\n",
    "    for i in range(ncol):\n",
    "        axes[i].imshow(original[i].reshape(image_size,image_size), cmap='gray')\n",
    "        axes[i].set_title('original')\n",
    "\n",
    "    image = image.cpu().numpy()\n",
    "    for i in range(ncol):\n",
    "        axes[ncol+i].imshow(image[i].reshape(image_size,image_size), cmap='gray')\n",
    "        axes[ncol+i].set_title(title)\n",
    "\n",
    "    plt.tight_layout()\n",
    "    plt.show()"
   ]
  },
  {
   "cell_type": "code",
   "execution_count": 31,
   "metadata": {},
   "outputs": [
    {
     "name": "stdout",
     "output_type": "stream",
     "text": [
      "train_dataset 160672 valid_dataset 40168 steps_per_epoch 314\n"
     ]
    }
   ],
   "source": [
    "train_idx = train[train['fold']!=val_fold].index\n",
    "val_idx = train[train['fold']==val_fold].index\n",
    "\n",
    "train_data_size = 200 if debug else len(train_idx)\n",
    "valid_data_size = 100 if debug else len(val_idx)\n",
    "steps_per_epoch = math.ceil(train_data_size/batch_size)\n",
    "\n",
    "train_dataset = BengaliAIDataset(train_images, train_labels, transform=train_augment, indices=train_idx)\n",
    "train_loader = DataLoader(dataset=train_dataset, batch_size= batch_size, shuffle=True, num_workers=num_workers)\n",
    "\n",
    "valid_dataset = BengaliAIDataset(train_images, train_labels, transform=valid_augment, indices=val_idx)\n",
    "valid_loader = DataLoader(dataset=valid_dataset, batch_size= batch_size, shuffle=True, num_workers=num_workers//2)\n",
    "print('train_dataset', len(train_dataset), 'valid_dataset', len(valid_dataset), 'steps_per_epoch', steps_per_epoch)"
   ]
  },
  {
   "cell_type": "code",
   "execution_count": 32,
   "metadata": {},
   "outputs": [
    {
     "name": "stdout",
     "output_type": "stream",
     "text": [
      "initial lr : 0.0024\n"
     ]
    }
   ],
   "source": [
    "lr = 3e-4*torch.cuda.device_count()*batch_size/(64*torch.cuda.device_count())\n",
    "print(f'initial lr : {lr}')\n",
    "optimizer = torch.optim.Adam(model.parameters(), lr=lr)\n",
    "#scheduler = torch.optim.lr_scheduler.StepLR(optimizer, step_size=10, gamma=0.5)\n",
    "scheduler = torch.optim.lr_scheduler.ReduceLROnPlateau(optimizer, \n",
    "                                                       mode='max', \n",
    "                                                       patience=4, \n",
    "                                                       factor=0.5, verbose=True)\n",
    "\n",
    "#optimizer = torch.optim.SGD(model.parameters(), lr=3e-4*torch.cuda.device_count(), momentum=0.9)\n",
    "#scheduler = torch.optim.lr_scheduler.OneCycleLR(optimizer, 3e-3*torch.cuda.device_count(),\n",
    "#                                                epochs=num_epochs,\n",
    "#                                                steps_per_epoch=steps_per_epoch,\n",
    "#                                                pct_start=0.3, # default 0.3\n",
    "#                                                div_factor=25.0,\n",
    "#                                                final_div_factor=1e4)"
   ]
  },
  {
   "cell_type": "code",
   "execution_count": 33,
   "metadata": {},
   "outputs": [
    {
     "name": "stdout",
     "output_type": "stream",
     "text": [
      "Selected optimization level O1:  Insert automatic casts around Pytorch functions and Tensor methods.\n",
      "\n",
      "Defaults for this optimization level are:\n",
      "enabled                : True\n",
      "opt_level              : O1\n",
      "cast_model_type        : None\n",
      "patch_torch_functions  : True\n",
      "keep_batchnorm_fp32    : None\n",
      "master_weights         : None\n",
      "loss_scale             : dynamic\n",
      "Processing user overrides (additional kwargs that are not None)...\n",
      "After processing overrides, optimization options are:\n",
      "enabled                : True\n",
      "opt_level              : O1\n",
      "cast_model_type        : None\n",
      "patch_torch_functions  : True\n",
      "keep_batchnorm_fp32    : None\n",
      "master_weights         : None\n",
      "loss_scale             : dynamic\n"
     ]
    }
   ],
   "source": [
    "# Initialization\n",
    "opt_level = 'O1'\n",
    "model, optimizer = amp.initialize(model, optimizer, opt_level=opt_level)"
   ]
  },
  {
   "cell_type": "code",
   "execution_count": 34,
   "metadata": {},
   "outputs": [
    {
     "name": "stdout",
     "output_type": "stream",
     "text": [
      "Let's use 8 GPUs!\n"
     ]
    }
   ],
   "source": [
    "if torch.cuda.device_count() > 1:\n",
    "    print(\"Let's use\", torch.cuda.device_count(), \"GPUs!\")\n",
    "    model = nn.DataParallel(model)\n",
    "    #os.environ['MASTER_ADDR'] = '127.0.0.1'\n",
    "    #os.environ['MASTER_PORT'] = '29500'\n",
    "    #torch.distributed.init_process_group(backend=\"gloo\", group_name=\"main\")\n",
    "    #model = apex.parallel.DistributedDataParallel(model)\n",
    "\n",
    "    #local_rank = 0\n",
    "    #os.environ['MASTER_ADDR'] = '127.0.0.1'\n",
    "    #os.environ['MASTER_PORT'] = '29500'\n",
    "    #os.environ['RANK'] = f'{local_rank}'\n",
    "    #os.environ['WORLD_SIZE'] = '1'\n",
    "    #torch.cuda.set_device(local_rank)\n",
    "    #torch.distributed.init_process_group(backend='nccl', init_method='env://')\n",
    "    #model = DistributedDataParallel(model, delay_allreduce=True)"
   ]
  },
  {
   "cell_type": "code",
   "execution_count": 35,
   "metadata": {},
   "outputs": [
    {
     "name": "stdout",
     "output_type": "stream",
     "text": [
      "Epoch: 1\n"
     ]
    },
    {
     "data": {
      "application/vnd.jupyter.widget-view+json": {
       "model_id": "eaa21dc17d7345f686a0465b64073499",
       "version_major": 2,
       "version_minor": 0
      },
      "text/plain": [
       "HBox(children=(IntProgress(value=0, max=314), HTML(value='')))"
      ]
     },
     "metadata": {},
     "output_type": "display_data"
    },
    {
     "name": "stdout",
     "output_type": "stream",
     "text": [
      "\n",
      "[  1/150] lr: 0.00240, train_loss: 2.74615, train_recall/gr: 0.12557, train_recall/v: 0.43431, train_recall/c: 0.41958, train_recall/g: 0.10980, train_recall/tot: 0.27626 valid_loss: 1.00452, valid_recall/gr: 0.56047, valid_recall/v: 0.88455, valid_recall/c: 0.89279, valid_recall/g: 0.56113, valid_recall/tot: 0.72457, elasped: 264.84394335746765\n",
      "----------------------------------------------------------------------------------------------------\n",
      "Epoch: 2\n"
     ]
    },
    {
     "data": {
      "application/vnd.jupyter.widget-view+json": {
       "model_id": "168a355c2414431985b0b2c06f32a344",
       "version_major": 2,
       "version_minor": 0
      },
      "text/plain": [
       "HBox(children=(IntProgress(value=0, max=314), HTML(value='')))"
      ]
     },
     "metadata": {},
     "output_type": "display_data"
    },
    {
     "name": "stdout",
     "output_type": "stream",
     "text": [
      "\n",
      "[  2/150] lr: 0.00240, train_loss: 1.36812, train_recall/gr: 0.50352, train_recall/v: 0.68532, train_recall/c: 0.69026, train_recall/g: 0.47482, train_recall/tot: 0.59566 valid_loss: 0.53965, valid_recall/gr: 0.85393, valid_recall/v: 0.95937, valid_recall/c: 0.95114, valid_recall/g: 0.84501, valid_recall/tot: 0.90459, elasped: 215.68117809295654\n",
      "----------------------------------------------------------------------------------------------------\n",
      "Epoch: 3\n"
     ]
    },
    {
     "data": {
      "application/vnd.jupyter.widget-view+json": {
       "model_id": "3786c694d63046bd8bbc0f8fd00ca1fb",
       "version_major": 2,
       "version_minor": 0
      },
      "text/plain": [
       "HBox(children=(IntProgress(value=0, max=314), HTML(value='')))"
      ]
     },
     "metadata": {},
     "output_type": "display_data"
    },
    {
     "name": "stdout",
     "output_type": "stream",
     "text": [
      "\n",
      "[  3/150] lr: 0.00240, train_loss: 1.18980, train_recall/gr: 0.60234, train_recall/v: 0.73138, train_recall/c: 0.73229, train_recall/g: 0.57244, train_recall/tot: 0.66709 valid_loss: 0.30537, valid_recall/gr: 0.90681, valid_recall/v: 0.97280, valid_recall/c: 0.96565, valid_recall/g: 0.90724, valid_recall/tot: 0.93802, elasped: 217.92699313163757\n",
      "----------------------------------------------------------------------------------------------------\n",
      "Epoch: 4\n"
     ]
    },
    {
     "data": {
      "application/vnd.jupyter.widget-view+json": {
       "model_id": "6b97ed3046204a4f9ff10bf41b9f4e23",
       "version_major": 2,
       "version_minor": 0
      },
      "text/plain": [
       "HBox(children=(IntProgress(value=0, max=314), HTML(value='')))"
      ]
     },
     "metadata": {},
     "output_type": "display_data"
    },
    {
     "name": "stdout",
     "output_type": "stream",
     "text": [
      "\n",
      "[  4/150] lr: 0.00240, train_loss: 1.09678, train_recall/gr: 0.63742, train_recall/v: 0.74382, train_recall/c: 0.74189, train_recall/g: 0.60742, train_recall/tot: 0.69013 valid_loss: 0.26378, valid_recall/gr: 0.93665, valid_recall/v: 0.98052, valid_recall/c: 0.96840, valid_recall/g: 0.93367, valid_recall/tot: 0.95555, elasped: 217.149964094162\n",
      "----------------------------------------------------------------------------------------------------\n",
      "Epoch: 5\n"
     ]
    },
    {
     "data": {
      "application/vnd.jupyter.widget-view+json": {
       "model_id": "cc5c855f136f4d0791d87cd0f99fce01",
       "version_major": 2,
       "version_minor": 0
      },
      "text/plain": [
       "HBox(children=(IntProgress(value=0, max=314), HTML(value='')))"
      ]
     },
     "metadata": {},
     "output_type": "display_data"
    },
    {
     "name": "stdout",
     "output_type": "stream",
     "text": [
      "\n",
      "[  5/150] lr: 0.00240, train_loss: 1.00150, train_recall/gr: 0.61203, train_recall/v: 0.71110, train_recall/c: 0.71911, train_recall/g: 0.58953, train_recall/tot: 0.66357 valid_loss: 0.27999, valid_recall/gr: 0.92820, valid_recall/v: 0.97647, valid_recall/c: 0.96497, valid_recall/g: 0.93047, valid_recall/tot: 0.94946, elasped: 215.0808928012848\n",
      "----------------------------------------------------------------------------------------------------\n",
      "Epoch: 6\n"
     ]
    },
    {
     "data": {
      "application/vnd.jupyter.widget-view+json": {
       "model_id": "1cf95ab97136408fac5725d7b1f7d5ab",
       "version_major": 2,
       "version_minor": 0
      },
      "text/plain": [
       "HBox(children=(IntProgress(value=0, max=314), HTML(value='')))"
      ]
     },
     "metadata": {},
     "output_type": "display_data"
    },
    {
     "name": "stdout",
     "output_type": "stream",
     "text": [
      "\n",
      "[  6/150] lr: 0.00240, train_loss: 0.87160, train_recall/gr: 0.71462, train_recall/v: 0.79818, train_recall/c: 0.79732, train_recall/g: 0.69232, train_recall/tot: 0.75619 valid_loss: 0.24887, valid_recall/gr: 0.94573, valid_recall/v: 0.97930, valid_recall/c: 0.96471, valid_recall/g: 0.93756, valid_recall/tot: 0.95887, elasped: 218.73168349266052\n",
      "----------------------------------------------------------------------------------------------------\n",
      "Epoch: 7\n"
     ]
    },
    {
     "data": {
      "application/vnd.jupyter.widget-view+json": {
       "model_id": "8454c1da2738471c8a7d2b342a96e779",
       "version_major": 2,
       "version_minor": 0
      },
      "text/plain": [
       "HBox(children=(IntProgress(value=0, max=314), HTML(value='')))"
      ]
     },
     "metadata": {},
     "output_type": "display_data"
    },
    {
     "name": "stdout",
     "output_type": "stream",
     "text": [
      "\n",
      "[  7/150] lr: 0.00240, train_loss: 0.86222, train_recall/gr: 0.66800, train_recall/v: 0.74432, train_recall/c: 0.75046, train_recall/g: 0.64585, train_recall/tot: 0.70770 valid_loss: 0.15366, valid_recall/gr: 0.96403, valid_recall/v: 0.98756, valid_recall/c: 0.98278, valid_recall/g: 0.96122, valid_recall/tot: 0.97460, elasped: 219.02874612808228\n",
      "----------------------------------------------------------------------------------------------------\n",
      "Epoch: 8\n"
     ]
    },
    {
     "data": {
      "application/vnd.jupyter.widget-view+json": {
       "model_id": "5ab657cbe0e545f2a9ddce8567db1be0",
       "version_major": 2,
       "version_minor": 0
      },
      "text/plain": [
       "HBox(children=(IntProgress(value=0, max=314), HTML(value='')))"
      ]
     },
     "metadata": {},
     "output_type": "display_data"
    },
    {
     "name": "stdout",
     "output_type": "stream",
     "text": [
      "\n",
      "[  8/150] lr: 0.00240, train_loss: 0.80903, train_recall/gr: 0.71052, train_recall/v: 0.77979, train_recall/c: 0.79297, train_recall/g: 0.69018, train_recall/tot: 0.74845 valid_loss: 0.18301, valid_recall/gr: 0.96254, valid_recall/v: 0.98723, valid_recall/c: 0.98242, valid_recall/g: 0.95721, valid_recall/tot: 0.97368, elasped: 218.7331941127777\n",
      "----------------------------------------------------------------------------------------------------\n",
      "Epoch: 9\n"
     ]
    },
    {
     "data": {
      "application/vnd.jupyter.widget-view+json": {
       "model_id": "b6cd6ee3422c4c4c9f4884eda55c03c5",
       "version_major": 2,
       "version_minor": 0
      },
      "text/plain": [
       "HBox(children=(IntProgress(value=0, max=314), HTML(value='')))"
      ]
     },
     "metadata": {},
     "output_type": "display_data"
    },
    {
     "name": "stdout",
     "output_type": "stream",
     "text": [
      "\n",
      "[  9/150] lr: 0.00240, train_loss: 0.81859, train_recall/gr: 0.69234, train_recall/v: 0.76700, train_recall/c: 0.77711, train_recall/g: 0.67332, train_recall/tot: 0.73220 valid_loss: 0.17451, valid_recall/gr: 0.96486, valid_recall/v: 0.98821, valid_recall/c: 0.98672, valid_recall/g: 0.96281, valid_recall/tot: 0.97616, elasped: 219.7902112007141\n",
      "----------------------------------------------------------------------------------------------------\n",
      "Epoch: 10\n"
     ]
    },
    {
     "data": {
      "application/vnd.jupyter.widget-view+json": {
       "model_id": "18de77baa96c4e4e8d758e61cf24102c",
       "version_major": 2,
       "version_minor": 0
      },
      "text/plain": [
       "HBox(children=(IntProgress(value=0, max=314), HTML(value='')))"
      ]
     },
     "metadata": {},
     "output_type": "display_data"
    },
    {
     "name": "stdout",
     "output_type": "stream",
     "text": [
      "\n",
      "[ 10/150] lr: 0.00240, train_loss: 0.78093, train_recall/gr: 0.66746, train_recall/v: 0.73658, train_recall/c: 0.73977, train_recall/g: 0.64712, train_recall/tot: 0.70282 valid_loss: 0.12470, valid_recall/gr: 0.97047, valid_recall/v: 0.98741, valid_recall/c: 0.98092, valid_recall/g: 0.96607, valid_recall/tot: 0.97732, elasped: 220.620858669281\n",
      "----------------------------------------------------------------------------------------------------\n",
      "Epoch: 11\n"
     ]
    },
    {
     "data": {
      "application/vnd.jupyter.widget-view+json": {
       "model_id": "785142e15fb34ea388235b22ab97a88e",
       "version_major": 2,
       "version_minor": 0
      },
      "text/plain": [
       "HBox(children=(IntProgress(value=0, max=314), HTML(value='')))"
      ]
     },
     "metadata": {},
     "output_type": "display_data"
    },
    {
     "name": "stdout",
     "output_type": "stream",
     "text": [
      "\n",
      "[ 11/150] lr: 0.00240, train_loss: 0.74868, train_recall/gr: 0.73037, train_recall/v: 0.79306, train_recall/c: 0.80817, train_recall/g: 0.71332, train_recall/tot: 0.76549 valid_loss: 0.10684, valid_recall/gr: 0.97285, valid_recall/v: 0.99015, valid_recall/c: 0.98404, valid_recall/g: 0.96933, valid_recall/tot: 0.97997, elasped: 219.07224035263062\n",
      "----------------------------------------------------------------------------------------------------\n",
      "Epoch: 12\n"
     ]
    },
    {
     "data": {
      "application/vnd.jupyter.widget-view+json": {
       "model_id": "084ebc60c1174210878b342d3d52f246",
       "version_major": 2,
       "version_minor": 0
      },
      "text/plain": [
       "HBox(children=(IntProgress(value=0, max=314), HTML(value='')))"
      ]
     },
     "metadata": {},
     "output_type": "display_data"
    },
    {
     "name": "stdout",
     "output_type": "stream",
     "text": [
      "\n",
      "[ 12/150] lr: 0.00240, train_loss: 0.75620, train_recall/gr: 0.71032, train_recall/v: 0.77752, train_recall/c: 0.78467, train_recall/g: 0.69633, train_recall/tot: 0.74571 valid_loss: 0.10140, valid_recall/gr: 0.97395, valid_recall/v: 0.98983, valid_recall/c: 0.98514, valid_recall/g: 0.97095, valid_recall/tot: 0.98071, elasped: 216.95613169670105\n",
      "----------------------------------------------------------------------------------------------------\n",
      "Epoch: 13\n"
     ]
    },
    {
     "data": {
      "application/vnd.jupyter.widget-view+json": {
       "model_id": "2977ec3e003846259678cdc808e74a37",
       "version_major": 2,
       "version_minor": 0
      },
      "text/plain": [
       "HBox(children=(IntProgress(value=0, max=314), HTML(value='')))"
      ]
     },
     "metadata": {},
     "output_type": "display_data"
    },
    {
     "name": "stdout",
     "output_type": "stream",
     "text": [
      "\n",
      "[ 13/150] lr: 0.00240, train_loss: 0.74196, train_recall/gr: 0.71275, train_recall/v: 0.77532, train_recall/c: 0.78094, train_recall/g: 0.69750, train_recall/tot: 0.74544 valid_loss: 0.14171, valid_recall/gr: 0.97698, valid_recall/v: 0.99147, valid_recall/c: 0.98495, valid_recall/g: 0.97453, valid_recall/tot: 0.98259, elasped: 219.5844030380249\n",
      "----------------------------------------------------------------------------------------------------\n",
      "Epoch: 14\n"
     ]
    },
    {
     "data": {
      "application/vnd.jupyter.widget-view+json": {
       "model_id": "dd8ca164990446c08c2c67a5898959a0",
       "version_major": 2,
       "version_minor": 0
      },
      "text/plain": [
       "HBox(children=(IntProgress(value=0, max=314), HTML(value='')))"
      ]
     },
     "metadata": {},
     "output_type": "display_data"
    },
    {
     "name": "stdout",
     "output_type": "stream",
     "text": [
      "\n",
      "[ 14/150] lr: 0.00240, train_loss: 0.71715, train_recall/gr: 0.70856, train_recall/v: 0.76976, train_recall/c: 0.77854, train_recall/g: 0.69320, train_recall/tot: 0.74136 valid_loss: 0.13673, valid_recall/gr: 0.97429, valid_recall/v: 0.99121, valid_recall/c: 0.98436, valid_recall/g: 0.97372, valid_recall/tot: 0.98104, elasped: 220.4578514099121\n",
      "----------------------------------------------------------------------------------------------------\n",
      "Epoch: 15\n"
     ]
    },
    {
     "data": {
      "application/vnd.jupyter.widget-view+json": {
       "model_id": "dfb689e2506b47db9c921e8e67bfb5d3",
       "version_major": 2,
       "version_minor": 0
      },
      "text/plain": [
       "HBox(children=(IntProgress(value=0, max=314), HTML(value='')))"
      ]
     },
     "metadata": {},
     "output_type": "display_data"
    },
    {
     "name": "stdout",
     "output_type": "stream",
     "text": [
      "\n",
      "[ 15/150] lr: 0.00240, train_loss: 0.67732, train_recall/gr: 0.74576, train_recall/v: 0.79815, train_recall/c: 0.80526, train_recall/g: 0.72934, train_recall/tot: 0.77373 valid_loss: 0.09809, valid_recall/gr: 0.97834, valid_recall/v: 0.99291, valid_recall/c: 0.98545, valid_recall/g: 0.97503, valid_recall/tot: 0.98376, elasped: 221.15655660629272\n",
      "----------------------------------------------------------------------------------------------------\n",
      "Epoch: 16\n"
     ]
    },
    {
     "data": {
      "application/vnd.jupyter.widget-view+json": {
       "model_id": "e305da412203444bad7e88c94717d1a8",
       "version_major": 2,
       "version_minor": 0
      },
      "text/plain": [
       "HBox(children=(IntProgress(value=0, max=314), HTML(value='')))"
      ]
     },
     "metadata": {},
     "output_type": "display_data"
    },
    {
     "name": "stdout",
     "output_type": "stream",
     "text": [
      "\n",
      "[ 16/150] lr: 0.00240, train_loss: 0.69256, train_recall/gr: 0.75666, train_recall/v: 0.81408, train_recall/c: 0.82015, train_recall/g: 0.74369, train_recall/tot: 0.78689 valid_loss: 0.10728, valid_recall/gr: 0.97731, valid_recall/v: 0.99144, valid_recall/c: 0.98535, valid_recall/g: 0.97433, valid_recall/tot: 0.98285, elasped: 220.9767336845398\n",
      "----------------------------------------------------------------------------------------------------\n",
      "Epoch: 17\n"
     ]
    },
    {
     "data": {
      "application/vnd.jupyter.widget-view+json": {
       "model_id": "9cdfb8301db44ba2b7acf8847e8c9e87",
       "version_major": 2,
       "version_minor": 0
      },
      "text/plain": [
       "HBox(children=(IntProgress(value=0, max=314), HTML(value='')))"
      ]
     },
     "metadata": {},
     "output_type": "display_data"
    },
    {
     "name": "stdout",
     "output_type": "stream",
     "text": [
      "\n",
      "[ 17/150] lr: 0.00240, train_loss: 0.69237, train_recall/gr: 0.73047, train_recall/v: 0.78501, train_recall/c: 0.79044, train_recall/g: 0.71439, train_recall/tot: 0.75910 valid_loss: 0.11583, valid_recall/gr: 0.97958, valid_recall/v: 0.99253, valid_recall/c: 0.99011, valid_recall/g: 0.97781, valid_recall/tot: 0.98545, elasped: 222.5146245956421\n",
      "----------------------------------------------------------------------------------------------------\n",
      "Epoch: 18\n"
     ]
    },
    {
     "data": {
      "application/vnd.jupyter.widget-view+json": {
       "model_id": "20194157e7704faebfddc8a0962b56d5",
       "version_major": 2,
       "version_minor": 0
      },
      "text/plain": [
       "HBox(children=(IntProgress(value=0, max=314), HTML(value='')))"
      ]
     },
     "metadata": {},
     "output_type": "display_data"
    },
    {
     "name": "stdout",
     "output_type": "stream",
     "text": [
      "\n",
      "[ 18/150] lr: 0.00240, train_loss: 0.67995, train_recall/gr: 0.73090, train_recall/v: 0.78802, train_recall/c: 0.79575, train_recall/g: 0.71839, train_recall/tot: 0.76139 valid_loss: 0.11182, valid_recall/gr: 0.97585, valid_recall/v: 0.99137, valid_recall/c: 0.98786, valid_recall/g: 0.97544, valid_recall/tot: 0.98273, elasped: 220.7919659614563\n",
      "----------------------------------------------------------------------------------------------------\n",
      "Epoch: 19\n"
     ]
    },
    {
     "data": {
      "application/vnd.jupyter.widget-view+json": {
       "model_id": "1467cdf92e044d07988b8a76b8f39705",
       "version_major": 2,
       "version_minor": 0
      },
      "text/plain": [
       "HBox(children=(IntProgress(value=0, max=314), HTML(value='')))"
      ]
     },
     "metadata": {},
     "output_type": "display_data"
    },
    {
     "name": "stdout",
     "output_type": "stream",
     "text": [
      "\n",
      "[ 19/150] lr: 0.00240, train_loss: 0.69940, train_recall/gr: 0.74146, train_recall/v: 0.79765, train_recall/c: 0.80520, train_recall/g: 0.72832, train_recall/tot: 0.77144 valid_loss: 0.07895, valid_recall/gr: 0.97932, valid_recall/v: 0.99164, valid_recall/c: 0.98854, valid_recall/g: 0.97787, valid_recall/tot: 0.98470, elasped: 219.63180327415466\n",
      "----------------------------------------------------------------------------------------------------\n",
      "Epoch: 20\n"
     ]
    },
    {
     "data": {
      "application/vnd.jupyter.widget-view+json": {
       "model_id": "ad029410d91c43599f130b48cb867da0",
       "version_major": 2,
       "version_minor": 0
      },
      "text/plain": [
       "HBox(children=(IntProgress(value=0, max=314), HTML(value='')))"
      ]
     },
     "metadata": {},
     "output_type": "display_data"
    },
    {
     "name": "stdout",
     "output_type": "stream",
     "text": [
      "\n",
      "[ 20/150] lr: 0.00240, train_loss: 0.70358, train_recall/gr: 0.67618, train_recall/v: 0.73544, train_recall/c: 0.74866, train_recall/g: 0.66461, train_recall/tot: 0.70911 valid_loss: 0.10714, valid_recall/gr: 0.97956, valid_recall/v: 0.99243, valid_recall/c: 0.98722, valid_recall/g: 0.97690, valid_recall/tot: 0.98469, elasped: 220.21791696548462\n",
      "----------------------------------------------------------------------------------------------------\n",
      "Epoch: 21\n"
     ]
    },
    {
     "data": {
      "application/vnd.jupyter.widget-view+json": {
       "model_id": "8453141a24c64e2d9e8c730828e42631",
       "version_major": 2,
       "version_minor": 0
      },
      "text/plain": [
       "HBox(children=(IntProgress(value=0, max=314), HTML(value='')))"
      ]
     },
     "metadata": {},
     "output_type": "display_data"
    },
    {
     "name": "stdout",
     "output_type": "stream",
     "text": [
      "\n",
      "[ 21/150] lr: 0.00240, train_loss: 0.62390, train_recall/gr: 0.73214, train_recall/v: 0.78026, train_recall/c: 0.78773, train_recall/g: 0.71660, train_recall/tot: 0.75807 valid_loss: 0.09389, valid_recall/gr: 0.97903, valid_recall/v: 0.99259, valid_recall/c: 0.98854, valid_recall/g: 0.97775, valid_recall/tot: 0.98480, elasped: 219.82719802856445\n",
      "----------------------------------------------------------------------------------------------------\n",
      "Epoch: 22\n"
     ]
    },
    {
     "data": {
      "application/vnd.jupyter.widget-view+json": {
       "model_id": "de4f68c1f75d495e9552baffcb9b637f",
       "version_major": 2,
       "version_minor": 0
      },
      "text/plain": [
       "HBox(children=(IntProgress(value=0, max=314), HTML(value='')))"
      ]
     },
     "metadata": {},
     "output_type": "display_data"
    },
    {
     "name": "stdout",
     "output_type": "stream",
     "text": [
      "\n",
      "Epoch    22: reducing learning rate of group 0 to 1.2000e-03.\n",
      "[ 22/150] lr: 0.00240, train_loss: 0.62875, train_recall/gr: 0.74579, train_recall/v: 0.79596, train_recall/c: 0.79956, train_recall/g: 0.73446, train_recall/tot: 0.77177 valid_loss: 0.10412, valid_recall/gr: 0.97738, valid_recall/v: 0.99186, valid_recall/c: 0.98814, valid_recall/g: 0.97548, valid_recall/tot: 0.98369, elasped: 220.1275897026062\n",
      "----------------------------------------------------------------------------------------------------\n",
      "Epoch: 23\n"
     ]
    },
    {
     "data": {
      "application/vnd.jupyter.widget-view+json": {
       "model_id": "ceb70130e9234b59837549c539c50b45",
       "version_major": 2,
       "version_minor": 0
      },
      "text/plain": [
       "HBox(children=(IntProgress(value=0, max=314), HTML(value='')))"
      ]
     },
     "metadata": {},
     "output_type": "display_data"
    },
    {
     "name": "stdout",
     "output_type": "stream",
     "text": [
      "\n",
      "[ 23/150] lr: 0.00120, train_loss: 0.66177, train_recall/gr: 0.76705, train_recall/v: 0.81477, train_recall/c: 0.82455, train_recall/g: 0.75457, train_recall/tot: 0.79336 valid_loss: 0.07981, valid_recall/gr: 0.98219, valid_recall/v: 0.99368, valid_recall/c: 0.98763, valid_recall/g: 0.98020, valid_recall/tot: 0.98642, elasped: 221.4556906223297\n",
      "----------------------------------------------------------------------------------------------------\n",
      "Epoch: 24\n"
     ]
    },
    {
     "data": {
      "application/vnd.jupyter.widget-view+json": {
       "model_id": "b454f71d62344b8584e5ac8fb8d98cb8",
       "version_major": 2,
       "version_minor": 0
      },
      "text/plain": [
       "HBox(children=(IntProgress(value=0, max=314), HTML(value='')))"
      ]
     },
     "metadata": {},
     "output_type": "display_data"
    },
    {
     "name": "stdout",
     "output_type": "stream",
     "text": [
      "\n",
      "[ 24/150] lr: 0.00120, train_loss: 0.67743, train_recall/gr: 0.75683, train_recall/v: 0.80407, train_recall/c: 0.81283, train_recall/g: 0.74145, train_recall/tot: 0.78264 valid_loss: 0.07392, valid_recall/gr: 0.98175, valid_recall/v: 0.99397, valid_recall/c: 0.98903, valid_recall/g: 0.98099, valid_recall/tot: 0.98663, elasped: 220.27392888069153\n",
      "----------------------------------------------------------------------------------------------------\n",
      "Epoch: 25\n"
     ]
    },
    {
     "data": {
      "application/vnd.jupyter.widget-view+json": {
       "model_id": "8ec87ee4840a4ac195fac06e37472dd6",
       "version_major": 2,
       "version_minor": 0
      },
      "text/plain": [
       "HBox(children=(IntProgress(value=0, max=314), HTML(value='')))"
      ]
     },
     "metadata": {},
     "output_type": "display_data"
    },
    {
     "name": "stdout",
     "output_type": "stream",
     "text": [
      "\n",
      "[ 25/150] lr: 0.00120, train_loss: 0.57999, train_recall/gr: 0.76961, train_recall/v: 0.80983, train_recall/c: 0.81880, train_recall/g: 0.75902, train_recall/tot: 0.79196 valid_loss: 0.08427, valid_recall/gr: 0.98330, valid_recall/v: 0.99283, valid_recall/c: 0.98920, valid_recall/g: 0.98178, valid_recall/tot: 0.98716, elasped: 221.092933177948\n",
      "----------------------------------------------------------------------------------------------------\n",
      "Epoch: 26\n"
     ]
    },
    {
     "data": {
      "application/vnd.jupyter.widget-view+json": {
       "model_id": "ff4a05e3834b4095bca76f37828f1c15",
       "version_major": 2,
       "version_minor": 0
      },
      "text/plain": [
       "HBox(children=(IntProgress(value=0, max=314), HTML(value='')))"
      ]
     },
     "metadata": {},
     "output_type": "display_data"
    },
    {
     "name": "stdout",
     "output_type": "stream",
     "text": [
      "\n",
      "[ 26/150] lr: 0.00120, train_loss: 0.55336, train_recall/gr: 0.76318, train_recall/v: 0.80549, train_recall/c: 0.81596, train_recall/g: 0.75274, train_recall/tot: 0.78695 valid_loss: 0.06280, valid_recall/gr: 0.98083, valid_recall/v: 0.99295, valid_recall/c: 0.98933, valid_recall/g: 0.98036, valid_recall/tot: 0.98598, elasped: 219.51131176948547\n",
      "----------------------------------------------------------------------------------------------------\n",
      "Epoch: 27\n"
     ]
    },
    {
     "data": {
      "application/vnd.jupyter.widget-view+json": {
       "model_id": "b34e6ed771cf46f9b396cc5175a9f1ae",
       "version_major": 2,
       "version_minor": 0
      },
      "text/plain": [
       "HBox(children=(IntProgress(value=0, max=314), HTML(value='')))"
      ]
     },
     "metadata": {},
     "output_type": "display_data"
    },
    {
     "name": "stdout",
     "output_type": "stream",
     "text": [
      "\n",
      "[ 27/150] lr: 0.00120, train_loss: 0.59355, train_recall/gr: 0.75937, train_recall/v: 0.80659, train_recall/c: 0.81837, train_recall/g: 0.74802, train_recall/tot: 0.78592 valid_loss: 0.08541, valid_recall/gr: 0.98058, valid_recall/v: 0.99328, valid_recall/c: 0.98811, valid_recall/g: 0.97905, valid_recall/tot: 0.98564, elasped: 219.8210060596466\n",
      "----------------------------------------------------------------------------------------------------\n",
      "Epoch: 28\n"
     ]
    },
    {
     "data": {
      "application/vnd.jupyter.widget-view+json": {
       "model_id": "855de9f6fa744cc1b3e96bd78090fd79",
       "version_major": 2,
       "version_minor": 0
      },
      "text/plain": [
       "HBox(children=(IntProgress(value=0, max=314), HTML(value='')))"
      ]
     },
     "metadata": {},
     "output_type": "display_data"
    },
    {
     "name": "stdout",
     "output_type": "stream",
     "text": [
      "\n",
      "[ 28/150] lr: 0.00120, train_loss: 0.58252, train_recall/gr: 0.74742, train_recall/v: 0.79234, train_recall/c: 0.80785, train_recall/g: 0.73689, train_recall/tot: 0.77376 valid_loss: 0.08811, valid_recall/gr: 0.98433, valid_recall/v: 0.99354, valid_recall/c: 0.99102, valid_recall/g: 0.98168, valid_recall/tot: 0.98831, elasped: 218.10026669502258\n",
      "----------------------------------------------------------------------------------------------------\n",
      "Epoch: 29\n"
     ]
    },
    {
     "data": {
      "application/vnd.jupyter.widget-view+json": {
       "model_id": "fdce914947494faca3aad0d885afe1dc",
       "version_major": 2,
       "version_minor": 0
      },
      "text/plain": [
       "HBox(children=(IntProgress(value=0, max=314), HTML(value='')))"
      ]
     },
     "metadata": {},
     "output_type": "display_data"
    },
    {
     "name": "stdout",
     "output_type": "stream",
     "text": [
      "Gradient overflow.  Skipping step, loss scaler 0 reducing loss scale to 524288.0\n",
      "\n",
      "[ 29/150] lr: 0.00120, train_loss: 0.65759, train_recall/gr: 0.73234, train_recall/v: 0.77994, train_recall/c: 0.79478, train_recall/g: 0.72204, train_recall/tot: 0.75985 valid_loss: 0.06073, valid_recall/gr: 0.98528, valid_recall/v: 0.99345, valid_recall/c: 0.99077, valid_recall/g: 0.98377, valid_recall/tot: 0.98870, elasped: 220.76174068450928\n",
      "----------------------------------------------------------------------------------------------------\n",
      "Epoch: 30\n"
     ]
    },
    {
     "data": {
      "application/vnd.jupyter.widget-view+json": {
       "model_id": "560568db928944f6825663bcdc1ae8d8",
       "version_major": 2,
       "version_minor": 0
      },
      "text/plain": [
       "HBox(children=(IntProgress(value=0, max=314), HTML(value='')))"
      ]
     },
     "metadata": {},
     "output_type": "display_data"
    },
    {
     "name": "stdout",
     "output_type": "stream",
     "text": [
      "\n",
      "[ 30/150] lr: 0.00120, train_loss: 0.61085, train_recall/gr: 0.71858, train_recall/v: 0.76434, train_recall/c: 0.78211, train_recall/g: 0.70687, train_recall/tot: 0.74590 valid_loss: 0.05695, valid_recall/gr: 0.98387, valid_recall/v: 0.99393, valid_recall/c: 0.99211, valid_recall/g: 0.98234, valid_recall/tot: 0.98844, elasped: 221.76187229156494\n",
      "----------------------------------------------------------------------------------------------------\n",
      "Epoch: 31\n"
     ]
    },
    {
     "data": {
      "application/vnd.jupyter.widget-view+json": {
       "model_id": "44f23f2286054d23ad1e1c84dc0dd878",
       "version_major": 2,
       "version_minor": 0
      },
      "text/plain": [
       "HBox(children=(IntProgress(value=0, max=314), HTML(value='')))"
      ]
     },
     "metadata": {},
     "output_type": "display_data"
    },
    {
     "name": "stdout",
     "output_type": "stream",
     "text": [
      "\n",
      "[ 31/150] lr: 0.00120, train_loss: 0.58697, train_recall/gr: 0.76133, train_recall/v: 0.80123, train_recall/c: 0.81535, train_recall/g: 0.74989, train_recall/tot: 0.78481 valid_loss: 0.06288, valid_recall/gr: 0.98476, valid_recall/v: 0.99465, valid_recall/c: 0.98920, valid_recall/g: 0.98316, valid_recall/tot: 0.98834, elasped: 219.32976818084717\n",
      "----------------------------------------------------------------------------------------------------\n",
      "Epoch: 32\n"
     ]
    },
    {
     "data": {
      "application/vnd.jupyter.widget-view+json": {
       "model_id": "e22c940a7c8540019abec72925f405c6",
       "version_major": 2,
       "version_minor": 0
      },
      "text/plain": [
       "HBox(children=(IntProgress(value=0, max=314), HTML(value='')))"
      ]
     },
     "metadata": {},
     "output_type": "display_data"
    },
    {
     "name": "stdout",
     "output_type": "stream",
     "text": [
      "\n",
      "[ 32/150] lr: 0.00120, train_loss: 0.67587, train_recall/gr: 0.70505, train_recall/v: 0.75354, train_recall/c: 0.75887, train_recall/g: 0.69143, train_recall/tot: 0.73063 valid_loss: 0.08290, valid_recall/gr: 0.98268, valid_recall/v: 0.99295, valid_recall/c: 0.98766, valid_recall/g: 0.97980, valid_recall/tot: 0.98649, elasped: 220.29123401641846\n",
      "----------------------------------------------------------------------------------------------------\n",
      "Epoch: 33\n"
     ]
    },
    {
     "data": {
      "application/vnd.jupyter.widget-view+json": {
       "model_id": "0c21f846bd7a48ff84224cea89de76cd",
       "version_major": 2,
       "version_minor": 0
      },
      "text/plain": [
       "HBox(children=(IntProgress(value=0, max=314), HTML(value='')))"
      ]
     },
     "metadata": {},
     "output_type": "display_data"
    },
    {
     "name": "stdout",
     "output_type": "stream",
     "text": [
      "\n",
      "[ 33/150] lr: 0.00120, train_loss: 0.57263, train_recall/gr: 0.76882, train_recall/v: 0.80870, train_recall/c: 0.81931, train_recall/g: 0.75718, train_recall/tot: 0.79141 valid_loss: 0.06001, valid_recall/gr: 0.98407, valid_recall/v: 0.99367, valid_recall/c: 0.99118, valid_recall/g: 0.98200, valid_recall/tot: 0.98825, elasped: 221.30475735664368\n",
      "----------------------------------------------------------------------------------------------------\n",
      "Epoch: 34\n"
     ]
    },
    {
     "data": {
      "application/vnd.jupyter.widget-view+json": {
       "model_id": "aa315d5e84eb42489dbe8fa8bc2f8839",
       "version_major": 2,
       "version_minor": 0
      },
      "text/plain": [
       "HBox(children=(IntProgress(value=0, max=314), HTML(value='')))"
      ]
     },
     "metadata": {},
     "output_type": "display_data"
    },
    {
     "name": "stdout",
     "output_type": "stream",
     "text": [
      "\n",
      "Epoch    34: reducing learning rate of group 0 to 6.0000e-04.\n",
      "[ 34/150] lr: 0.00120, train_loss: 0.54261, train_recall/gr: 0.78061, train_recall/v: 0.82187, train_recall/c: 0.82876, train_recall/g: 0.76969, train_recall/tot: 0.80296 valid_loss: 0.08266, valid_recall/gr: 0.98524, valid_recall/v: 0.99427, valid_recall/c: 0.99000, valid_recall/g: 0.98266, valid_recall/tot: 0.98869, elasped: 220.2076358795166\n",
      "----------------------------------------------------------------------------------------------------\n",
      "Epoch: 35\n"
     ]
    },
    {
     "data": {
      "application/vnd.jupyter.widget-view+json": {
       "model_id": "cb7a75af0c864e5dafecad134a44b7df",
       "version_major": 2,
       "version_minor": 0
      },
      "text/plain": [
       "HBox(children=(IntProgress(value=0, max=314), HTML(value='')))"
      ]
     },
     "metadata": {},
     "output_type": "display_data"
    },
    {
     "name": "stdout",
     "output_type": "stream",
     "text": [
      "\n",
      "[ 35/150] lr: 0.00060, train_loss: 0.67672, train_recall/gr: 0.71800, train_recall/v: 0.76415, train_recall/c: 0.78026, train_recall/g: 0.70774, train_recall/tot: 0.74510 valid_loss: 0.07083, valid_recall/gr: 0.98573, valid_recall/v: 0.99435, valid_recall/c: 0.98828, valid_recall/g: 0.98280, valid_recall/tot: 0.98852, elasped: 221.1116921901703\n",
      "----------------------------------------------------------------------------------------------------\n",
      "Epoch: 36\n"
     ]
    },
    {
     "data": {
      "application/vnd.jupyter.widget-view+json": {
       "model_id": "794f6d6813144b84bf3ce69c1dbc3cf9",
       "version_major": 2,
       "version_minor": 0
      },
      "text/plain": [
       "HBox(children=(IntProgress(value=0, max=314), HTML(value='')))"
      ]
     },
     "metadata": {},
     "output_type": "display_data"
    },
    {
     "name": "stdout",
     "output_type": "stream",
     "text": [
      "\n",
      "[ 36/150] lr: 0.00060, train_loss: 0.54008, train_recall/gr: 0.79664, train_recall/v: 0.83355, train_recall/c: 0.84058, train_recall/g: 0.78782, train_recall/tot: 0.81685 valid_loss: 0.06095, valid_recall/gr: 0.98587, valid_recall/v: 0.99421, valid_recall/c: 0.98920, valid_recall/g: 0.98409, valid_recall/tot: 0.98879, elasped: 221.86900329589844\n",
      "----------------------------------------------------------------------------------------------------\n",
      "Epoch: 37\n"
     ]
    },
    {
     "data": {
      "application/vnd.jupyter.widget-view+json": {
       "model_id": "b5d81efefad649bab183545fd9385ba1",
       "version_major": 2,
       "version_minor": 0
      },
      "text/plain": [
       "HBox(children=(IntProgress(value=0, max=314), HTML(value='')))"
      ]
     },
     "metadata": {},
     "output_type": "display_data"
    },
    {
     "name": "stdout",
     "output_type": "stream",
     "text": [
      "\n",
      "[ 37/150] lr: 0.00060, train_loss: 0.57985, train_recall/gr: 0.78658, train_recall/v: 0.82765, train_recall/c: 0.83885, train_recall/g: 0.77820, train_recall/tot: 0.80991 valid_loss: 0.06061, valid_recall/gr: 0.98696, valid_recall/v: 0.99474, valid_recall/c: 0.99051, valid_recall/g: 0.98447, valid_recall/tot: 0.98979, elasped: 218.857421875\n",
      "----------------------------------------------------------------------------------------------------\n",
      "Epoch: 38\n"
     ]
    },
    {
     "data": {
      "application/vnd.jupyter.widget-view+json": {
       "model_id": "2ce8ca42f3014ec885cf1947a304225a",
       "version_major": 2,
       "version_minor": 0
      },
      "text/plain": [
       "HBox(children=(IntProgress(value=0, max=314), HTML(value='')))"
      ]
     },
     "metadata": {},
     "output_type": "display_data"
    },
    {
     "name": "stdout",
     "output_type": "stream",
     "text": [
      "\n",
      "[ 38/150] lr: 0.00060, train_loss: 0.61369, train_recall/gr: 0.73771, train_recall/v: 0.78017, train_recall/c: 0.79381, train_recall/g: 0.72731, train_recall/tot: 0.76235 valid_loss: 0.07672, valid_recall/gr: 0.98568, valid_recall/v: 0.99383, valid_recall/c: 0.98950, valid_recall/g: 0.98296, valid_recall/tot: 0.98867, elasped: 220.4841823577881\n",
      "----------------------------------------------------------------------------------------------------\n",
      "Epoch: 39\n"
     ]
    },
    {
     "data": {
      "application/vnd.jupyter.widget-view+json": {
       "model_id": "ba25f16209994409a5ff1f0252d23f71",
       "version_major": 2,
       "version_minor": 0
      },
      "text/plain": [
       "HBox(children=(IntProgress(value=0, max=314), HTML(value='')))"
      ]
     },
     "metadata": {},
     "output_type": "display_data"
    },
    {
     "name": "stdout",
     "output_type": "stream",
     "text": [
      "\n",
      "[ 39/150] lr: 0.00060, train_loss: 0.61438, train_recall/gr: 0.74863, train_recall/v: 0.79371, train_recall/c: 0.81344, train_recall/g: 0.74099, train_recall/tot: 0.77610 valid_loss: 0.08576, valid_recall/gr: 0.98606, valid_recall/v: 0.99430, valid_recall/c: 0.98942, valid_recall/g: 0.98359, valid_recall/tot: 0.98896, elasped: 220.7236270904541\n",
      "----------------------------------------------------------------------------------------------------\n",
      "Epoch: 40\n"
     ]
    },
    {
     "data": {
      "application/vnd.jupyter.widget-view+json": {
       "model_id": "577c2140de1d4da2b9b0fff82435a1f7",
       "version_major": 2,
       "version_minor": 0
      },
      "text/plain": [
       "HBox(children=(IntProgress(value=0, max=314), HTML(value='')))"
      ]
     },
     "metadata": {},
     "output_type": "display_data"
    },
    {
     "name": "stdout",
     "output_type": "stream",
     "text": [
      "\n",
      "[ 40/150] lr: 0.00060, train_loss: 0.52923, train_recall/gr: 0.77200, train_recall/v: 0.80849, train_recall/c: 0.82311, train_recall/g: 0.76261, train_recall/tot: 0.79390 valid_loss: 0.06242, valid_recall/gr: 0.98727, valid_recall/v: 0.99413, valid_recall/c: 0.98934, valid_recall/g: 0.98460, valid_recall/tot: 0.98950, elasped: 221.48581385612488\n",
      "----------------------------------------------------------------------------------------------------\n",
      "Epoch: 41\n"
     ]
    },
    {
     "data": {
      "application/vnd.jupyter.widget-view+json": {
       "model_id": "b34d8c8086c34f0391161477f8f53475",
       "version_major": 2,
       "version_minor": 0
      },
      "text/plain": [
       "HBox(children=(IntProgress(value=0, max=314), HTML(value='')))"
      ]
     },
     "metadata": {},
     "output_type": "display_data"
    },
    {
     "name": "stdout",
     "output_type": "stream",
     "text": [
      "\n",
      "[ 41/150] lr: 0.00060, train_loss: 0.54144, train_recall/gr: 0.75026, train_recall/v: 0.78894, train_recall/c: 0.80259, train_recall/g: 0.73979, train_recall/tot: 0.77301 valid_loss: 0.07115, valid_recall/gr: 0.98658, valid_recall/v: 0.99430, valid_recall/c: 0.98933, valid_recall/g: 0.98396, valid_recall/tot: 0.98920, elasped: 220.2393410205841\n",
      "----------------------------------------------------------------------------------------------------\n",
      "Epoch: 42\n"
     ]
    },
    {
     "data": {
      "application/vnd.jupyter.widget-view+json": {
       "model_id": "871f15371778471b8ea71a236623ddd6",
       "version_major": 2,
       "version_minor": 0
      },
      "text/plain": [
       "HBox(children=(IntProgress(value=0, max=314), HTML(value='')))"
      ]
     },
     "metadata": {},
     "output_type": "display_data"
    },
    {
     "name": "stdout",
     "output_type": "stream",
     "text": [
      "Gradient overflow.  Skipping step, loss scaler 0 reducing loss scale to 1048576.0\n",
      "\n",
      "Epoch    42: reducing learning rate of group 0 to 3.0000e-04.\n",
      "[ 42/150] lr: 0.00060, train_loss: 0.53081, train_recall/gr: 0.76599, train_recall/v: 0.80523, train_recall/c: 0.81485, train_recall/g: 0.75647, train_recall/tot: 0.78801 valid_loss: 0.05783, valid_recall/gr: 0.98523, valid_recall/v: 0.99461, valid_recall/c: 0.98944, valid_recall/g: 0.98427, valid_recall/tot: 0.98863, elasped: 220.87279725074768\n",
      "----------------------------------------------------------------------------------------------------\n",
      "Epoch: 43\n"
     ]
    },
    {
     "data": {
      "application/vnd.jupyter.widget-view+json": {
       "model_id": "9bfc0ccb7e9c4eeaac3d15c0844cc792",
       "version_major": 2,
       "version_minor": 0
      },
      "text/plain": [
       "HBox(children=(IntProgress(value=0, max=314), HTML(value='')))"
      ]
     },
     "metadata": {},
     "output_type": "display_data"
    },
    {
     "name": "stdout",
     "output_type": "stream",
     "text": [
      "Gradient overflow.  Skipping step, loss scaler 0 reducing loss scale to 524288.0\n",
      "\n",
      "[ 43/150] lr: 0.00030, train_loss: 0.60553, train_recall/gr: 0.73858, train_recall/v: 0.77946, train_recall/c: 0.79397, train_recall/g: 0.72796, train_recall/tot: 0.76265 valid_loss: 0.05228, valid_recall/gr: 0.98723, valid_recall/v: 0.99451, valid_recall/c: 0.98935, valid_recall/g: 0.98541, valid_recall/tot: 0.98958, elasped: 221.34464240074158\n",
      "----------------------------------------------------------------------------------------------------\n",
      "Epoch: 44\n"
     ]
    },
    {
     "data": {
      "application/vnd.jupyter.widget-view+json": {
       "model_id": "d1e18b9f9f3f4f9b88efe3eaf29855e2",
       "version_major": 2,
       "version_minor": 0
      },
      "text/plain": [
       "HBox(children=(IntProgress(value=0, max=314), HTML(value='')))"
      ]
     },
     "metadata": {},
     "output_type": "display_data"
    },
    {
     "name": "stdout",
     "output_type": "stream",
     "text": [
      "\n",
      "[ 44/150] lr: 0.00030, train_loss: 0.53906, train_recall/gr: 0.80915, train_recall/v: 0.84235, train_recall/c: 0.85364, train_recall/g: 0.80079, train_recall/tot: 0.82857 valid_loss: 0.06915, valid_recall/gr: 0.98621, valid_recall/v: 0.99398, valid_recall/c: 0.98884, valid_recall/g: 0.98416, valid_recall/tot: 0.98881, elasped: 222.1259105205536\n",
      "----------------------------------------------------------------------------------------------------\n",
      "Epoch: 45\n"
     ]
    },
    {
     "data": {
      "application/vnd.jupyter.widget-view+json": {
       "model_id": "5954086f847e4af9a6c4dc4eb2549e2b",
       "version_major": 2,
       "version_minor": 0
      },
      "text/plain": [
       "HBox(children=(IntProgress(value=0, max=314), HTML(value='')))"
      ]
     },
     "metadata": {},
     "output_type": "display_data"
    },
    {
     "name": "stdout",
     "output_type": "stream",
     "text": [
      "\n",
      "[ 45/150] lr: 0.00030, train_loss: 0.55553, train_recall/gr: 0.76886, train_recall/v: 0.80594, train_recall/c: 0.81760, train_recall/g: 0.75888, train_recall/tot: 0.79032 valid_loss: 0.05559, valid_recall/gr: 0.98652, valid_recall/v: 0.99431, valid_recall/c: 0.98997, valid_recall/g: 0.98443, valid_recall/tot: 0.98933, elasped: 219.91867446899414\n",
      "----------------------------------------------------------------------------------------------------\n",
      "Epoch: 46\n"
     ]
    },
    {
     "data": {
      "application/vnd.jupyter.widget-view+json": {
       "model_id": "f733003b05cc4cdbb4a57d9392490e99",
       "version_major": 2,
       "version_minor": 0
      },
      "text/plain": [
       "HBox(children=(IntProgress(value=0, max=314), HTML(value='')))"
      ]
     },
     "metadata": {},
     "output_type": "display_data"
    },
    {
     "name": "stdout",
     "output_type": "stream",
     "text": [
      "\n",
      "[ 46/150] lr: 0.00030, train_loss: 0.49447, train_recall/gr: 0.77464, train_recall/v: 0.80885, train_recall/c: 0.81741, train_recall/g: 0.76578, train_recall/tot: 0.79389 valid_loss: 0.06064, valid_recall/gr: 0.98585, valid_recall/v: 0.99407, valid_recall/c: 0.99012, valid_recall/g: 0.98433, valid_recall/tot: 0.98897, elasped: 219.3672604560852\n",
      "----------------------------------------------------------------------------------------------------\n",
      "Epoch: 47\n"
     ]
    },
    {
     "data": {
      "application/vnd.jupyter.widget-view+json": {
       "model_id": "41bad37aea2d45b8a71bd96a533008a7",
       "version_major": 2,
       "version_minor": 0
      },
      "text/plain": [
       "HBox(children=(IntProgress(value=0, max=314), HTML(value='')))"
      ]
     },
     "metadata": {},
     "output_type": "display_data"
    },
    {
     "name": "stdout",
     "output_type": "stream",
     "text": [
      "\n",
      "[ 47/150] lr: 0.00030, train_loss: 0.50915, train_recall/gr: 0.79537, train_recall/v: 0.82976, train_recall/c: 0.84408, train_recall/g: 0.78939, train_recall/tot: 0.81615 valid_loss: 0.04700, valid_recall/gr: 0.98849, valid_recall/v: 0.99442, valid_recall/c: 0.99111, valid_recall/g: 0.98635, valid_recall/tot: 0.99063, elasped: 220.57515144348145\n",
      "----------------------------------------------------------------------------------------------------\n",
      "Epoch: 48\n"
     ]
    },
    {
     "data": {
      "application/vnd.jupyter.widget-view+json": {
       "model_id": "c9634211522048e4844b4b61ec4f14ae",
       "version_major": 2,
       "version_minor": 0
      },
      "text/plain": [
       "HBox(children=(IntProgress(value=0, max=314), HTML(value='')))"
      ]
     },
     "metadata": {},
     "output_type": "display_data"
    },
    {
     "name": "stdout",
     "output_type": "stream",
     "text": [
      "\n",
      "[ 48/150] lr: 0.00030, train_loss: 0.46200, train_recall/gr: 0.82096, train_recall/v: 0.85079, train_recall/c: 0.85339, train_recall/g: 0.81331, train_recall/tot: 0.83653 valid_loss: 0.05209, valid_recall/gr: 0.98695, valid_recall/v: 0.99444, valid_recall/c: 0.98936, valid_recall/g: 0.98460, valid_recall/tot: 0.98943, elasped: 221.1409788131714\n",
      "----------------------------------------------------------------------------------------------------\n",
      "Epoch: 49\n"
     ]
    },
    {
     "data": {
      "application/vnd.jupyter.widget-view+json": {
       "model_id": "b3ff18362363432b825690ee05770312",
       "version_major": 2,
       "version_minor": 0
      },
      "text/plain": [
       "HBox(children=(IntProgress(value=0, max=314), HTML(value='')))"
      ]
     },
     "metadata": {},
     "output_type": "display_data"
    },
    {
     "name": "stdout",
     "output_type": "stream",
     "text": [
      "\n",
      "[ 49/150] lr: 0.00030, train_loss: 0.52439, train_recall/gr: 0.77756, train_recall/v: 0.81211, train_recall/c: 0.81799, train_recall/g: 0.76749, train_recall/tot: 0.79631 valid_loss: 0.07369, valid_recall/gr: 0.98639, valid_recall/v: 0.99434, valid_recall/c: 0.99008, valid_recall/g: 0.98414, valid_recall/tot: 0.98930, elasped: 219.6577501296997\n",
      "----------------------------------------------------------------------------------------------------\n",
      "Epoch: 50\n"
     ]
    },
    {
     "data": {
      "application/vnd.jupyter.widget-view+json": {
       "model_id": "5ed6d23be13f4029bf445387e1b47f16",
       "version_major": 2,
       "version_minor": 0
      },
      "text/plain": [
       "HBox(children=(IntProgress(value=0, max=314), HTML(value='')))"
      ]
     },
     "metadata": {},
     "output_type": "display_data"
    },
    {
     "name": "stdout",
     "output_type": "stream",
     "text": [
      "Gradient overflow.  Skipping step, loss scaler 0 reducing loss scale to 524288.0\n",
      "\n",
      "[ 50/150] lr: 0.00030, train_loss: 0.53359, train_recall/gr: 0.79161, train_recall/v: 0.82694, train_recall/c: 0.83910, train_recall/g: 0.78193, train_recall/tot: 0.81232 valid_loss: 0.04963, valid_recall/gr: 0.98724, valid_recall/v: 0.99463, valid_recall/c: 0.99123, valid_recall/g: 0.98545, valid_recall/tot: 0.99009, elasped: 221.34836053848267\n",
      "----------------------------------------------------------------------------------------------------\n",
      "Epoch: 51\n"
     ]
    },
    {
     "data": {
      "application/vnd.jupyter.widget-view+json": {
       "model_id": "c23ce39192e442739cef9097a4850d69",
       "version_major": 2,
       "version_minor": 0
      },
      "text/plain": [
       "HBox(children=(IntProgress(value=0, max=314), HTML(value='')))"
      ]
     },
     "metadata": {},
     "output_type": "display_data"
    },
    {
     "name": "stdout",
     "output_type": "stream",
     "text": [
      "\n",
      "[ 51/150] lr: 0.00030, train_loss: 0.52315, train_recall/gr: 0.74051, train_recall/v: 0.78111, train_recall/c: 0.79269, train_recall/g: 0.73142, train_recall/tot: 0.76370 valid_loss: 0.07011, valid_recall/gr: 0.98708, valid_recall/v: 0.99447, valid_recall/c: 0.99037, valid_recall/g: 0.98487, valid_recall/tot: 0.98975, elasped: 220.61432147026062\n",
      "----------------------------------------------------------------------------------------------------\n",
      "Epoch: 52\n"
     ]
    },
    {
     "data": {
      "application/vnd.jupyter.widget-view+json": {
       "model_id": "8b39a7522b4248cb9350a2446bdaec5a",
       "version_major": 2,
       "version_minor": 0
      },
      "text/plain": [
       "HBox(children=(IntProgress(value=0, max=314), HTML(value='')))"
      ]
     },
     "metadata": {},
     "output_type": "display_data"
    },
    {
     "name": "stdout",
     "output_type": "stream",
     "text": [
      "\n",
      "Epoch    52: reducing learning rate of group 0 to 1.5000e-04.\n",
      "[ 52/150] lr: 0.00030, train_loss: 0.52080, train_recall/gr: 0.79478, train_recall/v: 0.82616, train_recall/c: 0.83554, train_recall/g: 0.78558, train_recall/tot: 0.81282 valid_loss: 0.05661, valid_recall/gr: 0.98628, valid_recall/v: 0.99462, valid_recall/c: 0.98940, valid_recall/g: 0.98397, valid_recall/tot: 0.98914, elasped: 222.07586884498596\n",
      "----------------------------------------------------------------------------------------------------\n",
      "Epoch: 53\n"
     ]
    },
    {
     "data": {
      "application/vnd.jupyter.widget-view+json": {
       "model_id": "86901205587249a19e1a43e5d28646e7",
       "version_major": 2,
       "version_minor": 0
      },
      "text/plain": [
       "HBox(children=(IntProgress(value=0, max=314), HTML(value='')))"
      ]
     },
     "metadata": {},
     "output_type": "display_data"
    },
    {
     "name": "stdout",
     "output_type": "stream",
     "text": [
      "\n",
      "[ 53/150] lr: 0.00015, train_loss: 0.50731, train_recall/gr: 0.77846, train_recall/v: 0.81329, train_recall/c: 0.82324, train_recall/g: 0.76973, train_recall/tot: 0.79836 valid_loss: 0.04848, valid_recall/gr: 0.98803, valid_recall/v: 0.99446, valid_recall/c: 0.99072, valid_recall/g: 0.98549, valid_recall/tot: 0.99031, elasped: 218.0929834842682\n",
      "----------------------------------------------------------------------------------------------------\n",
      "Epoch: 54\n"
     ]
    },
    {
     "data": {
      "application/vnd.jupyter.widget-view+json": {
       "model_id": "fa7c7b1b6a384c31bce61aa82750b134",
       "version_major": 2,
       "version_minor": 0
      },
      "text/plain": [
       "HBox(children=(IntProgress(value=0, max=314), HTML(value='')))"
      ]
     },
     "metadata": {},
     "output_type": "display_data"
    },
    {
     "name": "stdout",
     "output_type": "stream",
     "text": [
      "\n",
      "[ 54/150] lr: 0.00015, train_loss: 0.50860, train_recall/gr: 0.74268, train_recall/v: 0.78070, train_recall/c: 0.79593, train_recall/g: 0.73629, train_recall/tot: 0.76550 valid_loss: 0.05228, valid_recall/gr: 0.98722, valid_recall/v: 0.99437, valid_recall/c: 0.98890, valid_recall/g: 0.98465, valid_recall/tot: 0.98943, elasped: 222.12918543815613\n",
      "----------------------------------------------------------------------------------------------------\n",
      "Epoch: 55\n"
     ]
    },
    {
     "data": {
      "application/vnd.jupyter.widget-view+json": {
       "model_id": "e5117fb0c31d4eb6b07adb6dbbf8fc0f",
       "version_major": 2,
       "version_minor": 0
      },
      "text/plain": [
       "HBox(children=(IntProgress(value=0, max=314), HTML(value='')))"
      ]
     },
     "metadata": {},
     "output_type": "display_data"
    },
    {
     "name": "stdout",
     "output_type": "stream",
     "text": [
      "\n",
      "[ 55/150] lr: 0.00015, train_loss: 0.53028, train_recall/gr: 0.77327, train_recall/v: 0.81179, train_recall/c: 0.82455, train_recall/g: 0.76584, train_recall/tot: 0.79572 valid_loss: 0.05436, valid_recall/gr: 0.98714, valid_recall/v: 0.99468, valid_recall/c: 0.99016, valid_recall/g: 0.98478, valid_recall/tot: 0.98978, elasped: 221.09304022789001\n",
      "----------------------------------------------------------------------------------------------------\n",
      "Epoch: 56\n"
     ]
    },
    {
     "data": {
      "application/vnd.jupyter.widget-view+json": {
       "model_id": "2fe7f44ddfc84bc9a42ebcc6021dd331",
       "version_major": 2,
       "version_minor": 0
      },
      "text/plain": [
       "HBox(children=(IntProgress(value=0, max=314), HTML(value='')))"
      ]
     },
     "metadata": {},
     "output_type": "display_data"
    },
    {
     "name": "stdout",
     "output_type": "stream",
     "text": [
      "\n",
      "[ 56/150] lr: 0.00015, train_loss: 0.55292, train_recall/gr: 0.79115, train_recall/v: 0.82072, train_recall/c: 0.83722, train_recall/g: 0.78190, train_recall/tot: 0.81006 valid_loss: 0.07558, valid_recall/gr: 0.98610, valid_recall/v: 0.99393, valid_recall/c: 0.98871, valid_recall/g: 0.98351, valid_recall/tot: 0.98871, elasped: 221.27521777153015\n",
      "----------------------------------------------------------------------------------------------------\n",
      "Epoch: 57\n"
     ]
    },
    {
     "data": {
      "application/vnd.jupyter.widget-view+json": {
       "model_id": "fd3bc0730aaf402590313b184ebd4113",
       "version_major": 2,
       "version_minor": 0
      },
      "text/plain": [
       "HBox(children=(IntProgress(value=0, max=314), HTML(value='')))"
      ]
     },
     "metadata": {},
     "output_type": "display_data"
    },
    {
     "name": "stdout",
     "output_type": "stream",
     "text": [
      "\n",
      "Epoch    57: reducing learning rate of group 0 to 7.5000e-05.\n",
      "[ 57/150] lr: 0.00015, train_loss: 0.52845, train_recall/gr: 0.75883, train_recall/v: 0.79575, train_recall/c: 0.81056, train_recall/g: 0.75078, train_recall/tot: 0.78099 valid_loss: 0.06970, valid_recall/gr: 0.98611, valid_recall/v: 0.99412, valid_recall/c: 0.99002, valid_recall/g: 0.98412, valid_recall/tot: 0.98909, elasped: 222.99885272979736\n",
      "----------------------------------------------------------------------------------------------------\n",
      "Epoch: 58\n"
     ]
    },
    {
     "data": {
      "application/vnd.jupyter.widget-view+json": {
       "model_id": "1e1fc328c96746e98111ca267671c2a5",
       "version_major": 2,
       "version_minor": 0
      },
      "text/plain": [
       "HBox(children=(IntProgress(value=0, max=314), HTML(value='')))"
      ]
     },
     "metadata": {},
     "output_type": "display_data"
    },
    {
     "name": "stdout",
     "output_type": "stream",
     "text": [
      "\n",
      "[ 58/150] lr: 0.00007, train_loss: 0.53731, train_recall/gr: 0.76496, train_recall/v: 0.80227, train_recall/c: 0.81683, train_recall/g: 0.75696, train_recall/tot: 0.78726 valid_loss: 0.06683, valid_recall/gr: 0.98738, valid_recall/v: 0.99457, valid_recall/c: 0.99034, valid_recall/g: 0.98510, valid_recall/tot: 0.98992, elasped: 221.84538865089417\n",
      "----------------------------------------------------------------------------------------------------\n",
      "Epoch: 59\n"
     ]
    },
    {
     "data": {
      "application/vnd.jupyter.widget-view+json": {
       "model_id": "e0f1c77723b04de0876e53fcaf54fb9e",
       "version_major": 2,
       "version_minor": 0
      },
      "text/plain": [
       "HBox(children=(IntProgress(value=0, max=314), HTML(value='')))"
      ]
     },
     "metadata": {},
     "output_type": "display_data"
    },
    {
     "name": "stdout",
     "output_type": "stream",
     "text": [
      "Gradient overflow.  Skipping step, loss scaler 0 reducing loss scale to 524288.0\n",
      "\n",
      "[ 59/150] lr: 0.00007, train_loss: 0.53052, train_recall/gr: 0.73476, train_recall/v: 0.77447, train_recall/c: 0.79072, train_recall/g: 0.72637, train_recall/tot: 0.75868 valid_loss: 0.05710, valid_recall/gr: 0.98629, valid_recall/v: 0.99450, valid_recall/c: 0.98935, valid_recall/g: 0.98399, valid_recall/tot: 0.98911, elasped: 220.68939304351807\n",
      "----------------------------------------------------------------------------------------------------\n",
      "Epoch: 60\n"
     ]
    },
    {
     "data": {
      "application/vnd.jupyter.widget-view+json": {
       "model_id": "60b05b44b56a41e7946705ed5b06651f",
       "version_major": 2,
       "version_minor": 0
      },
      "text/plain": [
       "HBox(children=(IntProgress(value=0, max=314), HTML(value='')))"
      ]
     },
     "metadata": {},
     "output_type": "display_data"
    },
    {
     "name": "stdout",
     "output_type": "stream",
     "text": [
      "\n",
      "[ 60/150] lr: 0.00007, train_loss: 0.50053, train_recall/gr: 0.77229, train_recall/v: 0.80750, train_recall/c: 0.82425, train_recall/g: 0.76444, train_recall/tot: 0.79409 valid_loss: 0.07067, valid_recall/gr: 0.98741, valid_recall/v: 0.99462, valid_recall/c: 0.98978, valid_recall/g: 0.98533, valid_recall/tot: 0.98980, elasped: 221.3572392463684\n",
      "----------------------------------------------------------------------------------------------------\n",
      "Epoch: 61\n"
     ]
    },
    {
     "data": {
      "application/vnd.jupyter.widget-view+json": {
       "model_id": "13770708ce4a413aa195ab8ef00f4d5e",
       "version_major": 2,
       "version_minor": 0
      },
      "text/plain": [
       "HBox(children=(IntProgress(value=0, max=314), HTML(value='')))"
      ]
     },
     "metadata": {},
     "output_type": "display_data"
    },
    {
     "name": "stdout",
     "output_type": "stream",
     "text": [
      "\n",
      "[ 61/150] lr: 0.00007, train_loss: 0.51101, train_recall/gr: 0.77908, train_recall/v: 0.81406, train_recall/c: 0.82430, train_recall/g: 0.77078, train_recall/tot: 0.79913 valid_loss: 0.05916, valid_recall/gr: 0.98737, valid_recall/v: 0.99457, valid_recall/c: 0.99022, valid_recall/g: 0.98539, valid_recall/tot: 0.98988, elasped: 222.67444491386414\n",
      "----------------------------------------------------------------------------------------------------\n",
      "Epoch: 62\n"
     ]
    },
    {
     "data": {
      "application/vnd.jupyter.widget-view+json": {
       "model_id": "6fe324b57a0743828d5a30f08a6c44b8",
       "version_major": 2,
       "version_minor": 0
      },
      "text/plain": [
       "HBox(children=(IntProgress(value=0, max=314), HTML(value='')))"
      ]
     },
     "metadata": {},
     "output_type": "display_data"
    },
    {
     "name": "stdout",
     "output_type": "stream",
     "text": [
      "\n",
      "[ 62/150] lr: 0.00007, train_loss: 0.52929, train_recall/gr: 0.78741, train_recall/v: 0.82247, train_recall/c: 0.82837, train_recall/g: 0.77890, train_recall/tot: 0.80642 valid_loss: 0.04967, valid_recall/gr: 0.98863, valid_recall/v: 0.99472, valid_recall/c: 0.99129, valid_recall/g: 0.98627, valid_recall/tot: 0.99082, elasped: 221.759836435318\n",
      "----------------------------------------------------------------------------------------------------\n",
      "Epoch: 63\n"
     ]
    },
    {
     "data": {
      "application/vnd.jupyter.widget-view+json": {
       "model_id": "08326f1d411c453c9221cb5879be34fe",
       "version_major": 2,
       "version_minor": 0
      },
      "text/plain": [
       "HBox(children=(IntProgress(value=0, max=314), HTML(value='')))"
      ]
     },
     "metadata": {},
     "output_type": "display_data"
    },
    {
     "name": "stdout",
     "output_type": "stream",
     "text": [
      "\n",
      "[ 63/150] lr: 0.00007, train_loss: 0.51120, train_recall/gr: 0.78450, train_recall/v: 0.81527, train_recall/c: 0.82450, train_recall/g: 0.77434, train_recall/tot: 0.80219 valid_loss: 0.04774, valid_recall/gr: 0.98790, valid_recall/v: 0.99484, valid_recall/c: 0.98961, valid_recall/g: 0.98590, valid_recall/tot: 0.99006, elasped: 221.63487577438354\n",
      "----------------------------------------------------------------------------------------------------\n",
      "Epoch: 64\n"
     ]
    },
    {
     "data": {
      "application/vnd.jupyter.widget-view+json": {
       "model_id": "cc435310605d495db4a16f4b179b88c8",
       "version_major": 2,
       "version_minor": 0
      },
      "text/plain": [
       "HBox(children=(IntProgress(value=0, max=314), HTML(value='')))"
      ]
     },
     "metadata": {},
     "output_type": "display_data"
    },
    {
     "name": "stdout",
     "output_type": "stream",
     "text": [
      "\n",
      "[ 64/150] lr: 0.00007, train_loss: 0.52494, train_recall/gr: 0.73680, train_recall/v: 0.77706, train_recall/c: 0.78832, train_recall/g: 0.73003, train_recall/tot: 0.75975 valid_loss: 0.05519, valid_recall/gr: 0.98807, valid_recall/v: 0.99478, valid_recall/c: 0.99132, valid_recall/g: 0.98621, valid_recall/tot: 0.99056, elasped: 221.11149096488953\n",
      "----------------------------------------------------------------------------------------------------\n",
      "Epoch: 65\n"
     ]
    },
    {
     "data": {
      "application/vnd.jupyter.widget-view+json": {
       "model_id": "7744ede9452d4a5583814fee1e506adc",
       "version_major": 2,
       "version_minor": 0
      },
      "text/plain": [
       "HBox(children=(IntProgress(value=0, max=314), HTML(value='')))"
      ]
     },
     "metadata": {},
     "output_type": "display_data"
    },
    {
     "name": "stdout",
     "output_type": "stream",
     "text": [
      "\n",
      "[ 65/150] lr: 0.00007, train_loss: 0.48667, train_recall/gr: 0.78410, train_recall/v: 0.81973, train_recall/c: 0.83044, train_recall/g: 0.77726, train_recall/tot: 0.80459 valid_loss: 0.04637, valid_recall/gr: 0.98775, valid_recall/v: 0.99477, valid_recall/c: 0.98975, valid_recall/g: 0.98528, valid_recall/tot: 0.99000, elasped: 221.78019952774048\n",
      "----------------------------------------------------------------------------------------------------\n",
      "Epoch: 66\n"
     ]
    },
    {
     "data": {
      "application/vnd.jupyter.widget-view+json": {
       "model_id": "476423afea2e43bfb7fbc457d3a4e4fc",
       "version_major": 2,
       "version_minor": 0
      },
      "text/plain": [
       "HBox(children=(IntProgress(value=0, max=314), HTML(value='')))"
      ]
     },
     "metadata": {},
     "output_type": "display_data"
    },
    {
     "name": "stdout",
     "output_type": "stream",
     "text": [
      "\n",
      "[ 66/150] lr: 0.00007, train_loss: 0.57000, train_recall/gr: 0.75684, train_recall/v: 0.79639, train_recall/c: 0.80473, train_recall/g: 0.74892, train_recall/tot: 0.77870 valid_loss: 0.05570, valid_recall/gr: 0.98682, valid_recall/v: 0.99445, valid_recall/c: 0.98906, valid_recall/g: 0.98440, valid_recall/tot: 0.98929, elasped: 219.99402523040771\n",
      "----------------------------------------------------------------------------------------------------\n",
      "Epoch: 67\n"
     ]
    },
    {
     "data": {
      "application/vnd.jupyter.widget-view+json": {
       "model_id": "6ebc43acf5804a72b70e4c7788dce8c6",
       "version_major": 2,
       "version_minor": 0
      },
      "text/plain": [
       "HBox(children=(IntProgress(value=0, max=314), HTML(value='')))"
      ]
     },
     "metadata": {},
     "output_type": "display_data"
    },
    {
     "name": "stdout",
     "output_type": "stream",
     "text": [
      "\n",
      "Epoch    67: reducing learning rate of group 0 to 3.7500e-05.\n",
      "[ 67/150] lr: 0.00007, train_loss: 0.49256, train_recall/gr: 0.79713, train_recall/v: 0.82725, train_recall/c: 0.83692, train_recall/g: 0.78931, train_recall/tot: 0.81461 valid_loss: 0.07112, valid_recall/gr: 0.98698, valid_recall/v: 0.99450, valid_recall/c: 0.98890, valid_recall/g: 0.98467, valid_recall/tot: 0.98934, elasped: 220.97211480140686\n",
      "----------------------------------------------------------------------------------------------------\n",
      "Epoch: 68\n"
     ]
    },
    {
     "data": {
      "application/vnd.jupyter.widget-view+json": {
       "model_id": "ccd0664a3461433b854a8d3ba26abad0",
       "version_major": 2,
       "version_minor": 0
      },
      "text/plain": [
       "HBox(children=(IntProgress(value=0, max=314), HTML(value='')))"
      ]
     },
     "metadata": {},
     "output_type": "display_data"
    },
    {
     "name": "stdout",
     "output_type": "stream",
     "text": [
      "\n",
      "[ 68/150] lr: 0.00004, train_loss: 0.55970, train_recall/gr: 0.76094, train_recall/v: 0.80215, train_recall/c: 0.80743, train_recall/g: 0.75252, train_recall/tot: 0.78286 valid_loss: 0.06777, valid_recall/gr: 0.98698, valid_recall/v: 0.99452, valid_recall/c: 0.98981, valid_recall/g: 0.98483, valid_recall/tot: 0.98957, elasped: 222.5805733203888\n",
      "----------------------------------------------------------------------------------------------------\n",
      "Epoch: 69\n"
     ]
    },
    {
     "data": {
      "application/vnd.jupyter.widget-view+json": {
       "model_id": "c1dca6202bdb4fd5b9f2c36c327f8cbf",
       "version_major": 2,
       "version_minor": 0
      },
      "text/plain": [
       "HBox(children=(IntProgress(value=0, max=314), HTML(value='')))"
      ]
     },
     "metadata": {},
     "output_type": "display_data"
    },
    {
     "name": "stdout",
     "output_type": "stream",
     "text": [
      "\n",
      "[ 69/150] lr: 0.00004, train_loss: 0.51126, train_recall/gr: 0.73779, train_recall/v: 0.77441, train_recall/c: 0.79687, train_recall/g: 0.73009, train_recall/tot: 0.76172 valid_loss: 0.05018, valid_recall/gr: 0.98798, valid_recall/v: 0.99456, valid_recall/c: 0.99005, valid_recall/g: 0.98559, valid_recall/tot: 0.99014, elasped: 223.70637726783752\n",
      "----------------------------------------------------------------------------------------------------\n",
      "Epoch: 70\n"
     ]
    },
    {
     "data": {
      "application/vnd.jupyter.widget-view+json": {
       "model_id": "b17cff23dbc44387832f8e1908377d77",
       "version_major": 2,
       "version_minor": 0
      },
      "text/plain": [
       "HBox(children=(IntProgress(value=0, max=314), HTML(value='')))"
      ]
     },
     "metadata": {},
     "output_type": "display_data"
    },
    {
     "name": "stdout",
     "output_type": "stream",
     "text": [
      "\n",
      "[ 70/150] lr: 0.00004, train_loss: 0.50272, train_recall/gr: 0.79009, train_recall/v: 0.82283, train_recall/c: 0.83540, train_recall/g: 0.78254, train_recall/tot: 0.80960 valid_loss: 0.05032, valid_recall/gr: 0.98755, valid_recall/v: 0.99458, valid_recall/c: 0.98903, valid_recall/g: 0.98543, valid_recall/tot: 0.98968, elasped: 221.23701453208923\n",
      "----------------------------------------------------------------------------------------------------\n",
      "Epoch: 71\n"
     ]
    },
    {
     "data": {
      "application/vnd.jupyter.widget-view+json": {
       "model_id": "b774263e6efa47b6961c1daa51130748",
       "version_major": 2,
       "version_minor": 0
      },
      "text/plain": [
       "HBox(children=(IntProgress(value=0, max=314), HTML(value='')))"
      ]
     },
     "metadata": {},
     "output_type": "display_data"
    },
    {
     "name": "stdout",
     "output_type": "stream",
     "text": [
      "\n",
      "[ 71/150] lr: 0.00004, train_loss: 0.44420, train_recall/gr: 0.81320, train_recall/v: 0.84277, train_recall/c: 0.84899, train_recall/g: 0.80504, train_recall/tot: 0.82954 valid_loss: 0.05039, valid_recall/gr: 0.98826, valid_recall/v: 0.99464, valid_recall/c: 0.98979, valid_recall/g: 0.98583, valid_recall/tot: 0.99023, elasped: 223.2408664226532\n",
      "----------------------------------------------------------------------------------------------------\n",
      "Epoch: 72\n"
     ]
    },
    {
     "data": {
      "application/vnd.jupyter.widget-view+json": {
       "model_id": "14ee7d3f036b406db395cc1606b1d8a7",
       "version_major": 2,
       "version_minor": 0
      },
      "text/plain": [
       "HBox(children=(IntProgress(value=0, max=314), HTML(value='')))"
      ]
     },
     "metadata": {},
     "output_type": "display_data"
    },
    {
     "name": "stdout",
     "output_type": "stream",
     "text": [
      "\n",
      "Epoch    72: reducing learning rate of group 0 to 1.8750e-05.\n",
      "[ 72/150] lr: 0.00004, train_loss: 0.48059, train_recall/gr: 0.75571, train_recall/v: 0.79474, train_recall/c: 0.80714, train_recall/g: 0.74895, train_recall/tot: 0.77833 valid_loss: 0.06635, valid_recall/gr: 0.98639, valid_recall/v: 0.99428, valid_recall/c: 0.98874, valid_recall/g: 0.98397, valid_recall/tot: 0.98895, elasped: 220.0304663181305\n",
      "----------------------------------------------------------------------------------------------------\n",
      "Epoch: 73\n"
     ]
    },
    {
     "data": {
      "application/vnd.jupyter.widget-view+json": {
       "model_id": "15c00f98f8104b81b184cb8c2630e097",
       "version_major": 2,
       "version_minor": 0
      },
      "text/plain": [
       "HBox(children=(IntProgress(value=0, max=314), HTML(value='')))"
      ]
     },
     "metadata": {},
     "output_type": "display_data"
    },
    {
     "name": "stdout",
     "output_type": "stream",
     "text": [
      "Gradient overflow.  Skipping step, loss scaler 0 reducing loss scale to 1048576.0\n",
      "\n",
      "[ 73/150] lr: 0.00002, train_loss: 0.55895, train_recall/gr: 0.74343, train_recall/v: 0.78332, train_recall/c: 0.79327, train_recall/g: 0.73530, train_recall/tot: 0.76586 valid_loss: 0.05216, valid_recall/gr: 0.98793, valid_recall/v: 0.99464, valid_recall/c: 0.98962, valid_recall/g: 0.98574, valid_recall/tot: 0.99003, elasped: 222.67449975013733\n",
      "----------------------------------------------------------------------------------------------------\n",
      "Epoch: 74\n"
     ]
    },
    {
     "data": {
      "application/vnd.jupyter.widget-view+json": {
       "model_id": "d2e40cbd421c412cac94d25acc3f0099",
       "version_major": 2,
       "version_minor": 0
      },
      "text/plain": [
       "HBox(children=(IntProgress(value=0, max=314), HTML(value='')))"
      ]
     },
     "metadata": {},
     "output_type": "display_data"
    },
    {
     "name": "stdout",
     "output_type": "stream",
     "text": [
      "\n",
      "[ 74/150] lr: 0.00002, train_loss: 0.49776, train_recall/gr: 0.79607, train_recall/v: 0.82898, train_recall/c: 0.83911, train_recall/g: 0.78914, train_recall/tot: 0.81506 valid_loss: 0.07459, valid_recall/gr: 0.98598, valid_recall/v: 0.99401, valid_recall/c: 0.98895, valid_recall/g: 0.98337, valid_recall/tot: 0.98873, elasped: 224.36359763145447\n",
      "----------------------------------------------------------------------------------------------------\n",
      "Epoch: 75\n"
     ]
    },
    {
     "data": {
      "application/vnd.jupyter.widget-view+json": {
       "model_id": "45b5ddc5c4014e7eb8e42b34a07e33fd",
       "version_major": 2,
       "version_minor": 0
      },
      "text/plain": [
       "HBox(children=(IntProgress(value=0, max=314), HTML(value='')))"
      ]
     },
     "metadata": {},
     "output_type": "display_data"
    },
    {
     "name": "stdout",
     "output_type": "stream",
     "text": [
      "Gradient overflow.  Skipping step, loss scaler 0 reducing loss scale to 524288.0\n",
      "\n",
      "[ 75/150] lr: 0.00002, train_loss: 0.49781, train_recall/gr: 0.79572, train_recall/v: 0.83039, train_recall/c: 0.83898, train_recall/g: 0.78803, train_recall/tot: 0.81520 valid_loss: 0.04706, valid_recall/gr: 0.98800, valid_recall/v: 0.99479, valid_recall/c: 0.99013, valid_recall/g: 0.98574, valid_recall/tot: 0.99023, elasped: 221.9488582611084\n",
      "----------------------------------------------------------------------------------------------------\n",
      "Epoch: 76\n"
     ]
    },
    {
     "data": {
      "application/vnd.jupyter.widget-view+json": {
       "model_id": "a237633a061841539b286e01e1afee8b",
       "version_major": 2,
       "version_minor": 0
      },
      "text/plain": [
       "HBox(children=(IntProgress(value=0, max=314), HTML(value='')))"
      ]
     },
     "metadata": {},
     "output_type": "display_data"
    },
    {
     "name": "stdout",
     "output_type": "stream",
     "text": [
      "\n",
      "[ 76/150] lr: 0.00002, train_loss: 0.50595, train_recall/gr: 0.78620, train_recall/v: 0.82130, train_recall/c: 0.83286, train_recall/g: 0.77872, train_recall/tot: 0.80664 valid_loss: 0.06114, valid_recall/gr: 0.98697, valid_recall/v: 0.99429, valid_recall/c: 0.98938, valid_recall/g: 0.98447, valid_recall/tot: 0.98940, elasped: 221.07487535476685\n",
      "----------------------------------------------------------------------------------------------------\n",
      "Epoch: 77\n"
     ]
    },
    {
     "data": {
      "application/vnd.jupyter.widget-view+json": {
       "model_id": "f769afda24d14f3ca89eaef119937604",
       "version_major": 2,
       "version_minor": 0
      },
      "text/plain": [
       "HBox(children=(IntProgress(value=0, max=314), HTML(value='')))"
      ]
     },
     "metadata": {},
     "output_type": "display_data"
    },
    {
     "name": "stdout",
     "output_type": "stream",
     "text": [
      "\n",
      "Epoch    77: reducing learning rate of group 0 to 9.3750e-06.\n",
      "[ 77/150] lr: 0.00002, train_loss: 0.52986, train_recall/gr: 0.78604, train_recall/v: 0.82033, train_recall/c: 0.82891, train_recall/g: 0.77504, train_recall/tot: 0.80533 valid_loss: 0.05216, valid_recall/gr: 0.98768, valid_recall/v: 0.99463, valid_recall/c: 0.99048, valid_recall/g: 0.98527, valid_recall/tot: 0.99012, elasped: 221.58351945877075\n",
      "----------------------------------------------------------------------------------------------------\n",
      "Epoch: 78\n"
     ]
    },
    {
     "data": {
      "application/vnd.jupyter.widget-view+json": {
       "model_id": "6452268bc33c4ed9aaae86fdb18b7ec3",
       "version_major": 2,
       "version_minor": 0
      },
      "text/plain": [
       "HBox(children=(IntProgress(value=0, max=314), HTML(value='')))"
      ]
     },
     "metadata": {},
     "output_type": "display_data"
    },
    {
     "name": "stdout",
     "output_type": "stream",
     "text": [
      "\n",
      "[ 78/150] lr: 0.00001, train_loss: 0.51141, train_recall/gr: 0.78023, train_recall/v: 0.81235, train_recall/c: 0.82511, train_recall/g: 0.77107, train_recall/tot: 0.79948 valid_loss: 0.05788, valid_recall/gr: 0.98758, valid_recall/v: 0.99441, valid_recall/c: 0.98962, valid_recall/g: 0.98520, valid_recall/tot: 0.98979, elasped: 221.8586437702179\n",
      "----------------------------------------------------------------------------------------------------\n",
      "Epoch: 79\n"
     ]
    },
    {
     "data": {
      "application/vnd.jupyter.widget-view+json": {
       "model_id": "49d296f9c45445b1ae30774005b3b6b7",
       "version_major": 2,
       "version_minor": 0
      },
      "text/plain": [
       "HBox(children=(IntProgress(value=0, max=314), HTML(value='')))"
      ]
     },
     "metadata": {},
     "output_type": "display_data"
    },
    {
     "name": "stdout",
     "output_type": "stream",
     "text": [
      "\n",
      "[ 79/150] lr: 0.00001, train_loss: 0.49944, train_recall/gr: 0.79296, train_recall/v: 0.82798, train_recall/c: 0.84023, train_recall/g: 0.78689, train_recall/tot: 0.81353 valid_loss: 0.04492, valid_recall/gr: 0.98895, valid_recall/v: 0.99503, valid_recall/c: 0.99150, valid_recall/g: 0.98640, valid_recall/tot: 0.99111, elasped: 223.75919127464294\n",
      "----------------------------------------------------------------------------------------------------\n",
      "Epoch: 80\n"
     ]
    },
    {
     "data": {
      "application/vnd.jupyter.widget-view+json": {
       "model_id": "31cff308587c405c8a39e7c2e11f16a4",
       "version_major": 2,
       "version_minor": 0
      },
      "text/plain": [
       "HBox(children=(IntProgress(value=0, max=314), HTML(value='')))"
      ]
     },
     "metadata": {},
     "output_type": "display_data"
    },
    {
     "name": "stdout",
     "output_type": "stream",
     "text": [
      "\n",
      "[ 80/150] lr: 0.00001, train_loss: 0.49932, train_recall/gr: 0.79202, train_recall/v: 0.82662, train_recall/c: 0.83234, train_recall/g: 0.78376, train_recall/tot: 0.81075 valid_loss: 0.06645, valid_recall/gr: 0.98764, valid_recall/v: 0.99435, valid_recall/c: 0.99083, valid_recall/g: 0.98545, valid_recall/tot: 0.99012, elasped: 220.6398344039917\n",
      "----------------------------------------------------------------------------------------------------\n",
      "Epoch: 81\n"
     ]
    },
    {
     "data": {
      "application/vnd.jupyter.widget-view+json": {
       "model_id": "2cb9a90496f543568b531a9207633fb4",
       "version_major": 2,
       "version_minor": 0
      },
      "text/plain": [
       "HBox(children=(IntProgress(value=0, max=314), HTML(value='')))"
      ]
     },
     "metadata": {},
     "output_type": "display_data"
    },
    {
     "name": "stdout",
     "output_type": "stream",
     "text": [
      "\n",
      "[ 81/150] lr: 0.00001, train_loss: 0.46382, train_recall/gr: 0.79645, train_recall/v: 0.82802, train_recall/c: 0.83419, train_recall/g: 0.78985, train_recall/tot: 0.81378 valid_loss: 0.04841, valid_recall/gr: 0.98825, valid_recall/v: 0.99466, valid_recall/c: 0.98905, valid_recall/g: 0.98583, valid_recall/tot: 0.99005, elasped: 222.19977235794067\n",
      "----------------------------------------------------------------------------------------------------\n",
      "Epoch: 82\n"
     ]
    },
    {
     "data": {
      "application/vnd.jupyter.widget-view+json": {
       "model_id": "367d0fac52784cab930f962b17e62da3",
       "version_major": 2,
       "version_minor": 0
      },
      "text/plain": [
       "HBox(children=(IntProgress(value=0, max=314), HTML(value='')))"
      ]
     },
     "metadata": {},
     "output_type": "display_data"
    },
    {
     "name": "stdout",
     "output_type": "stream",
     "text": [
      "\n",
      "[ 82/150] lr: 0.00001, train_loss: 0.53647, train_recall/gr: 0.74493, train_recall/v: 0.78479, train_recall/c: 0.79494, train_recall/g: 0.73741, train_recall/tot: 0.76740 valid_loss: 0.06457, valid_recall/gr: 0.98742, valid_recall/v: 0.99450, valid_recall/c: 0.98912, valid_recall/g: 0.98503, valid_recall/tot: 0.98962, elasped: 221.94488739967346\n",
      "----------------------------------------------------------------------------------------------------\n",
      "Epoch: 83\n"
     ]
    },
    {
     "data": {
      "application/vnd.jupyter.widget-view+json": {
       "model_id": "e1c6ec12b002476aa264ff13668a4d10",
       "version_major": 2,
       "version_minor": 0
      },
      "text/plain": [
       "HBox(children=(IntProgress(value=0, max=314), HTML(value='')))"
      ]
     },
     "metadata": {},
     "output_type": "display_data"
    },
    {
     "name": "stdout",
     "output_type": "stream",
     "text": [
      "Gradient overflow.  Skipping step, loss scaler 0 reducing loss scale to 524288.0\n",
      "\n",
      "[ 83/150] lr: 0.00001, train_loss: 0.52939, train_recall/gr: 0.77829, train_recall/v: 0.81512, train_recall/c: 0.81809, train_recall/g: 0.76669, train_recall/tot: 0.79745 valid_loss: 0.04789, valid_recall/gr: 0.98785, valid_recall/v: 0.99454, valid_recall/c: 0.99009, valid_recall/g: 0.98534, valid_recall/tot: 0.99008, elasped: 221.2346067428589\n",
      "----------------------------------------------------------------------------------------------------\n",
      "Epoch: 84\n"
     ]
    },
    {
     "data": {
      "application/vnd.jupyter.widget-view+json": {
       "model_id": "cad41a56a05e47f385f1e76f40e5ae1c",
       "version_major": 2,
       "version_minor": 0
      },
      "text/plain": [
       "HBox(children=(IntProgress(value=0, max=314), HTML(value='')))"
      ]
     },
     "metadata": {},
     "output_type": "display_data"
    },
    {
     "name": "stdout",
     "output_type": "stream",
     "text": [
      "\n",
      "Epoch    84: reducing learning rate of group 0 to 4.6875e-06.\n",
      "[ 84/150] lr: 0.00001, train_loss: 0.46531, train_recall/gr: 0.80972, train_recall/v: 0.84021, train_recall/c: 0.84993, train_recall/g: 0.80243, train_recall/tot: 0.82739 valid_loss: 0.04633, valid_recall/gr: 0.98843, valid_recall/v: 0.99497, valid_recall/c: 0.99059, valid_recall/g: 0.98639, valid_recall/tot: 0.99060, elasped: 223.20422291755676\n",
      "----------------------------------------------------------------------------------------------------\n",
      "Epoch: 85\n"
     ]
    },
    {
     "data": {
      "application/vnd.jupyter.widget-view+json": {
       "model_id": "56ada3866b8c49779306a45afbfea0fc",
       "version_major": 2,
       "version_minor": 0
      },
      "text/plain": [
       "HBox(children=(IntProgress(value=0, max=314), HTML(value='')))"
      ]
     },
     "metadata": {},
     "output_type": "display_data"
    },
    {
     "name": "stdout",
     "output_type": "stream",
     "text": [
      "\n",
      "[ 85/150] lr: 0.00000, train_loss: 0.51781, train_recall/gr: 0.79065, train_recall/v: 0.82304, train_recall/c: 0.83675, train_recall/g: 0.78418, train_recall/tot: 0.81027 valid_loss: 0.04987, valid_recall/gr: 0.98803, valid_recall/v: 0.99467, valid_recall/c: 0.98936, valid_recall/g: 0.98548, valid_recall/tot: 0.99002, elasped: 221.92424988746643\n",
      "----------------------------------------------------------------------------------------------------\n",
      "Epoch: 86\n"
     ]
    },
    {
     "data": {
      "application/vnd.jupyter.widget-view+json": {
       "model_id": "11a4c2621112494a80dfe8fe90e37e5f",
       "version_major": 2,
       "version_minor": 0
      },
      "text/plain": [
       "HBox(children=(IntProgress(value=0, max=314), HTML(value='')))"
      ]
     },
     "metadata": {},
     "output_type": "display_data"
    },
    {
     "name": "stdout",
     "output_type": "stream",
     "text": [
      "\n",
      "[ 86/150] lr: 0.00000, train_loss: 0.48572, train_recall/gr: 0.80195, train_recall/v: 0.83602, train_recall/c: 0.85092, train_recall/g: 0.79727, train_recall/tot: 0.82271 valid_loss: 0.06466, valid_recall/gr: 0.98602, valid_recall/v: 0.99419, valid_recall/c: 0.98892, valid_recall/g: 0.98361, valid_recall/tot: 0.98879, elasped: 222.33877730369568\n",
      "----------------------------------------------------------------------------------------------------\n",
      "Epoch: 87\n"
     ]
    },
    {
     "data": {
      "application/vnd.jupyter.widget-view+json": {
       "model_id": "662d1d4beea34abc8a921a19647273d6",
       "version_major": 2,
       "version_minor": 0
      },
      "text/plain": [
       "HBox(children=(IntProgress(value=0, max=314), HTML(value='')))"
      ]
     },
     "metadata": {},
     "output_type": "display_data"
    },
    {
     "name": "stdout",
     "output_type": "stream",
     "text": [
      "\n",
      "[ 87/150] lr: 0.00000, train_loss: 0.46651, train_recall/gr: 0.80485, train_recall/v: 0.83284, train_recall/c: 0.84818, train_recall/g: 0.79657, train_recall/tot: 0.82268 valid_loss: 0.09546, valid_recall/gr: 0.98560, valid_recall/v: 0.99375, valid_recall/c: 0.98844, valid_recall/g: 0.98300, valid_recall/tot: 0.98835, elasped: 221.460764169693\n",
      "----------------------------------------------------------------------------------------------------\n",
      "Epoch: 88\n"
     ]
    },
    {
     "data": {
      "application/vnd.jupyter.widget-view+json": {
       "model_id": "3801c5af0f5442edb782427f31c3ae92",
       "version_major": 2,
       "version_minor": 0
      },
      "text/plain": [
       "HBox(children=(IntProgress(value=0, max=314), HTML(value='')))"
      ]
     },
     "metadata": {},
     "output_type": "display_data"
    },
    {
     "name": "stdout",
     "output_type": "stream",
     "text": [
      "\n",
      "[ 88/150] lr: 0.00000, train_loss: 0.50119, train_recall/gr: 0.75248, train_recall/v: 0.78576, train_recall/c: 0.79768, train_recall/g: 0.74141, train_recall/tot: 0.77210 valid_loss: 0.05478, valid_recall/gr: 0.98822, valid_recall/v: 0.99476, valid_recall/c: 0.98944, valid_recall/g: 0.98570, valid_recall/tot: 0.99016, elasped: 221.9033501148224\n",
      "----------------------------------------------------------------------------------------------------\n",
      "Epoch: 89\n"
     ]
    },
    {
     "data": {
      "application/vnd.jupyter.widget-view+json": {
       "model_id": "ddae6bf455044ad4ae598a5193aafd35",
       "version_major": 2,
       "version_minor": 0
      },
      "text/plain": [
       "HBox(children=(IntProgress(value=0, max=314), HTML(value='')))"
      ]
     },
     "metadata": {},
     "output_type": "display_data"
    },
    {
     "name": "stdout",
     "output_type": "stream",
     "text": [
      "\n",
      "Epoch    89: reducing learning rate of group 0 to 2.3437e-06.\n",
      "[ 89/150] lr: 0.00000, train_loss: 0.52387, train_recall/gr: 0.76033, train_recall/v: 0.80173, train_recall/c: 0.80976, train_recall/g: 0.75538, train_recall/tot: 0.78304 valid_loss: 0.04591, valid_recall/gr: 0.98866, valid_recall/v: 0.99468, valid_recall/c: 0.99030, valid_recall/g: 0.98626, valid_recall/tot: 0.99058, elasped: 220.83324766159058\n",
      "----------------------------------------------------------------------------------------------------\n",
      "Epoch: 90\n"
     ]
    },
    {
     "data": {
      "application/vnd.jupyter.widget-view+json": {
       "model_id": "048faba114024502a829100382a1f976",
       "version_major": 2,
       "version_minor": 0
      },
      "text/plain": [
       "HBox(children=(IntProgress(value=0, max=314), HTML(value='')))"
      ]
     },
     "metadata": {},
     "output_type": "display_data"
    },
    {
     "name": "stdout",
     "output_type": "stream",
     "text": [
      "\n",
      "[ 90/150] lr: 0.00000, train_loss: 0.51993, train_recall/gr: 0.78278, train_recall/v: 0.81832, train_recall/c: 0.82424, train_recall/g: 0.77431, train_recall/tot: 0.80203 valid_loss: 0.04802, valid_recall/gr: 0.98766, valid_recall/v: 0.99456, valid_recall/c: 0.98948, valid_recall/g: 0.98532, valid_recall/tot: 0.98984, elasped: 222.20766711235046\n",
      "----------------------------------------------------------------------------------------------------\n",
      "Epoch: 91\n"
     ]
    },
    {
     "data": {
      "application/vnd.jupyter.widget-view+json": {
       "model_id": "43be54aa3ff448a8b87785499e4ee077",
       "version_major": 2,
       "version_minor": 0
      },
      "text/plain": [
       "HBox(children=(IntProgress(value=0, max=314), HTML(value='')))"
      ]
     },
     "metadata": {},
     "output_type": "display_data"
    },
    {
     "name": "stdout",
     "output_type": "stream",
     "text": [
      "\n",
      "[ 91/150] lr: 0.00000, train_loss: 0.54886, train_recall/gr: 0.78137, train_recall/v: 0.81934, train_recall/c: 0.82588, train_recall/g: 0.77515, train_recall/tot: 0.80199 valid_loss: 0.05134, valid_recall/gr: 0.98816, valid_recall/v: 0.99481, valid_recall/c: 0.99011, valid_recall/g: 0.98588, valid_recall/tot: 0.99031, elasped: 222.3293023109436\n",
      "----------------------------------------------------------------------------------------------------\n",
      "Epoch: 92\n"
     ]
    },
    {
     "data": {
      "application/vnd.jupyter.widget-view+json": {
       "model_id": "d01e1c511cf1411cbff05569432c2cea",
       "version_major": 2,
       "version_minor": 0
      },
      "text/plain": [
       "HBox(children=(IntProgress(value=0, max=314), HTML(value='')))"
      ]
     },
     "metadata": {},
     "output_type": "display_data"
    },
    {
     "name": "stdout",
     "output_type": "stream",
     "text": [
      "\n",
      "[ 92/150] lr: 0.00000, train_loss: 0.51030, train_recall/gr: 0.79466, train_recall/v: 0.83010, train_recall/c: 0.84565, train_recall/g: 0.78874, train_recall/tot: 0.81627 valid_loss: 0.05811, valid_recall/gr: 0.98878, valid_recall/v: 0.99484, valid_recall/c: 0.99074, valid_recall/g: 0.98635, valid_recall/tot: 0.99079, elasped: 221.77075290679932\n",
      "----------------------------------------------------------------------------------------------------\n",
      "Epoch: 93\n"
     ]
    },
    {
     "data": {
      "application/vnd.jupyter.widget-view+json": {
       "model_id": "87b6569357374ff1922f1570486be8f5",
       "version_major": 2,
       "version_minor": 0
      },
      "text/plain": [
       "HBox(children=(IntProgress(value=0, max=314), HTML(value='')))"
      ]
     },
     "metadata": {},
     "output_type": "display_data"
    },
    {
     "name": "stdout",
     "output_type": "stream",
     "text": [
      "\n",
      "[ 93/150] lr: 0.00000, train_loss: 0.55696, train_recall/gr: 0.77150, train_recall/v: 0.80679, train_recall/c: 0.81221, train_recall/g: 0.76299, train_recall/tot: 0.79050 valid_loss: 0.08401, valid_recall/gr: 0.98706, valid_recall/v: 0.99428, valid_recall/c: 0.98927, valid_recall/g: 0.98449, valid_recall/tot: 0.98942, elasped: 220.9079291820526\n",
      "----------------------------------------------------------------------------------------------------\n",
      "Epoch: 94\n"
     ]
    },
    {
     "data": {
      "application/vnd.jupyter.widget-view+json": {
       "model_id": "c5a197a701c14a52b17959ca86ae8078",
       "version_major": 2,
       "version_minor": 0
      },
      "text/plain": [
       "HBox(children=(IntProgress(value=0, max=314), HTML(value='')))"
      ]
     },
     "metadata": {},
     "output_type": "display_data"
    },
    {
     "name": "stdout",
     "output_type": "stream",
     "text": [
      "\n",
      "Epoch    94: reducing learning rate of group 0 to 1.1719e-06.\n",
      "[ 94/150] lr: 0.00000, train_loss: 0.53925, train_recall/gr: 0.77837, train_recall/v: 0.82019, train_recall/c: 0.82483, train_recall/g: 0.77086, train_recall/tot: 0.80044 valid_loss: 0.05812, valid_recall/gr: 0.98846, valid_recall/v: 0.99497, valid_recall/c: 0.99076, valid_recall/g: 0.98640, valid_recall/tot: 0.99066, elasped: 220.97675371170044\n",
      "----------------------------------------------------------------------------------------------------\n",
      "Epoch: 95\n"
     ]
    },
    {
     "data": {
      "application/vnd.jupyter.widget-view+json": {
       "model_id": "6806a80ec023424cb7dca74f75ff44f9",
       "version_major": 2,
       "version_minor": 0
      },
      "text/plain": [
       "HBox(children=(IntProgress(value=0, max=314), HTML(value='')))"
      ]
     },
     "metadata": {},
     "output_type": "display_data"
    },
    {
     "name": "stdout",
     "output_type": "stream",
     "text": [
      "\n",
      "[ 95/150] lr: 0.00000, train_loss: 0.50818, train_recall/gr: 0.79097, train_recall/v: 0.82237, train_recall/c: 0.83324, train_recall/g: 0.78269, train_recall/tot: 0.80939 valid_loss: 0.04642, valid_recall/gr: 0.98876, valid_recall/v: 0.99486, valid_recall/c: 0.98963, valid_recall/g: 0.98617, valid_recall/tot: 0.99050, elasped: 220.67020750045776\n",
      "----------------------------------------------------------------------------------------------------\n",
      "Epoch: 96\n"
     ]
    },
    {
     "data": {
      "application/vnd.jupyter.widget-view+json": {
       "model_id": "5c21e5f69f874eb2897dcde598ef82fc",
       "version_major": 2,
       "version_minor": 0
      },
      "text/plain": [
       "HBox(children=(IntProgress(value=0, max=314), HTML(value='')))"
      ]
     },
     "metadata": {},
     "output_type": "display_data"
    },
    {
     "name": "stdout",
     "output_type": "stream",
     "text": [
      "Gradient overflow.  Skipping step, loss scaler 0 reducing loss scale to 1048576.0\n",
      "\n",
      "[ 96/150] lr: 0.00000, train_loss: 0.54883, train_recall/gr: 0.75913, train_recall/v: 0.79576, train_recall/c: 0.80563, train_recall/g: 0.75271, train_recall/tot: 0.77991 valid_loss: 0.08480, valid_recall/gr: 0.98672, valid_recall/v: 0.99421, valid_recall/c: 0.98919, valid_recall/g: 0.98424, valid_recall/tot: 0.98921, elasped: 222.8204071521759\n",
      "----------------------------------------------------------------------------------------------------\n",
      "Epoch: 97\n"
     ]
    },
    {
     "data": {
      "application/vnd.jupyter.widget-view+json": {
       "model_id": "62f88aaad18f4d53b0dae908655bc7d5",
       "version_major": 2,
       "version_minor": 0
      },
      "text/plain": [
       "HBox(children=(IntProgress(value=0, max=314), HTML(value='')))"
      ]
     },
     "metadata": {},
     "output_type": "display_data"
    },
    {
     "name": "stdout",
     "output_type": "stream",
     "text": [
      "Gradient overflow.  Skipping step, loss scaler 0 reducing loss scale to 524288.0\n",
      "\n",
      "[ 97/150] lr: 0.00000, train_loss: 0.51046, train_recall/gr: 0.78086, train_recall/v: 0.81407, train_recall/c: 0.82709, train_recall/g: 0.77183, train_recall/tot: 0.80072 valid_loss: 0.06958, valid_recall/gr: 0.98731, valid_recall/v: 0.99447, valid_recall/c: 0.98941, valid_recall/g: 0.98499, valid_recall/tot: 0.98962, elasped: 222.9693353176117\n",
      "----------------------------------------------------------------------------------------------------\n",
      "Epoch: 98\n"
     ]
    },
    {
     "data": {
      "application/vnd.jupyter.widget-view+json": {
       "model_id": "d3a5ee8993d74d9dbddff76875cdc5e5",
       "version_major": 2,
       "version_minor": 0
      },
      "text/plain": [
       "HBox(children=(IntProgress(value=0, max=314), HTML(value='')))"
      ]
     },
     "metadata": {},
     "output_type": "display_data"
    },
    {
     "name": "stdout",
     "output_type": "stream",
     "text": [
      "\n",
      "[ 98/150] lr: 0.00000, train_loss: 0.48996, train_recall/gr: 0.79128, train_recall/v: 0.82493, train_recall/c: 0.83313, train_recall/g: 0.78329, train_recall/tot: 0.81016 valid_loss: 0.06475, valid_recall/gr: 0.98737, valid_recall/v: 0.99472, valid_recall/c: 0.99082, valid_recall/g: 0.98501, valid_recall/tot: 0.99007, elasped: 223.04529762268066\n",
      "----------------------------------------------------------------------------------------------------\n",
      "Epoch: 99\n"
     ]
    },
    {
     "data": {
      "application/vnd.jupyter.widget-view+json": {
       "model_id": "a9e4d1c3fb1c4d6d82ef4feb0e2f2005",
       "version_major": 2,
       "version_minor": 0
      },
      "text/plain": [
       "HBox(children=(IntProgress(value=0, max=314), HTML(value='')))"
      ]
     },
     "metadata": {},
     "output_type": "display_data"
    },
    {
     "name": "stdout",
     "output_type": "stream",
     "text": [
      "\n",
      "Epoch    99: reducing learning rate of group 0 to 5.8594e-07.\n",
      "[ 99/150] lr: 0.00000, train_loss: 0.50864, train_recall/gr: 0.77024, train_recall/v: 0.80341, train_recall/c: 0.82069, train_recall/g: 0.76431, train_recall/tot: 0.79114 valid_loss: 0.06740, valid_recall/gr: 0.98801, valid_recall/v: 0.99467, valid_recall/c: 0.98963, valid_recall/g: 0.98554, valid_recall/tot: 0.99008, elasped: 220.69860315322876\n",
      "----------------------------------------------------------------------------------------------------\n",
      "Epoch: 100\n"
     ]
    },
    {
     "data": {
      "application/vnd.jupyter.widget-view+json": {
       "model_id": "8806492fe4c94bc5a65934c0eab81eed",
       "version_major": 2,
       "version_minor": 0
      },
      "text/plain": [
       "HBox(children=(IntProgress(value=0, max=314), HTML(value='')))"
      ]
     },
     "metadata": {},
     "output_type": "display_data"
    },
    {
     "name": "stdout",
     "output_type": "stream",
     "text": [
      "\n",
      "[100/150] lr: 0.00000, train_loss: 0.50122, train_recall/gr: 0.77781, train_recall/v: 0.80838, train_recall/c: 0.82462, train_recall/g: 0.76776, train_recall/tot: 0.79716 valid_loss: 0.05558, valid_recall/gr: 0.98771, valid_recall/v: 0.99484, valid_recall/c: 0.99049, valid_recall/g: 0.98560, valid_recall/tot: 0.99019, elasped: 221.8759570121765\n",
      "----------------------------------------------------------------------------------------------------\n",
      "Epoch: 101\n"
     ]
    },
    {
     "data": {
      "application/vnd.jupyter.widget-view+json": {
       "model_id": "b2ef73ec42434c38b47b8285b6332953",
       "version_major": 2,
       "version_minor": 0
      },
      "text/plain": [
       "HBox(children=(IntProgress(value=0, max=314), HTML(value='')))"
      ]
     },
     "metadata": {},
     "output_type": "display_data"
    },
    {
     "name": "stdout",
     "output_type": "stream",
     "text": [
      "\n",
      "[101/150] lr: 0.00000, train_loss: 0.59083, train_recall/gr: 0.72716, train_recall/v: 0.77044, train_recall/c: 0.78096, train_recall/g: 0.71835, train_recall/tot: 0.75143 valid_loss: 0.06086, valid_recall/gr: 0.98738, valid_recall/v: 0.99457, valid_recall/c: 0.98953, valid_recall/g: 0.98494, valid_recall/tot: 0.98972, elasped: 221.65280985832214\n",
      "----------------------------------------------------------------------------------------------------\n",
      "Epoch: 102\n"
     ]
    },
    {
     "data": {
      "application/vnd.jupyter.widget-view+json": {
       "model_id": "ee534b59d6ae4058998181ac9448e64f",
       "version_major": 2,
       "version_minor": 0
      },
      "text/plain": [
       "HBox(children=(IntProgress(value=0, max=314), HTML(value='')))"
      ]
     },
     "metadata": {},
     "output_type": "display_data"
    },
    {
     "name": "stdout",
     "output_type": "stream",
     "text": [
      "\n",
      "[102/150] lr: 0.00000, train_loss: 0.51214, train_recall/gr: 0.77218, train_recall/v: 0.80877, train_recall/c: 0.81983, train_recall/g: 0.76568, train_recall/tot: 0.79324 valid_loss: 0.06007, valid_recall/gr: 0.98800, valid_recall/v: 0.99477, valid_recall/c: 0.99042, valid_recall/g: 0.98558, valid_recall/tot: 0.99030, elasped: 221.94840335845947\n",
      "----------------------------------------------------------------------------------------------------\n",
      "Epoch: 103\n"
     ]
    },
    {
     "data": {
      "application/vnd.jupyter.widget-view+json": {
       "model_id": "4c1e22ebba5a477e85019e61242b9cc8",
       "version_major": 2,
       "version_minor": 0
      },
      "text/plain": [
       "HBox(children=(IntProgress(value=0, max=314), HTML(value='')))"
      ]
     },
     "metadata": {},
     "output_type": "display_data"
    },
    {
     "name": "stdout",
     "output_type": "stream",
     "text": [
      "\n",
      "[103/150] lr: 0.00000, train_loss: 0.47456, train_recall/gr: 0.76720, train_recall/v: 0.80422, train_recall/c: 0.80493, train_recall/g: 0.75940, train_recall/tot: 0.78589 valid_loss: 0.04563, valid_recall/gr: 0.98890, valid_recall/v: 0.99477, valid_recall/c: 0.99044, valid_recall/g: 0.98628, valid_recall/tot: 0.99076, elasped: 221.60736918449402\n",
      "----------------------------------------------------------------------------------------------------\n",
      "Epoch: 104\n"
     ]
    },
    {
     "data": {
      "application/vnd.jupyter.widget-view+json": {
       "model_id": "cad6d487fa3d44e7973fb05211b1eaa1",
       "version_major": 2,
       "version_minor": 0
      },
      "text/plain": [
       "HBox(children=(IntProgress(value=0, max=314), HTML(value='')))"
      ]
     },
     "metadata": {},
     "output_type": "display_data"
    },
    {
     "name": "stdout",
     "output_type": "stream",
     "text": [
      "\n",
      "Epoch   104: reducing learning rate of group 0 to 2.9297e-07.\n",
      "[104/150] lr: 0.00000, train_loss: 0.53501, train_recall/gr: 0.76071, train_recall/v: 0.79953, train_recall/c: 0.81296, train_recall/g: 0.75339, train_recall/tot: 0.78348 valid_loss: 0.05236, valid_recall/gr: 0.98808, valid_recall/v: 0.99498, valid_recall/c: 0.99014, valid_recall/g: 0.98588, valid_recall/tot: 0.99032, elasped: 223.3438675403595\n",
      "----------------------------------------------------------------------------------------------------\n",
      "Epoch: 105\n"
     ]
    },
    {
     "data": {
      "application/vnd.jupyter.widget-view+json": {
       "model_id": "f260598e590d4b939b83d8a1f4ef0b4d",
       "version_major": 2,
       "version_minor": 0
      },
      "text/plain": [
       "HBox(children=(IntProgress(value=0, max=314), HTML(value='')))"
      ]
     },
     "metadata": {},
     "output_type": "display_data"
    },
    {
     "name": "stdout",
     "output_type": "stream",
     "text": [
      "\n",
      "[105/150] lr: 0.00000, train_loss: 0.54999, train_recall/gr: 0.76326, train_recall/v: 0.79640, train_recall/c: 0.80949, train_recall/g: 0.75316, train_recall/tot: 0.78310 valid_loss: 0.06144, valid_recall/gr: 0.98810, valid_recall/v: 0.99474, valid_recall/c: 0.99046, valid_recall/g: 0.98576, valid_recall/tot: 0.99035, elasped: 221.6644937992096\n",
      "----------------------------------------------------------------------------------------------------\n",
      "Epoch: 106\n"
     ]
    },
    {
     "data": {
      "application/vnd.jupyter.widget-view+json": {
       "model_id": "68868a3a29564783b5ece1bec4a53538",
       "version_major": 2,
       "version_minor": 0
      },
      "text/plain": [
       "HBox(children=(IntProgress(value=0, max=314), HTML(value='')))"
      ]
     },
     "metadata": {},
     "output_type": "display_data"
    },
    {
     "name": "stdout",
     "output_type": "stream",
     "text": [
      "Gradient overflow.  Skipping step, loss scaler 0 reducing loss scale to 524288.0\n",
      "\n",
      "[106/150] lr: 0.00000, train_loss: 0.47836, train_recall/gr: 0.77828, train_recall/v: 0.81299, train_recall/c: 0.82168, train_recall/g: 0.77126, train_recall/tot: 0.79780 valid_loss: 0.06116, valid_recall/gr: 0.98749, valid_recall/v: 0.99449, valid_recall/c: 0.99092, valid_recall/g: 0.98543, valid_recall/tot: 0.99010, elasped: 221.7128255367279\n",
      "----------------------------------------------------------------------------------------------------\n",
      "Epoch: 107\n"
     ]
    },
    {
     "data": {
      "application/vnd.jupyter.widget-view+json": {
       "model_id": "411a49831b96435186b647ebcafae61c",
       "version_major": 2,
       "version_minor": 0
      },
      "text/plain": [
       "HBox(children=(IntProgress(value=0, max=314), HTML(value='')))"
      ]
     },
     "metadata": {},
     "output_type": "display_data"
    },
    {
     "name": "stdout",
     "output_type": "stream",
     "text": [
      "\n",
      "[107/150] lr: 0.00000, train_loss: 0.44081, train_recall/gr: 0.77352, train_recall/v: 0.80546, train_recall/c: 0.81343, train_recall/g: 0.76548, train_recall/tot: 0.79148 valid_loss: 0.04743, valid_recall/gr: 0.98805, valid_recall/v: 0.99486, valid_recall/c: 0.98938, valid_recall/g: 0.98544, valid_recall/tot: 0.99009, elasped: 221.7381730079651\n",
      "----------------------------------------------------------------------------------------------------\n",
      "Epoch: 108\n"
     ]
    },
    {
     "data": {
      "application/vnd.jupyter.widget-view+json": {
       "model_id": "5f739b9db64a433abd24f8995a0d8062",
       "version_major": 2,
       "version_minor": 0
      },
      "text/plain": [
       "HBox(children=(IntProgress(value=0, max=314), HTML(value='')))"
      ]
     },
     "metadata": {},
     "output_type": "display_data"
    },
    {
     "name": "stdout",
     "output_type": "stream",
     "text": [
      "\n",
      "[108/150] lr: 0.00000, train_loss: 0.56242, train_recall/gr: 0.74836, train_recall/v: 0.78555, train_recall/c: 0.80575, train_recall/g: 0.73956, train_recall/tot: 0.77201 valid_loss: 0.07303, valid_recall/gr: 0.98623, valid_recall/v: 0.99419, valid_recall/c: 0.98896, valid_recall/g: 0.98348, valid_recall/tot: 0.98890, elasped: 223.12135219573975\n",
      "----------------------------------------------------------------------------------------------------\n",
      "Epoch: 109\n"
     ]
    },
    {
     "data": {
      "application/vnd.jupyter.widget-view+json": {
       "model_id": "95198031cfcb4e108ec579e84ed8900e",
       "version_major": 2,
       "version_minor": 0
      },
      "text/plain": [
       "HBox(children=(IntProgress(value=0, max=314), HTML(value='')))"
      ]
     },
     "metadata": {},
     "output_type": "display_data"
    },
    {
     "name": "stdout",
     "output_type": "stream",
     "text": [
      "\n",
      "Epoch   109: reducing learning rate of group 0 to 1.4648e-07.\n",
      "[109/150] lr: 0.00000, train_loss: 0.52221, train_recall/gr: 0.76391, train_recall/v: 0.79589, train_recall/c: 0.80774, train_recall/g: 0.75431, train_recall/tot: 0.78286 valid_loss: 0.05373, valid_recall/gr: 0.98802, valid_recall/v: 0.99478, valid_recall/c: 0.99020, valid_recall/g: 0.98573, valid_recall/tot: 0.99025, elasped: 221.24559092521667\n",
      "----------------------------------------------------------------------------------------------------\n",
      "Epoch: 110\n"
     ]
    },
    {
     "data": {
      "application/vnd.jupyter.widget-view+json": {
       "model_id": "0d9c8978765c471db2eb88387b3301ad",
       "version_major": 2,
       "version_minor": 0
      },
      "text/plain": [
       "HBox(children=(IntProgress(value=0, max=314), HTML(value='')))"
      ]
     },
     "metadata": {},
     "output_type": "display_data"
    },
    {
     "name": "stdout",
     "output_type": "stream",
     "text": [
      "\n",
      "[110/150] lr: 0.00000, train_loss: 0.54657, train_recall/gr: 0.77164, train_recall/v: 0.80958, train_recall/c: 0.81413, train_recall/g: 0.76299, train_recall/tot: 0.79175 valid_loss: 0.05692, valid_recall/gr: 0.98741, valid_recall/v: 0.99457, valid_recall/c: 0.98918, valid_recall/g: 0.98504, valid_recall/tot: 0.98965, elasped: 222.45191931724548\n",
      "----------------------------------------------------------------------------------------------------\n",
      "Epoch: 111\n"
     ]
    },
    {
     "data": {
      "application/vnd.jupyter.widget-view+json": {
       "model_id": "4a44bd32174544fd8164e5bb3e7a4f61",
       "version_major": 2,
       "version_minor": 0
      },
      "text/plain": [
       "HBox(children=(IntProgress(value=0, max=314), HTML(value='')))"
      ]
     },
     "metadata": {},
     "output_type": "display_data"
    },
    {
     "name": "stdout",
     "output_type": "stream",
     "text": [
      "\n",
      "[111/150] lr: 0.00000, train_loss: 0.50763, train_recall/gr: 0.79198, train_recall/v: 0.82868, train_recall/c: 0.84068, train_recall/g: 0.78565, train_recall/tot: 0.81333 valid_loss: 0.04982, valid_recall/gr: 0.98786, valid_recall/v: 0.99461, valid_recall/c: 0.98994, valid_recall/g: 0.98556, valid_recall/tot: 0.99007, elasped: 221.9693627357483\n",
      "----------------------------------------------------------------------------------------------------\n",
      "Epoch: 112\n"
     ]
    },
    {
     "data": {
      "application/vnd.jupyter.widget-view+json": {
       "model_id": "013a115f809a46c39aa5d96edf9de64d",
       "version_major": 2,
       "version_minor": 0
      },
      "text/plain": [
       "HBox(children=(IntProgress(value=0, max=314), HTML(value='')))"
      ]
     },
     "metadata": {},
     "output_type": "display_data"
    },
    {
     "name": "stdout",
     "output_type": "stream",
     "text": [
      "\n",
      "[112/150] lr: 0.00000, train_loss: 0.51862, train_recall/gr: 0.74378, train_recall/v: 0.78111, train_recall/c: 0.79555, train_recall/g: 0.73663, train_recall/tot: 0.76606 valid_loss: 0.04489, valid_recall/gr: 0.98920, valid_recall/v: 0.99504, valid_recall/c: 0.99063, valid_recall/g: 0.98669, valid_recall/tot: 0.99102, elasped: 222.89577221870422\n",
      "----------------------------------------------------------------------------------------------------\n",
      "Epoch: 113\n"
     ]
    },
    {
     "data": {
      "application/vnd.jupyter.widget-view+json": {
       "model_id": "32ba788f65434c1e89b598f0e0aaa94c",
       "version_major": 2,
       "version_minor": 0
      },
      "text/plain": [
       "HBox(children=(IntProgress(value=0, max=314), HTML(value='')))"
      ]
     },
     "metadata": {},
     "output_type": "display_data"
    },
    {
     "name": "stdout",
     "output_type": "stream",
     "text": [
      "\n",
      "[113/150] lr: 0.00000, train_loss: 0.51143, train_recall/gr: 0.76370, train_recall/v: 0.79922, train_recall/c: 0.80760, train_recall/g: 0.75424, train_recall/tot: 0.78355 valid_loss: 0.05316, valid_recall/gr: 0.98792, valid_recall/v: 0.99470, valid_recall/c: 0.99052, valid_recall/g: 0.98530, valid_recall/tot: 0.99027, elasped: 219.99846124649048\n",
      "----------------------------------------------------------------------------------------------------\n",
      "Epoch: 114\n"
     ]
    },
    {
     "data": {
      "application/vnd.jupyter.widget-view+json": {
       "model_id": "59c3955dcc784be1874ff71b05ec19a0",
       "version_major": 2,
       "version_minor": 0
      },
      "text/plain": [
       "HBox(children=(IntProgress(value=0, max=314), HTML(value='')))"
      ]
     },
     "metadata": {},
     "output_type": "display_data"
    },
    {
     "name": "stdout",
     "output_type": "stream",
     "text": [
      "\n",
      "Epoch   114: reducing learning rate of group 0 to 7.3242e-08.\n",
      "[114/150] lr: 0.00000, train_loss: 0.48088, train_recall/gr: 0.77885, train_recall/v: 0.81160, train_recall/c: 0.82416, train_recall/g: 0.77158, train_recall/tot: 0.79836 valid_loss: 0.05478, valid_recall/gr: 0.98781, valid_recall/v: 0.99446, valid_recall/c: 0.99049, valid_recall/g: 0.98554, valid_recall/tot: 0.99014, elasped: 223.0129909515381\n",
      "----------------------------------------------------------------------------------------------------\n",
      "Epoch: 115\n"
     ]
    },
    {
     "data": {
      "application/vnd.jupyter.widget-view+json": {
       "model_id": "627e2a20fa554b30aea177c200b8c776",
       "version_major": 2,
       "version_minor": 0
      },
      "text/plain": [
       "HBox(children=(IntProgress(value=0, max=314), HTML(value='')))"
      ]
     },
     "metadata": {},
     "output_type": "display_data"
    },
    {
     "name": "stdout",
     "output_type": "stream",
     "text": [
      "\n",
      "[115/150] lr: 0.00000, train_loss: 0.51971, train_recall/gr: 0.78923, train_recall/v: 0.82300, train_recall/c: 0.83168, train_recall/g: 0.77984, train_recall/tot: 0.80829 valid_loss: 0.05973, valid_recall/gr: 0.98871, valid_recall/v: 0.99476, valid_recall/c: 0.99068, valid_recall/g: 0.98624, valid_recall/tot: 0.99072, elasped: 225.75581407546997\n",
      "----------------------------------------------------------------------------------------------------\n",
      "Epoch: 116\n"
     ]
    },
    {
     "data": {
      "application/vnd.jupyter.widget-view+json": {
       "model_id": "25acb96c5daa4220b4e534ba912ee0cc",
       "version_major": 2,
       "version_minor": 0
      },
      "text/plain": [
       "HBox(children=(IntProgress(value=0, max=314), HTML(value='')))"
      ]
     },
     "metadata": {},
     "output_type": "display_data"
    },
    {
     "name": "stdout",
     "output_type": "stream",
     "text": [
      "\n",
      "[116/150] lr: 0.00000, train_loss: 0.51265, train_recall/gr: 0.76189, train_recall/v: 0.80030, train_recall/c: 0.80834, train_recall/g: 0.75465, train_recall/tot: 0.78311 valid_loss: 0.09948, valid_recall/gr: 0.98730, valid_recall/v: 0.99433, valid_recall/c: 0.98958, valid_recall/g: 0.98486, valid_recall/tot: 0.98963, elasped: 224.75482606887817\n",
      "----------------------------------------------------------------------------------------------------\n",
      "Epoch: 117\n"
     ]
    },
    {
     "data": {
      "application/vnd.jupyter.widget-view+json": {
       "model_id": "75f63e07197143c8a8c08a5311d679cf",
       "version_major": 2,
       "version_minor": 0
      },
      "text/plain": [
       "HBox(children=(IntProgress(value=0, max=314), HTML(value='')))"
      ]
     },
     "metadata": {},
     "output_type": "display_data"
    },
    {
     "name": "stdout",
     "output_type": "stream",
     "text": [
      "\n",
      "[117/150] lr: 0.00000, train_loss: 0.54242, train_recall/gr: 0.75782, train_recall/v: 0.79209, train_recall/c: 0.80504, train_recall/g: 0.74791, train_recall/tot: 0.77819 valid_loss: 0.06876, valid_recall/gr: 0.98819, valid_recall/v: 0.99467, valid_recall/c: 0.99049, valid_recall/g: 0.98579, valid_recall/tot: 0.99039, elasped: 224.0761272907257\n",
      "----------------------------------------------------------------------------------------------------\n",
      "Epoch: 118\n"
     ]
    },
    {
     "data": {
      "application/vnd.jupyter.widget-view+json": {
       "model_id": "44b596b0533c47dea97115d97063a5d8",
       "version_major": 2,
       "version_minor": 0
      },
      "text/plain": [
       "HBox(children=(IntProgress(value=0, max=314), HTML(value='')))"
      ]
     },
     "metadata": {},
     "output_type": "display_data"
    },
    {
     "name": "stdout",
     "output_type": "stream",
     "text": [
      "\n",
      "[118/150] lr: 0.00000, train_loss: 0.47991, train_recall/gr: 0.78815, train_recall/v: 0.81652, train_recall/c: 0.82466, train_recall/g: 0.77992, train_recall/tot: 0.80437 valid_loss: 0.05177, valid_recall/gr: 0.98674, valid_recall/v: 0.99442, valid_recall/c: 0.98939, valid_recall/g: 0.98435, valid_recall/tot: 0.98932, elasped: 224.98202252388\n",
      "----------------------------------------------------------------------------------------------------\n",
      "Epoch: 119\n"
     ]
    },
    {
     "data": {
      "application/vnd.jupyter.widget-view+json": {
       "model_id": "17336802c82d43a68154ce8a70455599",
       "version_major": 2,
       "version_minor": 0
      },
      "text/plain": [
       "HBox(children=(IntProgress(value=0, max=314), HTML(value='')))"
      ]
     },
     "metadata": {},
     "output_type": "display_data"
    },
    {
     "name": "stdout",
     "output_type": "stream",
     "text": [
      "Gradient overflow.  Skipping step, loss scaler 0 reducing loss scale to 1048576.0\n",
      "\n",
      "Epoch   119: reducing learning rate of group 0 to 3.6621e-08.\n",
      "[119/150] lr: 0.00000, train_loss: 0.44081, train_recall/gr: 0.76892, train_recall/v: 0.80238, train_recall/c: 0.81703, train_recall/g: 0.76230, train_recall/tot: 0.78932 valid_loss: 0.04770, valid_recall/gr: 0.98782, valid_recall/v: 0.99470, valid_recall/c: 0.98926, valid_recall/g: 0.98528, valid_recall/tot: 0.98990, elasped: 223.5061159133911\n",
      "----------------------------------------------------------------------------------------------------\n",
      "Epoch: 120\n"
     ]
    },
    {
     "data": {
      "application/vnd.jupyter.widget-view+json": {
       "model_id": "0e1411f21c794d409feb6b3da5ce094b",
       "version_major": 2,
       "version_minor": 0
      },
      "text/plain": [
       "HBox(children=(IntProgress(value=0, max=314), HTML(value='')))"
      ]
     },
     "metadata": {},
     "output_type": "display_data"
    },
    {
     "name": "stdout",
     "output_type": "stream",
     "text": [
      "\n",
      "[120/150] lr: 0.00000, train_loss: 0.55008, train_recall/gr: 0.75321, train_recall/v: 0.79072, train_recall/c: 0.80665, train_recall/g: 0.74355, train_recall/tot: 0.77595 valid_loss: 0.06914, valid_recall/gr: 0.98657, valid_recall/v: 0.99435, valid_recall/c: 0.98906, valid_recall/g: 0.98392, valid_recall/tot: 0.98913, elasped: 225.23704266548157\n",
      "----------------------------------------------------------------------------------------------------\n",
      "Epoch: 121\n"
     ]
    },
    {
     "data": {
      "application/vnd.jupyter.widget-view+json": {
       "model_id": "673101714be74e58b9e48bd80efdf6cb",
       "version_major": 2,
       "version_minor": 0
      },
      "text/plain": [
       "HBox(children=(IntProgress(value=0, max=314), HTML(value='')))"
      ]
     },
     "metadata": {},
     "output_type": "display_data"
    },
    {
     "name": "stdout",
     "output_type": "stream",
     "text": [
      "\n",
      "[121/150] lr: 0.00000, train_loss: 0.52249, train_recall/gr: 0.76093, train_recall/v: 0.79797, train_recall/c: 0.80799, train_recall/g: 0.75194, train_recall/tot: 0.78195 valid_loss: 0.07545, valid_recall/gr: 0.98687, valid_recall/v: 0.99426, valid_recall/c: 0.98948, valid_recall/g: 0.98444, valid_recall/tot: 0.98937, elasped: 224.6661627292633\n",
      "----------------------------------------------------------------------------------------------------\n",
      "Epoch: 122\n"
     ]
    },
    {
     "data": {
      "application/vnd.jupyter.widget-view+json": {
       "model_id": "bd24b0f3eb624d9eb37596c5d9c367a2",
       "version_major": 2,
       "version_minor": 0
      },
      "text/plain": [
       "HBox(children=(IntProgress(value=0, max=314), HTML(value='')))"
      ]
     },
     "metadata": {},
     "output_type": "display_data"
    },
    {
     "name": "stdout",
     "output_type": "stream",
     "text": [
      "\n",
      "[122/150] lr: 0.00000, train_loss: 0.53511, train_recall/gr: 0.79295, train_recall/v: 0.83051, train_recall/c: 0.83988, train_recall/g: 0.78687, train_recall/tot: 0.81407 valid_loss: 0.04839, valid_recall/gr: 0.98781, valid_recall/v: 0.99452, valid_recall/c: 0.98974, valid_recall/g: 0.98528, valid_recall/tot: 0.98997, elasped: 223.49480199813843\n",
      "----------------------------------------------------------------------------------------------------\n",
      "Epoch: 123\n"
     ]
    },
    {
     "data": {
      "application/vnd.jupyter.widget-view+json": {
       "model_id": "5a114d41344e4f0ab3520dc7b134fca3",
       "version_major": 2,
       "version_minor": 0
      },
      "text/plain": [
       "HBox(children=(IntProgress(value=0, max=314), HTML(value='')))"
      ]
     },
     "metadata": {},
     "output_type": "display_data"
    },
    {
     "name": "stdout",
     "output_type": "stream",
     "text": [
      "Gradient overflow.  Skipping step, loss scaler 0 reducing loss scale to 524288.0\n",
      "\n",
      "[123/150] lr: 0.00000, train_loss: 0.53504, train_recall/gr: 0.79472, train_recall/v: 0.82477, train_recall/c: 0.83934, train_recall/g: 0.78495, train_recall/tot: 0.81339 valid_loss: 0.05606, valid_recall/gr: 0.98792, valid_recall/v: 0.99464, valid_recall/c: 0.99091, valid_recall/g: 0.98554, valid_recall/tot: 0.99035, elasped: 222.33560943603516\n",
      "----------------------------------------------------------------------------------------------------\n",
      "Epoch: 124\n"
     ]
    },
    {
     "data": {
      "application/vnd.jupyter.widget-view+json": {
       "model_id": "0b4fa53a6379432f8fb1d99a0c135723",
       "version_major": 2,
       "version_minor": 0
      },
      "text/plain": [
       "HBox(children=(IntProgress(value=0, max=314), HTML(value='')))"
      ]
     },
     "metadata": {},
     "output_type": "display_data"
    },
    {
     "name": "stdout",
     "output_type": "stream",
     "text": [
      "\n",
      "Epoch   124: reducing learning rate of group 0 to 1.8311e-08.\n",
      "[124/150] lr: 0.00000, train_loss: 0.50693, train_recall/gr: 0.79407, train_recall/v: 0.82782, train_recall/c: 0.83792, train_recall/g: 0.78763, train_recall/tot: 0.81347 valid_loss: 0.05433, valid_recall/gr: 0.98777, valid_recall/v: 0.99462, valid_recall/c: 0.98969, valid_recall/g: 0.98546, valid_recall/tot: 0.98996, elasped: 223.79988193511963\n",
      "----------------------------------------------------------------------------------------------------\n",
      "Epoch: 125\n"
     ]
    },
    {
     "data": {
      "application/vnd.jupyter.widget-view+json": {
       "model_id": "d4e0d7def95f4b0eb8618a9c86db9619",
       "version_major": 2,
       "version_minor": 0
      },
      "text/plain": [
       "HBox(children=(IntProgress(value=0, max=314), HTML(value='')))"
      ]
     },
     "metadata": {},
     "output_type": "display_data"
    },
    {
     "name": "stdout",
     "output_type": "stream",
     "text": [
      "\n",
      "[125/150] lr: 0.00000, train_loss: 0.48999, train_recall/gr: 0.80171, train_recall/v: 0.83455, train_recall/c: 0.83958, train_recall/g: 0.79449, train_recall/tot: 0.81939 valid_loss: 0.04944, valid_recall/gr: 0.98722, valid_recall/v: 0.99441, valid_recall/c: 0.98864, valid_recall/g: 0.98462, valid_recall/tot: 0.98937, elasped: 222.54455280303955\n",
      "----------------------------------------------------------------------------------------------------\n",
      "Epoch: 126\n"
     ]
    },
    {
     "data": {
      "application/vnd.jupyter.widget-view+json": {
       "model_id": "a71e76023cf94a9b90ef638be704dbe6",
       "version_major": 2,
       "version_minor": 0
      },
      "text/plain": [
       "HBox(children=(IntProgress(value=0, max=314), HTML(value='')))"
      ]
     },
     "metadata": {},
     "output_type": "display_data"
    },
    {
     "name": "stdout",
     "output_type": "stream",
     "text": [
      "\n",
      "[126/150] lr: 0.00000, train_loss: 0.52605, train_recall/gr: 0.77551, train_recall/v: 0.81105, train_recall/c: 0.82224, train_recall/g: 0.76674, train_recall/tot: 0.79608 valid_loss: 0.05111, valid_recall/gr: 0.98752, valid_recall/v: 0.99468, valid_recall/c: 0.98983, valid_recall/g: 0.98519, valid_recall/tot: 0.98989, elasped: 223.76219773292542\n",
      "----------------------------------------------------------------------------------------------------\n",
      "Epoch: 127\n"
     ]
    },
    {
     "data": {
      "application/vnd.jupyter.widget-view+json": {
       "model_id": "e01e1da8056b4f0ba253ed50b58dd385",
       "version_major": 2,
       "version_minor": 0
      },
      "text/plain": [
       "HBox(children=(IntProgress(value=0, max=314), HTML(value='')))"
      ]
     },
     "metadata": {},
     "output_type": "display_data"
    },
    {
     "name": "stdout",
     "output_type": "stream",
     "text": [
      "\n",
      "[127/150] lr: 0.00000, train_loss: 0.55981, train_recall/gr: 0.74445, train_recall/v: 0.78256, train_recall/c: 0.79329, train_recall/g: 0.73514, train_recall/tot: 0.76619 valid_loss: 0.05371, valid_recall/gr: 0.98779, valid_recall/v: 0.99476, valid_recall/c: 0.98979, valid_recall/g: 0.98544, valid_recall/tot: 0.99003, elasped: 223.4840123653412\n",
      "----------------------------------------------------------------------------------------------------\n",
      "Epoch: 128\n"
     ]
    },
    {
     "data": {
      "application/vnd.jupyter.widget-view+json": {
       "model_id": "4ff3b9bf666645b0a7b96ec35c55f4ed",
       "version_major": 2,
       "version_minor": 0
      },
      "text/plain": [
       "HBox(children=(IntProgress(value=0, max=314), HTML(value='')))"
      ]
     },
     "metadata": {},
     "output_type": "display_data"
    },
    {
     "name": "stdout",
     "output_type": "stream",
     "text": [
      "\n",
      "[128/150] lr: 0.00000, train_loss: 0.44034, train_recall/gr: 0.78893, train_recall/v: 0.81600, train_recall/c: 0.82693, train_recall/g: 0.78001, train_recall/tot: 0.80520 valid_loss: 0.05384, valid_recall/gr: 0.98671, valid_recall/v: 0.99424, valid_recall/c: 0.98922, valid_recall/g: 0.98403, valid_recall/tot: 0.98922, elasped: 223.83198165893555\n",
      "----------------------------------------------------------------------------------------------------\n",
      "Epoch: 129\n"
     ]
    },
    {
     "data": {
      "application/vnd.jupyter.widget-view+json": {
       "model_id": "c2a40e527c244a75b6170a46a365ef02",
       "version_major": 2,
       "version_minor": 0
      },
      "text/plain": [
       "HBox(children=(IntProgress(value=0, max=314), HTML(value='')))"
      ]
     },
     "metadata": {},
     "output_type": "display_data"
    },
    {
     "name": "stdout",
     "output_type": "stream",
     "text": [
      "\n",
      "[129/150] lr: 0.00000, train_loss: 0.51220, train_recall/gr: 0.80065, train_recall/v: 0.83489, train_recall/c: 0.84429, train_recall/g: 0.79244, train_recall/tot: 0.82012 valid_loss: 0.04798, valid_recall/gr: 0.98785, valid_recall/v: 0.99459, valid_recall/c: 0.98974, valid_recall/g: 0.98541, valid_recall/tot: 0.99001, elasped: 222.56739044189453\n",
      "----------------------------------------------------------------------------------------------------\n",
      "Epoch: 130\n"
     ]
    },
    {
     "data": {
      "application/vnd.jupyter.widget-view+json": {
       "model_id": "b840d2944eec4fe0b5a5c3200a4481f6",
       "version_major": 2,
       "version_minor": 0
      },
      "text/plain": [
       "HBox(children=(IntProgress(value=0, max=314), HTML(value='')))"
      ]
     },
     "metadata": {},
     "output_type": "display_data"
    },
    {
     "name": "stdout",
     "output_type": "stream",
     "text": [
      "\n",
      "[130/150] lr: 0.00000, train_loss: 0.46562, train_recall/gr: 0.79372, train_recall/v: 0.82230, train_recall/c: 0.83645, train_recall/g: 0.78651, train_recall/tot: 0.81155 valid_loss: 0.04885, valid_recall/gr: 0.98833, valid_recall/v: 0.99500, valid_recall/c: 0.99096, valid_recall/g: 0.98636, valid_recall/tot: 0.99065, elasped: 222.80014157295227\n",
      "----------------------------------------------------------------------------------------------------\n",
      "Epoch: 131\n"
     ]
    },
    {
     "data": {
      "application/vnd.jupyter.widget-view+json": {
       "model_id": "92b17c6c34c04c9bbb4675ee1c61fe3a",
       "version_major": 2,
       "version_minor": 0
      },
      "text/plain": [
       "HBox(children=(IntProgress(value=0, max=314), HTML(value='')))"
      ]
     },
     "metadata": {},
     "output_type": "display_data"
    },
    {
     "name": "stdout",
     "output_type": "stream",
     "text": [
      "\n",
      "[131/150] lr: 0.00000, train_loss: 0.55235, train_recall/gr: 0.77136, train_recall/v: 0.80651, train_recall/c: 0.81734, train_recall/g: 0.76155, train_recall/tot: 0.79164 valid_loss: 0.05468, valid_recall/gr: 0.98737, valid_recall/v: 0.99453, valid_recall/c: 0.98861, valid_recall/g: 0.98496, valid_recall/tot: 0.98947, elasped: 221.11844110488892\n",
      "----------------------------------------------------------------------------------------------------\n",
      "Epoch: 132\n"
     ]
    },
    {
     "data": {
      "application/vnd.jupyter.widget-view+json": {
       "model_id": "dda98114b01948f4b45edf8e0932340f",
       "version_major": 2,
       "version_minor": 0
      },
      "text/plain": [
       "HBox(children=(IntProgress(value=0, max=314), HTML(value='')))"
      ]
     },
     "metadata": {},
     "output_type": "display_data"
    },
    {
     "name": "stdout",
     "output_type": "stream",
     "text": [
      "\n",
      "[132/150] lr: 0.00000, train_loss: 0.50206, train_recall/gr: 0.76784, train_recall/v: 0.80458, train_recall/c: 0.81490, train_recall/g: 0.76011, train_recall/tot: 0.78879 valid_loss: 0.05280, valid_recall/gr: 0.98810, valid_recall/v: 0.99454, valid_recall/c: 0.98981, valid_recall/g: 0.98563, valid_recall/tot: 0.99014, elasped: 222.59972286224365\n",
      "----------------------------------------------------------------------------------------------------\n",
      "Epoch: 133\n"
     ]
    },
    {
     "data": {
      "application/vnd.jupyter.widget-view+json": {
       "model_id": "07cb979c9ee54195a08b10206a11b20f",
       "version_major": 2,
       "version_minor": 0
      },
      "text/plain": [
       "HBox(children=(IntProgress(value=0, max=314), HTML(value='')))"
      ]
     },
     "metadata": {},
     "output_type": "display_data"
    },
    {
     "name": "stdout",
     "output_type": "stream",
     "text": [
      "\n",
      "[133/150] lr: 0.00000, train_loss: 0.48634, train_recall/gr: 0.76555, train_recall/v: 0.79878, train_recall/c: 0.80495, train_recall/g: 0.75640, train_recall/tot: 0.78371 valid_loss: 0.04546, valid_recall/gr: 0.98821, valid_recall/v: 0.99497, valid_recall/c: 0.98974, valid_recall/g: 0.98593, valid_recall/tot: 0.99028, elasped: 223.5903558731079\n",
      "----------------------------------------------------------------------------------------------------\n",
      "Epoch: 134\n"
     ]
    },
    {
     "data": {
      "application/vnd.jupyter.widget-view+json": {
       "model_id": "54590ca07ccc407bbdc31b4833d3d0e7",
       "version_major": 2,
       "version_minor": 0
      },
      "text/plain": [
       "HBox(children=(IntProgress(value=0, max=314), HTML(value='')))"
      ]
     },
     "metadata": {},
     "output_type": "display_data"
    },
    {
     "name": "stdout",
     "output_type": "stream",
     "text": [
      "\n",
      "[134/150] lr: 0.00000, train_loss: 0.54707, train_recall/gr: 0.77093, train_recall/v: 0.80755, train_recall/c: 0.82097, train_recall/g: 0.76170, train_recall/tot: 0.79260 valid_loss: 0.05175, valid_recall/gr: 0.98747, valid_recall/v: 0.99443, valid_recall/c: 0.98882, valid_recall/g: 0.98494, valid_recall/tot: 0.98955, elasped: 224.7181053161621\n",
      "----------------------------------------------------------------------------------------------------\n",
      "Epoch: 135\n"
     ]
    },
    {
     "data": {
      "application/vnd.jupyter.widget-view+json": {
       "model_id": "6d7d1eb6c3254a85ab7dfbf9c1c740d4",
       "version_major": 2,
       "version_minor": 0
      },
      "text/plain": [
       "HBox(children=(IntProgress(value=0, max=314), HTML(value='')))"
      ]
     },
     "metadata": {},
     "output_type": "display_data"
    },
    {
     "name": "stdout",
     "output_type": "stream",
     "text": [
      "\n",
      "[135/150] lr: 0.00000, train_loss: 0.46672, train_recall/gr: 0.78223, train_recall/v: 0.81117, train_recall/c: 0.82523, train_recall/g: 0.77366, train_recall/tot: 0.80022 valid_loss: 0.05903, valid_recall/gr: 0.98737, valid_recall/v: 0.99443, valid_recall/c: 0.98927, valid_recall/g: 0.98497, valid_recall/tot: 0.98961, elasped: 222.9877667427063\n",
      "----------------------------------------------------------------------------------------------------\n",
      "Epoch: 136\n"
     ]
    },
    {
     "data": {
      "application/vnd.jupyter.widget-view+json": {
       "model_id": "b957a7b372b24e47916172c9a62be0c6",
       "version_major": 2,
       "version_minor": 0
      },
      "text/plain": [
       "HBox(children=(IntProgress(value=0, max=314), HTML(value='')))"
      ]
     },
     "metadata": {},
     "output_type": "display_data"
    },
    {
     "name": "stdout",
     "output_type": "stream",
     "text": [
      "Gradient overflow.  Skipping step, loss scaler 0 reducing loss scale to 1048576.0\n",
      "\n",
      "[136/150] lr: 0.00000, train_loss: 0.55751, train_recall/gr: 0.73787, train_recall/v: 0.77902, train_recall/c: 0.79387, train_recall/g: 0.72980, train_recall/tot: 0.76216 valid_loss: 0.05174, valid_recall/gr: 0.98798, valid_recall/v: 0.99451, valid_recall/c: 0.98978, valid_recall/g: 0.98555, valid_recall/tot: 0.99006, elasped: 223.14700841903687\n",
      "----------------------------------------------------------------------------------------------------\n",
      "Epoch: 137\n"
     ]
    },
    {
     "data": {
      "application/vnd.jupyter.widget-view+json": {
       "model_id": "cfa671590ba84583916483855ef3a958",
       "version_major": 2,
       "version_minor": 0
      },
      "text/plain": [
       "HBox(children=(IntProgress(value=0, max=314), HTML(value='')))"
      ]
     },
     "metadata": {},
     "output_type": "display_data"
    },
    {
     "name": "stdout",
     "output_type": "stream",
     "text": [
      "\n",
      "[137/150] lr: 0.00000, train_loss: 0.49457, train_recall/gr: 0.77556, train_recall/v: 0.81176, train_recall/c: 0.81381, train_recall/g: 0.76810, train_recall/tot: 0.79417 valid_loss: 0.06715, valid_recall/gr: 0.98743, valid_recall/v: 0.99451, valid_recall/c: 0.98970, valid_recall/g: 0.98498, valid_recall/tot: 0.98977, elasped: 224.35476922988892\n",
      "----------------------------------------------------------------------------------------------------\n",
      "Epoch: 138\n"
     ]
    },
    {
     "data": {
      "application/vnd.jupyter.widget-view+json": {
       "model_id": "d1d6027f686f47f98d5e7a3cc678763e",
       "version_major": 2,
       "version_minor": 0
      },
      "text/plain": [
       "HBox(children=(IntProgress(value=0, max=314), HTML(value='')))"
      ]
     },
     "metadata": {},
     "output_type": "display_data"
    },
    {
     "name": "stdout",
     "output_type": "stream",
     "text": [
      "\n",
      "[138/150] lr: 0.00000, train_loss: 0.52614, train_recall/gr: 0.78249, train_recall/v: 0.81734, train_recall/c: 0.82981, train_recall/g: 0.77282, train_recall/tot: 0.80303 valid_loss: 0.07601, valid_recall/gr: 0.98853, valid_recall/v: 0.99462, valid_recall/c: 0.99099, valid_recall/g: 0.98613, valid_recall/tot: 0.99067, elasped: 223.12140274047852\n",
      "----------------------------------------------------------------------------------------------------\n",
      "Epoch: 139\n"
     ]
    },
    {
     "data": {
      "application/vnd.jupyter.widget-view+json": {
       "model_id": "de2f5ffcfb164709b0fd52378a38f5fc",
       "version_major": 2,
       "version_minor": 0
      },
      "text/plain": [
       "HBox(children=(IntProgress(value=0, max=314), HTML(value='')))"
      ]
     },
     "metadata": {},
     "output_type": "display_data"
    },
    {
     "name": "stdout",
     "output_type": "stream",
     "text": [
      "\n",
      "[139/150] lr: 0.00000, train_loss: 0.57286, train_recall/gr: 0.77026, train_recall/v: 0.80675, train_recall/c: 0.81780, train_recall/g: 0.76106, train_recall/tot: 0.79127 valid_loss: 0.07554, valid_recall/gr: 0.98742, valid_recall/v: 0.99465, valid_recall/c: 0.99037, valid_recall/g: 0.98546, valid_recall/tot: 0.98997, elasped: 223.39430713653564\n",
      "----------------------------------------------------------------------------------------------------\n",
      "Epoch: 140\n"
     ]
    },
    {
     "data": {
      "application/vnd.jupyter.widget-view+json": {
       "model_id": "271b782a82594b69b7b5e991c383ea72",
       "version_major": 2,
       "version_minor": 0
      },
      "text/plain": [
       "HBox(children=(IntProgress(value=0, max=314), HTML(value='')))"
      ]
     },
     "metadata": {},
     "output_type": "display_data"
    },
    {
     "name": "stdout",
     "output_type": "stream",
     "text": [
      "\n",
      "[140/150] lr: 0.00000, train_loss: 0.53272, train_recall/gr: 0.74129, train_recall/v: 0.77670, train_recall/c: 0.78556, train_recall/g: 0.73191, train_recall/tot: 0.76121 valid_loss: 0.05931, valid_recall/gr: 0.98723, valid_recall/v: 0.99460, valid_recall/c: 0.99047, valid_recall/g: 0.98511, valid_recall/tot: 0.98988, elasped: 224.19964122772217\n",
      "----------------------------------------------------------------------------------------------------\n",
      "Epoch: 141\n"
     ]
    },
    {
     "data": {
      "application/vnd.jupyter.widget-view+json": {
       "model_id": "9bec0c80acc443fd861d5d9eff49d201",
       "version_major": 2,
       "version_minor": 0
      },
      "text/plain": [
       "HBox(children=(IntProgress(value=0, max=314), HTML(value='')))"
      ]
     },
     "metadata": {},
     "output_type": "display_data"
    },
    {
     "name": "stdout",
     "output_type": "stream",
     "text": [
      "\n",
      "[141/150] lr: 0.00000, train_loss: 0.46392, train_recall/gr: 0.80590, train_recall/v: 0.83510, train_recall/c: 0.84732, train_recall/g: 0.79884, train_recall/tot: 0.82355 valid_loss: 0.04743, valid_recall/gr: 0.98820, valid_recall/v: 0.99477, valid_recall/c: 0.98883, valid_recall/g: 0.98570, valid_recall/tot: 0.99000, elasped: 223.16047024726868\n",
      "----------------------------------------------------------------------------------------------------\n",
      "Epoch: 142\n"
     ]
    },
    {
     "data": {
      "application/vnd.jupyter.widget-view+json": {
       "model_id": "87a007344ca445d7accbe0492a195aae",
       "version_major": 2,
       "version_minor": 0
      },
      "text/plain": [
       "HBox(children=(IntProgress(value=0, max=314), HTML(value='')))"
      ]
     },
     "metadata": {},
     "output_type": "display_data"
    },
    {
     "name": "stdout",
     "output_type": "stream",
     "text": [
      "\n",
      "[142/150] lr: 0.00000, train_loss: 0.49512, train_recall/gr: 0.79087, train_recall/v: 0.82255, train_recall/c: 0.82906, train_recall/g: 0.78167, train_recall/tot: 0.80834 valid_loss: 0.06151, valid_recall/gr: 0.98829, valid_recall/v: 0.99485, valid_recall/c: 0.99066, valid_recall/g: 0.98584, valid_recall/tot: 0.99052, elasped: 223.13635754585266\n",
      "----------------------------------------------------------------------------------------------------\n",
      "Epoch: 143\n"
     ]
    },
    {
     "data": {
      "application/vnd.jupyter.widget-view+json": {
       "model_id": "1af5685083e7493cb63d1eb9af0b2a3f",
       "version_major": 2,
       "version_minor": 0
      },
      "text/plain": [
       "HBox(children=(IntProgress(value=0, max=314), HTML(value='')))"
      ]
     },
     "metadata": {},
     "output_type": "display_data"
    },
    {
     "name": "stdout",
     "output_type": "stream",
     "text": [
      "Gradient overflow.  Skipping step, loss scaler 0 reducing loss scale to 1048576.0\n",
      "\n",
      "[143/150] lr: 0.00000, train_loss: 0.45725, train_recall/gr: 0.78298, train_recall/v: 0.81524, train_recall/c: 0.82648, train_recall/g: 0.77591, train_recall/tot: 0.80192 valid_loss: 0.09410, valid_recall/gr: 0.98687, valid_recall/v: 0.99416, valid_recall/c: 0.98925, valid_recall/g: 0.98454, valid_recall/tot: 0.98929, elasped: 222.4791076183319\n",
      "----------------------------------------------------------------------------------------------------\n",
      "Epoch: 144\n"
     ]
    },
    {
     "data": {
      "application/vnd.jupyter.widget-view+json": {
       "model_id": "a2dfc577a06e4d0d9dd92a304289c5ce",
       "version_major": 2,
       "version_minor": 0
      },
      "text/plain": [
       "HBox(children=(IntProgress(value=0, max=314), HTML(value='')))"
      ]
     },
     "metadata": {},
     "output_type": "display_data"
    },
    {
     "name": "stdout",
     "output_type": "stream",
     "text": [
      "\n",
      "[144/150] lr: 0.00000, train_loss: 0.52325, train_recall/gr: 0.76961, train_recall/v: 0.80591, train_recall/c: 0.81466, train_recall/g: 0.75967, train_recall/tot: 0.78995 valid_loss: 0.05245, valid_recall/gr: 0.98848, valid_recall/v: 0.99490, valid_recall/c: 0.99076, valid_recall/g: 0.98616, valid_recall/tot: 0.99066, elasped: 223.21919441223145\n",
      "----------------------------------------------------------------------------------------------------\n",
      "Epoch: 145\n"
     ]
    },
    {
     "data": {
      "application/vnd.jupyter.widget-view+json": {
       "model_id": "40a9649806c14d44b6b4744887041e32",
       "version_major": 2,
       "version_minor": 0
      },
      "text/plain": [
       "HBox(children=(IntProgress(value=0, max=314), HTML(value='')))"
      ]
     },
     "metadata": {},
     "output_type": "display_data"
    },
    {
     "name": "stdout",
     "output_type": "stream",
     "text": [
      "\n",
      "[145/150] lr: 0.00000, train_loss: 0.52403, train_recall/gr: 0.80297, train_recall/v: 0.83798, train_recall/c: 0.83895, train_recall/g: 0.79514, train_recall/tot: 0.82072 valid_loss: 0.05566, valid_recall/gr: 0.98797, valid_recall/v: 0.99445, valid_recall/c: 0.98982, valid_recall/g: 0.98551, valid_recall/tot: 0.99005, elasped: 222.7466368675232\n",
      "----------------------------------------------------------------------------------------------------\n",
      "Epoch: 146\n"
     ]
    },
    {
     "data": {
      "application/vnd.jupyter.widget-view+json": {
       "model_id": "1a9cbc8ff95c48c6b691d05ed6289be5",
       "version_major": 2,
       "version_minor": 0
      },
      "text/plain": [
       "HBox(children=(IntProgress(value=0, max=314), HTML(value='')))"
      ]
     },
     "metadata": {},
     "output_type": "display_data"
    },
    {
     "name": "stdout",
     "output_type": "stream",
     "text": [
      "\n",
      "[146/150] lr: 0.00000, train_loss: 0.54049, train_recall/gr: 0.78291, train_recall/v: 0.81734, train_recall/c: 0.82823, train_recall/g: 0.77463, train_recall/tot: 0.80285 valid_loss: 0.06567, valid_recall/gr: 0.98647, valid_recall/v: 0.99429, valid_recall/c: 0.98907, valid_recall/g: 0.98417, valid_recall/tot: 0.98908, elasped: 226.37040448188782\n",
      "----------------------------------------------------------------------------------------------------\n",
      "Epoch: 147\n"
     ]
    },
    {
     "data": {
      "application/vnd.jupyter.widget-view+json": {
       "model_id": "2e8f73fa69d54eabba7c4453d3433e8d",
       "version_major": 2,
       "version_minor": 0
      },
      "text/plain": [
       "HBox(children=(IntProgress(value=0, max=314), HTML(value='')))"
      ]
     },
     "metadata": {},
     "output_type": "display_data"
    },
    {
     "name": "stdout",
     "output_type": "stream",
     "text": [
      "\n",
      "[147/150] lr: 0.00000, train_loss: 0.50387, train_recall/gr: 0.77057, train_recall/v: 0.80678, train_recall/c: 0.81784, train_recall/g: 0.76188, train_recall/tot: 0.79144 valid_loss: 0.06013, valid_recall/gr: 0.98880, valid_recall/v: 0.99502, valid_recall/c: 0.99079, valid_recall/g: 0.98663, valid_recall/tot: 0.99085, elasped: 224.5631513595581\n",
      "----------------------------------------------------------------------------------------------------\n",
      "Epoch: 148\n"
     ]
    },
    {
     "data": {
      "application/vnd.jupyter.widget-view+json": {
       "model_id": "fc9192e2c7364effb9fde465b2bb8479",
       "version_major": 2,
       "version_minor": 0
      },
      "text/plain": [
       "HBox(children=(IntProgress(value=0, max=314), HTML(value='')))"
      ]
     },
     "metadata": {},
     "output_type": "display_data"
    },
    {
     "name": "stdout",
     "output_type": "stream",
     "text": [
      "Gradient overflow.  Skipping step, loss scaler 0 reducing loss scale to 524288.0\n",
      "\n",
      "[148/150] lr: 0.00000, train_loss: 0.50347, train_recall/gr: 0.77594, train_recall/v: 0.81147, train_recall/c: 0.82954, train_recall/g: 0.76872, train_recall/tot: 0.79822 valid_loss: 0.06542, valid_recall/gr: 0.98583, valid_recall/v: 0.99410, valid_recall/c: 0.98851, valid_recall/g: 0.98298, valid_recall/tot: 0.98857, elasped: 223.885351896286\n",
      "----------------------------------------------------------------------------------------------------\n",
      "Epoch: 149\n"
     ]
    },
    {
     "data": {
      "application/vnd.jupyter.widget-view+json": {
       "model_id": "e5105aeeaa4d412d995a263beb2885ad",
       "version_major": 2,
       "version_minor": 0
      },
      "text/plain": [
       "HBox(children=(IntProgress(value=0, max=314), HTML(value='')))"
      ]
     },
     "metadata": {},
     "output_type": "display_data"
    },
    {
     "name": "stdout",
     "output_type": "stream",
     "text": [
      "\n",
      "[149/150] lr: 0.00000, train_loss: 0.51362, train_recall/gr: 0.77953, train_recall/v: 0.81376, train_recall/c: 0.82269, train_recall/g: 0.76904, train_recall/tot: 0.79888 valid_loss: 0.04563, valid_recall/gr: 0.98829, valid_recall/v: 0.99474, valid_recall/c: 0.98974, valid_recall/g: 0.98596, valid_recall/tot: 0.99027, elasped: 222.7960147857666\n",
      "----------------------------------------------------------------------------------------------------\n",
      "Epoch: 150\n"
     ]
    },
    {
     "data": {
      "application/vnd.jupyter.widget-view+json": {
       "model_id": "4067cac40e224ee19b29e9a6a01b4af3",
       "version_major": 2,
       "version_minor": 0
      },
      "text/plain": [
       "HBox(children=(IntProgress(value=0, max=314), HTML(value='')))"
      ]
     },
     "metadata": {},
     "output_type": "display_data"
    },
    {
     "name": "stdout",
     "output_type": "stream",
     "text": [
      "\n",
      "[150/150] lr: 0.00000, train_loss: 0.55462, train_recall/gr: 0.76318, train_recall/v: 0.79644, train_recall/c: 0.80928, train_recall/g: 0.75255, train_recall/tot: 0.78302 valid_loss: 0.05398, valid_recall/gr: 0.98698, valid_recall/v: 0.99440, valid_recall/c: 0.98956, valid_recall/g: 0.98479, valid_recall/tot: 0.98948, elasped: 222.57379150390625\n",
      "----------------------------------------------------------------------------------------------------\n"
     ]
    }
   ],
   "source": [
    "clear_cache()\n",
    "best_score = -1\n",
    "histories = []\n",
    "\n",
    "for i in range(num_epochs):\n",
    "    start = time.time()\n",
    "    epoch = i + 1\n",
    "\n",
    "    print(f'Epoch: {epoch}')\n",
    "    \n",
    "    history = {\n",
    "        'epoch': epoch,\n",
    "    }\n",
    "    \n",
    "    train_loss, tr_recall_gr, tr_recall_v, tr_recall_c, tr_recall_g, tr_recall_tot = run_train(train_loader, model,\n",
    "                                                                                               optimizer,\n",
    "                                                                                               steps_per_epoch)\n",
    "    val_loss, val_recall_gr, val_recall_v, val_recall_c, val_recall_g, val_recall_tot = run_evaluate(valid_loader, model)\n",
    "\n",
    "    lr = scheduler.optimizer.param_groups[0]['lr']\n",
    "    scheduler.step(val_recall_tot)\n",
    "    \n",
    "    if val_recall_tot > best_score:\n",
    "        best_score = val_recall_tot\n",
    "        file_name = modeldir / f'model_{experi_num}_epoch_{epoch}_fold_{val_fold}_recall_{val_recall_tot:.4f}.pt'\n",
    "        torch.save(model.state_dict(), file_name)\n",
    "\n",
    "    elapsed = time.time() - start\n",
    "    \n",
    "    history['lr'] = lr\n",
    "    history['train/loss'] = train_loss\n",
    "    history['train/recall_gr'] = tr_recall_gr\n",
    "    history['train/recall_v'] = tr_recall_v\n",
    "    history['train/recall_c'] = tr_recall_c\n",
    "    history['train/recall_g'] = tr_recall_g\n",
    "    history['train/recall'] = tr_recall_tot\n",
    "    history['val/loss'] = val_loss\n",
    "    history['val/recall_gr'] = val_recall_gr\n",
    "    history['val/recall_v'] = val_recall_v\n",
    "    history['val/recall_c'] = val_recall_c\n",
    "    history['val/recall_g'] = val_recall_g\n",
    "    history['val/recall'] = val_recall_tot\n",
    "    history['elapsed_time'] = elapsed\n",
    "    histories.append(history)\n",
    "    \n",
    "    pd.DataFrame(histories).to_csv(logdir / f'log_{experi_num}.csv', index=False)\n",
    "    \n",
    "    epoch_len = len(str(num_epochs))    \n",
    "    print_msg = (\n",
    "        f'[{epoch:>{epoch_len}}/{num_epochs:>{epoch_len}}] ' +\n",
    "        f'lr: {lr:.5f}, ' +\n",
    "        f'train_loss: {train_loss:.5f}, ' +\n",
    "        f'train_recall/gr: {tr_recall_gr:.5f}, ' +\n",
    "        f'train_recall/v: {tr_recall_v:.5f}, ' +\n",
    "        f'train_recall/c: {tr_recall_c:.5f}, ' +\n",
    "        f'train_recall/g: {tr_recall_g:.5f}, ' +\n",
    "        f'train_recall/tot: {tr_recall_tot:.5f} ' +\n",
    "        f'valid_loss: {val_loss:.5f}, ' +\n",
    "        f'valid_recall/gr: {val_recall_gr:.5f}, ' +\n",
    "        f'valid_recall/v: {val_recall_v:.5f}, ' +\n",
    "        f'valid_recall/c: {val_recall_c:.5f}, ' +\n",
    "        f'valid_recall/g: {val_recall_g:.5f}, ' +\n",
    "        f'valid_recall/tot: {val_recall_tot:.5f}, ' +\n",
    "        f'elasped: {elapsed}'\n",
    "    )\n",
    "\n",
    "    print(print_msg)\n",
    "    print('-'*100)"
   ]
  },
  {
   "cell_type": "code",
   "execution_count": 36,
   "metadata": {},
   "outputs": [
    {
     "data": {
      "text/html": [
       "<div>\n",
       "<style scoped>\n",
       "    .dataframe tbody tr th:only-of-type {\n",
       "        vertical-align: middle;\n",
       "    }\n",
       "\n",
       "    .dataframe tbody tr th {\n",
       "        vertical-align: top;\n",
       "    }\n",
       "\n",
       "    .dataframe thead th {\n",
       "        text-align: right;\n",
       "    }\n",
       "</style>\n",
       "<table border=\"1\" class=\"dataframe\">\n",
       "  <thead>\n",
       "    <tr style=\"text-align: right;\">\n",
       "      <th></th>\n",
       "      <th>epoch</th>\n",
       "      <th>lr</th>\n",
       "      <th>train/loss</th>\n",
       "      <th>train/recall_gr</th>\n",
       "      <th>train/recall_v</th>\n",
       "      <th>train/recall_c</th>\n",
       "      <th>train/recall_g</th>\n",
       "      <th>train/recall</th>\n",
       "      <th>val/loss</th>\n",
       "      <th>val/recall_gr</th>\n",
       "      <th>val/recall_v</th>\n",
       "      <th>val/recall_c</th>\n",
       "      <th>val/recall_g</th>\n",
       "      <th>val/recall</th>\n",
       "      <th>elapsed_time</th>\n",
       "    </tr>\n",
       "  </thead>\n",
       "  <tbody>\n",
       "    <tr>\n",
       "      <th>0</th>\n",
       "      <td>1</td>\n",
       "      <td>2.400000e-03</td>\n",
       "      <td>2.746145</td>\n",
       "      <td>0.125567</td>\n",
       "      <td>0.434313</td>\n",
       "      <td>0.419577</td>\n",
       "      <td>0.109797</td>\n",
       "      <td>0.276256</td>\n",
       "      <td>1.004520</td>\n",
       "      <td>0.560466</td>\n",
       "      <td>0.884548</td>\n",
       "      <td>0.892787</td>\n",
       "      <td>0.561131</td>\n",
       "      <td>0.724567</td>\n",
       "      <td>264.843943</td>\n",
       "    </tr>\n",
       "    <tr>\n",
       "      <th>1</th>\n",
       "      <td>2</td>\n",
       "      <td>2.400000e-03</td>\n",
       "      <td>1.368121</td>\n",
       "      <td>0.503522</td>\n",
       "      <td>0.685316</td>\n",
       "      <td>0.690261</td>\n",
       "      <td>0.474820</td>\n",
       "      <td>0.595655</td>\n",
       "      <td>0.539655</td>\n",
       "      <td>0.853931</td>\n",
       "      <td>0.959366</td>\n",
       "      <td>0.951135</td>\n",
       "      <td>0.845011</td>\n",
       "      <td>0.904591</td>\n",
       "      <td>215.681178</td>\n",
       "    </tr>\n",
       "    <tr>\n",
       "      <th>2</th>\n",
       "      <td>3</td>\n",
       "      <td>2.400000e-03</td>\n",
       "      <td>1.189796</td>\n",
       "      <td>0.602342</td>\n",
       "      <td>0.731378</td>\n",
       "      <td>0.732292</td>\n",
       "      <td>0.572438</td>\n",
       "      <td>0.667088</td>\n",
       "      <td>0.305366</td>\n",
       "      <td>0.906814</td>\n",
       "      <td>0.972798</td>\n",
       "      <td>0.965653</td>\n",
       "      <td>0.907240</td>\n",
       "      <td>0.938020</td>\n",
       "      <td>217.926993</td>\n",
       "    </tr>\n",
       "    <tr>\n",
       "      <th>3</th>\n",
       "      <td>4</td>\n",
       "      <td>2.400000e-03</td>\n",
       "      <td>1.096780</td>\n",
       "      <td>0.637415</td>\n",
       "      <td>0.743821</td>\n",
       "      <td>0.741888</td>\n",
       "      <td>0.607420</td>\n",
       "      <td>0.690135</td>\n",
       "      <td>0.263777</td>\n",
       "      <td>0.936645</td>\n",
       "      <td>0.980520</td>\n",
       "      <td>0.968399</td>\n",
       "      <td>0.933669</td>\n",
       "      <td>0.955552</td>\n",
       "      <td>217.149964</td>\n",
       "    </tr>\n",
       "    <tr>\n",
       "      <th>4</th>\n",
       "      <td>5</td>\n",
       "      <td>2.400000e-03</td>\n",
       "      <td>1.001503</td>\n",
       "      <td>0.612032</td>\n",
       "      <td>0.711096</td>\n",
       "      <td>0.719112</td>\n",
       "      <td>0.589528</td>\n",
       "      <td>0.663568</td>\n",
       "      <td>0.279986</td>\n",
       "      <td>0.928203</td>\n",
       "      <td>0.976474</td>\n",
       "      <td>0.964971</td>\n",
       "      <td>0.930468</td>\n",
       "      <td>0.949463</td>\n",
       "      <td>215.080893</td>\n",
       "    </tr>\n",
       "    <tr>\n",
       "      <th>5</th>\n",
       "      <td>6</td>\n",
       "      <td>2.400000e-03</td>\n",
       "      <td>0.871600</td>\n",
       "      <td>0.714623</td>\n",
       "      <td>0.798182</td>\n",
       "      <td>0.797320</td>\n",
       "      <td>0.692321</td>\n",
       "      <td>0.756187</td>\n",
       "      <td>0.248871</td>\n",
       "      <td>0.945733</td>\n",
       "      <td>0.979299</td>\n",
       "      <td>0.964709</td>\n",
       "      <td>0.937559</td>\n",
       "      <td>0.958869</td>\n",
       "      <td>218.731683</td>\n",
       "    </tr>\n",
       "    <tr>\n",
       "      <th>6</th>\n",
       "      <td>7</td>\n",
       "      <td>2.400000e-03</td>\n",
       "      <td>0.862223</td>\n",
       "      <td>0.668003</td>\n",
       "      <td>0.744323</td>\n",
       "      <td>0.750459</td>\n",
       "      <td>0.645853</td>\n",
       "      <td>0.707697</td>\n",
       "      <td>0.153658</td>\n",
       "      <td>0.964028</td>\n",
       "      <td>0.987560</td>\n",
       "      <td>0.982785</td>\n",
       "      <td>0.961217</td>\n",
       "      <td>0.974600</td>\n",
       "      <td>219.028746</td>\n",
       "    </tr>\n",
       "    <tr>\n",
       "      <th>7</th>\n",
       "      <td>8</td>\n",
       "      <td>2.400000e-03</td>\n",
       "      <td>0.809030</td>\n",
       "      <td>0.710515</td>\n",
       "      <td>0.779785</td>\n",
       "      <td>0.792972</td>\n",
       "      <td>0.690184</td>\n",
       "      <td>0.748447</td>\n",
       "      <td>0.183007</td>\n",
       "      <td>0.962543</td>\n",
       "      <td>0.987231</td>\n",
       "      <td>0.982417</td>\n",
       "      <td>0.957208</td>\n",
       "      <td>0.973683</td>\n",
       "      <td>218.733194</td>\n",
       "    </tr>\n",
       "    <tr>\n",
       "      <th>8</th>\n",
       "      <td>9</td>\n",
       "      <td>2.400000e-03</td>\n",
       "      <td>0.818587</td>\n",
       "      <td>0.692342</td>\n",
       "      <td>0.767001</td>\n",
       "      <td>0.777114</td>\n",
       "      <td>0.673322</td>\n",
       "      <td>0.732200</td>\n",
       "      <td>0.174505</td>\n",
       "      <td>0.964859</td>\n",
       "      <td>0.988212</td>\n",
       "      <td>0.986720</td>\n",
       "      <td>0.962807</td>\n",
       "      <td>0.976162</td>\n",
       "      <td>219.790211</td>\n",
       "    </tr>\n",
       "    <tr>\n",
       "      <th>9</th>\n",
       "      <td>10</td>\n",
       "      <td>2.400000e-03</td>\n",
       "      <td>0.780930</td>\n",
       "      <td>0.667461</td>\n",
       "      <td>0.736582</td>\n",
       "      <td>0.739767</td>\n",
       "      <td>0.647124</td>\n",
       "      <td>0.702818</td>\n",
       "      <td>0.124702</td>\n",
       "      <td>0.970472</td>\n",
       "      <td>0.987409</td>\n",
       "      <td>0.980923</td>\n",
       "      <td>0.966072</td>\n",
       "      <td>0.977319</td>\n",
       "      <td>220.620859</td>\n",
       "    </tr>\n",
       "    <tr>\n",
       "      <th>10</th>\n",
       "      <td>11</td>\n",
       "      <td>2.400000e-03</td>\n",
       "      <td>0.748679</td>\n",
       "      <td>0.730373</td>\n",
       "      <td>0.793055</td>\n",
       "      <td>0.808165</td>\n",
       "      <td>0.713321</td>\n",
       "      <td>0.765491</td>\n",
       "      <td>0.106842</td>\n",
       "      <td>0.972853</td>\n",
       "      <td>0.990148</td>\n",
       "      <td>0.984039</td>\n",
       "      <td>0.969327</td>\n",
       "      <td>0.979973</td>\n",
       "      <td>219.072240</td>\n",
       "    </tr>\n",
       "    <tr>\n",
       "      <th>11</th>\n",
       "      <td>12</td>\n",
       "      <td>2.400000e-03</td>\n",
       "      <td>0.756201</td>\n",
       "      <td>0.710323</td>\n",
       "      <td>0.777522</td>\n",
       "      <td>0.784668</td>\n",
       "      <td>0.696327</td>\n",
       "      <td>0.745709</td>\n",
       "      <td>0.101401</td>\n",
       "      <td>0.973946</td>\n",
       "      <td>0.989829</td>\n",
       "      <td>0.985137</td>\n",
       "      <td>0.970950</td>\n",
       "      <td>0.980714</td>\n",
       "      <td>216.956132</td>\n",
       "    </tr>\n",
       "    <tr>\n",
       "      <th>12</th>\n",
       "      <td>13</td>\n",
       "      <td>2.400000e-03</td>\n",
       "      <td>0.741955</td>\n",
       "      <td>0.712754</td>\n",
       "      <td>0.775321</td>\n",
       "      <td>0.780938</td>\n",
       "      <td>0.697500</td>\n",
       "      <td>0.745442</td>\n",
       "      <td>0.141708</td>\n",
       "      <td>0.976976</td>\n",
       "      <td>0.991473</td>\n",
       "      <td>0.984953</td>\n",
       "      <td>0.974529</td>\n",
       "      <td>0.982594</td>\n",
       "      <td>219.584403</td>\n",
       "    </tr>\n",
       "    <tr>\n",
       "      <th>13</th>\n",
       "      <td>14</td>\n",
       "      <td>2.400000e-03</td>\n",
       "      <td>0.717154</td>\n",
       "      <td>0.708563</td>\n",
       "      <td>0.769760</td>\n",
       "      <td>0.778542</td>\n",
       "      <td>0.693202</td>\n",
       "      <td>0.741357</td>\n",
       "      <td>0.136726</td>\n",
       "      <td>0.974285</td>\n",
       "      <td>0.991215</td>\n",
       "      <td>0.984361</td>\n",
       "      <td>0.973718</td>\n",
       "      <td>0.981037</td>\n",
       "      <td>220.457851</td>\n",
       "    </tr>\n",
       "    <tr>\n",
       "      <th>14</th>\n",
       "      <td>15</td>\n",
       "      <td>2.400000e-03</td>\n",
       "      <td>0.677321</td>\n",
       "      <td>0.745758</td>\n",
       "      <td>0.798152</td>\n",
       "      <td>0.805263</td>\n",
       "      <td>0.729345</td>\n",
       "      <td>0.773732</td>\n",
       "      <td>0.098088</td>\n",
       "      <td>0.978336</td>\n",
       "      <td>0.992909</td>\n",
       "      <td>0.985455</td>\n",
       "      <td>0.975035</td>\n",
       "      <td>0.983759</td>\n",
       "      <td>221.156557</td>\n",
       "    </tr>\n",
       "    <tr>\n",
       "      <th>15</th>\n",
       "      <td>16</td>\n",
       "      <td>2.400000e-03</td>\n",
       "      <td>0.692556</td>\n",
       "      <td>0.756664</td>\n",
       "      <td>0.814082</td>\n",
       "      <td>0.820146</td>\n",
       "      <td>0.743694</td>\n",
       "      <td>0.786889</td>\n",
       "      <td>0.107277</td>\n",
       "      <td>0.977308</td>\n",
       "      <td>0.991438</td>\n",
       "      <td>0.985346</td>\n",
       "      <td>0.974332</td>\n",
       "      <td>0.982850</td>\n",
       "      <td>220.976734</td>\n",
       "    </tr>\n",
       "    <tr>\n",
       "      <th>16</th>\n",
       "      <td>17</td>\n",
       "      <td>2.400000e-03</td>\n",
       "      <td>0.692373</td>\n",
       "      <td>0.730469</td>\n",
       "      <td>0.785008</td>\n",
       "      <td>0.790440</td>\n",
       "      <td>0.714390</td>\n",
       "      <td>0.759097</td>\n",
       "      <td>0.115830</td>\n",
       "      <td>0.979578</td>\n",
       "      <td>0.992527</td>\n",
       "      <td>0.990108</td>\n",
       "      <td>0.977806</td>\n",
       "      <td>0.985448</td>\n",
       "      <td>222.514625</td>\n",
       "    </tr>\n",
       "    <tr>\n",
       "      <th>17</th>\n",
       "      <td>18</td>\n",
       "      <td>2.400000e-03</td>\n",
       "      <td>0.679954</td>\n",
       "      <td>0.730902</td>\n",
       "      <td>0.788021</td>\n",
       "      <td>0.795751</td>\n",
       "      <td>0.718394</td>\n",
       "      <td>0.761394</td>\n",
       "      <td>0.111817</td>\n",
       "      <td>0.975852</td>\n",
       "      <td>0.991371</td>\n",
       "      <td>0.987856</td>\n",
       "      <td>0.975443</td>\n",
       "      <td>0.982733</td>\n",
       "      <td>220.791966</td>\n",
       "    </tr>\n",
       "    <tr>\n",
       "      <th>18</th>\n",
       "      <td>19</td>\n",
       "      <td>2.400000e-03</td>\n",
       "      <td>0.699401</td>\n",
       "      <td>0.741458</td>\n",
       "      <td>0.797646</td>\n",
       "      <td>0.805196</td>\n",
       "      <td>0.728316</td>\n",
       "      <td>0.771439</td>\n",
       "      <td>0.078948</td>\n",
       "      <td>0.979318</td>\n",
       "      <td>0.991636</td>\n",
       "      <td>0.988539</td>\n",
       "      <td>0.977866</td>\n",
       "      <td>0.984703</td>\n",
       "      <td>219.631803</td>\n",
       "    </tr>\n",
       "    <tr>\n",
       "      <th>19</th>\n",
       "      <td>20</td>\n",
       "      <td>2.400000e-03</td>\n",
       "      <td>0.703581</td>\n",
       "      <td>0.676178</td>\n",
       "      <td>0.735443</td>\n",
       "      <td>0.748660</td>\n",
       "      <td>0.664606</td>\n",
       "      <td>0.709115</td>\n",
       "      <td>0.107145</td>\n",
       "      <td>0.979564</td>\n",
       "      <td>0.992431</td>\n",
       "      <td>0.987219</td>\n",
       "      <td>0.976904</td>\n",
       "      <td>0.984695</td>\n",
       "      <td>220.217917</td>\n",
       "    </tr>\n",
       "    <tr>\n",
       "      <th>20</th>\n",
       "      <td>21</td>\n",
       "      <td>2.400000e-03</td>\n",
       "      <td>0.623897</td>\n",
       "      <td>0.732142</td>\n",
       "      <td>0.780256</td>\n",
       "      <td>0.787735</td>\n",
       "      <td>0.716602</td>\n",
       "      <td>0.758069</td>\n",
       "      <td>0.093887</td>\n",
       "      <td>0.979028</td>\n",
       "      <td>0.992594</td>\n",
       "      <td>0.988538</td>\n",
       "      <td>0.977749</td>\n",
       "      <td>0.984797</td>\n",
       "      <td>219.827198</td>\n",
       "    </tr>\n",
       "    <tr>\n",
       "      <th>21</th>\n",
       "      <td>22</td>\n",
       "      <td>2.400000e-03</td>\n",
       "      <td>0.628754</td>\n",
       "      <td>0.745794</td>\n",
       "      <td>0.795955</td>\n",
       "      <td>0.799556</td>\n",
       "      <td>0.734458</td>\n",
       "      <td>0.771775</td>\n",
       "      <td>0.104118</td>\n",
       "      <td>0.977382</td>\n",
       "      <td>0.991858</td>\n",
       "      <td>0.988141</td>\n",
       "      <td>0.975485</td>\n",
       "      <td>0.983691</td>\n",
       "      <td>220.127590</td>\n",
       "    </tr>\n",
       "    <tr>\n",
       "      <th>22</th>\n",
       "      <td>23</td>\n",
       "      <td>1.200000e-03</td>\n",
       "      <td>0.661767</td>\n",
       "      <td>0.767055</td>\n",
       "      <td>0.814775</td>\n",
       "      <td>0.824547</td>\n",
       "      <td>0.754568</td>\n",
       "      <td>0.793358</td>\n",
       "      <td>0.079813</td>\n",
       "      <td>0.982189</td>\n",
       "      <td>0.993676</td>\n",
       "      <td>0.987632</td>\n",
       "      <td>0.980196</td>\n",
       "      <td>0.986421</td>\n",
       "      <td>221.455691</td>\n",
       "    </tr>\n",
       "    <tr>\n",
       "      <th>23</th>\n",
       "      <td>24</td>\n",
       "      <td>1.200000e-03</td>\n",
       "      <td>0.677430</td>\n",
       "      <td>0.756831</td>\n",
       "      <td>0.804070</td>\n",
       "      <td>0.812834</td>\n",
       "      <td>0.741453</td>\n",
       "      <td>0.782641</td>\n",
       "      <td>0.073925</td>\n",
       "      <td>0.981748</td>\n",
       "      <td>0.993975</td>\n",
       "      <td>0.989035</td>\n",
       "      <td>0.980988</td>\n",
       "      <td>0.986626</td>\n",
       "      <td>220.273929</td>\n",
       "    </tr>\n",
       "    <tr>\n",
       "      <th>24</th>\n",
       "      <td>25</td>\n",
       "      <td>1.200000e-03</td>\n",
       "      <td>0.579991</td>\n",
       "      <td>0.769607</td>\n",
       "      <td>0.809826</td>\n",
       "      <td>0.818796</td>\n",
       "      <td>0.759022</td>\n",
       "      <td>0.791959</td>\n",
       "      <td>0.084270</td>\n",
       "      <td>0.983297</td>\n",
       "      <td>0.992835</td>\n",
       "      <td>0.989203</td>\n",
       "      <td>0.981778</td>\n",
       "      <td>0.987158</td>\n",
       "      <td>221.092933</td>\n",
       "    </tr>\n",
       "    <tr>\n",
       "      <th>25</th>\n",
       "      <td>26</td>\n",
       "      <td>1.200000e-03</td>\n",
       "      <td>0.553361</td>\n",
       "      <td>0.763178</td>\n",
       "      <td>0.805487</td>\n",
       "      <td>0.815959</td>\n",
       "      <td>0.752735</td>\n",
       "      <td>0.786951</td>\n",
       "      <td>0.062797</td>\n",
       "      <td>0.980828</td>\n",
       "      <td>0.992945</td>\n",
       "      <td>0.989331</td>\n",
       "      <td>0.980355</td>\n",
       "      <td>0.985983</td>\n",
       "      <td>219.511312</td>\n",
       "    </tr>\n",
       "    <tr>\n",
       "      <th>26</th>\n",
       "      <td>27</td>\n",
       "      <td>1.200000e-03</td>\n",
       "      <td>0.593553</td>\n",
       "      <td>0.759365</td>\n",
       "      <td>0.806587</td>\n",
       "      <td>0.818373</td>\n",
       "      <td>0.748017</td>\n",
       "      <td>0.785923</td>\n",
       "      <td>0.085409</td>\n",
       "      <td>0.980576</td>\n",
       "      <td>0.993282</td>\n",
       "      <td>0.988110</td>\n",
       "      <td>0.979049</td>\n",
       "      <td>0.985636</td>\n",
       "      <td>219.821006</td>\n",
       "    </tr>\n",
       "    <tr>\n",
       "      <th>27</th>\n",
       "      <td>28</td>\n",
       "      <td>1.200000e-03</td>\n",
       "      <td>0.582517</td>\n",
       "      <td>0.747420</td>\n",
       "      <td>0.792341</td>\n",
       "      <td>0.807847</td>\n",
       "      <td>0.736890</td>\n",
       "      <td>0.773757</td>\n",
       "      <td>0.088109</td>\n",
       "      <td>0.984332</td>\n",
       "      <td>0.993537</td>\n",
       "      <td>0.991024</td>\n",
       "      <td>0.981677</td>\n",
       "      <td>0.988306</td>\n",
       "      <td>218.100267</td>\n",
       "    </tr>\n",
       "    <tr>\n",
       "      <th>28</th>\n",
       "      <td>29</td>\n",
       "      <td>1.200000e-03</td>\n",
       "      <td>0.657593</td>\n",
       "      <td>0.732345</td>\n",
       "      <td>0.779939</td>\n",
       "      <td>0.794782</td>\n",
       "      <td>0.722041</td>\n",
       "      <td>0.759853</td>\n",
       "      <td>0.060730</td>\n",
       "      <td>0.985283</td>\n",
       "      <td>0.993448</td>\n",
       "      <td>0.990774</td>\n",
       "      <td>0.983773</td>\n",
       "      <td>0.988697</td>\n",
       "      <td>220.761741</td>\n",
       "    </tr>\n",
       "    <tr>\n",
       "      <th>29</th>\n",
       "      <td>30</td>\n",
       "      <td>1.200000e-03</td>\n",
       "      <td>0.610850</td>\n",
       "      <td>0.718579</td>\n",
       "      <td>0.764339</td>\n",
       "      <td>0.782107</td>\n",
       "      <td>0.706873</td>\n",
       "      <td>0.745901</td>\n",
       "      <td>0.056954</td>\n",
       "      <td>0.983870</td>\n",
       "      <td>0.993927</td>\n",
       "      <td>0.992105</td>\n",
       "      <td>0.982345</td>\n",
       "      <td>0.988443</td>\n",
       "      <td>221.761872</td>\n",
       "    </tr>\n",
       "    <tr>\n",
       "      <th>30</th>\n",
       "      <td>31</td>\n",
       "      <td>1.200000e-03</td>\n",
       "      <td>0.586973</td>\n",
       "      <td>0.761332</td>\n",
       "      <td>0.801233</td>\n",
       "      <td>0.815348</td>\n",
       "      <td>0.749886</td>\n",
       "      <td>0.784811</td>\n",
       "      <td>0.062882</td>\n",
       "      <td>0.984760</td>\n",
       "      <td>0.994651</td>\n",
       "      <td>0.989205</td>\n",
       "      <td>0.983160</td>\n",
       "      <td>0.988344</td>\n",
       "      <td>219.329768</td>\n",
       "    </tr>\n",
       "    <tr>\n",
       "      <th>31</th>\n",
       "      <td>32</td>\n",
       "      <td>1.200000e-03</td>\n",
       "      <td>0.675874</td>\n",
       "      <td>0.705051</td>\n",
       "      <td>0.753544</td>\n",
       "      <td>0.758866</td>\n",
       "      <td>0.691433</td>\n",
       "      <td>0.730628</td>\n",
       "      <td>0.082897</td>\n",
       "      <td>0.982684</td>\n",
       "      <td>0.992947</td>\n",
       "      <td>0.987659</td>\n",
       "      <td>0.979797</td>\n",
       "      <td>0.986494</td>\n",
       "      <td>220.291234</td>\n",
       "    </tr>\n",
       "    <tr>\n",
       "      <th>32</th>\n",
       "      <td>33</td>\n",
       "      <td>1.200000e-03</td>\n",
       "      <td>0.572627</td>\n",
       "      <td>0.768823</td>\n",
       "      <td>0.808705</td>\n",
       "      <td>0.819306</td>\n",
       "      <td>0.757177</td>\n",
       "      <td>0.791414</td>\n",
       "      <td>0.060013</td>\n",
       "      <td>0.984069</td>\n",
       "      <td>0.993674</td>\n",
       "      <td>0.991182</td>\n",
       "      <td>0.981999</td>\n",
       "      <td>0.988248</td>\n",
       "      <td>221.304757</td>\n",
       "    </tr>\n",
       "    <tr>\n",
       "      <th>33</th>\n",
       "      <td>34</td>\n",
       "      <td>1.200000e-03</td>\n",
       "      <td>0.542611</td>\n",
       "      <td>0.780606</td>\n",
       "      <td>0.821868</td>\n",
       "      <td>0.828762</td>\n",
       "      <td>0.769690</td>\n",
       "      <td>0.802961</td>\n",
       "      <td>0.082655</td>\n",
       "      <td>0.985244</td>\n",
       "      <td>0.994266</td>\n",
       "      <td>0.990000</td>\n",
       "      <td>0.982657</td>\n",
       "      <td>0.988689</td>\n",
       "      <td>220.207636</td>\n",
       "    </tr>\n",
       "    <tr>\n",
       "      <th>34</th>\n",
       "      <td>35</td>\n",
       "      <td>6.000000e-04</td>\n",
       "      <td>0.676718</td>\n",
       "      <td>0.717999</td>\n",
       "      <td>0.764153</td>\n",
       "      <td>0.780264</td>\n",
       "      <td>0.707740</td>\n",
       "      <td>0.745104</td>\n",
       "      <td>0.070831</td>\n",
       "      <td>0.985731</td>\n",
       "      <td>0.994350</td>\n",
       "      <td>0.988284</td>\n",
       "      <td>0.982796</td>\n",
       "      <td>0.988524</td>\n",
       "      <td>221.111692</td>\n",
       "    </tr>\n",
       "    <tr>\n",
       "      <th>35</th>\n",
       "      <td>36</td>\n",
       "      <td>6.000000e-04</td>\n",
       "      <td>0.540080</td>\n",
       "      <td>0.796637</td>\n",
       "      <td>0.833552</td>\n",
       "      <td>0.840582</td>\n",
       "      <td>0.787815</td>\n",
       "      <td>0.816852</td>\n",
       "      <td>0.060953</td>\n",
       "      <td>0.985865</td>\n",
       "      <td>0.994214</td>\n",
       "      <td>0.989204</td>\n",
       "      <td>0.984086</td>\n",
       "      <td>0.988787</td>\n",
       "      <td>221.869003</td>\n",
       "    </tr>\n",
       "    <tr>\n",
       "      <th>36</th>\n",
       "      <td>37</td>\n",
       "      <td>6.000000e-04</td>\n",
       "      <td>0.579848</td>\n",
       "      <td>0.786580</td>\n",
       "      <td>0.827650</td>\n",
       "      <td>0.838850</td>\n",
       "      <td>0.778204</td>\n",
       "      <td>0.809915</td>\n",
       "      <td>0.060609</td>\n",
       "      <td>0.986955</td>\n",
       "      <td>0.994736</td>\n",
       "      <td>0.990512</td>\n",
       "      <td>0.984467</td>\n",
       "      <td>0.989789</td>\n",
       "      <td>218.857422</td>\n",
       "    </tr>\n",
       "    <tr>\n",
       "      <th>37</th>\n",
       "      <td>38</td>\n",
       "      <td>6.000000e-04</td>\n",
       "      <td>0.613691</td>\n",
       "      <td>0.737707</td>\n",
       "      <td>0.780170</td>\n",
       "      <td>0.793807</td>\n",
       "      <td>0.727313</td>\n",
       "      <td>0.762347</td>\n",
       "      <td>0.076723</td>\n",
       "      <td>0.985682</td>\n",
       "      <td>0.993828</td>\n",
       "      <td>0.989498</td>\n",
       "      <td>0.982955</td>\n",
       "      <td>0.988672</td>\n",
       "      <td>220.484182</td>\n",
       "    </tr>\n",
       "    <tr>\n",
       "      <th>38</th>\n",
       "      <td>39</td>\n",
       "      <td>6.000000e-04</td>\n",
       "      <td>0.614376</td>\n",
       "      <td>0.748627</td>\n",
       "      <td>0.793713</td>\n",
       "      <td>0.813438</td>\n",
       "      <td>0.740993</td>\n",
       "      <td>0.776101</td>\n",
       "      <td>0.085763</td>\n",
       "      <td>0.986058</td>\n",
       "      <td>0.994301</td>\n",
       "      <td>0.989420</td>\n",
       "      <td>0.983595</td>\n",
       "      <td>0.988959</td>\n",
       "      <td>220.723627</td>\n",
       "    </tr>\n",
       "    <tr>\n",
       "      <th>39</th>\n",
       "      <td>40</td>\n",
       "      <td>6.000000e-04</td>\n",
       "      <td>0.529229</td>\n",
       "      <td>0.772002</td>\n",
       "      <td>0.808491</td>\n",
       "      <td>0.823113</td>\n",
       "      <td>0.762606</td>\n",
       "      <td>0.793902</td>\n",
       "      <td>0.062423</td>\n",
       "      <td>0.987266</td>\n",
       "      <td>0.994127</td>\n",
       "      <td>0.989336</td>\n",
       "      <td>0.984595</td>\n",
       "      <td>0.989499</td>\n",
       "      <td>221.485814</td>\n",
       "    </tr>\n",
       "    <tr>\n",
       "      <th>40</th>\n",
       "      <td>41</td>\n",
       "      <td>6.000000e-04</td>\n",
       "      <td>0.541438</td>\n",
       "      <td>0.750263</td>\n",
       "      <td>0.788937</td>\n",
       "      <td>0.802590</td>\n",
       "      <td>0.739791</td>\n",
       "      <td>0.773013</td>\n",
       "      <td>0.071148</td>\n",
       "      <td>0.986584</td>\n",
       "      <td>0.994303</td>\n",
       "      <td>0.989332</td>\n",
       "      <td>0.983956</td>\n",
       "      <td>0.989201</td>\n",
       "      <td>220.239341</td>\n",
       "    </tr>\n",
       "    <tr>\n",
       "      <th>41</th>\n",
       "      <td>42</td>\n",
       "      <td>6.000000e-04</td>\n",
       "      <td>0.530810</td>\n",
       "      <td>0.765986</td>\n",
       "      <td>0.805227</td>\n",
       "      <td>0.814854</td>\n",
       "      <td>0.756467</td>\n",
       "      <td>0.788013</td>\n",
       "      <td>0.057828</td>\n",
       "      <td>0.985227</td>\n",
       "      <td>0.994610</td>\n",
       "      <td>0.989439</td>\n",
       "      <td>0.984271</td>\n",
       "      <td>0.988626</td>\n",
       "      <td>220.872797</td>\n",
       "    </tr>\n",
       "    <tr>\n",
       "      <th>42</th>\n",
       "      <td>43</td>\n",
       "      <td>3.000000e-04</td>\n",
       "      <td>0.605527</td>\n",
       "      <td>0.738580</td>\n",
       "      <td>0.779461</td>\n",
       "      <td>0.793971</td>\n",
       "      <td>0.727965</td>\n",
       "      <td>0.762648</td>\n",
       "      <td>0.052280</td>\n",
       "      <td>0.987226</td>\n",
       "      <td>0.994510</td>\n",
       "      <td>0.989350</td>\n",
       "      <td>0.985410</td>\n",
       "      <td>0.989578</td>\n",
       "      <td>221.344642</td>\n",
       "    </tr>\n",
       "    <tr>\n",
       "      <th>43</th>\n",
       "      <td>44</td>\n",
       "      <td>3.000000e-04</td>\n",
       "      <td>0.539062</td>\n",
       "      <td>0.809149</td>\n",
       "      <td>0.842349</td>\n",
       "      <td>0.853640</td>\n",
       "      <td>0.800787</td>\n",
       "      <td>0.828572</td>\n",
       "      <td>0.069152</td>\n",
       "      <td>0.986205</td>\n",
       "      <td>0.993979</td>\n",
       "      <td>0.988837</td>\n",
       "      <td>0.984157</td>\n",
       "      <td>0.988806</td>\n",
       "      <td>222.125911</td>\n",
       "    </tr>\n",
       "    <tr>\n",
       "      <th>44</th>\n",
       "      <td>45</td>\n",
       "      <td>3.000000e-04</td>\n",
       "      <td>0.555527</td>\n",
       "      <td>0.768863</td>\n",
       "      <td>0.805943</td>\n",
       "      <td>0.817600</td>\n",
       "      <td>0.758881</td>\n",
       "      <td>0.790317</td>\n",
       "      <td>0.055593</td>\n",
       "      <td>0.986521</td>\n",
       "      <td>0.994309</td>\n",
       "      <td>0.989971</td>\n",
       "      <td>0.984427</td>\n",
       "      <td>0.989330</td>\n",
       "      <td>219.918674</td>\n",
       "    </tr>\n",
       "    <tr>\n",
       "      <th>45</th>\n",
       "      <td>46</td>\n",
       "      <td>3.000000e-04</td>\n",
       "      <td>0.494468</td>\n",
       "      <td>0.774642</td>\n",
       "      <td>0.808845</td>\n",
       "      <td>0.817411</td>\n",
       "      <td>0.765780</td>\n",
       "      <td>0.793885</td>\n",
       "      <td>0.060636</td>\n",
       "      <td>0.985848</td>\n",
       "      <td>0.994066</td>\n",
       "      <td>0.990118</td>\n",
       "      <td>0.984327</td>\n",
       "      <td>0.988970</td>\n",
       "      <td>219.367260</td>\n",
       "    </tr>\n",
       "    <tr>\n",
       "      <th>46</th>\n",
       "      <td>47</td>\n",
       "      <td>3.000000e-04</td>\n",
       "      <td>0.509149</td>\n",
       "      <td>0.795375</td>\n",
       "      <td>0.829758</td>\n",
       "      <td>0.844085</td>\n",
       "      <td>0.789386</td>\n",
       "      <td>0.816148</td>\n",
       "      <td>0.047004</td>\n",
       "      <td>0.988490</td>\n",
       "      <td>0.994424</td>\n",
       "      <td>0.991113</td>\n",
       "      <td>0.986350</td>\n",
       "      <td>0.990629</td>\n",
       "      <td>220.575151</td>\n",
       "    </tr>\n",
       "    <tr>\n",
       "      <th>47</th>\n",
       "      <td>48</td>\n",
       "      <td>3.000000e-04</td>\n",
       "      <td>0.461996</td>\n",
       "      <td>0.820964</td>\n",
       "      <td>0.850794</td>\n",
       "      <td>0.853390</td>\n",
       "      <td>0.813308</td>\n",
       "      <td>0.836528</td>\n",
       "      <td>0.052092</td>\n",
       "      <td>0.986955</td>\n",
       "      <td>0.994437</td>\n",
       "      <td>0.989355</td>\n",
       "      <td>0.984605</td>\n",
       "      <td>0.989425</td>\n",
       "      <td>221.140979</td>\n",
       "    </tr>\n",
       "    <tr>\n",
       "      <th>48</th>\n",
       "      <td>49</td>\n",
       "      <td>3.000000e-04</td>\n",
       "      <td>0.524388</td>\n",
       "      <td>0.777564</td>\n",
       "      <td>0.812108</td>\n",
       "      <td>0.817987</td>\n",
       "      <td>0.767488</td>\n",
       "      <td>0.796306</td>\n",
       "      <td>0.073691</td>\n",
       "      <td>0.986388</td>\n",
       "      <td>0.994339</td>\n",
       "      <td>0.990081</td>\n",
       "      <td>0.984140</td>\n",
       "      <td>0.989299</td>\n",
       "      <td>219.657750</td>\n",
       "    </tr>\n",
       "    <tr>\n",
       "      <th>49</th>\n",
       "      <td>50</td>\n",
       "      <td>3.000000e-04</td>\n",
       "      <td>0.533589</td>\n",
       "      <td>0.791615</td>\n",
       "      <td>0.826944</td>\n",
       "      <td>0.839103</td>\n",
       "      <td>0.781931</td>\n",
       "      <td>0.812319</td>\n",
       "      <td>0.049630</td>\n",
       "      <td>0.987244</td>\n",
       "      <td>0.994626</td>\n",
       "      <td>0.991228</td>\n",
       "      <td>0.985453</td>\n",
       "      <td>0.990085</td>\n",
       "      <td>221.348361</td>\n",
       "    </tr>\n",
       "    <tr>\n",
       "      <th>50</th>\n",
       "      <td>51</td>\n",
       "      <td>3.000000e-04</td>\n",
       "      <td>0.523153</td>\n",
       "      <td>0.740505</td>\n",
       "      <td>0.781109</td>\n",
       "      <td>0.792689</td>\n",
       "      <td>0.731421</td>\n",
       "      <td>0.763702</td>\n",
       "      <td>0.070109</td>\n",
       "      <td>0.987076</td>\n",
       "      <td>0.994473</td>\n",
       "      <td>0.990375</td>\n",
       "      <td>0.984875</td>\n",
       "      <td>0.989750</td>\n",
       "      <td>220.614321</td>\n",
       "    </tr>\n",
       "    <tr>\n",
       "      <th>51</th>\n",
       "      <td>52</td>\n",
       "      <td>3.000000e-04</td>\n",
       "      <td>0.520798</td>\n",
       "      <td>0.794785</td>\n",
       "      <td>0.826163</td>\n",
       "      <td>0.835540</td>\n",
       "      <td>0.785578</td>\n",
       "      <td>0.812818</td>\n",
       "      <td>0.056610</td>\n",
       "      <td>0.986278</td>\n",
       "      <td>0.994616</td>\n",
       "      <td>0.989402</td>\n",
       "      <td>0.983967</td>\n",
       "      <td>0.989143</td>\n",
       "      <td>222.075869</td>\n",
       "    </tr>\n",
       "    <tr>\n",
       "      <th>52</th>\n",
       "      <td>53</td>\n",
       "      <td>1.500000e-04</td>\n",
       "      <td>0.507306</td>\n",
       "      <td>0.778458</td>\n",
       "      <td>0.813288</td>\n",
       "      <td>0.823242</td>\n",
       "      <td>0.769728</td>\n",
       "      <td>0.798362</td>\n",
       "      <td>0.048476</td>\n",
       "      <td>0.988030</td>\n",
       "      <td>0.994460</td>\n",
       "      <td>0.990725</td>\n",
       "      <td>0.985492</td>\n",
       "      <td>0.990311</td>\n",
       "      <td>218.092983</td>\n",
       "    </tr>\n",
       "    <tr>\n",
       "      <th>53</th>\n",
       "      <td>54</td>\n",
       "      <td>1.500000e-04</td>\n",
       "      <td>0.508605</td>\n",
       "      <td>0.742679</td>\n",
       "      <td>0.780699</td>\n",
       "      <td>0.795932</td>\n",
       "      <td>0.736295</td>\n",
       "      <td>0.765497</td>\n",
       "      <td>0.052282</td>\n",
       "      <td>0.987225</td>\n",
       "      <td>0.994374</td>\n",
       "      <td>0.988903</td>\n",
       "      <td>0.984651</td>\n",
       "      <td>0.989432</td>\n",
       "      <td>222.129185</td>\n",
       "    </tr>\n",
       "    <tr>\n",
       "      <th>54</th>\n",
       "      <td>55</td>\n",
       "      <td>1.500000e-04</td>\n",
       "      <td>0.530277</td>\n",
       "      <td>0.773274</td>\n",
       "      <td>0.811787</td>\n",
       "      <td>0.824547</td>\n",
       "      <td>0.765845</td>\n",
       "      <td>0.795721</td>\n",
       "      <td>0.054359</td>\n",
       "      <td>0.987144</td>\n",
       "      <td>0.994676</td>\n",
       "      <td>0.990156</td>\n",
       "      <td>0.984775</td>\n",
       "      <td>0.989780</td>\n",
       "      <td>221.093040</td>\n",
       "    </tr>\n",
       "    <tr>\n",
       "      <th>55</th>\n",
       "      <td>56</td>\n",
       "      <td>1.500000e-04</td>\n",
       "      <td>0.552919</td>\n",
       "      <td>0.791147</td>\n",
       "      <td>0.820715</td>\n",
       "      <td>0.837225</td>\n",
       "      <td>0.781903</td>\n",
       "      <td>0.810058</td>\n",
       "      <td>0.075578</td>\n",
       "      <td>0.986098</td>\n",
       "      <td>0.993932</td>\n",
       "      <td>0.988711</td>\n",
       "      <td>0.983509</td>\n",
       "      <td>0.988710</td>\n",
       "      <td>221.275218</td>\n",
       "    </tr>\n",
       "    <tr>\n",
       "      <th>56</th>\n",
       "      <td>57</td>\n",
       "      <td>1.500000e-04</td>\n",
       "      <td>0.528447</td>\n",
       "      <td>0.758827</td>\n",
       "      <td>0.795748</td>\n",
       "      <td>0.810561</td>\n",
       "      <td>0.750780</td>\n",
       "      <td>0.780990</td>\n",
       "      <td>0.069698</td>\n",
       "      <td>0.986110</td>\n",
       "      <td>0.994123</td>\n",
       "      <td>0.990022</td>\n",
       "      <td>0.984123</td>\n",
       "      <td>0.989091</td>\n",
       "      <td>222.998853</td>\n",
       "    </tr>\n",
       "    <tr>\n",
       "      <th>57</th>\n",
       "      <td>58</td>\n",
       "      <td>7.500000e-05</td>\n",
       "      <td>0.537308</td>\n",
       "      <td>0.764961</td>\n",
       "      <td>0.802271</td>\n",
       "      <td>0.816831</td>\n",
       "      <td>0.756959</td>\n",
       "      <td>0.787256</td>\n",
       "      <td>0.066831</td>\n",
       "      <td>0.987379</td>\n",
       "      <td>0.994573</td>\n",
       "      <td>0.990337</td>\n",
       "      <td>0.985104</td>\n",
       "      <td>0.989917</td>\n",
       "      <td>221.845389</td>\n",
       "    </tr>\n",
       "    <tr>\n",
       "      <th>58</th>\n",
       "      <td>59</td>\n",
       "      <td>7.500000e-05</td>\n",
       "      <td>0.530524</td>\n",
       "      <td>0.734763</td>\n",
       "      <td>0.774474</td>\n",
       "      <td>0.790725</td>\n",
       "      <td>0.726369</td>\n",
       "      <td>0.758681</td>\n",
       "      <td>0.057098</td>\n",
       "      <td>0.986287</td>\n",
       "      <td>0.994502</td>\n",
       "      <td>0.989348</td>\n",
       "      <td>0.983987</td>\n",
       "      <td>0.989106</td>\n",
       "      <td>220.689393</td>\n",
       "    </tr>\n",
       "    <tr>\n",
       "      <th>59</th>\n",
       "      <td>60</td>\n",
       "      <td>7.500000e-05</td>\n",
       "      <td>0.500534</td>\n",
       "      <td>0.772293</td>\n",
       "      <td>0.807503</td>\n",
       "      <td>0.824253</td>\n",
       "      <td>0.764442</td>\n",
       "      <td>0.794086</td>\n",
       "      <td>0.070666</td>\n",
       "      <td>0.987409</td>\n",
       "      <td>0.994615</td>\n",
       "      <td>0.989776</td>\n",
       "      <td>0.985328</td>\n",
       "      <td>0.989802</td>\n",
       "      <td>221.357239</td>\n",
       "    </tr>\n",
       "    <tr>\n",
       "      <th>60</th>\n",
       "      <td>61</td>\n",
       "      <td>7.500000e-05</td>\n",
       "      <td>0.511011</td>\n",
       "      <td>0.779079</td>\n",
       "      <td>0.814063</td>\n",
       "      <td>0.824301</td>\n",
       "      <td>0.770779</td>\n",
       "      <td>0.799131</td>\n",
       "      <td>0.059159</td>\n",
       "      <td>0.987366</td>\n",
       "      <td>0.994565</td>\n",
       "      <td>0.990218</td>\n",
       "      <td>0.985395</td>\n",
       "      <td>0.989879</td>\n",
       "      <td>222.674445</td>\n",
       "    </tr>\n",
       "    <tr>\n",
       "      <th>61</th>\n",
       "      <td>62</td>\n",
       "      <td>7.500000e-05</td>\n",
       "      <td>0.529288</td>\n",
       "      <td>0.787414</td>\n",
       "      <td>0.822469</td>\n",
       "      <td>0.828368</td>\n",
       "      <td>0.778901</td>\n",
       "      <td>0.806416</td>\n",
       "      <td>0.049669</td>\n",
       "      <td>0.988633</td>\n",
       "      <td>0.994723</td>\n",
       "      <td>0.991287</td>\n",
       "      <td>0.986266</td>\n",
       "      <td>0.990819</td>\n",
       "      <td>221.759836</td>\n",
       "    </tr>\n",
       "    <tr>\n",
       "      <th>62</th>\n",
       "      <td>63</td>\n",
       "      <td>7.500000e-05</td>\n",
       "      <td>0.511200</td>\n",
       "      <td>0.784497</td>\n",
       "      <td>0.815268</td>\n",
       "      <td>0.824496</td>\n",
       "      <td>0.774339</td>\n",
       "      <td>0.802189</td>\n",
       "      <td>0.047740</td>\n",
       "      <td>0.987904</td>\n",
       "      <td>0.994836</td>\n",
       "      <td>0.989608</td>\n",
       "      <td>0.985904</td>\n",
       "      <td>0.990063</td>\n",
       "      <td>221.634876</td>\n",
       "    </tr>\n",
       "    <tr>\n",
       "      <th>63</th>\n",
       "      <td>64</td>\n",
       "      <td>7.500000e-05</td>\n",
       "      <td>0.524939</td>\n",
       "      <td>0.736801</td>\n",
       "      <td>0.777062</td>\n",
       "      <td>0.788317</td>\n",
       "      <td>0.730029</td>\n",
       "      <td>0.759745</td>\n",
       "      <td>0.055186</td>\n",
       "      <td>0.988073</td>\n",
       "      <td>0.994782</td>\n",
       "      <td>0.991321</td>\n",
       "      <td>0.986207</td>\n",
       "      <td>0.990562</td>\n",
       "      <td>221.111491</td>\n",
       "    </tr>\n",
       "    <tr>\n",
       "      <th>64</th>\n",
       "      <td>65</td>\n",
       "      <td>7.500000e-05</td>\n",
       "      <td>0.486669</td>\n",
       "      <td>0.784103</td>\n",
       "      <td>0.819729</td>\n",
       "      <td>0.830442</td>\n",
       "      <td>0.777262</td>\n",
       "      <td>0.804594</td>\n",
       "      <td>0.046371</td>\n",
       "      <td>0.987746</td>\n",
       "      <td>0.994767</td>\n",
       "      <td>0.989753</td>\n",
       "      <td>0.985281</td>\n",
       "      <td>0.990003</td>\n",
       "      <td>221.780200</td>\n",
       "    </tr>\n",
       "    <tr>\n",
       "      <th>65</th>\n",
       "      <td>66</td>\n",
       "      <td>7.500000e-05</td>\n",
       "      <td>0.569999</td>\n",
       "      <td>0.756843</td>\n",
       "      <td>0.796388</td>\n",
       "      <td>0.804727</td>\n",
       "      <td>0.748919</td>\n",
       "      <td>0.778700</td>\n",
       "      <td>0.055697</td>\n",
       "      <td>0.986822</td>\n",
       "      <td>0.994445</td>\n",
       "      <td>0.989058</td>\n",
       "      <td>0.984403</td>\n",
       "      <td>0.989287</td>\n",
       "      <td>219.994025</td>\n",
       "    </tr>\n",
       "    <tr>\n",
       "      <th>66</th>\n",
       "      <td>67</td>\n",
       "      <td>7.500000e-05</td>\n",
       "      <td>0.492562</td>\n",
       "      <td>0.797125</td>\n",
       "      <td>0.827246</td>\n",
       "      <td>0.836924</td>\n",
       "      <td>0.789306</td>\n",
       "      <td>0.814605</td>\n",
       "      <td>0.071117</td>\n",
       "      <td>0.986978</td>\n",
       "      <td>0.994496</td>\n",
       "      <td>0.988897</td>\n",
       "      <td>0.984666</td>\n",
       "      <td>0.989337</td>\n",
       "      <td>220.972115</td>\n",
       "    </tr>\n",
       "    <tr>\n",
       "      <th>67</th>\n",
       "      <td>68</td>\n",
       "      <td>3.750000e-05</td>\n",
       "      <td>0.559698</td>\n",
       "      <td>0.760936</td>\n",
       "      <td>0.802147</td>\n",
       "      <td>0.807435</td>\n",
       "      <td>0.752521</td>\n",
       "      <td>0.782864</td>\n",
       "      <td>0.067771</td>\n",
       "      <td>0.986979</td>\n",
       "      <td>0.994518</td>\n",
       "      <td>0.989812</td>\n",
       "      <td>0.984831</td>\n",
       "      <td>0.989572</td>\n",
       "      <td>222.580573</td>\n",
       "    </tr>\n",
       "    <tr>\n",
       "      <th>68</th>\n",
       "      <td>69</td>\n",
       "      <td>3.750000e-05</td>\n",
       "      <td>0.511264</td>\n",
       "      <td>0.737795</td>\n",
       "      <td>0.774414</td>\n",
       "      <td>0.796869</td>\n",
       "      <td>0.730093</td>\n",
       "      <td>0.761718</td>\n",
       "      <td>0.050178</td>\n",
       "      <td>0.987977</td>\n",
       "      <td>0.994560</td>\n",
       "      <td>0.990050</td>\n",
       "      <td>0.985590</td>\n",
       "      <td>0.990141</td>\n",
       "      <td>223.706377</td>\n",
       "    </tr>\n",
       "    <tr>\n",
       "      <th>69</th>\n",
       "      <td>70</td>\n",
       "      <td>3.750000e-05</td>\n",
       "      <td>0.502718</td>\n",
       "      <td>0.790091</td>\n",
       "      <td>0.822826</td>\n",
       "      <td>0.835397</td>\n",
       "      <td>0.782539</td>\n",
       "      <td>0.809601</td>\n",
       "      <td>0.050322</td>\n",
       "      <td>0.987547</td>\n",
       "      <td>0.994584</td>\n",
       "      <td>0.989026</td>\n",
       "      <td>0.985432</td>\n",
       "      <td>0.989676</td>\n",
       "      <td>221.237015</td>\n",
       "    </tr>\n",
       "    <tr>\n",
       "      <th>70</th>\n",
       "      <td>71</td>\n",
       "      <td>3.750000e-05</td>\n",
       "      <td>0.444205</td>\n",
       "      <td>0.813200</td>\n",
       "      <td>0.842767</td>\n",
       "      <td>0.848991</td>\n",
       "      <td>0.805039</td>\n",
       "      <td>0.829540</td>\n",
       "      <td>0.050388</td>\n",
       "      <td>0.988255</td>\n",
       "      <td>0.994639</td>\n",
       "      <td>0.989788</td>\n",
       "      <td>0.985827</td>\n",
       "      <td>0.990234</td>\n",
       "      <td>223.240866</td>\n",
       "    </tr>\n",
       "    <tr>\n",
       "      <th>71</th>\n",
       "      <td>72</td>\n",
       "      <td>3.750000e-05</td>\n",
       "      <td>0.480586</td>\n",
       "      <td>0.755708</td>\n",
       "      <td>0.794745</td>\n",
       "      <td>0.807140</td>\n",
       "      <td>0.748948</td>\n",
       "      <td>0.778325</td>\n",
       "      <td>0.066347</td>\n",
       "      <td>0.986386</td>\n",
       "      <td>0.994276</td>\n",
       "      <td>0.988744</td>\n",
       "      <td>0.983968</td>\n",
       "      <td>0.988948</td>\n",
       "      <td>220.030466</td>\n",
       "    </tr>\n",
       "    <tr>\n",
       "      <th>72</th>\n",
       "      <td>73</td>\n",
       "      <td>1.875000e-05</td>\n",
       "      <td>0.558954</td>\n",
       "      <td>0.743427</td>\n",
       "      <td>0.783320</td>\n",
       "      <td>0.793270</td>\n",
       "      <td>0.735303</td>\n",
       "      <td>0.765861</td>\n",
       "      <td>0.052155</td>\n",
       "      <td>0.987926</td>\n",
       "      <td>0.994635</td>\n",
       "      <td>0.989618</td>\n",
       "      <td>0.985744</td>\n",
       "      <td>0.990027</td>\n",
       "      <td>222.674500</td>\n",
       "    </tr>\n",
       "    <tr>\n",
       "      <th>73</th>\n",
       "      <td>74</td>\n",
       "      <td>1.875000e-05</td>\n",
       "      <td>0.497762</td>\n",
       "      <td>0.796066</td>\n",
       "      <td>0.828985</td>\n",
       "      <td>0.839110</td>\n",
       "      <td>0.789141</td>\n",
       "      <td>0.815057</td>\n",
       "      <td>0.074591</td>\n",
       "      <td>0.985975</td>\n",
       "      <td>0.994012</td>\n",
       "      <td>0.988953</td>\n",
       "      <td>0.983371</td>\n",
       "      <td>0.988729</td>\n",
       "      <td>224.363598</td>\n",
       "    </tr>\n",
       "    <tr>\n",
       "      <th>74</th>\n",
       "      <td>75</td>\n",
       "      <td>1.875000e-05</td>\n",
       "      <td>0.497807</td>\n",
       "      <td>0.795721</td>\n",
       "      <td>0.830390</td>\n",
       "      <td>0.838980</td>\n",
       "      <td>0.788033</td>\n",
       "      <td>0.815203</td>\n",
       "      <td>0.047065</td>\n",
       "      <td>0.988000</td>\n",
       "      <td>0.994788</td>\n",
       "      <td>0.990129</td>\n",
       "      <td>0.985739</td>\n",
       "      <td>0.990229</td>\n",
       "      <td>221.948858</td>\n",
       "    </tr>\n",
       "    <tr>\n",
       "      <th>75</th>\n",
       "      <td>76</td>\n",
       "      <td>1.875000e-05</td>\n",
       "      <td>0.505949</td>\n",
       "      <td>0.786197</td>\n",
       "      <td>0.821296</td>\n",
       "      <td>0.832855</td>\n",
       "      <td>0.778724</td>\n",
       "      <td>0.806637</td>\n",
       "      <td>0.061142</td>\n",
       "      <td>0.986967</td>\n",
       "      <td>0.994289</td>\n",
       "      <td>0.989379</td>\n",
       "      <td>0.984475</td>\n",
       "      <td>0.989400</td>\n",
       "      <td>221.074875</td>\n",
       "    </tr>\n",
       "    <tr>\n",
       "      <th>76</th>\n",
       "      <td>77</td>\n",
       "      <td>1.875000e-05</td>\n",
       "      <td>0.529859</td>\n",
       "      <td>0.786036</td>\n",
       "      <td>0.820326</td>\n",
       "      <td>0.828910</td>\n",
       "      <td>0.775042</td>\n",
       "      <td>0.805327</td>\n",
       "      <td>0.052162</td>\n",
       "      <td>0.987678</td>\n",
       "      <td>0.994634</td>\n",
       "      <td>0.990478</td>\n",
       "      <td>0.985273</td>\n",
       "      <td>0.990117</td>\n",
       "      <td>221.583519</td>\n",
       "    </tr>\n",
       "    <tr>\n",
       "      <th>77</th>\n",
       "      <td>78</td>\n",
       "      <td>9.375000e-06</td>\n",
       "      <td>0.511405</td>\n",
       "      <td>0.780227</td>\n",
       "      <td>0.812351</td>\n",
       "      <td>0.825111</td>\n",
       "      <td>0.771070</td>\n",
       "      <td>0.799479</td>\n",
       "      <td>0.057878</td>\n",
       "      <td>0.987576</td>\n",
       "      <td>0.994410</td>\n",
       "      <td>0.989617</td>\n",
       "      <td>0.985202</td>\n",
       "      <td>0.989795</td>\n",
       "      <td>221.858644</td>\n",
       "    </tr>\n",
       "    <tr>\n",
       "      <th>78</th>\n",
       "      <td>79</td>\n",
       "      <td>9.375000e-06</td>\n",
       "      <td>0.499442</td>\n",
       "      <td>0.792956</td>\n",
       "      <td>0.827978</td>\n",
       "      <td>0.840226</td>\n",
       "      <td>0.786893</td>\n",
       "      <td>0.813529</td>\n",
       "      <td>0.044917</td>\n",
       "      <td>0.988952</td>\n",
       "      <td>0.995025</td>\n",
       "      <td>0.991503</td>\n",
       "      <td>0.986401</td>\n",
       "      <td>0.991108</td>\n",
       "      <td>223.759191</td>\n",
       "    </tr>\n",
       "    <tr>\n",
       "      <th>79</th>\n",
       "      <td>80</td>\n",
       "      <td>9.375000e-06</td>\n",
       "      <td>0.499321</td>\n",
       "      <td>0.792016</td>\n",
       "      <td>0.826617</td>\n",
       "      <td>0.832342</td>\n",
       "      <td>0.783755</td>\n",
       "      <td>0.810748</td>\n",
       "      <td>0.066448</td>\n",
       "      <td>0.987641</td>\n",
       "      <td>0.994354</td>\n",
       "      <td>0.990831</td>\n",
       "      <td>0.985454</td>\n",
       "      <td>0.990117</td>\n",
       "      <td>220.639834</td>\n",
       "    </tr>\n",
       "    <tr>\n",
       "      <th>80</th>\n",
       "      <td>81</td>\n",
       "      <td>9.375000e-06</td>\n",
       "      <td>0.463820</td>\n",
       "      <td>0.796449</td>\n",
       "      <td>0.828017</td>\n",
       "      <td>0.834192</td>\n",
       "      <td>0.789850</td>\n",
       "      <td>0.813777</td>\n",
       "      <td>0.048409</td>\n",
       "      <td>0.988250</td>\n",
       "      <td>0.994659</td>\n",
       "      <td>0.989054</td>\n",
       "      <td>0.985834</td>\n",
       "      <td>0.990053</td>\n",
       "      <td>222.199772</td>\n",
       "    </tr>\n",
       "    <tr>\n",
       "      <th>81</th>\n",
       "      <td>82</td>\n",
       "      <td>9.375000e-06</td>\n",
       "      <td>0.536467</td>\n",
       "      <td>0.744935</td>\n",
       "      <td>0.784792</td>\n",
       "      <td>0.794944</td>\n",
       "      <td>0.737408</td>\n",
       "      <td>0.767401</td>\n",
       "      <td>0.064567</td>\n",
       "      <td>0.987424</td>\n",
       "      <td>0.994501</td>\n",
       "      <td>0.989125</td>\n",
       "      <td>0.985025</td>\n",
       "      <td>0.989619</td>\n",
       "      <td>221.944887</td>\n",
       "    </tr>\n",
       "    <tr>\n",
       "      <th>82</th>\n",
       "      <td>83</td>\n",
       "      <td>9.375000e-06</td>\n",
       "      <td>0.529390</td>\n",
       "      <td>0.778287</td>\n",
       "      <td>0.815122</td>\n",
       "      <td>0.818086</td>\n",
       "      <td>0.766694</td>\n",
       "      <td>0.797445</td>\n",
       "      <td>0.047891</td>\n",
       "      <td>0.987848</td>\n",
       "      <td>0.994539</td>\n",
       "      <td>0.990094</td>\n",
       "      <td>0.985343</td>\n",
       "      <td>0.990082</td>\n",
       "      <td>221.234607</td>\n",
       "    </tr>\n",
       "    <tr>\n",
       "      <th>83</th>\n",
       "      <td>84</td>\n",
       "      <td>9.375000e-06</td>\n",
       "      <td>0.465311</td>\n",
       "      <td>0.809715</td>\n",
       "      <td>0.840215</td>\n",
       "      <td>0.849933</td>\n",
       "      <td>0.802428</td>\n",
       "      <td>0.827394</td>\n",
       "      <td>0.046331</td>\n",
       "      <td>0.988431</td>\n",
       "      <td>0.994967</td>\n",
       "      <td>0.990586</td>\n",
       "      <td>0.986390</td>\n",
       "      <td>0.990604</td>\n",
       "      <td>223.204223</td>\n",
       "    </tr>\n",
       "    <tr>\n",
       "      <th>84</th>\n",
       "      <td>85</td>\n",
       "      <td>4.687500e-06</td>\n",
       "      <td>0.517812</td>\n",
       "      <td>0.790646</td>\n",
       "      <td>0.823042</td>\n",
       "      <td>0.836746</td>\n",
       "      <td>0.784175</td>\n",
       "      <td>0.810270</td>\n",
       "      <td>0.049871</td>\n",
       "      <td>0.988031</td>\n",
       "      <td>0.994674</td>\n",
       "      <td>0.989363</td>\n",
       "      <td>0.985479</td>\n",
       "      <td>0.990025</td>\n",
       "      <td>221.924250</td>\n",
       "    </tr>\n",
       "    <tr>\n",
       "      <th>85</th>\n",
       "      <td>86</td>\n",
       "      <td>4.687500e-06</td>\n",
       "      <td>0.485720</td>\n",
       "      <td>0.801948</td>\n",
       "      <td>0.836017</td>\n",
       "      <td>0.850917</td>\n",
       "      <td>0.797270</td>\n",
       "      <td>0.822707</td>\n",
       "      <td>0.064658</td>\n",
       "      <td>0.986020</td>\n",
       "      <td>0.994190</td>\n",
       "      <td>0.988916</td>\n",
       "      <td>0.983609</td>\n",
       "      <td>0.988786</td>\n",
       "      <td>222.338777</td>\n",
       "    </tr>\n",
       "    <tr>\n",
       "      <th>86</th>\n",
       "      <td>87</td>\n",
       "      <td>4.687500e-06</td>\n",
       "      <td>0.466515</td>\n",
       "      <td>0.804845</td>\n",
       "      <td>0.832836</td>\n",
       "      <td>0.848180</td>\n",
       "      <td>0.796568</td>\n",
       "      <td>0.822676</td>\n",
       "      <td>0.095458</td>\n",
       "      <td>0.985601</td>\n",
       "      <td>0.993749</td>\n",
       "      <td>0.988435</td>\n",
       "      <td>0.982997</td>\n",
       "      <td>0.988346</td>\n",
       "      <td>221.460764</td>\n",
       "    </tr>\n",
       "    <tr>\n",
       "      <th>87</th>\n",
       "      <td>88</td>\n",
       "      <td>4.687500e-06</td>\n",
       "      <td>0.501193</td>\n",
       "      <td>0.752483</td>\n",
       "      <td>0.785762</td>\n",
       "      <td>0.797684</td>\n",
       "      <td>0.741406</td>\n",
       "      <td>0.772103</td>\n",
       "      <td>0.054781</td>\n",
       "      <td>0.988222</td>\n",
       "      <td>0.994763</td>\n",
       "      <td>0.989436</td>\n",
       "      <td>0.985704</td>\n",
       "      <td>0.990160</td>\n",
       "      <td>221.903350</td>\n",
       "    </tr>\n",
       "    <tr>\n",
       "      <th>88</th>\n",
       "      <td>89</td>\n",
       "      <td>4.687500e-06</td>\n",
       "      <td>0.523872</td>\n",
       "      <td>0.760331</td>\n",
       "      <td>0.801728</td>\n",
       "      <td>0.809759</td>\n",
       "      <td>0.755378</td>\n",
       "      <td>0.783037</td>\n",
       "      <td>0.045912</td>\n",
       "      <td>0.988664</td>\n",
       "      <td>0.994681</td>\n",
       "      <td>0.990301</td>\n",
       "      <td>0.986255</td>\n",
       "      <td>0.990577</td>\n",
       "      <td>220.833248</td>\n",
       "    </tr>\n",
       "    <tr>\n",
       "      <th>89</th>\n",
       "      <td>90</td>\n",
       "      <td>2.343750e-06</td>\n",
       "      <td>0.519931</td>\n",
       "      <td>0.782778</td>\n",
       "      <td>0.818320</td>\n",
       "      <td>0.824239</td>\n",
       "      <td>0.774310</td>\n",
       "      <td>0.802029</td>\n",
       "      <td>0.048022</td>\n",
       "      <td>0.987663</td>\n",
       "      <td>0.994563</td>\n",
       "      <td>0.989475</td>\n",
       "      <td>0.985319</td>\n",
       "      <td>0.989841</td>\n",
       "      <td>222.207667</td>\n",
       "    </tr>\n",
       "    <tr>\n",
       "      <th>90</th>\n",
       "      <td>91</td>\n",
       "      <td>2.343750e-06</td>\n",
       "      <td>0.548862</td>\n",
       "      <td>0.781373</td>\n",
       "      <td>0.819344</td>\n",
       "      <td>0.825875</td>\n",
       "      <td>0.775151</td>\n",
       "      <td>0.801991</td>\n",
       "      <td>0.051339</td>\n",
       "      <td>0.988158</td>\n",
       "      <td>0.994814</td>\n",
       "      <td>0.990112</td>\n",
       "      <td>0.985882</td>\n",
       "      <td>0.990310</td>\n",
       "      <td>222.329302</td>\n",
       "    </tr>\n",
       "    <tr>\n",
       "      <th>91</th>\n",
       "      <td>92</td>\n",
       "      <td>2.343750e-06</td>\n",
       "      <td>0.510298</td>\n",
       "      <td>0.794665</td>\n",
       "      <td>0.830104</td>\n",
       "      <td>0.845649</td>\n",
       "      <td>0.788740</td>\n",
       "      <td>0.816271</td>\n",
       "      <td>0.058112</td>\n",
       "      <td>0.988784</td>\n",
       "      <td>0.994839</td>\n",
       "      <td>0.990737</td>\n",
       "      <td>0.986349</td>\n",
       "      <td>0.990786</td>\n",
       "      <td>221.770753</td>\n",
       "    </tr>\n",
       "    <tr>\n",
       "      <th>92</th>\n",
       "      <td>93</td>\n",
       "      <td>2.343750e-06</td>\n",
       "      <td>0.556960</td>\n",
       "      <td>0.771500</td>\n",
       "      <td>0.806787</td>\n",
       "      <td>0.812209</td>\n",
       "      <td>0.762988</td>\n",
       "      <td>0.790499</td>\n",
       "      <td>0.084014</td>\n",
       "      <td>0.987060</td>\n",
       "      <td>0.994276</td>\n",
       "      <td>0.989268</td>\n",
       "      <td>0.984489</td>\n",
       "      <td>0.989416</td>\n",
       "      <td>220.907929</td>\n",
       "    </tr>\n",
       "    <tr>\n",
       "      <th>93</th>\n",
       "      <td>94</td>\n",
       "      <td>2.343750e-06</td>\n",
       "      <td>0.539247</td>\n",
       "      <td>0.778374</td>\n",
       "      <td>0.820188</td>\n",
       "      <td>0.824831</td>\n",
       "      <td>0.770861</td>\n",
       "      <td>0.800442</td>\n",
       "      <td>0.058117</td>\n",
       "      <td>0.988458</td>\n",
       "      <td>0.994970</td>\n",
       "      <td>0.990760</td>\n",
       "      <td>0.986399</td>\n",
       "      <td>0.990662</td>\n",
       "      <td>220.976754</td>\n",
       "    </tr>\n",
       "    <tr>\n",
       "      <th>94</th>\n",
       "      <td>95</td>\n",
       "      <td>1.171875e-06</td>\n",
       "      <td>0.508183</td>\n",
       "      <td>0.790967</td>\n",
       "      <td>0.822374</td>\n",
       "      <td>0.833242</td>\n",
       "      <td>0.782688</td>\n",
       "      <td>0.809387</td>\n",
       "      <td>0.046421</td>\n",
       "      <td>0.988762</td>\n",
       "      <td>0.994857</td>\n",
       "      <td>0.989629</td>\n",
       "      <td>0.986175</td>\n",
       "      <td>0.990503</td>\n",
       "      <td>220.670208</td>\n",
       "    </tr>\n",
       "    <tr>\n",
       "      <th>95</th>\n",
       "      <td>96</td>\n",
       "      <td>1.171875e-06</td>\n",
       "      <td>0.548827</td>\n",
       "      <td>0.759128</td>\n",
       "      <td>0.795762</td>\n",
       "      <td>0.805634</td>\n",
       "      <td>0.752713</td>\n",
       "      <td>0.779913</td>\n",
       "      <td>0.084805</td>\n",
       "      <td>0.986723</td>\n",
       "      <td>0.994211</td>\n",
       "      <td>0.989192</td>\n",
       "      <td>0.984238</td>\n",
       "      <td>0.989213</td>\n",
       "      <td>222.820407</td>\n",
       "    </tr>\n",
       "    <tr>\n",
       "      <th>96</th>\n",
       "      <td>97</td>\n",
       "      <td>1.171875e-06</td>\n",
       "      <td>0.510456</td>\n",
       "      <td>0.780857</td>\n",
       "      <td>0.814067</td>\n",
       "      <td>0.827090</td>\n",
       "      <td>0.771826</td>\n",
       "      <td>0.800718</td>\n",
       "      <td>0.069585</td>\n",
       "      <td>0.987310</td>\n",
       "      <td>0.994468</td>\n",
       "      <td>0.989409</td>\n",
       "      <td>0.984991</td>\n",
       "      <td>0.989625</td>\n",
       "      <td>222.969335</td>\n",
       "    </tr>\n",
       "    <tr>\n",
       "      <th>97</th>\n",
       "      <td>98</td>\n",
       "      <td>1.171875e-06</td>\n",
       "      <td>0.489956</td>\n",
       "      <td>0.791282</td>\n",
       "      <td>0.824932</td>\n",
       "      <td>0.833130</td>\n",
       "      <td>0.783289</td>\n",
       "      <td>0.810157</td>\n",
       "      <td>0.064750</td>\n",
       "      <td>0.987371</td>\n",
       "      <td>0.994720</td>\n",
       "      <td>0.990819</td>\n",
       "      <td>0.985006</td>\n",
       "      <td>0.990070</td>\n",
       "      <td>223.045298</td>\n",
       "    </tr>\n",
       "    <tr>\n",
       "      <th>98</th>\n",
       "      <td>99</td>\n",
       "      <td>1.171875e-06</td>\n",
       "      <td>0.508637</td>\n",
       "      <td>0.770235</td>\n",
       "      <td>0.803408</td>\n",
       "      <td>0.820689</td>\n",
       "      <td>0.764314</td>\n",
       "      <td>0.791142</td>\n",
       "      <td>0.067399</td>\n",
       "      <td>0.988006</td>\n",
       "      <td>0.994673</td>\n",
       "      <td>0.989626</td>\n",
       "      <td>0.985538</td>\n",
       "      <td>0.990078</td>\n",
       "      <td>220.698603</td>\n",
       "    </tr>\n",
       "    <tr>\n",
       "      <th>99</th>\n",
       "      <td>100</td>\n",
       "      <td>5.859375e-07</td>\n",
       "      <td>0.501223</td>\n",
       "      <td>0.777813</td>\n",
       "      <td>0.808379</td>\n",
       "      <td>0.824617</td>\n",
       "      <td>0.767760</td>\n",
       "      <td>0.797156</td>\n",
       "      <td>0.055578</td>\n",
       "      <td>0.987711</td>\n",
       "      <td>0.994844</td>\n",
       "      <td>0.990495</td>\n",
       "      <td>0.985597</td>\n",
       "      <td>0.990190</td>\n",
       "      <td>221.875957</td>\n",
       "    </tr>\n",
       "    <tr>\n",
       "      <th>100</th>\n",
       "      <td>101</td>\n",
       "      <td>5.859375e-07</td>\n",
       "      <td>0.590832</td>\n",
       "      <td>0.727160</td>\n",
       "      <td>0.770438</td>\n",
       "      <td>0.780960</td>\n",
       "      <td>0.718352</td>\n",
       "      <td>0.751430</td>\n",
       "      <td>0.060863</td>\n",
       "      <td>0.987378</td>\n",
       "      <td>0.994573</td>\n",
       "      <td>0.989534</td>\n",
       "      <td>0.984936</td>\n",
       "      <td>0.989716</td>\n",
       "      <td>221.652810</td>\n",
       "    </tr>\n",
       "    <tr>\n",
       "      <th>101</th>\n",
       "      <td>102</td>\n",
       "      <td>5.859375e-07</td>\n",
       "      <td>0.512136</td>\n",
       "      <td>0.772182</td>\n",
       "      <td>0.808770</td>\n",
       "      <td>0.819826</td>\n",
       "      <td>0.765680</td>\n",
       "      <td>0.793240</td>\n",
       "      <td>0.060070</td>\n",
       "      <td>0.987996</td>\n",
       "      <td>0.994768</td>\n",
       "      <td>0.990421</td>\n",
       "      <td>0.985582</td>\n",
       "      <td>0.990295</td>\n",
       "      <td>221.948403</td>\n",
       "    </tr>\n",
       "    <tr>\n",
       "      <th>102</th>\n",
       "      <td>103</td>\n",
       "      <td>5.859375e-07</td>\n",
       "      <td>0.474560</td>\n",
       "      <td>0.767199</td>\n",
       "      <td>0.804219</td>\n",
       "      <td>0.804929</td>\n",
       "      <td>0.759395</td>\n",
       "      <td>0.785886</td>\n",
       "      <td>0.045627</td>\n",
       "      <td>0.988905</td>\n",
       "      <td>0.994768</td>\n",
       "      <td>0.990443</td>\n",
       "      <td>0.986283</td>\n",
       "      <td>0.990755</td>\n",
       "      <td>221.607369</td>\n",
       "    </tr>\n",
       "    <tr>\n",
       "      <th>103</th>\n",
       "      <td>104</td>\n",
       "      <td>5.859375e-07</td>\n",
       "      <td>0.535005</td>\n",
       "      <td>0.760715</td>\n",
       "      <td>0.799526</td>\n",
       "      <td>0.812959</td>\n",
       "      <td>0.753392</td>\n",
       "      <td>0.783479</td>\n",
       "      <td>0.052356</td>\n",
       "      <td>0.988084</td>\n",
       "      <td>0.994983</td>\n",
       "      <td>0.990141</td>\n",
       "      <td>0.985875</td>\n",
       "      <td>0.990323</td>\n",
       "      <td>223.343868</td>\n",
       "    </tr>\n",
       "    <tr>\n",
       "      <th>104</th>\n",
       "      <td>105</td>\n",
       "      <td>2.929687e-07</td>\n",
       "      <td>0.549988</td>\n",
       "      <td>0.763258</td>\n",
       "      <td>0.796396</td>\n",
       "      <td>0.809495</td>\n",
       "      <td>0.753155</td>\n",
       "      <td>0.783102</td>\n",
       "      <td>0.061443</td>\n",
       "      <td>0.988096</td>\n",
       "      <td>0.994742</td>\n",
       "      <td>0.990459</td>\n",
       "      <td>0.985762</td>\n",
       "      <td>0.990348</td>\n",
       "      <td>221.664494</td>\n",
       "    </tr>\n",
       "    <tr>\n",
       "      <th>105</th>\n",
       "      <td>106</td>\n",
       "      <td>2.929687e-07</td>\n",
       "      <td>0.478357</td>\n",
       "      <td>0.778277</td>\n",
       "      <td>0.812988</td>\n",
       "      <td>0.821675</td>\n",
       "      <td>0.771265</td>\n",
       "      <td>0.797804</td>\n",
       "      <td>0.061158</td>\n",
       "      <td>0.987489</td>\n",
       "      <td>0.994490</td>\n",
       "      <td>0.990925</td>\n",
       "      <td>0.985427</td>\n",
       "      <td>0.990098</td>\n",
       "      <td>221.712826</td>\n",
       "    </tr>\n",
       "    <tr>\n",
       "      <th>106</th>\n",
       "      <td>107</td>\n",
       "      <td>2.929687e-07</td>\n",
       "      <td>0.440806</td>\n",
       "      <td>0.773520</td>\n",
       "      <td>0.805458</td>\n",
       "      <td>0.813435</td>\n",
       "      <td>0.765478</td>\n",
       "      <td>0.791483</td>\n",
       "      <td>0.047433</td>\n",
       "      <td>0.988051</td>\n",
       "      <td>0.994858</td>\n",
       "      <td>0.989384</td>\n",
       "      <td>0.985435</td>\n",
       "      <td>0.990086</td>\n",
       "      <td>221.738173</td>\n",
       "    </tr>\n",
       "    <tr>\n",
       "      <th>107</th>\n",
       "      <td>108</td>\n",
       "      <td>2.929687e-07</td>\n",
       "      <td>0.562419</td>\n",
       "      <td>0.748361</td>\n",
       "      <td>0.785555</td>\n",
       "      <td>0.805748</td>\n",
       "      <td>0.739562</td>\n",
       "      <td>0.772006</td>\n",
       "      <td>0.073032</td>\n",
       "      <td>0.986229</td>\n",
       "      <td>0.994190</td>\n",
       "      <td>0.988962</td>\n",
       "      <td>0.983481</td>\n",
       "      <td>0.988903</td>\n",
       "      <td>223.121352</td>\n",
       "    </tr>\n",
       "    <tr>\n",
       "      <th>108</th>\n",
       "      <td>109</td>\n",
       "      <td>2.929687e-07</td>\n",
       "      <td>0.522214</td>\n",
       "      <td>0.763907</td>\n",
       "      <td>0.795888</td>\n",
       "      <td>0.807736</td>\n",
       "      <td>0.754313</td>\n",
       "      <td>0.782859</td>\n",
       "      <td>0.053726</td>\n",
       "      <td>0.988017</td>\n",
       "      <td>0.994783</td>\n",
       "      <td>0.990199</td>\n",
       "      <td>0.985730</td>\n",
       "      <td>0.990254</td>\n",
       "      <td>221.245591</td>\n",
       "    </tr>\n",
       "    <tr>\n",
       "      <th>109</th>\n",
       "      <td>110</td>\n",
       "      <td>1.464844e-07</td>\n",
       "      <td>0.546571</td>\n",
       "      <td>0.771637</td>\n",
       "      <td>0.809584</td>\n",
       "      <td>0.814131</td>\n",
       "      <td>0.762987</td>\n",
       "      <td>0.791747</td>\n",
       "      <td>0.056916</td>\n",
       "      <td>0.987414</td>\n",
       "      <td>0.994566</td>\n",
       "      <td>0.989185</td>\n",
       "      <td>0.985039</td>\n",
       "      <td>0.989645</td>\n",
       "      <td>222.451919</td>\n",
       "    </tr>\n",
       "    <tr>\n",
       "      <th>110</th>\n",
       "      <td>111</td>\n",
       "      <td>1.464844e-07</td>\n",
       "      <td>0.507627</td>\n",
       "      <td>0.791975</td>\n",
       "      <td>0.828676</td>\n",
       "      <td>0.840677</td>\n",
       "      <td>0.785654</td>\n",
       "      <td>0.813326</td>\n",
       "      <td>0.049825</td>\n",
       "      <td>0.987863</td>\n",
       "      <td>0.994609</td>\n",
       "      <td>0.989941</td>\n",
       "      <td>0.985564</td>\n",
       "      <td>0.990069</td>\n",
       "      <td>221.969363</td>\n",
       "    </tr>\n",
       "    <tr>\n",
       "      <th>111</th>\n",
       "      <td>112</td>\n",
       "      <td>1.464844e-07</td>\n",
       "      <td>0.518616</td>\n",
       "      <td>0.743781</td>\n",
       "      <td>0.781113</td>\n",
       "      <td>0.795549</td>\n",
       "      <td>0.736635</td>\n",
       "      <td>0.766056</td>\n",
       "      <td>0.044886</td>\n",
       "      <td>0.989200</td>\n",
       "      <td>0.995036</td>\n",
       "      <td>0.990628</td>\n",
       "      <td>0.986692</td>\n",
       "      <td>0.991016</td>\n",
       "      <td>222.895772</td>\n",
       "    </tr>\n",
       "    <tr>\n",
       "      <th>112</th>\n",
       "      <td>113</td>\n",
       "      <td>1.464844e-07</td>\n",
       "      <td>0.511434</td>\n",
       "      <td>0.763699</td>\n",
       "      <td>0.799219</td>\n",
       "      <td>0.807603</td>\n",
       "      <td>0.754238</td>\n",
       "      <td>0.783555</td>\n",
       "      <td>0.053161</td>\n",
       "      <td>0.987924</td>\n",
       "      <td>0.994696</td>\n",
       "      <td>0.990522</td>\n",
       "      <td>0.985304</td>\n",
       "      <td>0.990267</td>\n",
       "      <td>219.998461</td>\n",
       "    </tr>\n",
       "    <tr>\n",
       "      <th>113</th>\n",
       "      <td>114</td>\n",
       "      <td>1.464844e-07</td>\n",
       "      <td>0.480875</td>\n",
       "      <td>0.778848</td>\n",
       "      <td>0.811600</td>\n",
       "      <td>0.824155</td>\n",
       "      <td>0.771578</td>\n",
       "      <td>0.798363</td>\n",
       "      <td>0.054780</td>\n",
       "      <td>0.987808</td>\n",
       "      <td>0.994460</td>\n",
       "      <td>0.990486</td>\n",
       "      <td>0.985536</td>\n",
       "      <td>0.990141</td>\n",
       "      <td>223.012991</td>\n",
       "    </tr>\n",
       "    <tr>\n",
       "      <th>114</th>\n",
       "      <td>115</td>\n",
       "      <td>7.324219e-08</td>\n",
       "      <td>0.519705</td>\n",
       "      <td>0.789231</td>\n",
       "      <td>0.823002</td>\n",
       "      <td>0.831681</td>\n",
       "      <td>0.779836</td>\n",
       "      <td>0.808286</td>\n",
       "      <td>0.059734</td>\n",
       "      <td>0.988710</td>\n",
       "      <td>0.994764</td>\n",
       "      <td>0.990684</td>\n",
       "      <td>0.986244</td>\n",
       "      <td>0.990717</td>\n",
       "      <td>225.755814</td>\n",
       "    </tr>\n",
       "    <tr>\n",
       "      <th>115</th>\n",
       "      <td>116</td>\n",
       "      <td>7.324219e-08</td>\n",
       "      <td>0.512649</td>\n",
       "      <td>0.761894</td>\n",
       "      <td>0.800305</td>\n",
       "      <td>0.808341</td>\n",
       "      <td>0.754655</td>\n",
       "      <td>0.783109</td>\n",
       "      <td>0.099483</td>\n",
       "      <td>0.987301</td>\n",
       "      <td>0.994335</td>\n",
       "      <td>0.989580</td>\n",
       "      <td>0.984857</td>\n",
       "      <td>0.989629</td>\n",
       "      <td>224.754826</td>\n",
       "    </tr>\n",
       "    <tr>\n",
       "      <th>116</th>\n",
       "      <td>117</td>\n",
       "      <td>7.324219e-08</td>\n",
       "      <td>0.542425</td>\n",
       "      <td>0.757819</td>\n",
       "      <td>0.792086</td>\n",
       "      <td>0.805045</td>\n",
       "      <td>0.747914</td>\n",
       "      <td>0.778192</td>\n",
       "      <td>0.068757</td>\n",
       "      <td>0.988191</td>\n",
       "      <td>0.994668</td>\n",
       "      <td>0.990494</td>\n",
       "      <td>0.985791</td>\n",
       "      <td>0.990386</td>\n",
       "      <td>224.076127</td>\n",
       "    </tr>\n",
       "    <tr>\n",
       "      <th>117</th>\n",
       "      <td>118</td>\n",
       "      <td>7.324219e-08</td>\n",
       "      <td>0.479910</td>\n",
       "      <td>0.788148</td>\n",
       "      <td>0.816524</td>\n",
       "      <td>0.824660</td>\n",
       "      <td>0.779920</td>\n",
       "      <td>0.804370</td>\n",
       "      <td>0.051765</td>\n",
       "      <td>0.986735</td>\n",
       "      <td>0.994422</td>\n",
       "      <td>0.989393</td>\n",
       "      <td>0.984347</td>\n",
       "      <td>0.989321</td>\n",
       "      <td>224.982023</td>\n",
       "    </tr>\n",
       "    <tr>\n",
       "      <th>118</th>\n",
       "      <td>119</td>\n",
       "      <td>7.324219e-08</td>\n",
       "      <td>0.440815</td>\n",
       "      <td>0.768924</td>\n",
       "      <td>0.802384</td>\n",
       "      <td>0.817035</td>\n",
       "      <td>0.762298</td>\n",
       "      <td>0.789317</td>\n",
       "      <td>0.047704</td>\n",
       "      <td>0.987825</td>\n",
       "      <td>0.994696</td>\n",
       "      <td>0.989257</td>\n",
       "      <td>0.985284</td>\n",
       "      <td>0.989901</td>\n",
       "      <td>223.506116</td>\n",
       "    </tr>\n",
       "    <tr>\n",
       "      <th>119</th>\n",
       "      <td>120</td>\n",
       "      <td>3.662109e-08</td>\n",
       "      <td>0.550082</td>\n",
       "      <td>0.753210</td>\n",
       "      <td>0.790723</td>\n",
       "      <td>0.806652</td>\n",
       "      <td>0.743549</td>\n",
       "      <td>0.775949</td>\n",
       "      <td>0.069140</td>\n",
       "      <td>0.986568</td>\n",
       "      <td>0.994347</td>\n",
       "      <td>0.989057</td>\n",
       "      <td>0.983922</td>\n",
       "      <td>0.989135</td>\n",
       "      <td>225.237043</td>\n",
       "    </tr>\n",
       "    <tr>\n",
       "      <th>120</th>\n",
       "      <td>121</td>\n",
       "      <td>3.662109e-08</td>\n",
       "      <td>0.522487</td>\n",
       "      <td>0.760930</td>\n",
       "      <td>0.797969</td>\n",
       "      <td>0.807987</td>\n",
       "      <td>0.751942</td>\n",
       "      <td>0.781954</td>\n",
       "      <td>0.075448</td>\n",
       "      <td>0.986867</td>\n",
       "      <td>0.994262</td>\n",
       "      <td>0.989476</td>\n",
       "      <td>0.984442</td>\n",
       "      <td>0.989368</td>\n",
       "      <td>224.666163</td>\n",
       "    </tr>\n",
       "    <tr>\n",
       "      <th>121</th>\n",
       "      <td>122</td>\n",
       "      <td>3.662109e-08</td>\n",
       "      <td>0.535112</td>\n",
       "      <td>0.792950</td>\n",
       "      <td>0.830514</td>\n",
       "      <td>0.839881</td>\n",
       "      <td>0.786866</td>\n",
       "      <td>0.814074</td>\n",
       "      <td>0.048393</td>\n",
       "      <td>0.987810</td>\n",
       "      <td>0.994520</td>\n",
       "      <td>0.989742</td>\n",
       "      <td>0.985279</td>\n",
       "      <td>0.989971</td>\n",
       "      <td>223.494802</td>\n",
       "    </tr>\n",
       "    <tr>\n",
       "      <th>122</th>\n",
       "      <td>123</td>\n",
       "      <td>3.662109e-08</td>\n",
       "      <td>0.535041</td>\n",
       "      <td>0.794720</td>\n",
       "      <td>0.824773</td>\n",
       "      <td>0.839344</td>\n",
       "      <td>0.784947</td>\n",
       "      <td>0.813389</td>\n",
       "      <td>0.056059</td>\n",
       "      <td>0.987923</td>\n",
       "      <td>0.994645</td>\n",
       "      <td>0.990911</td>\n",
       "      <td>0.985540</td>\n",
       "      <td>0.990350</td>\n",
       "      <td>222.335609</td>\n",
       "    </tr>\n",
       "    <tr>\n",
       "      <th>123</th>\n",
       "      <td>124</td>\n",
       "      <td>3.662109e-08</td>\n",
       "      <td>0.506932</td>\n",
       "      <td>0.794066</td>\n",
       "      <td>0.827816</td>\n",
       "      <td>0.837919</td>\n",
       "      <td>0.787635</td>\n",
       "      <td>0.813466</td>\n",
       "      <td>0.054335</td>\n",
       "      <td>0.987769</td>\n",
       "      <td>0.994623</td>\n",
       "      <td>0.989690</td>\n",
       "      <td>0.985464</td>\n",
       "      <td>0.989963</td>\n",
       "      <td>223.799882</td>\n",
       "    </tr>\n",
       "    <tr>\n",
       "      <th>124</th>\n",
       "      <td>125</td>\n",
       "      <td>1.831055e-08</td>\n",
       "      <td>0.489991</td>\n",
       "      <td>0.801709</td>\n",
       "      <td>0.834551</td>\n",
       "      <td>0.839585</td>\n",
       "      <td>0.794486</td>\n",
       "      <td>0.819388</td>\n",
       "      <td>0.049442</td>\n",
       "      <td>0.987219</td>\n",
       "      <td>0.994411</td>\n",
       "      <td>0.988642</td>\n",
       "      <td>0.984618</td>\n",
       "      <td>0.989373</td>\n",
       "      <td>222.544553</td>\n",
       "    </tr>\n",
       "    <tr>\n",
       "      <th>125</th>\n",
       "      <td>126</td>\n",
       "      <td>1.831055e-08</td>\n",
       "      <td>0.526048</td>\n",
       "      <td>0.775506</td>\n",
       "      <td>0.811052</td>\n",
       "      <td>0.822245</td>\n",
       "      <td>0.766742</td>\n",
       "      <td>0.796077</td>\n",
       "      <td>0.051114</td>\n",
       "      <td>0.987522</td>\n",
       "      <td>0.994678</td>\n",
       "      <td>0.989827</td>\n",
       "      <td>0.985186</td>\n",
       "      <td>0.989887</td>\n",
       "      <td>223.762198</td>\n",
       "    </tr>\n",
       "    <tr>\n",
       "      <th>126</th>\n",
       "      <td>127</td>\n",
       "      <td>1.831055e-08</td>\n",
       "      <td>0.559812</td>\n",
       "      <td>0.744445</td>\n",
       "      <td>0.782561</td>\n",
       "      <td>0.793290</td>\n",
       "      <td>0.735144</td>\n",
       "      <td>0.766185</td>\n",
       "      <td>0.053707</td>\n",
       "      <td>0.987789</td>\n",
       "      <td>0.994761</td>\n",
       "      <td>0.989789</td>\n",
       "      <td>0.985442</td>\n",
       "      <td>0.990032</td>\n",
       "      <td>223.484012</td>\n",
       "    </tr>\n",
       "    <tr>\n",
       "      <th>127</th>\n",
       "      <td>128</td>\n",
       "      <td>1.831055e-08</td>\n",
       "      <td>0.440340</td>\n",
       "      <td>0.788935</td>\n",
       "      <td>0.816001</td>\n",
       "      <td>0.826928</td>\n",
       "      <td>0.780011</td>\n",
       "      <td>0.805200</td>\n",
       "      <td>0.053837</td>\n",
       "      <td>0.986714</td>\n",
       "      <td>0.994237</td>\n",
       "      <td>0.989220</td>\n",
       "      <td>0.984030</td>\n",
       "      <td>0.989221</td>\n",
       "      <td>223.831982</td>\n",
       "    </tr>\n",
       "    <tr>\n",
       "      <th>128</th>\n",
       "      <td>129</td>\n",
       "      <td>1.831055e-08</td>\n",
       "      <td>0.512199</td>\n",
       "      <td>0.800655</td>\n",
       "      <td>0.834887</td>\n",
       "      <td>0.844288</td>\n",
       "      <td>0.792445</td>\n",
       "      <td>0.820121</td>\n",
       "      <td>0.047978</td>\n",
       "      <td>0.987852</td>\n",
       "      <td>0.994590</td>\n",
       "      <td>0.989742</td>\n",
       "      <td>0.985407</td>\n",
       "      <td>0.990009</td>\n",
       "      <td>222.567390</td>\n",
       "    </tr>\n",
       "    <tr>\n",
       "      <th>129</th>\n",
       "      <td>130</td>\n",
       "      <td>1.831055e-08</td>\n",
       "      <td>0.465617</td>\n",
       "      <td>0.793724</td>\n",
       "      <td>0.822304</td>\n",
       "      <td>0.836454</td>\n",
       "      <td>0.786507</td>\n",
       "      <td>0.811552</td>\n",
       "      <td>0.048852</td>\n",
       "      <td>0.988329</td>\n",
       "      <td>0.994997</td>\n",
       "      <td>0.990963</td>\n",
       "      <td>0.986356</td>\n",
       "      <td>0.990655</td>\n",
       "      <td>222.800142</td>\n",
       "    </tr>\n",
       "    <tr>\n",
       "      <th>130</th>\n",
       "      <td>131</td>\n",
       "      <td>1.831055e-08</td>\n",
       "      <td>0.552352</td>\n",
       "      <td>0.771356</td>\n",
       "      <td>0.806514</td>\n",
       "      <td>0.817343</td>\n",
       "      <td>0.761552</td>\n",
       "      <td>0.791642</td>\n",
       "      <td>0.054684</td>\n",
       "      <td>0.987368</td>\n",
       "      <td>0.994532</td>\n",
       "      <td>0.988613</td>\n",
       "      <td>0.984961</td>\n",
       "      <td>0.989470</td>\n",
       "      <td>221.118441</td>\n",
       "    </tr>\n",
       "    <tr>\n",
       "      <th>131</th>\n",
       "      <td>132</td>\n",
       "      <td>1.831055e-08</td>\n",
       "      <td>0.502062</td>\n",
       "      <td>0.767842</td>\n",
       "      <td>0.804584</td>\n",
       "      <td>0.814895</td>\n",
       "      <td>0.760109</td>\n",
       "      <td>0.788791</td>\n",
       "      <td>0.052801</td>\n",
       "      <td>0.988097</td>\n",
       "      <td>0.994544</td>\n",
       "      <td>0.989812</td>\n",
       "      <td>0.985627</td>\n",
       "      <td>0.990138</td>\n",
       "      <td>222.599723</td>\n",
       "    </tr>\n",
       "    <tr>\n",
       "      <th>132</th>\n",
       "      <td>133</td>\n",
       "      <td>1.831055e-08</td>\n",
       "      <td>0.486337</td>\n",
       "      <td>0.765550</td>\n",
       "      <td>0.798779</td>\n",
       "      <td>0.804947</td>\n",
       "      <td>0.756397</td>\n",
       "      <td>0.783707</td>\n",
       "      <td>0.045463</td>\n",
       "      <td>0.988209</td>\n",
       "      <td>0.994972</td>\n",
       "      <td>0.989737</td>\n",
       "      <td>0.985932</td>\n",
       "      <td>0.990282</td>\n",
       "      <td>223.590356</td>\n",
       "    </tr>\n",
       "    <tr>\n",
       "      <th>133</th>\n",
       "      <td>134</td>\n",
       "      <td>1.831055e-08</td>\n",
       "      <td>0.547072</td>\n",
       "      <td>0.770929</td>\n",
       "      <td>0.807551</td>\n",
       "      <td>0.820974</td>\n",
       "      <td>0.761701</td>\n",
       "      <td>0.792596</td>\n",
       "      <td>0.051746</td>\n",
       "      <td>0.987470</td>\n",
       "      <td>0.994431</td>\n",
       "      <td>0.988818</td>\n",
       "      <td>0.984938</td>\n",
       "      <td>0.989547</td>\n",
       "      <td>224.718105</td>\n",
       "    </tr>\n",
       "    <tr>\n",
       "      <th>134</th>\n",
       "      <td>135</td>\n",
       "      <td>1.831055e-08</td>\n",
       "      <td>0.466719</td>\n",
       "      <td>0.782232</td>\n",
       "      <td>0.811170</td>\n",
       "      <td>0.825232</td>\n",
       "      <td>0.773660</td>\n",
       "      <td>0.800216</td>\n",
       "      <td>0.059032</td>\n",
       "      <td>0.987367</td>\n",
       "      <td>0.994432</td>\n",
       "      <td>0.989273</td>\n",
       "      <td>0.984966</td>\n",
       "      <td>0.989610</td>\n",
       "      <td>222.987767</td>\n",
       "    </tr>\n",
       "    <tr>\n",
       "      <th>135</th>\n",
       "      <td>136</td>\n",
       "      <td>1.831055e-08</td>\n",
       "      <td>0.557505</td>\n",
       "      <td>0.737867</td>\n",
       "      <td>0.779023</td>\n",
       "      <td>0.793867</td>\n",
       "      <td>0.729798</td>\n",
       "      <td>0.762156</td>\n",
       "      <td>0.051744</td>\n",
       "      <td>0.987980</td>\n",
       "      <td>0.994514</td>\n",
       "      <td>0.989783</td>\n",
       "      <td>0.985555</td>\n",
       "      <td>0.990064</td>\n",
       "      <td>223.147008</td>\n",
       "    </tr>\n",
       "    <tr>\n",
       "      <th>136</th>\n",
       "      <td>137</td>\n",
       "      <td>1.831055e-08</td>\n",
       "      <td>0.494565</td>\n",
       "      <td>0.775556</td>\n",
       "      <td>0.811755</td>\n",
       "      <td>0.813813</td>\n",
       "      <td>0.768105</td>\n",
       "      <td>0.794170</td>\n",
       "      <td>0.067148</td>\n",
       "      <td>0.987434</td>\n",
       "      <td>0.994511</td>\n",
       "      <td>0.989702</td>\n",
       "      <td>0.984983</td>\n",
       "      <td>0.989770</td>\n",
       "      <td>224.354769</td>\n",
       "    </tr>\n",
       "    <tr>\n",
       "      <th>137</th>\n",
       "      <td>138</td>\n",
       "      <td>1.831055e-08</td>\n",
       "      <td>0.526141</td>\n",
       "      <td>0.782489</td>\n",
       "      <td>0.817341</td>\n",
       "      <td>0.829812</td>\n",
       "      <td>0.772818</td>\n",
       "      <td>0.803032</td>\n",
       "      <td>0.076009</td>\n",
       "      <td>0.988533</td>\n",
       "      <td>0.994625</td>\n",
       "      <td>0.990994</td>\n",
       "      <td>0.986132</td>\n",
       "      <td>0.990671</td>\n",
       "      <td>223.121403</td>\n",
       "    </tr>\n",
       "    <tr>\n",
       "      <th>138</th>\n",
       "      <td>139</td>\n",
       "      <td>1.831055e-08</td>\n",
       "      <td>0.572865</td>\n",
       "      <td>0.770264</td>\n",
       "      <td>0.806754</td>\n",
       "      <td>0.817795</td>\n",
       "      <td>0.761060</td>\n",
       "      <td>0.791269</td>\n",
       "      <td>0.075544</td>\n",
       "      <td>0.987422</td>\n",
       "      <td>0.994651</td>\n",
       "      <td>0.990366</td>\n",
       "      <td>0.985457</td>\n",
       "      <td>0.989965</td>\n",
       "      <td>223.394307</td>\n",
       "    </tr>\n",
       "    <tr>\n",
       "      <th>139</th>\n",
       "      <td>140</td>\n",
       "      <td>1.831055e-08</td>\n",
       "      <td>0.532715</td>\n",
       "      <td>0.741285</td>\n",
       "      <td>0.776695</td>\n",
       "      <td>0.785557</td>\n",
       "      <td>0.731905</td>\n",
       "      <td>0.761206</td>\n",
       "      <td>0.059312</td>\n",
       "      <td>0.987231</td>\n",
       "      <td>0.994596</td>\n",
       "      <td>0.990473</td>\n",
       "      <td>0.985105</td>\n",
       "      <td>0.989883</td>\n",
       "      <td>224.199641</td>\n",
       "    </tr>\n",
       "    <tr>\n",
       "      <th>140</th>\n",
       "      <td>141</td>\n",
       "      <td>1.831055e-08</td>\n",
       "      <td>0.463919</td>\n",
       "      <td>0.805897</td>\n",
       "      <td>0.835097</td>\n",
       "      <td>0.847323</td>\n",
       "      <td>0.798840</td>\n",
       "      <td>0.823554</td>\n",
       "      <td>0.047431</td>\n",
       "      <td>0.988201</td>\n",
       "      <td>0.994768</td>\n",
       "      <td>0.988827</td>\n",
       "      <td>0.985698</td>\n",
       "      <td>0.989999</td>\n",
       "      <td>223.160470</td>\n",
       "    </tr>\n",
       "    <tr>\n",
       "      <th>141</th>\n",
       "      <td>142</td>\n",
       "      <td>1.831055e-08</td>\n",
       "      <td>0.495115</td>\n",
       "      <td>0.790867</td>\n",
       "      <td>0.822552</td>\n",
       "      <td>0.829064</td>\n",
       "      <td>0.781671</td>\n",
       "      <td>0.808338</td>\n",
       "      <td>0.061508</td>\n",
       "      <td>0.988289</td>\n",
       "      <td>0.994851</td>\n",
       "      <td>0.990664</td>\n",
       "      <td>0.985842</td>\n",
       "      <td>0.990523</td>\n",
       "      <td>223.136358</td>\n",
       "    </tr>\n",
       "    <tr>\n",
       "      <th>142</th>\n",
       "      <td>143</td>\n",
       "      <td>1.831055e-08</td>\n",
       "      <td>0.457254</td>\n",
       "      <td>0.782981</td>\n",
       "      <td>0.815242</td>\n",
       "      <td>0.826480</td>\n",
       "      <td>0.775908</td>\n",
       "      <td>0.801921</td>\n",
       "      <td>0.094102</td>\n",
       "      <td>0.986871</td>\n",
       "      <td>0.994157</td>\n",
       "      <td>0.989254</td>\n",
       "      <td>0.984540</td>\n",
       "      <td>0.989288</td>\n",
       "      <td>222.479108</td>\n",
       "    </tr>\n",
       "    <tr>\n",
       "      <th>143</th>\n",
       "      <td>144</td>\n",
       "      <td>1.831055e-08</td>\n",
       "      <td>0.523254</td>\n",
       "      <td>0.769610</td>\n",
       "      <td>0.805915</td>\n",
       "      <td>0.814662</td>\n",
       "      <td>0.759674</td>\n",
       "      <td>0.789949</td>\n",
       "      <td>0.052454</td>\n",
       "      <td>0.988479</td>\n",
       "      <td>0.994901</td>\n",
       "      <td>0.990764</td>\n",
       "      <td>0.986160</td>\n",
       "      <td>0.990656</td>\n",
       "      <td>223.219194</td>\n",
       "    </tr>\n",
       "    <tr>\n",
       "      <th>144</th>\n",
       "      <td>145</td>\n",
       "      <td>1.831055e-08</td>\n",
       "      <td>0.524032</td>\n",
       "      <td>0.802969</td>\n",
       "      <td>0.837979</td>\n",
       "      <td>0.838954</td>\n",
       "      <td>0.795140</td>\n",
       "      <td>0.820718</td>\n",
       "      <td>0.055662</td>\n",
       "      <td>0.987969</td>\n",
       "      <td>0.994451</td>\n",
       "      <td>0.989815</td>\n",
       "      <td>0.985511</td>\n",
       "      <td>0.990051</td>\n",
       "      <td>222.746637</td>\n",
       "    </tr>\n",
       "    <tr>\n",
       "      <th>145</th>\n",
       "      <td>146</td>\n",
       "      <td>1.831055e-08</td>\n",
       "      <td>0.540491</td>\n",
       "      <td>0.782912</td>\n",
       "      <td>0.817336</td>\n",
       "      <td>0.828230</td>\n",
       "      <td>0.774626</td>\n",
       "      <td>0.802848</td>\n",
       "      <td>0.065674</td>\n",
       "      <td>0.986470</td>\n",
       "      <td>0.994293</td>\n",
       "      <td>0.989068</td>\n",
       "      <td>0.984172</td>\n",
       "      <td>0.989075</td>\n",
       "      <td>226.370404</td>\n",
       "    </tr>\n",
       "    <tr>\n",
       "      <th>146</th>\n",
       "      <td>147</td>\n",
       "      <td>1.831055e-08</td>\n",
       "      <td>0.503869</td>\n",
       "      <td>0.770568</td>\n",
       "      <td>0.806781</td>\n",
       "      <td>0.817845</td>\n",
       "      <td>0.761883</td>\n",
       "      <td>0.791440</td>\n",
       "      <td>0.060133</td>\n",
       "      <td>0.988803</td>\n",
       "      <td>0.995024</td>\n",
       "      <td>0.990787</td>\n",
       "      <td>0.986633</td>\n",
       "      <td>0.990854</td>\n",
       "      <td>224.563151</td>\n",
       "    </tr>\n",
       "    <tr>\n",
       "      <th>147</th>\n",
       "      <td>148</td>\n",
       "      <td>1.831055e-08</td>\n",
       "      <td>0.503474</td>\n",
       "      <td>0.775944</td>\n",
       "      <td>0.811470</td>\n",
       "      <td>0.829537</td>\n",
       "      <td>0.768718</td>\n",
       "      <td>0.798224</td>\n",
       "      <td>0.065419</td>\n",
       "      <td>0.985834</td>\n",
       "      <td>0.994101</td>\n",
       "      <td>0.988509</td>\n",
       "      <td>0.982976</td>\n",
       "      <td>0.988569</td>\n",
       "      <td>223.885352</td>\n",
       "    </tr>\n",
       "    <tr>\n",
       "      <th>148</th>\n",
       "      <td>149</td>\n",
       "      <td>1.831055e-08</td>\n",
       "      <td>0.513618</td>\n",
       "      <td>0.779534</td>\n",
       "      <td>0.813760</td>\n",
       "      <td>0.822690</td>\n",
       "      <td>0.769041</td>\n",
       "      <td>0.798879</td>\n",
       "      <td>0.045634</td>\n",
       "      <td>0.988291</td>\n",
       "      <td>0.994743</td>\n",
       "      <td>0.989737</td>\n",
       "      <td>0.985959</td>\n",
       "      <td>0.990266</td>\n",
       "      <td>222.796015</td>\n",
       "    </tr>\n",
       "    <tr>\n",
       "      <th>149</th>\n",
       "      <td>150</td>\n",
       "      <td>1.831055e-08</td>\n",
       "      <td>0.554617</td>\n",
       "      <td>0.763178</td>\n",
       "      <td>0.796443</td>\n",
       "      <td>0.809284</td>\n",
       "      <td>0.752549</td>\n",
       "      <td>0.783021</td>\n",
       "      <td>0.053980</td>\n",
       "      <td>0.986982</td>\n",
       "      <td>0.994398</td>\n",
       "      <td>0.989556</td>\n",
       "      <td>0.984789</td>\n",
       "      <td>0.989480</td>\n",
       "      <td>222.573792</td>\n",
       "    </tr>\n",
       "  </tbody>\n",
       "</table>\n",
       "</div>"
      ],
      "text/plain": [
       "     epoch            lr  train/loss  train/recall_gr  train/recall_v  \\\n",
       "0        1  2.400000e-03    2.746145         0.125567        0.434313   \n",
       "1        2  2.400000e-03    1.368121         0.503522        0.685316   \n",
       "2        3  2.400000e-03    1.189796         0.602342        0.731378   \n",
       "3        4  2.400000e-03    1.096780         0.637415        0.743821   \n",
       "4        5  2.400000e-03    1.001503         0.612032        0.711096   \n",
       "5        6  2.400000e-03    0.871600         0.714623        0.798182   \n",
       "6        7  2.400000e-03    0.862223         0.668003        0.744323   \n",
       "7        8  2.400000e-03    0.809030         0.710515        0.779785   \n",
       "8        9  2.400000e-03    0.818587         0.692342        0.767001   \n",
       "9       10  2.400000e-03    0.780930         0.667461        0.736582   \n",
       "10      11  2.400000e-03    0.748679         0.730373        0.793055   \n",
       "11      12  2.400000e-03    0.756201         0.710323        0.777522   \n",
       "12      13  2.400000e-03    0.741955         0.712754        0.775321   \n",
       "13      14  2.400000e-03    0.717154         0.708563        0.769760   \n",
       "14      15  2.400000e-03    0.677321         0.745758        0.798152   \n",
       "15      16  2.400000e-03    0.692556         0.756664        0.814082   \n",
       "16      17  2.400000e-03    0.692373         0.730469        0.785008   \n",
       "17      18  2.400000e-03    0.679954         0.730902        0.788021   \n",
       "18      19  2.400000e-03    0.699401         0.741458        0.797646   \n",
       "19      20  2.400000e-03    0.703581         0.676178        0.735443   \n",
       "20      21  2.400000e-03    0.623897         0.732142        0.780256   \n",
       "21      22  2.400000e-03    0.628754         0.745794        0.795955   \n",
       "22      23  1.200000e-03    0.661767         0.767055        0.814775   \n",
       "23      24  1.200000e-03    0.677430         0.756831        0.804070   \n",
       "24      25  1.200000e-03    0.579991         0.769607        0.809826   \n",
       "25      26  1.200000e-03    0.553361         0.763178        0.805487   \n",
       "26      27  1.200000e-03    0.593553         0.759365        0.806587   \n",
       "27      28  1.200000e-03    0.582517         0.747420        0.792341   \n",
       "28      29  1.200000e-03    0.657593         0.732345        0.779939   \n",
       "29      30  1.200000e-03    0.610850         0.718579        0.764339   \n",
       "30      31  1.200000e-03    0.586973         0.761332        0.801233   \n",
       "31      32  1.200000e-03    0.675874         0.705051        0.753544   \n",
       "32      33  1.200000e-03    0.572627         0.768823        0.808705   \n",
       "33      34  1.200000e-03    0.542611         0.780606        0.821868   \n",
       "34      35  6.000000e-04    0.676718         0.717999        0.764153   \n",
       "35      36  6.000000e-04    0.540080         0.796637        0.833552   \n",
       "36      37  6.000000e-04    0.579848         0.786580        0.827650   \n",
       "37      38  6.000000e-04    0.613691         0.737707        0.780170   \n",
       "38      39  6.000000e-04    0.614376         0.748627        0.793713   \n",
       "39      40  6.000000e-04    0.529229         0.772002        0.808491   \n",
       "40      41  6.000000e-04    0.541438         0.750263        0.788937   \n",
       "41      42  6.000000e-04    0.530810         0.765986        0.805227   \n",
       "42      43  3.000000e-04    0.605527         0.738580        0.779461   \n",
       "43      44  3.000000e-04    0.539062         0.809149        0.842349   \n",
       "44      45  3.000000e-04    0.555527         0.768863        0.805943   \n",
       "45      46  3.000000e-04    0.494468         0.774642        0.808845   \n",
       "46      47  3.000000e-04    0.509149         0.795375        0.829758   \n",
       "47      48  3.000000e-04    0.461996         0.820964        0.850794   \n",
       "48      49  3.000000e-04    0.524388         0.777564        0.812108   \n",
       "49      50  3.000000e-04    0.533589         0.791615        0.826944   \n",
       "50      51  3.000000e-04    0.523153         0.740505        0.781109   \n",
       "51      52  3.000000e-04    0.520798         0.794785        0.826163   \n",
       "52      53  1.500000e-04    0.507306         0.778458        0.813288   \n",
       "53      54  1.500000e-04    0.508605         0.742679        0.780699   \n",
       "54      55  1.500000e-04    0.530277         0.773274        0.811787   \n",
       "55      56  1.500000e-04    0.552919         0.791147        0.820715   \n",
       "56      57  1.500000e-04    0.528447         0.758827        0.795748   \n",
       "57      58  7.500000e-05    0.537308         0.764961        0.802271   \n",
       "58      59  7.500000e-05    0.530524         0.734763        0.774474   \n",
       "59      60  7.500000e-05    0.500534         0.772293        0.807503   \n",
       "60      61  7.500000e-05    0.511011         0.779079        0.814063   \n",
       "61      62  7.500000e-05    0.529288         0.787414        0.822469   \n",
       "62      63  7.500000e-05    0.511200         0.784497        0.815268   \n",
       "63      64  7.500000e-05    0.524939         0.736801        0.777062   \n",
       "64      65  7.500000e-05    0.486669         0.784103        0.819729   \n",
       "65      66  7.500000e-05    0.569999         0.756843        0.796388   \n",
       "66      67  7.500000e-05    0.492562         0.797125        0.827246   \n",
       "67      68  3.750000e-05    0.559698         0.760936        0.802147   \n",
       "68      69  3.750000e-05    0.511264         0.737795        0.774414   \n",
       "69      70  3.750000e-05    0.502718         0.790091        0.822826   \n",
       "70      71  3.750000e-05    0.444205         0.813200        0.842767   \n",
       "71      72  3.750000e-05    0.480586         0.755708        0.794745   \n",
       "72      73  1.875000e-05    0.558954         0.743427        0.783320   \n",
       "73      74  1.875000e-05    0.497762         0.796066        0.828985   \n",
       "74      75  1.875000e-05    0.497807         0.795721        0.830390   \n",
       "75      76  1.875000e-05    0.505949         0.786197        0.821296   \n",
       "76      77  1.875000e-05    0.529859         0.786036        0.820326   \n",
       "77      78  9.375000e-06    0.511405         0.780227        0.812351   \n",
       "78      79  9.375000e-06    0.499442         0.792956        0.827978   \n",
       "79      80  9.375000e-06    0.499321         0.792016        0.826617   \n",
       "80      81  9.375000e-06    0.463820         0.796449        0.828017   \n",
       "81      82  9.375000e-06    0.536467         0.744935        0.784792   \n",
       "82      83  9.375000e-06    0.529390         0.778287        0.815122   \n",
       "83      84  9.375000e-06    0.465311         0.809715        0.840215   \n",
       "84      85  4.687500e-06    0.517812         0.790646        0.823042   \n",
       "85      86  4.687500e-06    0.485720         0.801948        0.836017   \n",
       "86      87  4.687500e-06    0.466515         0.804845        0.832836   \n",
       "87      88  4.687500e-06    0.501193         0.752483        0.785762   \n",
       "88      89  4.687500e-06    0.523872         0.760331        0.801728   \n",
       "89      90  2.343750e-06    0.519931         0.782778        0.818320   \n",
       "90      91  2.343750e-06    0.548862         0.781373        0.819344   \n",
       "91      92  2.343750e-06    0.510298         0.794665        0.830104   \n",
       "92      93  2.343750e-06    0.556960         0.771500        0.806787   \n",
       "93      94  2.343750e-06    0.539247         0.778374        0.820188   \n",
       "94      95  1.171875e-06    0.508183         0.790967        0.822374   \n",
       "95      96  1.171875e-06    0.548827         0.759128        0.795762   \n",
       "96      97  1.171875e-06    0.510456         0.780857        0.814067   \n",
       "97      98  1.171875e-06    0.489956         0.791282        0.824932   \n",
       "98      99  1.171875e-06    0.508637         0.770235        0.803408   \n",
       "99     100  5.859375e-07    0.501223         0.777813        0.808379   \n",
       "100    101  5.859375e-07    0.590832         0.727160        0.770438   \n",
       "101    102  5.859375e-07    0.512136         0.772182        0.808770   \n",
       "102    103  5.859375e-07    0.474560         0.767199        0.804219   \n",
       "103    104  5.859375e-07    0.535005         0.760715        0.799526   \n",
       "104    105  2.929687e-07    0.549988         0.763258        0.796396   \n",
       "105    106  2.929687e-07    0.478357         0.778277        0.812988   \n",
       "106    107  2.929687e-07    0.440806         0.773520        0.805458   \n",
       "107    108  2.929687e-07    0.562419         0.748361        0.785555   \n",
       "108    109  2.929687e-07    0.522214         0.763907        0.795888   \n",
       "109    110  1.464844e-07    0.546571         0.771637        0.809584   \n",
       "110    111  1.464844e-07    0.507627         0.791975        0.828676   \n",
       "111    112  1.464844e-07    0.518616         0.743781        0.781113   \n",
       "112    113  1.464844e-07    0.511434         0.763699        0.799219   \n",
       "113    114  1.464844e-07    0.480875         0.778848        0.811600   \n",
       "114    115  7.324219e-08    0.519705         0.789231        0.823002   \n",
       "115    116  7.324219e-08    0.512649         0.761894        0.800305   \n",
       "116    117  7.324219e-08    0.542425         0.757819        0.792086   \n",
       "117    118  7.324219e-08    0.479910         0.788148        0.816524   \n",
       "118    119  7.324219e-08    0.440815         0.768924        0.802384   \n",
       "119    120  3.662109e-08    0.550082         0.753210        0.790723   \n",
       "120    121  3.662109e-08    0.522487         0.760930        0.797969   \n",
       "121    122  3.662109e-08    0.535112         0.792950        0.830514   \n",
       "122    123  3.662109e-08    0.535041         0.794720        0.824773   \n",
       "123    124  3.662109e-08    0.506932         0.794066        0.827816   \n",
       "124    125  1.831055e-08    0.489991         0.801709        0.834551   \n",
       "125    126  1.831055e-08    0.526048         0.775506        0.811052   \n",
       "126    127  1.831055e-08    0.559812         0.744445        0.782561   \n",
       "127    128  1.831055e-08    0.440340         0.788935        0.816001   \n",
       "128    129  1.831055e-08    0.512199         0.800655        0.834887   \n",
       "129    130  1.831055e-08    0.465617         0.793724        0.822304   \n",
       "130    131  1.831055e-08    0.552352         0.771356        0.806514   \n",
       "131    132  1.831055e-08    0.502062         0.767842        0.804584   \n",
       "132    133  1.831055e-08    0.486337         0.765550        0.798779   \n",
       "133    134  1.831055e-08    0.547072         0.770929        0.807551   \n",
       "134    135  1.831055e-08    0.466719         0.782232        0.811170   \n",
       "135    136  1.831055e-08    0.557505         0.737867        0.779023   \n",
       "136    137  1.831055e-08    0.494565         0.775556        0.811755   \n",
       "137    138  1.831055e-08    0.526141         0.782489        0.817341   \n",
       "138    139  1.831055e-08    0.572865         0.770264        0.806754   \n",
       "139    140  1.831055e-08    0.532715         0.741285        0.776695   \n",
       "140    141  1.831055e-08    0.463919         0.805897        0.835097   \n",
       "141    142  1.831055e-08    0.495115         0.790867        0.822552   \n",
       "142    143  1.831055e-08    0.457254         0.782981        0.815242   \n",
       "143    144  1.831055e-08    0.523254         0.769610        0.805915   \n",
       "144    145  1.831055e-08    0.524032         0.802969        0.837979   \n",
       "145    146  1.831055e-08    0.540491         0.782912        0.817336   \n",
       "146    147  1.831055e-08    0.503869         0.770568        0.806781   \n",
       "147    148  1.831055e-08    0.503474         0.775944        0.811470   \n",
       "148    149  1.831055e-08    0.513618         0.779534        0.813760   \n",
       "149    150  1.831055e-08    0.554617         0.763178        0.796443   \n",
       "\n",
       "     train/recall_c  train/recall_g  train/recall  val/loss  val/recall_gr  \\\n",
       "0          0.419577        0.109797      0.276256  1.004520       0.560466   \n",
       "1          0.690261        0.474820      0.595655  0.539655       0.853931   \n",
       "2          0.732292        0.572438      0.667088  0.305366       0.906814   \n",
       "3          0.741888        0.607420      0.690135  0.263777       0.936645   \n",
       "4          0.719112        0.589528      0.663568  0.279986       0.928203   \n",
       "5          0.797320        0.692321      0.756187  0.248871       0.945733   \n",
       "6          0.750459        0.645853      0.707697  0.153658       0.964028   \n",
       "7          0.792972        0.690184      0.748447  0.183007       0.962543   \n",
       "8          0.777114        0.673322      0.732200  0.174505       0.964859   \n",
       "9          0.739767        0.647124      0.702818  0.124702       0.970472   \n",
       "10         0.808165        0.713321      0.765491  0.106842       0.972853   \n",
       "11         0.784668        0.696327      0.745709  0.101401       0.973946   \n",
       "12         0.780938        0.697500      0.745442  0.141708       0.976976   \n",
       "13         0.778542        0.693202      0.741357  0.136726       0.974285   \n",
       "14         0.805263        0.729345      0.773732  0.098088       0.978336   \n",
       "15         0.820146        0.743694      0.786889  0.107277       0.977308   \n",
       "16         0.790440        0.714390      0.759097  0.115830       0.979578   \n",
       "17         0.795751        0.718394      0.761394  0.111817       0.975852   \n",
       "18         0.805196        0.728316      0.771439  0.078948       0.979318   \n",
       "19         0.748660        0.664606      0.709115  0.107145       0.979564   \n",
       "20         0.787735        0.716602      0.758069  0.093887       0.979028   \n",
       "21         0.799556        0.734458      0.771775  0.104118       0.977382   \n",
       "22         0.824547        0.754568      0.793358  0.079813       0.982189   \n",
       "23         0.812834        0.741453      0.782641  0.073925       0.981748   \n",
       "24         0.818796        0.759022      0.791959  0.084270       0.983297   \n",
       "25         0.815959        0.752735      0.786951  0.062797       0.980828   \n",
       "26         0.818373        0.748017      0.785923  0.085409       0.980576   \n",
       "27         0.807847        0.736890      0.773757  0.088109       0.984332   \n",
       "28         0.794782        0.722041      0.759853  0.060730       0.985283   \n",
       "29         0.782107        0.706873      0.745901  0.056954       0.983870   \n",
       "30         0.815348        0.749886      0.784811  0.062882       0.984760   \n",
       "31         0.758866        0.691433      0.730628  0.082897       0.982684   \n",
       "32         0.819306        0.757177      0.791414  0.060013       0.984069   \n",
       "33         0.828762        0.769690      0.802961  0.082655       0.985244   \n",
       "34         0.780264        0.707740      0.745104  0.070831       0.985731   \n",
       "35         0.840582        0.787815      0.816852  0.060953       0.985865   \n",
       "36         0.838850        0.778204      0.809915  0.060609       0.986955   \n",
       "37         0.793807        0.727313      0.762347  0.076723       0.985682   \n",
       "38         0.813438        0.740993      0.776101  0.085763       0.986058   \n",
       "39         0.823113        0.762606      0.793902  0.062423       0.987266   \n",
       "40         0.802590        0.739791      0.773013  0.071148       0.986584   \n",
       "41         0.814854        0.756467      0.788013  0.057828       0.985227   \n",
       "42         0.793971        0.727965      0.762648  0.052280       0.987226   \n",
       "43         0.853640        0.800787      0.828572  0.069152       0.986205   \n",
       "44         0.817600        0.758881      0.790317  0.055593       0.986521   \n",
       "45         0.817411        0.765780      0.793885  0.060636       0.985848   \n",
       "46         0.844085        0.789386      0.816148  0.047004       0.988490   \n",
       "47         0.853390        0.813308      0.836528  0.052092       0.986955   \n",
       "48         0.817987        0.767488      0.796306  0.073691       0.986388   \n",
       "49         0.839103        0.781931      0.812319  0.049630       0.987244   \n",
       "50         0.792689        0.731421      0.763702  0.070109       0.987076   \n",
       "51         0.835540        0.785578      0.812818  0.056610       0.986278   \n",
       "52         0.823242        0.769728      0.798362  0.048476       0.988030   \n",
       "53         0.795932        0.736295      0.765497  0.052282       0.987225   \n",
       "54         0.824547        0.765845      0.795721  0.054359       0.987144   \n",
       "55         0.837225        0.781903      0.810058  0.075578       0.986098   \n",
       "56         0.810561        0.750780      0.780990  0.069698       0.986110   \n",
       "57         0.816831        0.756959      0.787256  0.066831       0.987379   \n",
       "58         0.790725        0.726369      0.758681  0.057098       0.986287   \n",
       "59         0.824253        0.764442      0.794086  0.070666       0.987409   \n",
       "60         0.824301        0.770779      0.799131  0.059159       0.987366   \n",
       "61         0.828368        0.778901      0.806416  0.049669       0.988633   \n",
       "62         0.824496        0.774339      0.802189  0.047740       0.987904   \n",
       "63         0.788317        0.730029      0.759745  0.055186       0.988073   \n",
       "64         0.830442        0.777262      0.804594  0.046371       0.987746   \n",
       "65         0.804727        0.748919      0.778700  0.055697       0.986822   \n",
       "66         0.836924        0.789306      0.814605  0.071117       0.986978   \n",
       "67         0.807435        0.752521      0.782864  0.067771       0.986979   \n",
       "68         0.796869        0.730093      0.761718  0.050178       0.987977   \n",
       "69         0.835397        0.782539      0.809601  0.050322       0.987547   \n",
       "70         0.848991        0.805039      0.829540  0.050388       0.988255   \n",
       "71         0.807140        0.748948      0.778325  0.066347       0.986386   \n",
       "72         0.793270        0.735303      0.765861  0.052155       0.987926   \n",
       "73         0.839110        0.789141      0.815057  0.074591       0.985975   \n",
       "74         0.838980        0.788033      0.815203  0.047065       0.988000   \n",
       "75         0.832855        0.778724      0.806637  0.061142       0.986967   \n",
       "76         0.828910        0.775042      0.805327  0.052162       0.987678   \n",
       "77         0.825111        0.771070      0.799479  0.057878       0.987576   \n",
       "78         0.840226        0.786893      0.813529  0.044917       0.988952   \n",
       "79         0.832342        0.783755      0.810748  0.066448       0.987641   \n",
       "80         0.834192        0.789850      0.813777  0.048409       0.988250   \n",
       "81         0.794944        0.737408      0.767401  0.064567       0.987424   \n",
       "82         0.818086        0.766694      0.797445  0.047891       0.987848   \n",
       "83         0.849933        0.802428      0.827394  0.046331       0.988431   \n",
       "84         0.836746        0.784175      0.810270  0.049871       0.988031   \n",
       "85         0.850917        0.797270      0.822707  0.064658       0.986020   \n",
       "86         0.848180        0.796568      0.822676  0.095458       0.985601   \n",
       "87         0.797684        0.741406      0.772103  0.054781       0.988222   \n",
       "88         0.809759        0.755378      0.783037  0.045912       0.988664   \n",
       "89         0.824239        0.774310      0.802029  0.048022       0.987663   \n",
       "90         0.825875        0.775151      0.801991  0.051339       0.988158   \n",
       "91         0.845649        0.788740      0.816271  0.058112       0.988784   \n",
       "92         0.812209        0.762988      0.790499  0.084014       0.987060   \n",
       "93         0.824831        0.770861      0.800442  0.058117       0.988458   \n",
       "94         0.833242        0.782688      0.809387  0.046421       0.988762   \n",
       "95         0.805634        0.752713      0.779913  0.084805       0.986723   \n",
       "96         0.827090        0.771826      0.800718  0.069585       0.987310   \n",
       "97         0.833130        0.783289      0.810157  0.064750       0.987371   \n",
       "98         0.820689        0.764314      0.791142  0.067399       0.988006   \n",
       "99         0.824617        0.767760      0.797156  0.055578       0.987711   \n",
       "100        0.780960        0.718352      0.751430  0.060863       0.987378   \n",
       "101        0.819826        0.765680      0.793240  0.060070       0.987996   \n",
       "102        0.804929        0.759395      0.785886  0.045627       0.988905   \n",
       "103        0.812959        0.753392      0.783479  0.052356       0.988084   \n",
       "104        0.809495        0.753155      0.783102  0.061443       0.988096   \n",
       "105        0.821675        0.771265      0.797804  0.061158       0.987489   \n",
       "106        0.813435        0.765478      0.791483  0.047433       0.988051   \n",
       "107        0.805748        0.739562      0.772006  0.073032       0.986229   \n",
       "108        0.807736        0.754313      0.782859  0.053726       0.988017   \n",
       "109        0.814131        0.762987      0.791747  0.056916       0.987414   \n",
       "110        0.840677        0.785654      0.813326  0.049825       0.987863   \n",
       "111        0.795549        0.736635      0.766056  0.044886       0.989200   \n",
       "112        0.807603        0.754238      0.783555  0.053161       0.987924   \n",
       "113        0.824155        0.771578      0.798363  0.054780       0.987808   \n",
       "114        0.831681        0.779836      0.808286  0.059734       0.988710   \n",
       "115        0.808341        0.754655      0.783109  0.099483       0.987301   \n",
       "116        0.805045        0.747914      0.778192  0.068757       0.988191   \n",
       "117        0.824660        0.779920      0.804370  0.051765       0.986735   \n",
       "118        0.817035        0.762298      0.789317  0.047704       0.987825   \n",
       "119        0.806652        0.743549      0.775949  0.069140       0.986568   \n",
       "120        0.807987        0.751942      0.781954  0.075448       0.986867   \n",
       "121        0.839881        0.786866      0.814074  0.048393       0.987810   \n",
       "122        0.839344        0.784947      0.813389  0.056059       0.987923   \n",
       "123        0.837919        0.787635      0.813466  0.054335       0.987769   \n",
       "124        0.839585        0.794486      0.819388  0.049442       0.987219   \n",
       "125        0.822245        0.766742      0.796077  0.051114       0.987522   \n",
       "126        0.793290        0.735144      0.766185  0.053707       0.987789   \n",
       "127        0.826928        0.780011      0.805200  0.053837       0.986714   \n",
       "128        0.844288        0.792445      0.820121  0.047978       0.987852   \n",
       "129        0.836454        0.786507      0.811552  0.048852       0.988329   \n",
       "130        0.817343        0.761552      0.791642  0.054684       0.987368   \n",
       "131        0.814895        0.760109      0.788791  0.052801       0.988097   \n",
       "132        0.804947        0.756397      0.783707  0.045463       0.988209   \n",
       "133        0.820974        0.761701      0.792596  0.051746       0.987470   \n",
       "134        0.825232        0.773660      0.800216  0.059032       0.987367   \n",
       "135        0.793867        0.729798      0.762156  0.051744       0.987980   \n",
       "136        0.813813        0.768105      0.794170  0.067148       0.987434   \n",
       "137        0.829812        0.772818      0.803032  0.076009       0.988533   \n",
       "138        0.817795        0.761060      0.791269  0.075544       0.987422   \n",
       "139        0.785557        0.731905      0.761206  0.059312       0.987231   \n",
       "140        0.847323        0.798840      0.823554  0.047431       0.988201   \n",
       "141        0.829064        0.781671      0.808338  0.061508       0.988289   \n",
       "142        0.826480        0.775908      0.801921  0.094102       0.986871   \n",
       "143        0.814662        0.759674      0.789949  0.052454       0.988479   \n",
       "144        0.838954        0.795140      0.820718  0.055662       0.987969   \n",
       "145        0.828230        0.774626      0.802848  0.065674       0.986470   \n",
       "146        0.817845        0.761883      0.791440  0.060133       0.988803   \n",
       "147        0.829537        0.768718      0.798224  0.065419       0.985834   \n",
       "148        0.822690        0.769041      0.798879  0.045634       0.988291   \n",
       "149        0.809284        0.752549      0.783021  0.053980       0.986982   \n",
       "\n",
       "     val/recall_v  val/recall_c  val/recall_g  val/recall  elapsed_time  \n",
       "0        0.884548      0.892787      0.561131    0.724567    264.843943  \n",
       "1        0.959366      0.951135      0.845011    0.904591    215.681178  \n",
       "2        0.972798      0.965653      0.907240    0.938020    217.926993  \n",
       "3        0.980520      0.968399      0.933669    0.955552    217.149964  \n",
       "4        0.976474      0.964971      0.930468    0.949463    215.080893  \n",
       "5        0.979299      0.964709      0.937559    0.958869    218.731683  \n",
       "6        0.987560      0.982785      0.961217    0.974600    219.028746  \n",
       "7        0.987231      0.982417      0.957208    0.973683    218.733194  \n",
       "8        0.988212      0.986720      0.962807    0.976162    219.790211  \n",
       "9        0.987409      0.980923      0.966072    0.977319    220.620859  \n",
       "10       0.990148      0.984039      0.969327    0.979973    219.072240  \n",
       "11       0.989829      0.985137      0.970950    0.980714    216.956132  \n",
       "12       0.991473      0.984953      0.974529    0.982594    219.584403  \n",
       "13       0.991215      0.984361      0.973718    0.981037    220.457851  \n",
       "14       0.992909      0.985455      0.975035    0.983759    221.156557  \n",
       "15       0.991438      0.985346      0.974332    0.982850    220.976734  \n",
       "16       0.992527      0.990108      0.977806    0.985448    222.514625  \n",
       "17       0.991371      0.987856      0.975443    0.982733    220.791966  \n",
       "18       0.991636      0.988539      0.977866    0.984703    219.631803  \n",
       "19       0.992431      0.987219      0.976904    0.984695    220.217917  \n",
       "20       0.992594      0.988538      0.977749    0.984797    219.827198  \n",
       "21       0.991858      0.988141      0.975485    0.983691    220.127590  \n",
       "22       0.993676      0.987632      0.980196    0.986421    221.455691  \n",
       "23       0.993975      0.989035      0.980988    0.986626    220.273929  \n",
       "24       0.992835      0.989203      0.981778    0.987158    221.092933  \n",
       "25       0.992945      0.989331      0.980355    0.985983    219.511312  \n",
       "26       0.993282      0.988110      0.979049    0.985636    219.821006  \n",
       "27       0.993537      0.991024      0.981677    0.988306    218.100267  \n",
       "28       0.993448      0.990774      0.983773    0.988697    220.761741  \n",
       "29       0.993927      0.992105      0.982345    0.988443    221.761872  \n",
       "30       0.994651      0.989205      0.983160    0.988344    219.329768  \n",
       "31       0.992947      0.987659      0.979797    0.986494    220.291234  \n",
       "32       0.993674      0.991182      0.981999    0.988248    221.304757  \n",
       "33       0.994266      0.990000      0.982657    0.988689    220.207636  \n",
       "34       0.994350      0.988284      0.982796    0.988524    221.111692  \n",
       "35       0.994214      0.989204      0.984086    0.988787    221.869003  \n",
       "36       0.994736      0.990512      0.984467    0.989789    218.857422  \n",
       "37       0.993828      0.989498      0.982955    0.988672    220.484182  \n",
       "38       0.994301      0.989420      0.983595    0.988959    220.723627  \n",
       "39       0.994127      0.989336      0.984595    0.989499    221.485814  \n",
       "40       0.994303      0.989332      0.983956    0.989201    220.239341  \n",
       "41       0.994610      0.989439      0.984271    0.988626    220.872797  \n",
       "42       0.994510      0.989350      0.985410    0.989578    221.344642  \n",
       "43       0.993979      0.988837      0.984157    0.988806    222.125911  \n",
       "44       0.994309      0.989971      0.984427    0.989330    219.918674  \n",
       "45       0.994066      0.990118      0.984327    0.988970    219.367260  \n",
       "46       0.994424      0.991113      0.986350    0.990629    220.575151  \n",
       "47       0.994437      0.989355      0.984605    0.989425    221.140979  \n",
       "48       0.994339      0.990081      0.984140    0.989299    219.657750  \n",
       "49       0.994626      0.991228      0.985453    0.990085    221.348361  \n",
       "50       0.994473      0.990375      0.984875    0.989750    220.614321  \n",
       "51       0.994616      0.989402      0.983967    0.989143    222.075869  \n",
       "52       0.994460      0.990725      0.985492    0.990311    218.092983  \n",
       "53       0.994374      0.988903      0.984651    0.989432    222.129185  \n",
       "54       0.994676      0.990156      0.984775    0.989780    221.093040  \n",
       "55       0.993932      0.988711      0.983509    0.988710    221.275218  \n",
       "56       0.994123      0.990022      0.984123    0.989091    222.998853  \n",
       "57       0.994573      0.990337      0.985104    0.989917    221.845389  \n",
       "58       0.994502      0.989348      0.983987    0.989106    220.689393  \n",
       "59       0.994615      0.989776      0.985328    0.989802    221.357239  \n",
       "60       0.994565      0.990218      0.985395    0.989879    222.674445  \n",
       "61       0.994723      0.991287      0.986266    0.990819    221.759836  \n",
       "62       0.994836      0.989608      0.985904    0.990063    221.634876  \n",
       "63       0.994782      0.991321      0.986207    0.990562    221.111491  \n",
       "64       0.994767      0.989753      0.985281    0.990003    221.780200  \n",
       "65       0.994445      0.989058      0.984403    0.989287    219.994025  \n",
       "66       0.994496      0.988897      0.984666    0.989337    220.972115  \n",
       "67       0.994518      0.989812      0.984831    0.989572    222.580573  \n",
       "68       0.994560      0.990050      0.985590    0.990141    223.706377  \n",
       "69       0.994584      0.989026      0.985432    0.989676    221.237015  \n",
       "70       0.994639      0.989788      0.985827    0.990234    223.240866  \n",
       "71       0.994276      0.988744      0.983968    0.988948    220.030466  \n",
       "72       0.994635      0.989618      0.985744    0.990027    222.674500  \n",
       "73       0.994012      0.988953      0.983371    0.988729    224.363598  \n",
       "74       0.994788      0.990129      0.985739    0.990229    221.948858  \n",
       "75       0.994289      0.989379      0.984475    0.989400    221.074875  \n",
       "76       0.994634      0.990478      0.985273    0.990117    221.583519  \n",
       "77       0.994410      0.989617      0.985202    0.989795    221.858644  \n",
       "78       0.995025      0.991503      0.986401    0.991108    223.759191  \n",
       "79       0.994354      0.990831      0.985454    0.990117    220.639834  \n",
       "80       0.994659      0.989054      0.985834    0.990053    222.199772  \n",
       "81       0.994501      0.989125      0.985025    0.989619    221.944887  \n",
       "82       0.994539      0.990094      0.985343    0.990082    221.234607  \n",
       "83       0.994967      0.990586      0.986390    0.990604    223.204223  \n",
       "84       0.994674      0.989363      0.985479    0.990025    221.924250  \n",
       "85       0.994190      0.988916      0.983609    0.988786    222.338777  \n",
       "86       0.993749      0.988435      0.982997    0.988346    221.460764  \n",
       "87       0.994763      0.989436      0.985704    0.990160    221.903350  \n",
       "88       0.994681      0.990301      0.986255    0.990577    220.833248  \n",
       "89       0.994563      0.989475      0.985319    0.989841    222.207667  \n",
       "90       0.994814      0.990112      0.985882    0.990310    222.329302  \n",
       "91       0.994839      0.990737      0.986349    0.990786    221.770753  \n",
       "92       0.994276      0.989268      0.984489    0.989416    220.907929  \n",
       "93       0.994970      0.990760      0.986399    0.990662    220.976754  \n",
       "94       0.994857      0.989629      0.986175    0.990503    220.670208  \n",
       "95       0.994211      0.989192      0.984238    0.989213    222.820407  \n",
       "96       0.994468      0.989409      0.984991    0.989625    222.969335  \n",
       "97       0.994720      0.990819      0.985006    0.990070    223.045298  \n",
       "98       0.994673      0.989626      0.985538    0.990078    220.698603  \n",
       "99       0.994844      0.990495      0.985597    0.990190    221.875957  \n",
       "100      0.994573      0.989534      0.984936    0.989716    221.652810  \n",
       "101      0.994768      0.990421      0.985582    0.990295    221.948403  \n",
       "102      0.994768      0.990443      0.986283    0.990755    221.607369  \n",
       "103      0.994983      0.990141      0.985875    0.990323    223.343868  \n",
       "104      0.994742      0.990459      0.985762    0.990348    221.664494  \n",
       "105      0.994490      0.990925      0.985427    0.990098    221.712826  \n",
       "106      0.994858      0.989384      0.985435    0.990086    221.738173  \n",
       "107      0.994190      0.988962      0.983481    0.988903    223.121352  \n",
       "108      0.994783      0.990199      0.985730    0.990254    221.245591  \n",
       "109      0.994566      0.989185      0.985039    0.989645    222.451919  \n",
       "110      0.994609      0.989941      0.985564    0.990069    221.969363  \n",
       "111      0.995036      0.990628      0.986692    0.991016    222.895772  \n",
       "112      0.994696      0.990522      0.985304    0.990267    219.998461  \n",
       "113      0.994460      0.990486      0.985536    0.990141    223.012991  \n",
       "114      0.994764      0.990684      0.986244    0.990717    225.755814  \n",
       "115      0.994335      0.989580      0.984857    0.989629    224.754826  \n",
       "116      0.994668      0.990494      0.985791    0.990386    224.076127  \n",
       "117      0.994422      0.989393      0.984347    0.989321    224.982023  \n",
       "118      0.994696      0.989257      0.985284    0.989901    223.506116  \n",
       "119      0.994347      0.989057      0.983922    0.989135    225.237043  \n",
       "120      0.994262      0.989476      0.984442    0.989368    224.666163  \n",
       "121      0.994520      0.989742      0.985279    0.989971    223.494802  \n",
       "122      0.994645      0.990911      0.985540    0.990350    222.335609  \n",
       "123      0.994623      0.989690      0.985464    0.989963    223.799882  \n",
       "124      0.994411      0.988642      0.984618    0.989373    222.544553  \n",
       "125      0.994678      0.989827      0.985186    0.989887    223.762198  \n",
       "126      0.994761      0.989789      0.985442    0.990032    223.484012  \n",
       "127      0.994237      0.989220      0.984030    0.989221    223.831982  \n",
       "128      0.994590      0.989742      0.985407    0.990009    222.567390  \n",
       "129      0.994997      0.990963      0.986356    0.990655    222.800142  \n",
       "130      0.994532      0.988613      0.984961    0.989470    221.118441  \n",
       "131      0.994544      0.989812      0.985627    0.990138    222.599723  \n",
       "132      0.994972      0.989737      0.985932    0.990282    223.590356  \n",
       "133      0.994431      0.988818      0.984938    0.989547    224.718105  \n",
       "134      0.994432      0.989273      0.984966    0.989610    222.987767  \n",
       "135      0.994514      0.989783      0.985555    0.990064    223.147008  \n",
       "136      0.994511      0.989702      0.984983    0.989770    224.354769  \n",
       "137      0.994625      0.990994      0.986132    0.990671    223.121403  \n",
       "138      0.994651      0.990366      0.985457    0.989965    223.394307  \n",
       "139      0.994596      0.990473      0.985105    0.989883    224.199641  \n",
       "140      0.994768      0.988827      0.985698    0.989999    223.160470  \n",
       "141      0.994851      0.990664      0.985842    0.990523    223.136358  \n",
       "142      0.994157      0.989254      0.984540    0.989288    222.479108  \n",
       "143      0.994901      0.990764      0.986160    0.990656    223.219194  \n",
       "144      0.994451      0.989815      0.985511    0.990051    222.746637  \n",
       "145      0.994293      0.989068      0.984172    0.989075    226.370404  \n",
       "146      0.995024      0.990787      0.986633    0.990854    224.563151  \n",
       "147      0.994101      0.988509      0.982976    0.988569    223.885352  \n",
       "148      0.994743      0.989737      0.985959    0.990266    222.796015  \n",
       "149      0.994398      0.989556      0.984789    0.989480    222.573792  "
      ]
     },
     "execution_count": 36,
     "metadata": {},
     "output_type": "execute_result"
    }
   ],
   "source": [
    "log = pd.read_csv(logdir / f'log_{experi_num}.csv')\n",
    "log"
   ]
  },
  {
   "cell_type": "code",
   "execution_count": 37,
   "metadata": {},
   "outputs": [
    {
     "data": {
      "image/png": "[encoded data removed]",
      "text/plain": [
       "<Figure size 864x432 with 1 Axes>"
      ]
     },
     "metadata": {},
     "output_type": "display_data"
    }
   ],
   "source": [
    "log['lr'].plot(figsize=(12,6));"
   ]
  },
  {
   "cell_type": "code",
   "execution_count": 38,
   "metadata": {},
   "outputs": [
    {
     "data": {
      "image/png": "[encoded data removed]",
      "text/plain": [
       "<Figure size 864x432 with 1 Axes>"
      ]
     },
     "metadata": {},
     "output_type": "display_data"
    }
   ],
   "source": [
    "log[['train/loss','val/loss']].plot(figsize=(12,6));"
   ]
  },
  {
   "cell_type": "code",
   "execution_count": 39,
   "metadata": {},
   "outputs": [
    {
     "data": {
      "image/png": "[encoded data removed]",
      "text/plain": [
       "<Figure size 864x432 with 1 Axes>"
      ]
     },
     "metadata": {},
     "output_type": "display_data"
    }
   ],
   "source": [
    "log[['train/recall','val/recall','train/recall_gr','val/recall_gr']].plot(figsize=(12,6));"
   ]
  },
  {
   "cell_type": "code",
   "execution_count": null,
   "metadata": {
    "collapsed": true
   },
   "outputs": [],
   "source": []
  }
 ],
 "metadata": {
  "kernelspec": {
   "display_name": "conda_pytorch_p36",
   "language": "python",
   "name": "conda_pytorch_p36"
  },
  "language_info": {
   "codemirror_mode": {
    "name": "ipython",
    "version": 3
   },
   "file_extension": ".py",
   "mimetype": "text/x-python",
   "name": "python",
   "nbconvert_exporter": "python",
   "pygments_lexer": "ipython3",
   "version": "3.6.5"
  }
 },
 "nbformat": 4,
 "nbformat_minor": 2
}
